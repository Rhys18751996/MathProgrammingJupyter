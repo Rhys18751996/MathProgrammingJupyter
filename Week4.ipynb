{
 "cells": [
  {
   "cell_type": "markdown",
   "id": "c56f7cf2-b7ea-4b03-a5ca-d8d3546e5386",
   "metadata": {},
   "source": [
    "## Week4 -     "
   ]
  },
  {
   "cell_type": "code",
   "execution_count": 8,
   "id": "8626503c-dc17-4f74-9a76-b1a79a3367df",
   "metadata": {},
   "outputs": [
    {
     "data": {
      "text/latex": [
       "$\\displaystyle \\sqrt{\\sqrt{\\sqrt{\\sqrt{\\sqrt{x + 1} + 1} + 1} + 1} + 1}$"
      ],
      "text/plain": [
       "sqrt(sqrt(sqrt(sqrt(sqrt(x + 1) + 1) + 1) + 1) + 1)"
      ]
     },
     "execution_count": 8,
     "metadata": {},
     "output_type": "execute_result"
    }
   ],
   "source": [
    "import sympy\n",
    "\n",
    "def f(x):\n",
    "    return sympy.sqrt(1 + x)\n",
    "\n",
    "x = sympy.symbols('x')\n",
    "f(f(f(f(f(x)))))"
   ]
  },
  {
   "cell_type": "code",
   "execution_count": 9,
   "id": "97aa8029-9ee1-4e32-b109-2b8e7a4abb0d",
   "metadata": {},
   "outputs": [
    {
     "data": {
      "text/plain": [
       "0.0"
      ]
     },
     "execution_count": 9,
     "metadata": {},
     "output_type": "execute_result"
    }
   ],
   "source": [
    "import math\n",
    "math.sqrt(0)"
   ]
  },
  {
   "cell_type": "code",
   "execution_count": 10,
   "id": "28f91a38-ff70-4643-ae34-f464242efde5",
   "metadata": {},
   "outputs": [
    {
     "data": {
      "text/plain": [
       "1.2510334048590739"
      ]
     },
     "execution_count": 10,
     "metadata": {},
     "output_type": "execute_result"
    }
   ],
   "source": [
    "math.sqrt(math.sqrt(math.sqrt(1+2+3)))"
   ]
  },
  {
   "cell_type": "code",
   "execution_count": 11,
   "id": "9ba0e5c1-4836-4f85-be1b-0d6137368dc0",
   "metadata": {},
   "outputs": [
    {
     "data": {
      "text/plain": [
       "2.1753277471610746"
      ]
     },
     "execution_count": 11,
     "metadata": {},
     "output_type": "execute_result"
    }
   ],
   "source": [
    "math.sqrt(3 + math.sqrt(2 + math.sqrt(1)))"
   ]
  },
  {
   "cell_type": "code",
   "execution_count": 1,
   "id": "c19dc51c-5fca-49e6-bd34-763743468221",
   "metadata": {},
   "outputs": [],
   "source": [
    "\n",
    "import math\n",
    "import sympy"
   ]
  },
  {
   "cell_type": "code",
   "execution_count": 3,
   "id": "dff3cd3e-80d2-44a5-8077-7302fd2fec80",
   "metadata": {},
   "outputs": [
    {
     "name": "stdout",
     "output_type": "stream",
     "text": [
      "True\n",
      "print thi\n",
      "False\n",
      "outside of while loop\n"
     ]
    }
   ],
   "source": [
    "s = True\n",
    "while s:\n",
    "    print(s)\n",
    "    print(\"print thi\")\n",
    "    s = False\n",
    "    print(s)\n",
    "print(\"outside of while loop\")"
   ]
  },
  {
   "cell_type": "code",
   "execution_count": 13,
   "id": "ea6f49ec-214d-4890-9f29-39717df8ebdc",
   "metadata": {},
   "outputs": [
    {
     "ename": "SyntaxError",
     "evalue": "invalid syntax (4226307249.py, line 4)",
     "output_type": "error",
     "traceback": [
      "\u001b[1;36m  Cell \u001b[1;32mIn[13], line 4\u001b[1;36m\u001b[0m\n\u001b[1;33m    n = (n*=10) + 1\u001b[0m\n\u001b[1;37m          ^\u001b[0m\n\u001b[1;31mSyntaxError\u001b[0m\u001b[1;31m:\u001b[0m invalid syntax\n"
     ]
    }
   ],
   "source": [
    "n = 123\n",
    "while n % 7 != 0:\n",
    "    print(f\"{n} is NOT divisible by 7\")\n",
    "    n = (n *= 10) + 1\n",
    "print(f\"{n} is divisible by 7\")"
   ]
  },
  {
   "cell_type": "code",
   "execution_count": 17,
   "id": "c98b4689-d27d-412f-b8b6-dec4269a5480",
   "metadata": {},
   "outputs": [
    {
     "name": "stdout",
     "output_type": "stream",
     "text": [
      "1423354 is NOT divisible by 7\n",
      "142335 is NOT divisible by 7\n",
      "14233 is NOT divisible by 7\n",
      "1423 is NOT divisible by 7\n",
      "142 is NOT divisible by 7\n",
      "14 is divisible by 7\n"
     ]
    }
   ],
   "source": [
    "n = 1423354\n",
    "while n % 7 != 0:\n",
    "    print(f\"{n} is NOT divisible by 7\")\n",
    "    #n = int(n/10)\n",
    "    n //= 10\n",
    "print(f\"{n} is divisible by 7\")\n"
   ]
  },
  {
   "cell_type": "code",
   "execution_count": 33,
   "id": "4389fdf3-b3bc-4faa-b0d8-5ccda0569754",
   "metadata": {},
   "outputs": [
    {
     "name": "stdout",
     "output_type": "stream",
     "text": [
      "1404345 + 0 = 1404345\n",
      "140434 + 1404345 = 1544779\n",
      "14043 + 1544779 = 1558822\n",
      "1404 + 1558822 = 1560226\n",
      "140(divisible by 10) + 1560366 = 1560366\n",
      "\n",
      "the sum of all digits is 1560366\n"
     ]
    }
   ],
   "source": [
    "n = 1404345\n",
    "divisor = 10\n",
    "sumOfAllDigits = 0\n",
    "\n",
    "while n % divisor != 0:\n",
    "    print(f\"{n} + {sumOfAllDigits} = {sumOfAllDigits + n}\")\n",
    "    sumOfAllDigits += n\n",
    "    n //= divisor\n",
    "sumOfAllDigits += n\n",
    "\n",
    "print(f\"{n}(divisible by {divisor}) + {sumOfAllDigits} = {sumOfAllDigits}\\n\")\n",
    "print(f\"the sum of all digits is {sumOfAllDigits}\")"
   ]
  },
  {
   "cell_type": "code",
   "execution_count": 1,
   "id": "a45b2a2f-d7e2-4be8-a1dd-00e73feb8491",
   "metadata": {},
   "outputs": [
    {
     "name": "stdout",
     "output_type": "stream",
     "text": [
      "*** Introductory Examples for the NLTK Book ***\n",
      "Loading text1, ..., text9 and sent1, ..., sent9\n",
      "Type the name of the text or sentence to view it.\n",
      "Type: 'texts()' or 'sents()' to list the materials.\n",
      "text1: Moby Dick by Herman Melville 1851\n",
      "text2: Sense and Sensibility by Jane Austen 1811\n",
      "text3: The Book of Genesis\n",
      "text4: Inaugural Address Corpus\n",
      "text5: Chat Corpus\n",
      "text6: Monty Python and the Holy Grail\n",
      "text7: Wall Street Journal\n",
      "text8: Personals Corpus\n",
      "text9: The Man Who Was Thursday by G . K . Chesterton 1908\n"
     ]
    }
   ],
   "source": [
    "import nltk\n",
    "#nltk.download()\n",
    "from nltk.book import *"
   ]
  },
  {
   "cell_type": "code",
   "execution_count": 3,
   "id": "d3fc3a9a-8873-4857-920b-9b065187cc87",
   "metadata": {},
   "outputs": [
    {
     "data": {
      "text/plain": [
       "141576"
      ]
     },
     "execution_count": 3,
     "metadata": {},
     "output_type": "execute_result"
    }
   ],
   "source": [
    "len(text2)"
   ]
  },
  {
   "cell_type": "code",
   "execution_count": 39,
   "id": "2febe5b0-d0f0-454d-b43a-d1bbb61fe2ff",
   "metadata": {},
   "outputs": [
    {
     "data": {
      "text/plain": [
       "<Text: Sense and Sensibility by Jane Austen 1811>"
      ]
     },
     "execution_count": 39,
     "metadata": {},
     "output_type": "execute_result"
    }
   ],
   "source": [
    "text2"
   ]
  },
  {
   "cell_type": "code",
   "execution_count": 43,
   "id": "4a6fea8b-592b-40b9-a7ba-2cfe368a4c15",
   "metadata": {},
   "outputs": [
    {
     "name": "stdout",
     "output_type": "stream",
     "text": [
      "['it', 'to', 'him', 'on', 'such', 'terms', 'as', 'destroyed', 'half', 'the', 'value', 'of', 'the', 'bequest', '.', 'Mr', '.', 'Dashwood', 'had', 'wished', 'for', 'it', 'more', 'for', 'the', 'sake', 'of', 'his', 'wife', 'and', 'daughters', 'than', 'for', 'himself', 'or'] "
     ]
    }
   ],
   "source": [
    "print(text2[465:500], end = ' ')"
   ]
  },
  {
   "cell_type": "code",
   "execution_count": 2,
   "id": "bf542da2-1ed9-4583-9fa8-076df5b0b332",
   "metadata": {},
   "outputs": [
    {
     "data": {
      "text/plain": [
       "141576"
      ]
     },
     "execution_count": 2,
     "metadata": {},
     "output_type": "execute_result"
    }
   ],
   "source": [
    "lengthOfBooksWords = len(text2)\n",
    "lengthOfBooksWords"
   ]
  },
  {
   "cell_type": "code",
   "execution_count": 7,
   "id": "d3ee5fd4-9965-4af4-a833-38446bea0c62",
   "metadata": {},
   "outputs": [
    {
     "name": "stdout",
     "output_type": "stream",
     "text": [
      "['She', 'was', 'full', 'of', 'jokes', 'and', 'laughter', ',', 'and', 'before', 'dinner', 'was', 'over', 'had', 'said', 'many', 'witty', 'things', 'on', 'the'] \n",
      "\n",
      "['only', 'by', 'the', 'entrance', 'of', 'her', 'four', 'noisy', 'children', 'after', 'dinner', ',', 'who', 'pulled', 'her', 'about', ',', 'tore', 'her', 'clothes'] \n",
      "\n",
      "['I', 'will', 'ride', 'over', 'tomorrow', ',', 'and', 'ask', 'him', 'to', 'dinner', 'on', 'Thursday', '.\"', '\"', 'You', 'know', 'him', 'then', ',\"'] \n",
      "\n",
      "['day', 'long', '.', 'Some', 'more', 'of', 'the', 'Careys', 'came', 'to', 'dinner', ',', 'and', 'they', 'had', 'the', 'pleasure', 'of', 'sitting', 'down'] \n",
      "\n",
      "['and', 'happiness', '.', '\"', 'Shall', 'we', 'see', 'you', 'tomorrow', 'to', 'dinner', '?\"', 'said', 'Mrs', '.', 'Dashwood', ',', 'when', 'he', 'was'] \n",
      "\n",
      "['justice', 'of', 'all', '.', 'They', 'saw', 'nothing', 'of', 'Marianne', 'till', 'dinner', 'time', ',', 'when', 'she', 'entered', 'the', 'room', 'and', 'took'] \n",
      "\n",
      "['you', 'at', 'present', ',', 'Edward', '?\"', 'said', 'she', ',', 'when', 'dinner', 'was', 'over', 'and', 'they', 'had', 'drawn', 'round', 'the', 'fire'] \n",
      "\n",
      "['see', 'how', 'Mr', '.', 'and', 'Mrs', '.', 'Palmer', 'ate', 'their', 'dinner', ',', 'and', 'no', 'expectation', 'of', 'pleasure', 'from', 'them', 'in'] \n",
      "\n",
      "['her', 'own', 'expectations', ',', 'that', 'when', 'she', 'joined', 'them', 'at', 'dinner', 'only', 'two', 'hours', 'after', 'she', 'had', 'first', 'suffered', 'the'] \n",
      "\n",
      "['a', 'great', 'school', 'in', 'town', 'to', 'some', 'effect', '.', 'As', 'dinner', 'was', 'not', 'to', 'be', 'ready', 'in', 'less', 'than', 'two'] \n",
      "\n",
      "['the', 'evening', 'drew', 'on', '.', 'She', 'could', 'scarcely', 'eat', 'any', 'dinner', ',', 'and', 'when', 'they', 'afterwards', 'returned', 'to', 'the', 'drawing'] \n",
      "\n",
      "['I', 'have', 'been', 'as', 'busy', 'as', 'a', 'bee', 'ever', 'since', 'dinner', '!', 'But', 'pray', ',', 'Colonel', ',', 'how', 'came', 'you'] \n",
      "\n",
      "['believing', 'it', 'hardly', 'possible', 'that', 'she', 'could', 'sit', 'out', 'the', 'dinner', ',', 'said', 'no', 'more', ';', 'and', 'adjusting', 'her', 'dress'] \n",
      "\n",
      "['for', 'the', 'world', '.', 'You', 'saw', 'I', 'did', 'not', 'all', 'dinner', 'time', '.', 'No', 'more', 'would', 'Sir', 'John', ',', 'nor'] \n",
      "\n",
      "['giving', 'anything', ',', 'they', 'determined', 'to', 'give', 'them', '--', 'a', 'dinner', ';', 'and', 'soon', 'after', 'their', 'acquaintance', 'began', ',', 'invited'] \n",
      "\n",
      "['about', 'Dr', '.', 'Davies', 'to', 'be', 'perfectly', 'happy', '.', 'The', 'dinner', 'was', 'a', 'grand', 'one', ',', 'the', 'servants', 'were', 'numerous'] \n",
      "\n",
      "['When', 'the', 'ladies', 'withdrew', 'to', 'the', 'drawing', '-', 'room', 'after', 'dinner', ',', 'this', 'poverty', 'was', 'particularly', 'evident', ',', 'for', 'the'] \n",
      "\n",
      "['the', 'sacrifice', 'of', 'the', 'best', 'place', 'by', 'the', 'fire', 'after', 'dinner', ',', 'which', 'their', 'arrival', 'occasioned', '.', 'But', 'this', 'conciliation'] \n",
      "\n",
      "['prevented', 'by', 'a', 'settled', 'rain', 'from', 'going', 'out', 'again', 'after', 'dinner', '.', 'She', 'had', 'depended', 'on', 'a', 'twilight', 'walk', 'to'] \n",
      "\n",
      "['two', 'gentlemen', 'arrived', 'the', 'next', 'day', 'to', 'a', 'very', 'late', 'dinner', ',', 'affording', 'a', 'pleasant', 'enlargement', 'of', 'the', 'party', ','] \n",
      "\n",
      "['she', 'had', 'been', 'kept', 'by', 'her', 'fears', ',', 'and', 'of', 'dinner', 'by', 'their', 'sudden', 'reverse', ',', 'from', 'eating', 'much', ';--'] \n",
      "\n",
      "['passed', 'away', 'without', 'the', 'atonement', 'of', 'a', 'smile', '.', 'After', 'dinner', 'she', 'would', 'try', 'her', 'piano', '-', 'forte', '.', 'She'] \n",
      "\n",
      "['in', 'rising', 'than', 'six', ',', 'and', 'from', 'that', 'time', 'till', 'dinner', 'I', 'shall', 'divide', 'every', 'moment', 'between', 'music', 'and', 'reading'] \n",
      "\n",
      "[',', 'she', 'had', 'never', 'been', 'obliged', 'to', 'go', 'without', 'her', 'dinner', 'before', '.', 'When', 'the', 'dessert', 'and', 'the', 'wine', 'were'] \n",
      "\n"
     ]
    }
   ],
   "source": [
    "from nltk.book import text2\n",
    "i = 0\n",
    "sentencesWithDinner = []\n",
    "lengthOfBooksWords = len(text2)\n",
    "\n",
    "while i < lengthOfBooksWords:\n",
    "    if text2[i] == 'dinner':\n",
    "        print(text2[i-10 : i+10], '\\n')\n",
    "        #sentencesWithDinner.append([text2[i-10 : i+10]])\n",
    "    i += 1\n",
    "#print(f\"{sentencesWithDinner} \\n\")"
   ]
  },
  {
   "cell_type": "code",
   "execution_count": 8,
   "id": "54244c41-31fa-42ee-9e87-8d92aa81bd21",
   "metadata": {},
   "outputs": [
    {
     "data": {
      "text/plain": [
       "<Text: Sense and Sensibility by Jane Austen 1811>"
      ]
     },
     "execution_count": 8,
     "metadata": {},
     "output_type": "execute_result"
    }
   ],
   "source": [
    "import nltk\n",
    "#nltk.download()\n",
    "from nltk.book import text2\n",
    "text2"
   ]
  },
  {
   "cell_type": "code",
   "execution_count": null,
   "id": "97f57959-15d2-45d6-9971-e59d35f2154b",
   "metadata": {},
   "outputs": [],
   "source": [
    "for i in range(len(text2)):\n",
    "    if text2[i] == 'dinner':\n",
    "        \n",
    "        start = max(i - 10, 0)  # Get up to 10 words before \"dinner\"\n",
    "        end = min(i + 10, len(text2))  # Get up to 10 words after \"dinner\"\n",
    "        print(text2[start:end], '\\n'))"
   ]
  },
  {
   "cell_type": "code",
   "execution_count": 9,
   "id": "d1e80777-c62f-4b41-8003-e7c3f591d87a",
   "metadata": {},
   "outputs": [
    {
     "name": "stdout",
     "output_type": "stream",
     "text": [
      "['She', 'was', 'full', 'of', 'jokes', 'and', 'laughter', ',', 'and', 'before', 'dinner', 'was', 'over', 'had', 'said', 'many', 'witty', 'things', 'on', 'the'] \n",
      "\n",
      "['only', 'by', 'the', 'entrance', 'of', 'her', 'four', 'noisy', 'children', 'after', 'dinner', ',', 'who', 'pulled', 'her', 'about', ',', 'tore', 'her', 'clothes'] \n",
      "\n",
      "['I', 'will', 'ride', 'over', 'tomorrow', ',', 'and', 'ask', 'him', 'to', 'dinner', 'on', 'Thursday', '.\"', '\"', 'You', 'know', 'him', 'then', ',\"'] \n",
      "\n",
      "['day', 'long', '.', 'Some', 'more', 'of', 'the', 'Careys', 'came', 'to', 'dinner', ',', 'and', 'they', 'had', 'the', 'pleasure', 'of', 'sitting', 'down'] \n",
      "\n",
      "['and', 'happiness', '.', '\"', 'Shall', 'we', 'see', 'you', 'tomorrow', 'to', 'dinner', '?\"', 'said', 'Mrs', '.', 'Dashwood', ',', 'when', 'he', 'was'] \n",
      "\n",
      "['justice', 'of', 'all', '.', 'They', 'saw', 'nothing', 'of', 'Marianne', 'till', 'dinner', 'time', ',', 'when', 'she', 'entered', 'the', 'room', 'and', 'took'] \n",
      "\n",
      "['you', 'at', 'present', ',', 'Edward', '?\"', 'said', 'she', ',', 'when', 'dinner', 'was', 'over', 'and', 'they', 'had', 'drawn', 'round', 'the', 'fire'] \n",
      "\n",
      "['see', 'how', 'Mr', '.', 'and', 'Mrs', '.', 'Palmer', 'ate', 'their', 'dinner', ',', 'and', 'no', 'expectation', 'of', 'pleasure', 'from', 'them', 'in'] \n",
      "\n",
      "['her', 'own', 'expectations', ',', 'that', 'when', 'she', 'joined', 'them', 'at', 'dinner', 'only', 'two', 'hours', 'after', 'she', 'had', 'first', 'suffered', 'the'] \n",
      "\n",
      "['a', 'great', 'school', 'in', 'town', 'to', 'some', 'effect', '.', 'As', 'dinner', 'was', 'not', 'to', 'be', 'ready', 'in', 'less', 'than', 'two'] \n",
      "\n",
      "['the', 'evening', 'drew', 'on', '.', 'She', 'could', 'scarcely', 'eat', 'any', 'dinner', ',', 'and', 'when', 'they', 'afterwards', 'returned', 'to', 'the', 'drawing'] \n",
      "\n",
      "['I', 'have', 'been', 'as', 'busy', 'as', 'a', 'bee', 'ever', 'since', 'dinner', '!', 'But', 'pray', ',', 'Colonel', ',', 'how', 'came', 'you'] \n",
      "\n",
      "['believing', 'it', 'hardly', 'possible', 'that', 'she', 'could', 'sit', 'out', 'the', 'dinner', ',', 'said', 'no', 'more', ';', 'and', 'adjusting', 'her', 'dress'] \n",
      "\n",
      "['for', 'the', 'world', '.', 'You', 'saw', 'I', 'did', 'not', 'all', 'dinner', 'time', '.', 'No', 'more', 'would', 'Sir', 'John', ',', 'nor'] \n",
      "\n",
      "['giving', 'anything', ',', 'they', 'determined', 'to', 'give', 'them', '--', 'a', 'dinner', ';', 'and', 'soon', 'after', 'their', 'acquaintance', 'began', ',', 'invited'] \n",
      "\n",
      "['about', 'Dr', '.', 'Davies', 'to', 'be', 'perfectly', 'happy', '.', 'The', 'dinner', 'was', 'a', 'grand', 'one', ',', 'the', 'servants', 'were', 'numerous'] \n",
      "\n",
      "['When', 'the', 'ladies', 'withdrew', 'to', 'the', 'drawing', '-', 'room', 'after', 'dinner', ',', 'this', 'poverty', 'was', 'particularly', 'evident', ',', 'for', 'the'] \n",
      "\n",
      "['the', 'sacrifice', 'of', 'the', 'best', 'place', 'by', 'the', 'fire', 'after', 'dinner', ',', 'which', 'their', 'arrival', 'occasioned', '.', 'But', 'this', 'conciliation'] \n",
      "\n",
      "['prevented', 'by', 'a', 'settled', 'rain', 'from', 'going', 'out', 'again', 'after', 'dinner', '.', 'She', 'had', 'depended', 'on', 'a', 'twilight', 'walk', 'to'] \n",
      "\n",
      "['two', 'gentlemen', 'arrived', 'the', 'next', 'day', 'to', 'a', 'very', 'late', 'dinner', ',', 'affording', 'a', 'pleasant', 'enlargement', 'of', 'the', 'party', ','] \n",
      "\n",
      "['she', 'had', 'been', 'kept', 'by', 'her', 'fears', ',', 'and', 'of', 'dinner', 'by', 'their', 'sudden', 'reverse', ',', 'from', 'eating', 'much', ';--'] \n",
      "\n",
      "['passed', 'away', 'without', 'the', 'atonement', 'of', 'a', 'smile', '.', 'After', 'dinner', 'she', 'would', 'try', 'her', 'piano', '-', 'forte', '.', 'She'] \n",
      "\n",
      "['in', 'rising', 'than', 'six', ',', 'and', 'from', 'that', 'time', 'till', 'dinner', 'I', 'shall', 'divide', 'every', 'moment', 'between', 'music', 'and', 'reading'] \n",
      "\n",
      "[',', 'she', 'had', 'never', 'been', 'obliged', 'to', 'go', 'without', 'her', 'dinner', 'before', '.', 'When', 'the', 'dessert', 'and', 'the', 'wine', 'were'] \n",
      "\n"
     ]
    }
   ],
   "source": [
    "i = 0\n",
    "while text2[i] != text2[-1]:\n",
    "    if text2[i] == 'dinner':\n",
    "        print(text2[i-10 : i+10], '\\n')\n",
    "    i += 1"
   ]
  },
  {
   "cell_type": "code",
   "execution_count": null,
   "id": "e2e2edd1-7932-4666-8bee-620f2d2375c5",
   "metadata": {},
   "outputs": [],
   "source": []
  },
  {
   "cell_type": "code",
   "execution_count": null,
   "id": "b564bb58-e207-48a3-b5ef-724c64446100",
   "metadata": {},
   "outputs": [],
   "source": []
  },
  {
   "cell_type": "code",
   "execution_count": 12,
   "id": "9df4269b-f9d1-4daa-ab69-5708cbadc13c",
   "metadata": {},
   "outputs": [
    {
     "data": {
      "text/plain": [
       "0.96"
      ]
     },
     "execution_count": 12,
     "metadata": {},
     "output_type": "execute_result"
    }
   ],
   "source": [
    "def f(x):\n",
    "    return 1 / (1+x)\n",
    "\n",
    "x = 23\n",
    "f(f(x))"
   ]
  },
  {
   "cell_type": "code",
   "execution_count": null,
   "id": "c60a075b-88f5-4073-a90c-aec6c317debe",
   "metadata": {},
   "outputs": [],
   "source": []
  },
  {
   "cell_type": "code",
   "execution_count": 13,
   "id": "3005aa45-4d0a-4404-bb02-341c6a946972",
   "metadata": {},
   "outputs": [
    {
     "data": {
      "text/latex": [
       "$\\displaystyle \\frac{1}{1 + \\frac{1}{x + 1}}$"
      ],
      "text/plain": [
       "1/(1 + 1/(x + 1))"
      ]
     },
     "execution_count": 13,
     "metadata": {},
     "output_type": "execute_result"
    }
   ],
   "source": [
    "import sympy\n",
    "x = sympy.symbols('x')\n",
    "\n",
    "def f(x):\n",
    "    return 1 / (1+x)\n",
    "\n",
    "f(f(x))"
   ]
  },
  {
   "cell_type": "code",
   "execution_count": null,
   "id": "6c4a41e1-195b-4dd3-955f-a14fc5c6924f",
   "metadata": {},
   "outputs": [],
   "source": []
  },
  {
   "cell_type": "code",
   "execution_count": 14,
   "id": "3ff51fbe-bc83-4941-9271-5511fd322b1f",
   "metadata": {},
   "outputs": [
    {
     "data": {
      "text/latex": [
       "$\\displaystyle x^{2} + 2 x y + y^{2}$"
      ],
      "text/plain": [
       "x**2 + 2*x*y + y**2"
      ]
     },
     "execution_count": 14,
     "metadata": {},
     "output_type": "execute_result"
    }
   ],
   "source": [
    "x = sympy.symbols('x')\n",
    "y = sympy.symbols('y')\n",
    "\n",
    "sympy.expand((x+y)**2)"
   ]
  },
  {
   "cell_type": "code",
   "execution_count": 15,
   "id": "6e9ce96f-c4c5-4b64-8cf5-7744f6a8674c",
   "metadata": {},
   "outputs": [
    {
     "data": {
      "text/latex": [
       "$\\displaystyle x^{7} - 84 x^{6} y + 3024 x^{5} y^{2} - 60480 x^{4} y^{3} + 725760 x^{3} y^{4} - 5225472 x^{2} y^{5} + 20901888 x y^{6} - 35831808 y^{7}$"
      ],
      "text/plain": [
       "x**7 - 84*x**6*y + 3024*x**5*y**2 - 60480*x**4*y**3 + 725760*x**3*y**4 - 5225472*x**2*y**5 + 20901888*x*y**6 - 35831808*y**7"
      ]
     },
     "execution_count": 15,
     "metadata": {},
     "output_type": "execute_result"
    }
   ],
   "source": [
    "sympy.expand((x-12*y)**7)"
   ]
  },
  {
   "cell_type": "code",
   "execution_count": 17,
   "id": "e0c43fb0-910a-4555-baa6-c4832753a58d",
   "metadata": {},
   "outputs": [
    {
     "data": {
      "text/latex": [
       "$\\displaystyle \\left(x + y\\right)^{2}$"
      ],
      "text/plain": [
       "(x + y)**2"
      ]
     },
     "execution_count": 17,
     "metadata": {},
     "output_type": "execute_result"
    }
   ],
   "source": [
    "sympy.factor(x**2 + 2*x*y + y**2)"
   ]
  },
  {
   "cell_type": "code",
   "execution_count": 18,
   "id": "723678c5-843b-4ad0-942e-43fba55549be",
   "metadata": {},
   "outputs": [],
   "source": [
    "def f(x):\n",
    "    return x + sympy.sin(x)"
   ]
  },
  {
   "cell_type": "code",
   "execution_count": 19,
   "id": "9592fad6-500e-4b19-a11b-7c7ac7aced18",
   "metadata": {},
   "outputs": [
    {
     "data": {
      "text/latex": [
       "$\\displaystyle \\pi$"
      ],
      "text/plain": [
       "pi"
      ]
     },
     "execution_count": 19,
     "metadata": {},
     "output_type": "execute_result"
    }
   ],
   "source": [
    "f(sympy.pi)"
   ]
  },
  {
   "cell_type": "code",
   "execution_count": 21,
   "id": "90017433-dde6-49bf-b157-be5f350ae0e5",
   "metadata": {},
   "outputs": [
    {
     "data": {
      "text/plain": [
       "3.141592653589793"
      ]
     },
     "execution_count": 21,
     "metadata": {},
     "output_type": "execute_result"
    }
   ],
   "source": [
    "import math\n",
    "math.pi + math.sin(math.pi)"
   ]
  },
  {
   "cell_type": "code",
   "execution_count": 23,
   "id": "bff8fd07-fad1-46c1-bf40-fc8bf3760699",
   "metadata": {},
   "outputs": [
    {
     "data": {
      "image/png": "[encoded data removed]",
      "text/plain": [
       "<Figure size 640x480 with 1 Axes>"
      ]
     },
     "metadata": {},
     "output_type": "display_data"
    },
    {
     "data": {
      "text/plain": [
       "<sympy.plotting.plot.Plot at 0x200742db1a0>"
      ]
     },
     "execution_count": 23,
     "metadata": {},
     "output_type": "execute_result"
    }
   ],
   "source": [
    "s = [f(x*i) for i in range(6)]\n",
    "\n",
    "sympy.plotting.plot(*s, -10*sympy.pi, 10*sympy.pi)"
   ]
  },
  {
   "cell_type": "code",
   "execution_count": null,
   "id": "5ca4c9f4-633d-4ffd-9129-9c4d136803bd",
   "metadata": {},
   "outputs": [],
   "source": []
  }
 ],
 "metadata": {
  "kernelspec": {
   "display_name": "Python 3 (ipykernel)",
   "language": "python",
   "name": "python3"
  },
  "language_info": {
   "codemirror_mode": {
    "name": "ipython",
    "version": 3
   },
   "file_extension": ".py",
   "mimetype": "text/x-python",
   "name": "python",
   "nbconvert_exporter": "python",
   "pygments_lexer": "ipython3",
   "version": "3.12.4"
  }
 },
 "nbformat": 4,
 "nbformat_minor": 5
}
