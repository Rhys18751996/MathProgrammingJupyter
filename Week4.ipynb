{
 "cells": [
  {
   "cell_type": "markdown",
   "id": "c56f7cf2-b7ea-4b03-a5ca-d8d3546e5386",
   "metadata": {},
   "source": [
    "## Week4 -     "
   ]
  },
  {
   "cell_type": "code",
   "execution_count": 8,
   "id": "8626503c-dc17-4f74-9a76-b1a79a3367df",
   "metadata": {},
   "outputs": [
    {
     "data": {
      "text/latex": [
       "$\\displaystyle \\sqrt{\\sqrt{\\sqrt{\\sqrt{\\sqrt{x + 1} + 1} + 1} + 1} + 1}$"
      ],
      "text/plain": [
       "sqrt(sqrt(sqrt(sqrt(sqrt(x + 1) + 1) + 1) + 1) + 1)"
      ]
     },
     "execution_count": 8,
     "metadata": {},
     "output_type": "execute_result"
    }
   ],
   "source": [
    "import sympy\n",
    "\n",
    "def f(x):\n",
    "    return sympy.sqrt(1 + x)\n",
    "\n",
    "x = sympy.symbols('x')\n",
    "f(f(f(f(f(x)))))"
   ]
  },
  {
   "cell_type": "code",
   "execution_count": 9,
   "id": "97aa8029-9ee1-4e32-b109-2b8e7a4abb0d",
   "metadata": {},
   "outputs": [
    {
     "data": {
      "text/plain": [
       "0.0"
      ]
     },
     "execution_count": 9,
     "metadata": {},
     "output_type": "execute_result"
    }
   ],
   "source": [
    "import math\n",
    "math.sqrt(0)"
   ]
  },
  {
   "cell_type": "code",
   "execution_count": 10,
   "id": "28f91a38-ff70-4643-ae34-f464242efde5",
   "metadata": {},
   "outputs": [
    {
     "data": {
      "text/plain": [
       "1.2510334048590739"
      ]
     },
     "execution_count": 10,
     "metadata": {},
     "output_type": "execute_result"
    }
   ],
   "source": [
    "math.sqrt(math.sqrt(math.sqrt(1+2+3)))"
   ]
  },
  {
   "cell_type": "code",
   "execution_count": 11,
   "id": "9ba0e5c1-4836-4f85-be1b-0d6137368dc0",
   "metadata": {},
   "outputs": [
    {
     "data": {
      "text/plain": [
       "2.1753277471610746"
      ]
     },
     "execution_count": 11,
     "metadata": {},
     "output_type": "execute_result"
    }
   ],
   "source": [
    "math.sqrt(3 + math.sqrt(2 + math.sqrt(1)))"
   ]
  },
  {
   "cell_type": "code",
   "execution_count": null,
   "id": "c19dc51c-5fca-49e6-bd34-763743468221",
   "metadata": {},
   "outputs": [],
   "source": []
  }
 ],
 "metadata": {
  "kernelspec": {
   "display_name": "Python 3 (ipykernel)",
   "language": "python",
   "name": "python3"
  },
  "language_info": {
   "codemirror_mode": {
    "name": "ipython",
    "version": 3
   },
   "file_extension": ".py",
   "mimetype": "text/x-python",
   "name": "python",
   "nbconvert_exporter": "python",
   "pygments_lexer": "ipython3",
   "version": "3.12.4"
  }
 },
 "nbformat": 4,
 "nbformat_minor": 5
}
