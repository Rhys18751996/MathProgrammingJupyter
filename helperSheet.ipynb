{
 "cells": [
  {
   "cell_type": "markdown",
   "id": "63accd27-0f6c-47a9-838d-4b3f24e98aa6",
   "metadata": {},
   "source": [
    "# Imports"
   ]
  },
  {
   "cell_type": "code",
   "execution_count": 5,
   "id": "57020d87-6de1-4560-8980-da31562c5063",
   "metadata": {},
   "outputs": [],
   "source": [
    "import math\n",
    "import numpy as np\n",
    "import sympy as sp\n",
    "import matplotlib.pyplot as plt\n",
    "import nltk\n",
    "#nltk.download()\n",
    "import mpmath # more precise math functions/definitions\n",
    "from PIL import Image\n",
    "from functools import reduce"
   ]
  },
  {
   "cell_type": "code",
   "execution_count": 4,
   "id": "dbab175b-45ab-4eb3-9310-2703fd48f2c1",
   "metadata": {},
   "outputs": [],
   "source": [
    "from nltk.book import text2"
   ]
  },
  {
   "cell_type": "code",
   "execution_count": null,
   "id": "8af8e397-731b-4ade-a711-4a5a2dc740aa",
   "metadata": {},
   "outputs": [],
   "source": []
  },
  {
   "cell_type": "code",
   "execution_count": null,
   "id": "5a5a9bb9-a43e-4171-b56f-4e5ec150849a",
   "metadata": {},
   "outputs": [],
   "source": []
  },
  {
   "cell_type": "markdown",
   "id": "c2f22d98-3eef-47db-91ce-7b41f23a5ef1",
   "metadata": {},
   "source": [
    "# Sympy Symbols"
   ]
  },
  {
   "cell_type": "code",
   "execution_count": 33,
   "id": "0bc070dc-2e53-4731-8f86-9fd09a064466",
   "metadata": {},
   "outputs": [],
   "source": [
    "import sympy\n",
    "x = sympy.symbols('x')\n",
    "y = sympy.symbols('y')\n",
    "# or\n",
    "x, y, z = sympy.symbols('x y z')"
   ]
  },
  {
   "cell_type": "code",
   "execution_count": 34,
   "id": "6984ab8f-9c45-402f-ad2b-4825e720ed6c",
   "metadata": {},
   "outputs": [
    {
     "data": {
      "text/latex": [
       "$\\displaystyle \\left(x + y\\right)^{2}$"
      ],
      "text/plain": [
       "(x + y)**2"
      ]
     },
     "execution_count": 34,
     "metadata": {},
     "output_type": "execute_result"
    }
   ],
   "source": [
    "sympy.factor(x**2 + 2*x*y + y**2)"
   ]
  },
  {
   "cell_type": "code",
   "execution_count": 35,
   "id": "959f4c63-56f1-40c9-9acb-2aac31fb7f84",
   "metadata": {},
   "outputs": [
    {
     "data": {
      "text/latex": [
       "$\\displaystyle x^{2} + 2 x y + y^{2}$"
      ],
      "text/plain": [
       "x**2 + 2*x*y + y**2"
      ]
     },
     "execution_count": 35,
     "metadata": {},
     "output_type": "execute_result"
    }
   ],
   "source": [
    "sympy.expand((x+y)**2)"
   ]
  },
  {
   "cell_type": "code",
   "execution_count": 22,
   "id": "bedd5776-058b-449c-b696-7eca8ff07a6b",
   "metadata": {},
   "outputs": [
    {
     "data": {
      "text/plain": [
       "(x0, x1, x2, x3, x4, x5, x6, x7, x8, x9)"
      ]
     },
     "execution_count": 22,
     "metadata": {},
     "output_type": "execute_result"
    }
   ],
   "source": [
    "sympy.symbols('x:10')"
   ]
  },
  {
   "cell_type": "markdown",
   "id": "7e06ab6f-a74e-4b86-b47f-6171e5ec8310",
   "metadata": {},
   "source": [
    "# nth root"
   ]
  },
  {
   "cell_type": "markdown",
   "id": "35c8fd1e-f41a-4eb2-a587-5ca719fdff69",
   "metadata": {},
   "source": [
    "$\\sqrt[4]{81}$"
   ]
  },
  {
   "cell_type": "code",
   "execution_count": 6,
   "id": "fb4aea8d-4b43-4e4a-9a4d-af083f11d3a3",
   "metadata": {},
   "outputs": [
    {
     "data": {
      "text/plain": [
       "3.0"
      ]
     },
     "execution_count": 6,
     "metadata": {},
     "output_type": "execute_result"
    }
   ],
   "source": [
    "import math\n",
    "math.pow(81, 1/4)"
   ]
  },
  {
   "cell_type": "code",
   "execution_count": 1,
   "id": "502d2981-d9fa-4cf8-9b4b-11ef9a555fa4",
   "metadata": {},
   "outputs": [
    {
     "data": {
      "text/plain": [
       "81"
      ]
     },
     "execution_count": 1,
     "metadata": {},
     "output_type": "execute_result"
    }
   ],
   "source": [
    "3**4"
   ]
  },
  {
   "cell_type": "markdown",
   "id": "bcab8e69-f790-47b4-b0b9-51166b168cf1",
   "metadata": {},
   "source": [
    "# Primes"
   ]
  },
  {
   "cell_type": "code",
   "execution_count": 14,
   "id": "65f2fd1f-4686-4d62-b747-e13d897c8eb1",
   "metadata": {},
   "outputs": [
    {
     "name": "stdout",
     "output_type": "stream",
     "text": [
      "[2, 3, 5, 7, 11, 13, 17, 19, 23, 29, 31, 37, 41, 43, 47, 53, 59, 61, 67, 71, 73, 79, 83, 89, 97]\n"
     ]
    }
   ],
   "source": [
    "# PRIMES\n",
    "import sympy\n",
    "primes = list(sympy.primerange(0, 100))\n",
    "print(primes)"
   ]
  },
  {
   "cell_type": "code",
   "execution_count": 13,
   "id": "51d5ff12-a995-47e8-9ee8-8bf4525c6296",
   "metadata": {},
   "outputs": [],
   "source": [
    "def primeQ(n):\n",
    "    if n==0 or n==1:\n",
    "        return False\n",
    "    elif n==2:\n",
    "        return True\n",
    "    elif n % 2==0:\n",
    "        return False\n",
    "    for i in range(3, n//2+1):\n",
    "        if n % i == 0:\n",
    "            return False\n",
    "    return True"
   ]
  },
  {
   "cell_type": "code",
   "execution_count": 19,
   "id": "8969548d-697b-412b-a8b6-320a8906b5af",
   "metadata": {},
   "outputs": [
    {
     "data": {
      "text/plain": [
       "True"
      ]
     },
     "execution_count": 19,
     "metadata": {},
     "output_type": "execute_result"
    }
   ],
   "source": [
    "# test if number is prime \n",
    "import sympy\n",
    "sympy.isprime(19)"
   ]
  },
  {
   "cell_type": "code",
   "execution_count": 37,
   "id": "3fdde3ad-0982-4847-9c42-de19ec0087f2",
   "metadata": {},
   "outputs": [
    {
     "name": "stdout",
     "output_type": "stream",
     "text": [
      "19\n"
     ]
    }
   ],
   "source": [
    "# get the nth number prime\n",
    "import sympy\n",
    "print(sympy.prime(8))"
   ]
  },
  {
   "cell_type": "markdown",
   "id": "eaec2247-04c6-4c13-abfd-c0d23ad20e0f",
   "metadata": {},
   "source": [
    "## common Math functions"
   ]
  },
  {
   "cell_type": "code",
   "execution_count": null,
   "id": "09030068-1ac3-4e76-bee1-32b5590b7a15",
   "metadata": {},
   "outputs": [],
   "source": [
    "import math\n",
    "math.prod()\n",
    "math.sqrt()\n",
    "sum()\n",
    "math.factorial()\n",
    "math.pow()"
   ]
  },
  {
   "cell_type": "markdown",
   "id": "db2b23f8-47c2-4475-9bfa-249bfd91166d",
   "metadata": {},
   "source": [
    "## common Numpy functions"
   ]
  },
  {
   "cell_type": "code",
   "execution_count": 2,
   "id": "8bf0813e-03d6-4265-9d37-3888701fc7fc",
   "metadata": {},
   "outputs": [],
   "source": [
    "import numpy as np\n",
    "\n",
    "# creates a 10x10 array with random numbers, each with a value between 1 and 100\n",
    "arrayA = np.random.randint(low=1, high=100, size=(10, 10))\n",
    "\n",
    "# Generate a 10x10 upper triangular matrix with random nonzero integers\n",
    "A = np.triu(arrayA)\n",
    "\n",
    "# get main diagonal values and put them into a np.Array\n",
    "diagonal_entries = np.diag(A)\n",
    "\n",
    "# does a numpy product of a numpy array\n",
    "product = np.prod(diagonal_entries)"
   ]
  },
  {
   "cell_type": "markdown",
   "id": "94cd0ba0-bcdc-4358-9577-fed29187f367",
   "metadata": {},
   "source": [
    "# anonymous functions"
   ]
  },
  {
   "cell_type": "code",
   "execution_count": 3,
   "id": "90f25cf4-7a7f-4eff-8a42-c691cc8c5c8e",
   "metadata": {},
   "outputs": [
    {
     "data": {
      "text/plain": [
       "144"
      ]
     },
     "execution_count": 3,
     "metadata": {},
     "output_type": "execute_result"
    }
   ],
   "source": [
    "(lambda x : x**2)(12) # pass 12 into anonymous function return \"x**2\""
   ]
  },
  {
   "cell_type": "code",
   "execution_count": 6,
   "id": "70399d9a-44af-48bf-9e8d-c01a2afef3d9",
   "metadata": {},
   "outputs": [
    {
     "data": {
      "text/plain": [
       "27"
      ]
     },
     "execution_count": 6,
     "metadata": {},
     "output_type": "execute_result"
    }
   ],
   "source": [
    "(lambda x, y, z : x**2 + y**2 + z**2)(3, 3, 3)"
   ]
  },
  {
   "cell_type": "code",
   "execution_count": 10,
   "id": "7c78c08c-7299-4381-ae74-87a0974fa489",
   "metadata": {},
   "outputs": [
    {
     "data": {
      "text/plain": [
       "409"
      ]
     },
     "execution_count": 10,
     "metadata": {},
     "output_type": "execute_result"
    }
   ],
   "source": [
    "(lambda x, y=12, z=16 : x**2 + y**2 + z**2)(3, z=16)"
   ]
  },
  {
   "cell_type": "code",
   "execution_count": 12,
   "id": "d4cc8f59-695c-4f63-9380-31487837f8d8",
   "metadata": {},
   "outputs": [
    {
     "data": {
      "text/plain": [
       "409"
      ]
     },
     "execution_count": 12,
     "metadata": {},
     "output_type": "execute_result"
    }
   ],
   "source": [
    "(lambda x, y=12, z=16 : x**2 + y**2 + z**2)(3)"
   ]
  },
  {
   "cell_type": "code",
   "execution_count": 14,
   "id": "052fd560-1d21-4747-bd24-8483c8c4551b",
   "metadata": {},
   "outputs": [],
   "source": [
    "f = (lambda x, y=12, z=16 : x**2 + y**2 + z**2)"
   ]
  },
  {
   "cell_type": "code",
   "execution_count": null,
   "id": "23f506c7-586c-422e-bb14-2a39b71d6846",
   "metadata": {},
   "outputs": [],
   "source": [
    "(lambda z: sum(z))([1,2,3,4,5])"
   ]
  },
  {
   "cell_type": "code",
   "execution_count": null,
   "id": "bb1ad9cd-9c7f-4685-8d78-6e837c1bb2cd",
   "metadata": {},
   "outputs": [],
   "source": [
    "# to overcome this error..\n",
    "(lambda *z: sum(z))(1,2,3,4,5)\n",
    "\n",
    "# the asterisk \"unpacks\" the seuqence then passes it to the lambda function"
   ]
  },
  {
   "cell_type": "markdown",
   "id": "4ebfe48c-40e5-4317-bf2a-2b9a6226fcb1",
   "metadata": {},
   "source": [
    "# filter\n",
    "keeps all elements in an iterable that which the applied condition returns true"
   ]
  },
  {
   "cell_type": "code",
   "execution_count": 5,
   "id": "60404322-bf9d-4b9d-9b36-76d091c3d077",
   "metadata": {},
   "outputs": [
    {
     "data": {
      "text/plain": [
       "[77, 154, 231, 308, 385, 462]"
      ]
     },
     "execution_count": 5,
     "metadata": {},
     "output_type": "execute_result"
    }
   ],
   "source": [
    "# write a program to find all the numbers up to 500 divisble by 7 and 11\n",
    "result = list(filter(lambda x: (x%7==0) and (x%11==0), range(1,501)))\n",
    "result"
   ]
  },
  {
   "cell_type": "code",
   "execution_count": 7,
   "id": "db359669-caef-49a5-b13a-632eb2bcfb94",
   "metadata": {},
   "outputs": [
    {
     "data": {
      "text/plain": [
       "[2, 3, 5, 7, 11, 13, 17, 19, 23, 29, 31, 37, 41, 43, 47]"
      ]
     },
     "execution_count": 7,
     "metadata": {},
     "output_type": "execute_result"
    }
   ],
   "source": [
    "import sympy\n",
    "# filter a list, keep all primes from a list of numbers up to 50\n",
    "list(filter(sympy.isprime, range(1,51)))\n"
   ]
  },
  {
   "cell_type": "code",
   "execution_count": null,
   "id": "5ccc65af-ed9e-474d-8577-4115cf415441",
   "metadata": {},
   "outputs": [],
   "source": []
  },
  {
   "cell_type": "markdown",
   "id": "60e2c8bf-493d-4c90-aa32-b7ad10a0d8f5",
   "metadata": {},
   "source": [
    "# reduce \n",
    "reduces the iterable cumulatively, from left to right, to get a single result"
   ]
  },
  {
   "cell_type": "code",
   "execution_count": 15,
   "id": "36f382b2-64e6-47b9-9a7e-a0761639abb2",
   "metadata": {},
   "outputs": [
    {
     "data": {
      "text/latex": [
       "$\\displaystyle \\left(\\left(\\left(\\left(\\left(x^{y}\\right)^{z}\\right)^{x}\\right)^{y}\\right)^{z}\\right)^{y}$"
      ],
      "text/plain": [
       "(((((x**y)**z)**x)**y)**z)**y"
      ]
     },
     "execution_count": 15,
     "metadata": {},
     "output_type": "execute_result"
    }
   ],
   "source": [
    "from functools import reduce\n",
    "import sympy\n",
    "\n",
    "x,y,z = sympy.symbols('x y z')\n",
    "reduce(lambda a,b : a**b, [x,y,z,x,y,z,y])"
   ]
  },
  {
   "cell_type": "code",
   "execution_count": 14,
   "id": "0a243573-869e-4a15-b6d4-6522861bc1f1",
   "metadata": {},
   "outputs": [
    {
     "data": {
      "text/plain": [
       "5050"
      ]
     },
     "execution_count": 14,
     "metadata": {},
     "output_type": "execute_result"
    }
   ],
   "source": [
    "# write code to get the sum of the numbers from 1 to 100\n",
    "reduce(lambda a,b : a+b, range(1,101))"
   ]
  },
  {
   "cell_type": "code",
   "execution_count": 24,
   "id": "3dcaa9ba-0fe7-4c19-beb8-5ceef5481985",
   "metadata": {},
   "outputs": [
    {
     "data": {
      "text/latex": [
       "$\\displaystyle a + b + c + d + e + f + g$"
      ],
      "text/plain": [
       "a + b + c + d + e + f + g"
      ]
     },
     "execution_count": 24,
     "metadata": {},
     "output_type": "execute_result"
    }
   ],
   "source": [
    "import sympy\n",
    "a,b,c,d,e,f,g = sympy.symbols('a b c d e f g')\n",
    "reduce(lambda a,b : a+b, [a,b,c,d,e,f,g])\n"
   ]
  },
  {
   "cell_type": "markdown",
   "id": "6cfb59d4-9de5-4d38-bd9b-2633a7fbeb87",
   "metadata": {},
   "source": [
    "# recursive functions"
   ]
  },
  {
   "cell_type": "code",
   "execution_count": 25,
   "id": "92f42d9a-37bc-4824-86de-6577323e205e",
   "metadata": {},
   "outputs": [
    {
     "name": "stdout",
     "output_type": "stream",
     "text": [
      "1 + 1/(1 + 1/(1 + 1/(1 + 1/(x + 1))))\n"
     ]
    }
   ],
   "source": [
    "# recursive approach, while loop\n",
    "def continued_fraction_recursive(x, n):\n",
    "    while n != 1:\n",
    "        return 1 + 1 / continued_fraction_recursive(x, n - 1)\n",
    "    return 1 + x; # the most inner equation\n",
    "    \n",
    "# Example usage:\n",
    "x = sympy.symbols('x') # replace with whatever x is valued\n",
    "n = 5 # number of recursions\n",
    "print(continued_fraction_recursive(x, n))"
   ]
  },
  {
   "cell_type": "code",
   "execution_count": 26,
   "id": "eaed6edc-7467-4ba7-b219-9db7483066ae",
   "metadata": {},
   "outputs": [
    {
     "name": "stdout",
     "output_type": "stream",
     "text": [
      "1 + 1/(1 + 1/(1 + 1/(x + 1)))\n"
     ]
    }
   ],
   "source": [
    "# recursive approach, if else\n",
    "def continued_fraction_recursive(x, n):\n",
    "    if n == 1:\n",
    "        return 1 + x # the most inner equation\n",
    "    else:\n",
    "        return 1 + 1 / continued_fraction_recursive(x, (n-1))\n",
    "\n",
    "# Example usage:\n",
    "x = sympy.symbols('x') # replace with whatever x is valued\n",
    "n = 4 # number of recursions\n",
    "print(continued_fraction_recursive(x, n))"
   ]
  },
  {
   "cell_type": "code",
   "execution_count": 27,
   "id": "76916b3c-104b-4ff2-a066-1253df021c0d",
   "metadata": {},
   "outputs": [
    {
     "data": {
      "text/latex": [
       "$\\displaystyle 1 + \\frac{1}{1 + \\frac{1}{1 + \\frac{1}{1 + \\frac{1}{x}}}}$"
      ],
      "text/plain": [
       "1 + 1/(1 + 1/(1 + 1/(1 + 1/x)))"
      ]
     },
     "execution_count": 27,
     "metadata": {},
     "output_type": "execute_result"
    }
   ],
   "source": [
    "from functools import reduce\n",
    "x, n = sympy.symbols('x n')\n",
    "reduce(lambda x, n: 1/x + 1, (x,n,n,n,n))"
   ]
  },
  {
   "cell_type": "code",
   "execution_count": 30,
   "id": "97a6a523-8d00-439b-8a1e-f4709678f973",
   "metadata": {},
   "outputs": [
    {
     "data": {
      "text/latex": [
       "$\\displaystyle \\left(\\left(\\left(\\left(\\left(x^{y}\\right)^{z}\\right)^{x}\\right)^{y}\\right)^{z}\\right)^{y}$"
      ],
      "text/plain": [
       "(((((x**y)**z)**x)**y)**z)**y"
      ]
     },
     "execution_count": 30,
     "metadata": {},
     "output_type": "execute_result"
    }
   ],
   "source": [
    "from functools import reduce\n",
    "import sympy\n",
    "x,y,z = sympy.symbols('x y z')\n",
    "reduce(lambda a,b : a**b, [x,y,z,x,y,z,y])"
   ]
  },
  {
   "cell_type": "markdown",
   "id": "00f602c1-daba-41e5-a02d-7d38b4ff56a6",
   "metadata": {},
   "source": [
    "# drop a digit"
   ]
  },
  {
   "cell_type": "code",
   "execution_count": null,
   "id": "e3111d6d-cfe9-4c4d-95fb-3186504d2eb2",
   "metadata": {},
   "outputs": [],
   "source": [
    "def dropDigit(n):\n",
    "    return n // 10"
   ]
  },
  {
   "cell_type": "markdown",
   "id": "d7e682f9-8b61-4ea0-be1e-bef3077a207b",
   "metadata": {},
   "source": [
    "# pi helper"
   ]
  },
  {
   "cell_type": "code",
   "execution_count": 52,
   "id": "6f302a95-38b3-4f5f-8dc1-421062d1b1cf",
   "metadata": {},
   "outputs": [
    {
     "name": "stdout",
     "output_type": "stream",
     "text": [
      "3.14159265358979323846264338327950288419716939937510582097494459230781640628620899862803482534211706\n"
     ]
    }
   ],
   "source": [
    "from mpmath import mp\n",
    "\n",
    "mp.dps = 1000\n",
    "pi_val = str(mp.pi)\n",
    "\n",
    "# Display the first 1000 characters\n",
    "print(pi_val[:100])"
   ]
  },
  {
   "cell_type": "markdown",
   "id": "a456b7d6-7859-4014-bc19-d8536f1a5000",
   "metadata": {},
   "source": [
    "# list comprehension"
   ]
  },
  {
   "cell_type": "code",
   "execution_count": 4,
   "id": "af6dfb69-e344-4130-acee-e5744e66fc37",
   "metadata": {},
   "outputs": [
    {
     "data": {
      "text/plain": [
       "3.0"
      ]
     },
     "execution_count": 4,
     "metadata": {},
     "output_type": "execute_result"
    }
   ],
   "source": [
    "import math\n",
    "x = 5\n",
    "result = 1 + sum((1 / (math.sqrt(n-1) + math.sqrt(n))) for n in range(1, x))\n",
    "result"
   ]
  },
  {
   "cell_type": "code",
   "execution_count": 4,
   "id": "e1aebc09-99b4-4623-89fb-feba7a7f4333",
   "metadata": {},
   "outputs": [
    {
     "data": {
      "text/plain": [
       "[0, 6, 12, 18, 24, 30, 36]"
      ]
     },
     "execution_count": 4,
     "metadata": {},
     "output_type": "execute_result"
    }
   ],
   "source": [
    "[2*i for i in range(0,20,3)]"
   ]
  },
  {
   "cell_type": "markdown",
   "id": "05f8915c-8fb2-474d-be7d-4144a6a62a20",
   "metadata": {},
   "source": [
    "$$ \\{2i \\mid <= i < 20, 3 \\mid i\\} $$"
   ]
  },
  {
   "cell_type": "code",
   "execution_count": 15,
   "id": "05516bcf-fea3-4eb9-8c8b-05ab4fa24d97",
   "metadata": {},
   "outputs": [
    {
     "name": "stdout",
     "output_type": "stream",
     "text": [
      "[1, 3, 7, 15, 31, 63, 127, 255, 511, 1023]\n"
     ]
    }
   ],
   "source": [
    "print([2**i-1 for i in range(1,11)])"
   ]
  },
  {
   "cell_type": "markdown",
   "id": "daa9f6f0-98a6-4500-898f-4c3e791a3bd4",
   "metadata": {},
   "source": [
    "$$ \\{2^i-1 \\mid <= i < 20, 3 \\mid i\\} $$"
   ]
  },
  {
   "cell_type": "markdown",
   "id": "32e0a90a-9ff3-4be0-98b2-f9e470c2caa2",
   "metadata": {},
   "source": [
    "generate list $ (x, cos(x)) $ for intervals $ \\{ 0 \\leq x < \\pi \\} $"
   ]
  },
  {
   "cell_type": "code",
   "execution_count": 28,
   "id": "0c3d6f85-c092-43e7-8f5e-9e462cb81884",
   "metadata": {},
   "outputs": [
    {
     "data": {
      "text/plain": [
       "[(0, 1.0),\n",
       " (1, 0.9510565162951535),\n",
       " (2, 0.8090169943749475),\n",
       " (3, 0.5877852522924731),\n",
       " (4, 0.30901699437494745)]"
      ]
     },
     "execution_count": 28,
     "metadata": {},
     "output_type": "execute_result"
    }
   ],
   "source": [
    "import math\n",
    "[(x, math.cos(x/10 * math.pi)) for x in range(0, 5)]"
   ]
  },
  {
   "cell_type": "markdown",
   "id": "22a67bea-db73-4d52-a88a-906f7d454a73",
   "metadata": {},
   "source": [
    "### conditional list comprehension\r\n",
    "write a code to generate all numhbers between 1 and 50 which is divisible by 7"
   ]
  },
  {
   "cell_type": "code",
   "execution_count": 32,
   "id": "1326a7d6-a141-438b-a23b-df1b9f652b9d",
   "metadata": {},
   "outputs": [
    {
     "data": {
      "text/plain": [
       "[7, 14, 21, 28, 35, 42, 49]"
      ]
     },
     "execution_count": 32,
     "metadata": {},
     "output_type": "execute_result"
    }
   ],
   "source": [
    "[i for i in range(1,51) if i%7 == 0]"
   ]
  },
  {
   "cell_type": "code",
   "execution_count": 36,
   "id": "00834428-4b08-4007-84bd-9b1eb8a853ae",
   "metadata": {},
   "outputs": [
    {
     "data": {
      "text/plain": [
       "[77, 154, 231]"
      ]
     },
     "execution_count": 36,
     "metadata": {},
     "output_type": "execute_result"
    }
   ],
   "source": [
    "[n for n in range(1,301) if n%7==0 and n%11==0]"
   ]
  },
  {
   "cell_type": "code",
   "execution_count": 38,
   "id": "9d6d43ed-bee1-4484-a1f1-a915f5bab0b0",
   "metadata": {},
   "outputs": [
    {
     "data": {
      "text/plain": [
       "['sydney', 'western', 20, 4.3, 2333, [2, 4, 4]]"
      ]
     },
     "execution_count": 38,
     "metadata": {},
     "output_type": "execute_result"
    }
   ],
   "source": [
    "# write a code to get all the strings from the list and then get only all the numbers\n",
    "# sort so strings first then numbers afterwords using only list comprehension\n",
    "x = ['sydney', 20, 'western', 4.3, 2333, [2,4,4]]\n",
    "[item for item in x if isinstance(item, str)] + [item for item in x if type(item) != str]"
   ]
  },
  {
   "cell_type": "code",
   "execution_count": 42,
   "id": "7418f062-59a4-486a-809f-4ac68da25283",
   "metadata": {},
   "outputs": [
    {
     "data": {
      "text/plain": [
       "[(3, 4), (20, 21), (119, 120)]"
      ]
     },
     "execution_count": 42,
     "metadata": {},
     "output_type": "execute_result"
    }
   ],
   "source": [
    "# find pythagorean pairs\n",
    "[(m,n) for m in range(1,501) for n in range(m,501) if math.sqrt(m**2+n**2).is_integer() and n == m + 1]"
   ]
  },
  {
   "cell_type": "code",
   "execution_count": 46,
   "id": "7b5ef655-a130-4d29-8f6c-5c9b157f6b4f",
   "metadata": {},
   "outputs": [
    {
     "name": "stdout",
     "output_type": "stream",
     "text": [
      "['less', 'less', 'less', 'less', 'less', 'less', 'less', 'less', 'less', 'less', 'less', 11, 12, 13, 14, 15, 16, 17, 18, 19]\n"
     ]
    }
   ],
   "source": [
    "# if else in list cvomprehension\n",
    "print( [n if n > 10 else 'less' for n in range(20)] )"
   ]
  },
  {
   "cell_type": "code",
   "execution_count": 48,
   "id": "87fb6ea1-921c-41b6-91eb-fd815b8378c3",
   "metadata": {},
   "outputs": [
    {
     "data": {
      "text/plain": [
       "['less', 'less', 'less', 15]"
      ]
     },
     "execution_count": 48,
     "metadata": {},
     "output_type": "execute_result"
    }
   ],
   "source": [
    "[n if n>10 else 'less' for n in range(20) if n%5==0]"
   ]
  },
  {
   "cell_type": "markdown",
   "id": "6c9e3554-7c3d-488f-8cbc-6eb4e355bfd8",
   "metadata": {},
   "source": [
    "# Searching a string(list) for something"
   ]
  },
  {
   "cell_type": "code",
   "execution_count": 48,
   "id": "21e1b938-7740-4016-8ded-63faf4c1ee5c",
   "metadata": {},
   "outputs": [
    {
     "name": "stdout",
     "output_type": "stream",
     "text": [
      "'is' was found begining at index 9\n"
     ]
    }
   ],
   "source": [
    "myString = \"laughter is the key to something\"\n",
    "# get tht length of the pi string for the loop\n",
    "lengthOfPiStr = len(pi_str[:numOfplaces])\n",
    "\n",
    "searchWord = \"is\"\n",
    "\n",
    "i = 0\n",
    "while i < len(myString):\n",
    "    if myString[i : i+len(searchWord)] == searchWord:\n",
    "        print(f\"'{myString[i : i+len(searchWord)]}' was found begining at index {i}\")\n",
    "    i += 1"
   ]
  },
  {
   "cell_type": "markdown",
   "id": "3a0f5235-a014-4183-9dd5-b4839dc972a4",
   "metadata": {},
   "source": [
    "# list splicing"
   ]
  },
  {
   "cell_type": "code",
   "execution_count": null,
   "id": "b2d2a200-0a7a-4dd0-a830-3ce9dc0bac8d",
   "metadata": {},
   "outputs": [],
   "source": [
    "# Get last element in list \n",
    "theList[-1]\n",
    "# Reverse the list\n",
    "theList[::-1]\n",
    "# Get every second list element\n",
    "theList[::2]"
   ]
  },
  {
   "cell_type": "markdown",
   "id": "5ba9c925-d110-4380-9944-ab435c928f0d",
   "metadata": {},
   "source": [
    "# proper divisor"
   ]
  },
  {
   "cell_type": "code",
   "execution_count": null,
   "id": "a456f074-863a-4220-8014-e85514793f29",
   "metadata": {},
   "outputs": [],
   "source": [
    "def proper_divisors(num):\n",
    "  divisors = []\n",
    "  for i in range(2, num):\n",
    "    if num % i == 0:\n",
    "      divisors.append(i)\n",
    "  return divisors"
   ]
  },
  {
   "cell_type": "code",
   "execution_count": null,
   "id": "784825df-a9a0-4c95-a3cd-412bbf6069c5",
   "metadata": {},
   "outputs": [],
   "source": []
  },
  {
   "cell_type": "code",
   "execution_count": null,
   "id": "1d355e33-21c2-43dd-a154-141dc39c795d",
   "metadata": {},
   "outputs": [],
   "source": [
    "# create a 3x3 matrix and do something to each coordinate depending on its initial value\n",
    "import math\n",
    "def A(x, y):\n",
    "    matrix = [[],[],[]]\n",
    "    for i in range(3):\n",
    "        for j in range(3):\n",
    "            if(i == j):\n",
    "                matrix[i].append(math.sin(x) + math.cos(y))\n",
    "            else:\n",
    "                matrix[i].append(math.sin(x)**i * math.cos(y)**j)\n",
    "    return matrix\n",
    "\n",
    "# using the previously created function we can create a 3x3 matrix passing in pi and pi/5\n",
    "A = A(math.pi, (math.pi/5))"
   ]
  },
  {
   "cell_type": "code",
   "execution_count": null,
   "id": "de6da1b6-58f9-43c6-8f3a-46e6cb4b9362",
   "metadata": {},
   "outputs": [],
   "source": []
  },
  {
   "cell_type": "code",
   "execution_count": null,
   "id": "2abe0b24-ba36-4adf-a037-6ea04033c055",
   "metadata": {},
   "outputs": [],
   "source": []
  },
  {
   "cell_type": "markdown",
   "id": "ad82d25b-f4cb-4a8c-9fb6-a48eecf28681",
   "metadata": {},
   "source": [
    "## Search strings"
   ]
  },
  {
   "cell_type": "code",
   "execution_count": 1,
   "id": "c9f2ac30-9229-4890-a8a9-6305939b45ab",
   "metadata": {},
   "outputs": [
    {
     "data": {
      "text/plain": [
       "'helloworldIamhere'"
      ]
     },
     "execution_count": 1,
     "metadata": {},
     "output_type": "execute_result"
    }
   ],
   "source": [
    "# join a list of strings together\n",
    "listOfStrings = ['hello', 'world', 'I', 'am', 'here']\n",
    "\n",
    "from functools import reduce\n",
    "x_text = reduce(lambda x, y: ''.join([x,y]), listOfStrings)\n",
    "x_text"
   ]
  },
  {
   "cell_type": "code",
   "execution_count": null,
   "id": "9c9c41e7-3d05-430e-849a-b4fba2666229",
   "metadata": {},
   "outputs": [],
   "source": [
    "# search for a word in a single string\n",
    "def searchWord(theWord, theText):\n",
    "    l_w = len(theWord)\n",
    "    for interval in range(1,100):\n",
    "        for j in range(len(theText)):\n",
    "            if theText[0 + j: l_w * interval + j : interval].lower() == theWord.lower():\n",
    "                print(f'{theWord} appears in the book from {j}th letter with the interval {interval}')\n",
    "\n",
    "word = input('enter a word')\n",
    "searchWord(word, theSingleString)"
   ]
  }
 ],
 "metadata": {
  "kernelspec": {
   "display_name": "Python 3 (ipykernel)",
   "language": "python",
   "name": "python3"
  },
  "language_info": {
   "codemirror_mode": {
    "name": "ipython",
    "version": 3
   },
   "file_extension": ".py",
   "mimetype": "text/x-python",
   "name": "python",
   "nbconvert_exporter": "python",
   "pygments_lexer": "ipython3",
   "version": "3.12.4"
  }
 },
 "nbformat": 4,
 "nbformat_minor": 5
}
