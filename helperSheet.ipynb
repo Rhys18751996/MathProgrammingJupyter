{
 "cells": [
  {
   "cell_type": "markdown",
   "id": "63accd27-0f6c-47a9-838d-4b3f24e98aa6",
   "metadata": {},
   "source": [
    "## Imports"
   ]
  },
  {
   "cell_type": "code",
   "execution_count": 3,
   "id": "57020d87-6de1-4560-8980-da31562c5063",
   "metadata": {},
   "outputs": [],
   "source": [
    "import math\n",
    "import numpy as np\n",
    "import sympy as sp\n",
    "import matplotlib.pyplot as plt\n",
    "import nltk\n",
    "#nltk.download()\n",
    "import mpmath # more precise math functions/definitions"
   ]
  },
  {
   "cell_type": "code",
   "execution_count": 4,
   "id": "dbab175b-45ab-4eb3-9310-2703fd48f2c1",
   "metadata": {},
   "outputs": [],
   "source": [
    "from nltk.book import text2"
   ]
  },
  {
   "cell_type": "code",
   "execution_count": null,
   "id": "8af8e397-731b-4ade-a711-4a5a2dc740aa",
   "metadata": {},
   "outputs": [],
   "source": []
  },
  {
   "cell_type": "code",
   "execution_count": null,
   "id": "5a5a9bb9-a43e-4171-b56f-4e5ec150849a",
   "metadata": {},
   "outputs": [],
   "source": []
  },
  {
   "cell_type": "markdown",
   "id": "c2f22d98-3eef-47db-91ce-7b41f23a5ef1",
   "metadata": {},
   "source": [
    "## Sympy Symbols"
   ]
  },
  {
   "cell_type": "code",
   "execution_count": 9,
   "id": "0bc070dc-2e53-4731-8f86-9fd09a064466",
   "metadata": {},
   "outputs": [
    {
     "data": {
      "text/latex": [
       "$\\displaystyle \\left(x + y\\right)^{2}$"
      ],
      "text/plain": [
       "(x + y)**2"
      ]
     },
     "execution_count": 9,
     "metadata": {},
     "output_type": "execute_result"
    }
   ],
   "source": [
    "import sympy\n",
    "x = sympy.symbols('x')\n",
    "y = sympy.symbols('y')\n",
    "sympy.factor(x**2 + 2*x*y + y**2)"
   ]
  },
  {
   "cell_type": "code",
   "execution_count": 7,
   "id": "959f4c63-56f1-40c9-9acb-2aac31fb7f84",
   "metadata": {},
   "outputs": [
    {
     "data": {
      "text/latex": [
       "$\\displaystyle x^{2} + 2 x y + y^{2}$"
      ],
      "text/plain": [
       "x**2 + 2*x*y + y**2"
      ]
     },
     "execution_count": 7,
     "metadata": {},
     "output_type": "execute_result"
    }
   ],
   "source": [
    "sympy.expand((x+y)**2)"
   ]
  },
  {
   "cell_type": "code",
   "execution_count": null,
   "id": "bedd5776-058b-449c-b696-7eca8ff07a6b",
   "metadata": {},
   "outputs": [],
   "source": []
  },
  {
   "cell_type": "code",
   "execution_count": null,
   "id": "36db7445-d857-461e-97b4-90a59d83fc28",
   "metadata": {},
   "outputs": [],
   "source": []
  },
  {
   "cell_type": "code",
   "execution_count": null,
   "id": "c2922086-5b84-49a2-b805-9af34312ea4b",
   "metadata": {},
   "outputs": [],
   "source": []
  },
  {
   "cell_type": "markdown",
   "id": "bcab8e69-f790-47b4-b0b9-51166b168cf1",
   "metadata": {},
   "source": [
    "## Primes"
   ]
  },
  {
   "cell_type": "code",
   "execution_count": 14,
   "id": "65f2fd1f-4686-4d62-b747-e13d897c8eb1",
   "metadata": {},
   "outputs": [
    {
     "name": "stdout",
     "output_type": "stream",
     "text": [
      "[2, 3, 5, 7, 11, 13, 17, 19, 23, 29, 31, 37, 41, 43, 47, 53, 59, 61, 67, 71, 73, 79, 83, 89, 97]\n"
     ]
    }
   ],
   "source": [
    "# PRIMES\n",
    "import sympy\n",
    "primes = list(sympy.primerange(0, 100))\n",
    "print(primes)"
   ]
  },
  {
   "cell_type": "code",
   "execution_count": 15,
   "id": "8969548d-697b-412b-a8b6-320a8906b5af",
   "metadata": {},
   "outputs": [
    {
     "data": {
      "text/plain": [
       "True"
      ]
     },
     "execution_count": 15,
     "metadata": {},
     "output_type": "execute_result"
    }
   ],
   "source": [
    "sympy.isprime(primes[5])"
   ]
  },
  {
   "cell_type": "code",
   "execution_count": null,
   "id": "8315b197-e9d1-4119-9d32-99b5860edaa5",
   "metadata": {},
   "outputs": [],
   "source": []
  },
  {
   "cell_type": "code",
   "execution_count": null,
   "id": "51d5ff12-a995-47e8-9ee8-8bf4525c6296",
   "metadata": {},
   "outputs": [],
   "source": []
  },
  {
   "cell_type": "code",
   "execution_count": null,
   "id": "3fdde3ad-0982-4847-9c42-de19ec0087f2",
   "metadata": {},
   "outputs": [],
   "source": []
  },
  {
   "cell_type": "markdown",
   "id": "eaec2247-04c6-4c13-abfd-c0d23ad20e0f",
   "metadata": {},
   "source": [
    "## common Math functions"
   ]
  },
  {
   "cell_type": "code",
   "execution_count": null,
   "id": "09030068-1ac3-4e76-bee1-32b5590b7a15",
   "metadata": {},
   "outputs": [],
   "source": [
    "import math\n",
    "math.prod()\n",
    "math.sqrt()\n",
    "sum()\n",
    "math.factorial()"
   ]
  },
  {
   "cell_type": "code",
   "execution_count": null,
   "id": "bc531547-3751-470d-b875-338eaa30f834",
   "metadata": {},
   "outputs": [],
   "source": []
  },
  {
   "cell_type": "markdown",
   "id": "db2b23f8-47c2-4475-9bfa-249bfd91166d",
   "metadata": {},
   "source": [
    "## common Numpy functions"
   ]
  },
  {
   "cell_type": "code",
   "execution_count": 2,
   "id": "8bf0813e-03d6-4265-9d37-3888701fc7fc",
   "metadata": {},
   "outputs": [],
   "source": [
    "import numpy as np\n",
    "\n",
    "# creates a 10x10 array with random numbers, each with a value between 1 and 100\n",
    "arrayA = np.random.randint(low=1, high=100, size=(10, 10))\n",
    "\n",
    "# Generate a 10x10 upper triangular matrix with random nonzero integers\n",
    "A = np.triu(arrayA)\n",
    "\n",
    "# get main diagonal values and put them into a np.Array\n",
    "diagonal_entries = np.diag(A)\n",
    "\n",
    "# does a numpy product of a numpy array\n",
    "product = np.prod(diagonal_entries)"
   ]
  },
  {
   "cell_type": "code",
   "execution_count": null,
   "id": "7ac20381-9f94-46ac-9237-5789d00a42f0",
   "metadata": {},
   "outputs": [],
   "source": []
  },
  {
   "cell_type": "code",
   "execution_count": null,
   "id": "d35a7036-b23b-4e9c-9bbd-2f32998bcf13",
   "metadata": {},
   "outputs": [],
   "source": []
  },
  {
   "cell_type": "markdown",
   "id": "94cd0ba0-bcdc-4358-9577-fed29187f367",
   "metadata": {},
   "source": [
    "## anonymous functions"
   ]
  },
  {
   "cell_type": "code",
   "execution_count": 3,
   "id": "90f25cf4-7a7f-4eff-8a42-c691cc8c5c8e",
   "metadata": {},
   "outputs": [
    {
     "data": {
      "text/plain": [
       "144"
      ]
     },
     "execution_count": 3,
     "metadata": {},
     "output_type": "execute_result"
    }
   ],
   "source": [
    "(lambda x : x**2)(12) # pass 12 into anonymous function return \"x**2\""
   ]
  },
  {
   "cell_type": "code",
   "execution_count": 6,
   "id": "70399d9a-44af-48bf-9e8d-c01a2afef3d9",
   "metadata": {},
   "outputs": [
    {
     "data": {
      "text/plain": [
       "27"
      ]
     },
     "execution_count": 6,
     "metadata": {},
     "output_type": "execute_result"
    }
   ],
   "source": [
    "(lambda x, y, z : x**2 + y**2 + z**2)(3, 3, 3)"
   ]
  },
  {
   "cell_type": "code",
   "execution_count": 10,
   "id": "7c78c08c-7299-4381-ae74-87a0974fa489",
   "metadata": {},
   "outputs": [
    {
     "data": {
      "text/plain": [
       "409"
      ]
     },
     "execution_count": 10,
     "metadata": {},
     "output_type": "execute_result"
    }
   ],
   "source": [
    "(lambda x, y=12, z=16 : x**2 + y**2 + z**2)(3, z=16)"
   ]
  },
  {
   "cell_type": "code",
   "execution_count": 12,
   "id": "d4cc8f59-695c-4f63-9380-31487837f8d8",
   "metadata": {},
   "outputs": [
    {
     "data": {
      "text/plain": [
       "409"
      ]
     },
     "execution_count": 12,
     "metadata": {},
     "output_type": "execute_result"
    }
   ],
   "source": [
    "(lambda x, y=12, z=16 : x**2 + y**2 + z**2)(3)"
   ]
  },
  {
   "cell_type": "code",
   "execution_count": 14,
   "id": "052fd560-1d21-4747-bd24-8483c8c4551b",
   "metadata": {},
   "outputs": [],
   "source": [
    "f = (lambda x, y=12, z=16 : x**2 + y**2 + z**2)"
   ]
  },
  {
   "cell_type": "code",
   "execution_count": null,
   "id": "23f506c7-586c-422e-bb14-2a39b71d6846",
   "metadata": {},
   "outputs": [],
   "source": [
    "(lambda z: sum(z))([1,2,3,4,5])"
   ]
  },
  {
   "cell_type": "code",
   "execution_count": null,
   "id": "bb1ad9cd-9c7f-4685-8d78-6e837c1bb2cd",
   "metadata": {},
   "outputs": [],
   "source": [
    "# to overcome this error..\n",
    "(lambda *z: sum(z))(1,2,3,4,5)\n",
    "\n",
    "# the asterisk \"unpacks\" the seuqence then passes it to the lambda function"
   ]
  },
  {
   "cell_type": "markdown",
   "id": "6cfb59d4-9de5-4d38-bd9b-2633a7fbeb87",
   "metadata": {},
   "source": [
    "## recursive functions"
   ]
  },
  {
   "cell_type": "code",
   "execution_count": null,
   "id": "92f42d9a-37bc-4824-86de-6577323e205e",
   "metadata": {},
   "outputs": [],
   "source": []
  },
  {
   "cell_type": "code",
   "execution_count": null,
   "id": "eaed6edc-7467-4ba7-b219-9db7483066ae",
   "metadata": {},
   "outputs": [],
   "source": []
  },
  {
   "cell_type": "code",
   "execution_count": null,
   "id": "76916b3c-104b-4ff2-a066-1253df021c0d",
   "metadata": {},
   "outputs": [],
   "source": []
  },
  {
   "cell_type": "code",
   "execution_count": null,
   "id": "97a6a523-8d00-439b-8a1e-f4709678f973",
   "metadata": {},
   "outputs": [],
   "source": []
  },
  {
   "cell_type": "markdown",
   "id": "00f602c1-daba-41e5-a02d-7d38b4ff56a6",
   "metadata": {},
   "source": [
    "## drop a digit"
   ]
  },
  {
   "cell_type": "code",
   "execution_count": null,
   "id": "e3111d6d-cfe9-4c4d-95fb-3186504d2eb2",
   "metadata": {},
   "outputs": [],
   "source": [
    "def dropDigit(n):\n",
    "    return n // 10"
   ]
  },
  {
   "cell_type": "code",
   "execution_count": null,
   "id": "8539e2c8-ce19-4e91-898c-79c9e28d9b31",
   "metadata": {},
   "outputs": [],
   "source": []
  },
  {
   "cell_type": "code",
   "execution_count": null,
   "id": "5675f4b5-c8f3-40d6-b103-1a26dedb27a0",
   "metadata": {},
   "outputs": [],
   "source": []
  },
  {
   "cell_type": "code",
   "execution_count": null,
   "id": "b760b52b-1dcb-4aa0-9b97-8000b32df0f5",
   "metadata": {},
   "outputs": [],
   "source": []
  },
  {
   "cell_type": "markdown",
   "id": "d7e682f9-8b61-4ea0-be1e-bef3077a207b",
   "metadata": {},
   "source": [
    "## pi helper"
   ]
  },
  {
   "cell_type": "code",
   "execution_count": 65,
   "id": "6f302a95-38b3-4f5f-8dc1-421062d1b1cf",
   "metadata": {},
   "outputs": [
    {
     "data": {
      "text/plain": [
       "'3.14159265358979323846264338327950288419716939937510582097494459230781640628620899862803482534211706'"
      ]
     },
     "execution_count": 65,
     "metadata": {},
     "output_type": "execute_result"
    }
   ],
   "source": [
    "import mpmath\n",
    "\n",
    "mpmath.dps = 10 # could be any length\n",
    "pi_str = str(mpmath.pi)\n",
    "\n",
    "pi_str[0:100]"
   ]
  },
  {
   "cell_type": "code",
   "execution_count": null,
   "id": "0e535c4f-9881-4526-af6e-3851c5b311a6",
   "metadata": {},
   "outputs": [],
   "source": []
  },
  {
   "cell_type": "code",
   "execution_count": null,
   "id": "f2b39a5a-de83-4caa-8a9f-93525c5d5b7c",
   "metadata": {},
   "outputs": [],
   "source": []
  },
  {
   "cell_type": "markdown",
   "id": "a456b7d6-7859-4014-bc19-d8536f1a5000",
   "metadata": {},
   "source": [
    "## list comprehension"
   ]
  },
  {
   "cell_type": "code",
   "execution_count": null,
   "id": "af6dfb69-e344-4130-acee-e5744e66fc37",
   "metadata": {},
   "outputs": [],
   "source": []
  },
  {
   "cell_type": "code",
   "execution_count": null,
   "id": "20dee7f3-799d-4886-80f6-13f2cc203d47",
   "metadata": {},
   "outputs": [],
   "source": []
  },
  {
   "cell_type": "code",
   "execution_count": null,
   "id": "05516bcf-fea3-4eb9-8c8b-05ab4fa24d97",
   "metadata": {},
   "outputs": [],
   "source": []
  },
  {
   "cell_type": "code",
   "execution_count": null,
   "id": "c0efefd6-8290-46b1-a01d-79d19c0d944b",
   "metadata": {},
   "outputs": [],
   "source": []
  },
  {
   "cell_type": "code",
   "execution_count": null,
   "id": "2dc349a0-a126-4207-b247-d22c7c8b2c86",
   "metadata": {},
   "outputs": [],
   "source": []
  }
 ],
 "metadata": {
  "kernelspec": {
   "display_name": "Python 3 (ipykernel)",
   "language": "python",
   "name": "python3"
  },
  "language_info": {
   "codemirror_mode": {
    "name": "ipython",
    "version": 3
   },
   "file_extension": ".py",
   "mimetype": "text/x-python",
   "name": "python",
   "nbconvert_exporter": "python",
   "pygments_lexer": "ipython3",
   "version": "3.12.4"
  }
 },
 "nbformat": 4,
 "nbformat_minor": 5
}
