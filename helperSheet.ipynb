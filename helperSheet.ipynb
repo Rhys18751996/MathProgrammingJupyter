{
 "cells": [
  {
   "cell_type": "markdown",
   "id": "63accd27-0f6c-47a9-838d-4b3f24e98aa6",
   "metadata": {},
   "source": [
    "## Imports"
   ]
  },
  {
   "cell_type": "code",
   "execution_count": 3,
   "id": "57020d87-6de1-4560-8980-da31562c5063",
   "metadata": {},
   "outputs": [],
   "source": [
    "import math\n",
    "import numpy as np\n",
    "import sympy as sp\n",
    "import matplotlib.pyplot as plt\n",
    "import nltk\n",
    "#nltk.download()\n",
    "import mpmath # more precise math functions/definitions"
   ]
  },
  {
   "cell_type": "code",
   "execution_count": 4,
   "id": "dbab175b-45ab-4eb3-9310-2703fd48f2c1",
   "metadata": {},
   "outputs": [],
   "source": [
    "from nltk.book import text2"
   ]
  },
  {
   "cell_type": "code",
   "execution_count": null,
   "id": "8af8e397-731b-4ade-a711-4a5a2dc740aa",
   "metadata": {},
   "outputs": [],
   "source": []
  },
  {
   "cell_type": "code",
   "execution_count": null,
   "id": "5a5a9bb9-a43e-4171-b56f-4e5ec150849a",
   "metadata": {},
   "outputs": [],
   "source": []
  },
  {
   "cell_type": "markdown",
   "id": "c2f22d98-3eef-47db-91ce-7b41f23a5ef1",
   "metadata": {},
   "source": [
    "## Sympy Symbols"
   ]
  },
  {
   "cell_type": "code",
   "execution_count": 9,
   "id": "0bc070dc-2e53-4731-8f86-9fd09a064466",
   "metadata": {},
   "outputs": [
    {
     "data": {
      "text/latex": [
       "$\\displaystyle \\left(x + y\\right)^{2}$"
      ],
      "text/plain": [
       "(x + y)**2"
      ]
     },
     "execution_count": 9,
     "metadata": {},
     "output_type": "execute_result"
    }
   ],
   "source": [
    "import sympy\n",
    "x = sympy.symbols('x')\n",
    "y = sympy.symbols('y')\n",
    "sympy.factor(x**2 + 2*x*y + y**2)"
   ]
  },
  {
   "cell_type": "code",
   "execution_count": 7,
   "id": "959f4c63-56f1-40c9-9acb-2aac31fb7f84",
   "metadata": {},
   "outputs": [
    {
     "data": {
      "text/latex": [
       "$\\displaystyle x^{2} + 2 x y + y^{2}$"
      ],
      "text/plain": [
       "x**2 + 2*x*y + y**2"
      ]
     },
     "execution_count": 7,
     "metadata": {},
     "output_type": "execute_result"
    }
   ],
   "source": [
    "sympy.expand((x+y)**2)"
   ]
  },
  {
   "cell_type": "code",
   "execution_count": null,
   "id": "bedd5776-058b-449c-b696-7eca8ff07a6b",
   "metadata": {},
   "outputs": [],
   "source": []
  },
  {
   "cell_type": "code",
   "execution_count": null,
   "id": "36db7445-d857-461e-97b4-90a59d83fc28",
   "metadata": {},
   "outputs": [],
   "source": []
  },
  {
   "cell_type": "code",
   "execution_count": null,
   "id": "c2922086-5b84-49a2-b805-9af34312ea4b",
   "metadata": {},
   "outputs": [],
   "source": []
  },
  {
   "cell_type": "markdown",
   "id": "bcab8e69-f790-47b4-b0b9-51166b168cf1",
   "metadata": {},
   "source": [
    "## Primes"
   ]
  },
  {
   "cell_type": "code",
   "execution_count": 14,
   "id": "65f2fd1f-4686-4d62-b747-e13d897c8eb1",
   "metadata": {},
   "outputs": [
    {
     "name": "stdout",
     "output_type": "stream",
     "text": [
      "[2, 3, 5, 7, 11, 13, 17, 19, 23, 29, 31, 37, 41, 43, 47, 53, 59, 61, 67, 71, 73, 79, 83, 89, 97]\n"
     ]
    }
   ],
   "source": [
    "# PRIMES\n",
    "import sympy\n",
    "primes = list(sympy.primerange(0, 100))\n",
    "print(primes)"
   ]
  },
  {
   "cell_type": "code",
   "execution_count": 15,
   "id": "8969548d-697b-412b-a8b6-320a8906b5af",
   "metadata": {},
   "outputs": [
    {
     "data": {
      "text/plain": [
       "True"
      ]
     },
     "execution_count": 15,
     "metadata": {},
     "output_type": "execute_result"
    }
   ],
   "source": [
    "sympy.isprime(primes[5])"
   ]
  },
  {
   "cell_type": "code",
   "execution_count": null,
   "id": "8315b197-e9d1-4119-9d32-99b5860edaa5",
   "metadata": {},
   "outputs": [],
   "source": []
  },
  {
   "cell_type": "code",
   "execution_count": null,
   "id": "51d5ff12-a995-47e8-9ee8-8bf4525c6296",
   "metadata": {},
   "outputs": [],
   "source": []
  },
  {
   "cell_type": "code",
   "execution_count": null,
   "id": "3fdde3ad-0982-4847-9c42-de19ec0087f2",
   "metadata": {},
   "outputs": [],
   "source": []
  },
  {
   "cell_type": "markdown",
   "id": "eaec2247-04c6-4c13-abfd-c0d23ad20e0f",
   "metadata": {},
   "source": [
    "## common Math functions"
   ]
  },
  {
   "cell_type": "code",
   "execution_count": null,
   "id": "09030068-1ac3-4e76-bee1-32b5590b7a15",
   "metadata": {},
   "outputs": [],
   "source": [
    "import math\n",
    "math.prod()\n",
    "math.sqrt()\n",
    "sum()\n",
    "math.factorial()"
   ]
  },
  {
   "cell_type": "code",
   "execution_count": null,
   "id": "bc531547-3751-470d-b875-338eaa30f834",
   "metadata": {},
   "outputs": [],
   "source": []
  },
  {
   "cell_type": "markdown",
   "id": "db2b23f8-47c2-4475-9bfa-249bfd91166d",
   "metadata": {},
   "source": [
    "## common Numpy functions"
   ]
  },
  {
   "cell_type": "code",
   "execution_count": 2,
   "id": "8bf0813e-03d6-4265-9d37-3888701fc7fc",
   "metadata": {},
   "outputs": [],
   "source": [
    "import numpy as np\n",
    "\n",
    "# creates a 10x10 array with random numbers, each with a value between 1 and 100\n",
    "arrayA = np.random.randint(low=1, high=100, size=(10, 10))\n",
    "\n",
    "# Generate a 10x10 upper triangular matrix with random nonzero integers\n",
    "A = np.triu(arrayA)\n",
    "\n",
    "# get main diagonal values and put them into a np.Array\n",
    "diagonal_entries = np.diag(A)\n",
    "\n",
    "# does a numpy product of a numpy array\n",
    "product = np.prod(diagonal_entries)"
   ]
  },
  {
   "cell_type": "code",
   "execution_count": null,
   "id": "7ac20381-9f94-46ac-9237-5789d00a42f0",
   "metadata": {},
   "outputs": [],
   "source": []
  },
  {
   "cell_type": "code",
   "execution_count": null,
   "id": "d35a7036-b23b-4e9c-9bbd-2f32998bcf13",
   "metadata": {},
   "outputs": [],
   "source": []
  },
  {
   "cell_type": "markdown",
   "id": "94cd0ba0-bcdc-4358-9577-fed29187f367",
   "metadata": {},
   "source": [
    "## anonymous functions"
   ]
  },
  {
   "cell_type": "code",
   "execution_count": 3,
   "id": "90f25cf4-7a7f-4eff-8a42-c691cc8c5c8e",
   "metadata": {},
   "outputs": [
    {
     "data": {
      "text/plain": [
       "144"
      ]
     },
     "execution_count": 3,
     "metadata": {},
     "output_type": "execute_result"
    }
   ],
   "source": [
    "(lambda x : x**2)(12) # pass 12 into anonymous function return \"x**2\""
   ]
  },
  {
   "cell_type": "code",
   "execution_count": 6,
   "id": "70399d9a-44af-48bf-9e8d-c01a2afef3d9",
   "metadata": {},
   "outputs": [
    {
     "data": {
      "text/plain": [
       "27"
      ]
     },
     "execution_count": 6,
     "metadata": {},
     "output_type": "execute_result"
    }
   ],
   "source": [
    "(lambda x, y, z : x**2 + y**2 + z**2)(3, 3, 3)"
   ]
  },
  {
   "cell_type": "code",
   "execution_count": 10,
   "id": "7c78c08c-7299-4381-ae74-87a0974fa489",
   "metadata": {},
   "outputs": [
    {
     "data": {
      "text/plain": [
       "409"
      ]
     },
     "execution_count": 10,
     "metadata": {},
     "output_type": "execute_result"
    }
   ],
   "source": [
    "(lambda x, y=12, z=16 : x**2 + y**2 + z**2)(3, z=16)"
   ]
  },
  {
   "cell_type": "code",
   "execution_count": 12,
   "id": "d4cc8f59-695c-4f63-9380-31487837f8d8",
   "metadata": {},
   "outputs": [
    {
     "data": {
      "text/plain": [
       "409"
      ]
     },
     "execution_count": 12,
     "metadata": {},
     "output_type": "execute_result"
    }
   ],
   "source": [
    "(lambda x, y=12, z=16 : x**2 + y**2 + z**2)(3)"
   ]
  },
  {
   "cell_type": "code",
   "execution_count": 14,
   "id": "052fd560-1d21-4747-bd24-8483c8c4551b",
   "metadata": {},
   "outputs": [],
   "source": [
    "f = (lambda x, y=12, z=16 : x**2 + y**2 + z**2)"
   ]
  },
  {
   "cell_type": "code",
   "execution_count": null,
   "id": "23f506c7-586c-422e-bb14-2a39b71d6846",
   "metadata": {},
   "outputs": [],
   "source": [
    "(lambda z: sum(z))([1,2,3,4,5])"
   ]
  },
  {
   "cell_type": "code",
   "execution_count": null,
   "id": "bb1ad9cd-9c7f-4685-8d78-6e837c1bb2cd",
   "metadata": {},
   "outputs": [],
   "source": [
    "# to overcome this error..\n",
    "(lambda *z: sum(z))(1,2,3,4,5)\n",
    "\n",
    "# the asterisk \"unpacks\" the seuqence then passes it to the lambda function"
   ]
  },
  {
   "cell_type": "markdown",
   "id": "6cfb59d4-9de5-4d38-bd9b-2633a7fbeb87",
   "metadata": {},
   "source": [
    "## recursive functions"
   ]
  },
  {
   "cell_type": "code",
   "execution_count": null,
   "id": "92f42d9a-37bc-4824-86de-6577323e205e",
   "metadata": {},
   "outputs": [],
   "source": []
  },
  {
   "cell_type": "code",
   "execution_count": null,
   "id": "eaed6edc-7467-4ba7-b219-9db7483066ae",
   "metadata": {},
   "outputs": [],
   "source": []
  },
  {
   "cell_type": "code",
   "execution_count": null,
   "id": "76916b3c-104b-4ff2-a066-1253df021c0d",
   "metadata": {},
   "outputs": [],
   "source": []
  },
  {
   "cell_type": "code",
   "execution_count": null,
   "id": "97a6a523-8d00-439b-8a1e-f4709678f973",
   "metadata": {},
   "outputs": [],
   "source": []
  },
  {
   "cell_type": "markdown",
   "id": "00f602c1-daba-41e5-a02d-7d38b4ff56a6",
   "metadata": {},
   "source": [
    "## drop a digit"
   ]
  },
  {
   "cell_type": "code",
   "execution_count": null,
   "id": "e3111d6d-cfe9-4c4d-95fb-3186504d2eb2",
   "metadata": {},
   "outputs": [],
   "source": [
    "def dropDigit(n):\n",
    "    return n // 10"
   ]
  },
  {
   "cell_type": "code",
   "execution_count": null,
   "id": "8539e2c8-ce19-4e91-898c-79c9e28d9b31",
   "metadata": {},
   "outputs": [],
   "source": []
  },
  {
   "cell_type": "code",
   "execution_count": null,
   "id": "5675f4b5-c8f3-40d6-b103-1a26dedb27a0",
   "metadata": {},
   "outputs": [],
   "source": []
  },
  {
   "cell_type": "code",
   "execution_count": null,
   "id": "b760b52b-1dcb-4aa0-9b97-8000b32df0f5",
   "metadata": {},
   "outputs": [],
   "source": []
  },
  {
   "cell_type": "markdown",
   "id": "d7e682f9-8b61-4ea0-be1e-bef3077a207b",
   "metadata": {},
   "source": [
    "## pi helper"
   ]
  },
  {
   "cell_type": "code",
   "execution_count": 39,
   "id": "6f302a95-38b3-4f5f-8dc1-421062d1b1cf",
   "metadata": {},
   "outputs": [
    {
     "name": "stdout",
     "output_type": "stream",
     "text": [
      "3.141592653589793238462643383279502884197169399375105820974944592307816406286208998628034825342117067982148086513282306647093844609550582231725359408128481117450284102701938521105559644622948954930381964428810975665933446128475648233786783165271201909145648566923460348610454326648213393607260249141273724587006606315588174881520920962829254091715364367892590360011330530548820466521384146951941511609433057270365759591953092186117381932611793105118548074462379962749567351885752724891227938183011949129833673362440656643086021394946395224737190702179860943702770539217176293176752384674818467669405132000568127145263560827785771342757789609173637178721468440901224953430146549585371050792279689258923542019956112129021960864034418159813629774771309960518707211349999998372978049951059731732816096318595024459455346908302642522308253344685035261931188171010003137838752886587533208381420617177669147303598253490428755468731159562863882353787593751957781857780532171226806613001927876611195909216420199\n"
     ]
    }
   ],
   "source": [
    "from mpmath import mp\n",
    "\n",
    "mp.dps = 1000\n",
    "pi_val = str(mp.pi)\n",
    "\n",
    "# Display the first 1000 characters\n",
    "print(pi_val[:10000])"
   ]
  },
  {
   "cell_type": "markdown",
   "id": "a456b7d6-7859-4014-bc19-d8536f1a5000",
   "metadata": {},
   "source": [
    "## list comprehension"
   ]
  },
  {
   "cell_type": "code",
   "execution_count": null,
   "id": "af6dfb69-e344-4130-acee-e5744e66fc37",
   "metadata": {},
   "outputs": [],
   "source": []
  },
  {
   "cell_type": "code",
   "execution_count": null,
   "id": "20dee7f3-799d-4886-80f6-13f2cc203d47",
   "metadata": {},
   "outputs": [],
   "source": []
  },
  {
   "cell_type": "code",
   "execution_count": null,
   "id": "05516bcf-fea3-4eb9-8c8b-05ab4fa24d97",
   "metadata": {},
   "outputs": [],
   "source": []
  },
  {
   "cell_type": "code",
   "execution_count": null,
   "id": "c0efefd6-8290-46b1-a01d-79d19c0d944b",
   "metadata": {},
   "outputs": [],
   "source": []
  },
  {
   "cell_type": "markdown",
   "id": "6c9e3554-7c3d-488f-8cbc-6eb4e355bfd8",
   "metadata": {},
   "source": [
    "## Searching a string(list) for something"
   ]
  },
  {
   "cell_type": "code",
   "execution_count": 48,
   "id": "21e1b938-7740-4016-8ded-63faf4c1ee5c",
   "metadata": {},
   "outputs": [
    {
     "name": "stdout",
     "output_type": "stream",
     "text": [
      "'is' was found begining at index 9\n"
     ]
    }
   ],
   "source": [
    "myString = \"laughter is the key to something\"\n",
    "# get tht length of the pi string for the loop\n",
    "lengthOfPiStr = len(pi_str[:numOfplaces])\n",
    "\n",
    "searchWord = \"is\"\n",
    "\n",
    "i = 0\n",
    "while i < len(myString):\n",
    "    if myString[i : i+len(searchWord)] == searchWord:\n",
    "        print(f\"'{myString[i : i+len(searchWord)]}' was found begining at index {i}\")\n",
    "    i += 1"
   ]
  },
  {
   "cell_type": "code",
   "execution_count": null,
   "id": "40e25a0a-4f18-4880-81b7-799e8f2c9a87",
   "metadata": {},
   "outputs": [],
   "source": []
  },
  {
   "cell_type": "code",
   "execution_count": null,
   "id": "e6c775bd-c27e-47c7-bad3-d97538107ec1",
   "metadata": {},
   "outputs": [],
   "source": []
  }
 ],
 "metadata": {
  "kernelspec": {
   "display_name": "Python 3 (ipykernel)",
   "language": "python",
   "name": "python3"
  },
  "language_info": {
   "codemirror_mode": {
    "name": "ipython",
    "version": 3
   },
   "file_extension": ".py",
   "mimetype": "text/x-python",
   "name": "python",
   "nbconvert_exporter": "python",
   "pygments_lexer": "ipython3",
   "version": "3.12.4"
  }
 },
 "nbformat": 4,
 "nbformat_minor": 5
}
