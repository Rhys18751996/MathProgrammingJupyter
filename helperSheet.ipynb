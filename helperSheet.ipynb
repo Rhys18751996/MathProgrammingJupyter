{
 "cells": [
  {
   "cell_type": "markdown",
   "id": "63accd27-0f6c-47a9-838d-4b3f24e98aa6",
   "metadata": {},
   "source": [
    "# Imports"
   ]
  },
  {
   "cell_type": "code",
   "execution_count": 5,
   "id": "57020d87-6de1-4560-8980-da31562c5063",
   "metadata": {},
   "outputs": [],
   "source": [
    "import math\n",
    "import numpy as np\n",
    "import sympy as sp\n",
    "import matplotlib.pyplot as plt\n",
    "import nltk\n",
    "#nltk.download()\n",
    "import mpmath # more precise math functions/definitions\n",
    "from PIL import Image\n",
    "from functools import reduce"
   ]
  },
  {
   "cell_type": "code",
   "execution_count": 4,
   "id": "dbab175b-45ab-4eb3-9310-2703fd48f2c1",
   "metadata": {},
   "outputs": [],
   "source": [
    "from nltk.book import text2"
   ]
  },
  {
   "cell_type": "code",
   "execution_count": null,
   "id": "8af8e397-731b-4ade-a711-4a5a2dc740aa",
   "metadata": {},
   "outputs": [],
   "source": []
  },
  {
   "cell_type": "code",
   "execution_count": null,
   "id": "5a5a9bb9-a43e-4171-b56f-4e5ec150849a",
   "metadata": {},
   "outputs": [],
   "source": []
  },
  {
   "cell_type": "markdown",
   "id": "c2f22d98-3eef-47db-91ce-7b41f23a5ef1",
   "metadata": {},
   "source": [
    "# Sympy Symbols"
   ]
  },
  {
   "cell_type": "code",
   "execution_count": 33,
   "id": "0bc070dc-2e53-4731-8f86-9fd09a064466",
   "metadata": {},
   "outputs": [],
   "source": [
    "import sympy\n",
    "x = sympy.symbols('x')\n",
    "y = sympy.symbols('y')\n",
    "# or\n",
    "x, y, z = sympy.symbols('x y z')"
   ]
  },
  {
   "cell_type": "code",
   "execution_count": 34,
   "id": "6984ab8f-9c45-402f-ad2b-4825e720ed6c",
   "metadata": {},
   "outputs": [
    {
     "data": {
      "text/latex": [
       "$\\displaystyle \\left(x + y\\right)^{2}$"
      ],
      "text/plain": [
       "(x + y)**2"
      ]
     },
     "execution_count": 34,
     "metadata": {},
     "output_type": "execute_result"
    }
   ],
   "source": [
    "sympy.factor(x**2 + 2*x*y + y**2)"
   ]
  },
  {
   "cell_type": "code",
   "execution_count": 35,
   "id": "959f4c63-56f1-40c9-9acb-2aac31fb7f84",
   "metadata": {},
   "outputs": [
    {
     "data": {
      "text/latex": [
       "$\\displaystyle x^{2} + 2 x y + y^{2}$"
      ],
      "text/plain": [
       "x**2 + 2*x*y + y**2"
      ]
     },
     "execution_count": 35,
     "metadata": {},
     "output_type": "execute_result"
    }
   ],
   "source": [
    "sympy.expand((x+y)**2)"
   ]
  },
  {
   "cell_type": "code",
   "execution_count": 22,
   "id": "bedd5776-058b-449c-b696-7eca8ff07a6b",
   "metadata": {},
   "outputs": [
    {
     "data": {
      "text/plain": [
       "(x0, x1, x2, x3, x4, x5, x6, x7, x8, x9)"
      ]
     },
     "execution_count": 22,
     "metadata": {},
     "output_type": "execute_result"
    }
   ],
   "source": [
    "sympy.symbols('x:10')"
   ]
  },
  {
   "cell_type": "markdown",
   "id": "7e06ab6f-a74e-4b86-b47f-6171e5ec8310",
   "metadata": {},
   "source": [
    "# nth root"
   ]
  },
  {
   "cell_type": "markdown",
   "id": "35c8fd1e-f41a-4eb2-a587-5ca719fdff69",
   "metadata": {},
   "source": [
    "$\\sqrt[4]{81}$"
   ]
  },
  {
   "cell_type": "code",
   "execution_count": 6,
   "id": "fb4aea8d-4b43-4e4a-9a4d-af083f11d3a3",
   "metadata": {},
   "outputs": [
    {
     "data": {
      "text/plain": [
       "3.0"
      ]
     },
     "execution_count": 6,
     "metadata": {},
     "output_type": "execute_result"
    }
   ],
   "source": [
    "import math\n",
    "math.pow(81, 1/4)"
   ]
  },
  {
   "cell_type": "code",
   "execution_count": 1,
   "id": "502d2981-d9fa-4cf8-9b4b-11ef9a555fa4",
   "metadata": {},
   "outputs": [
    {
     "data": {
      "text/plain": [
       "81"
      ]
     },
     "execution_count": 1,
     "metadata": {},
     "output_type": "execute_result"
    }
   ],
   "source": [
    "3**4"
   ]
  },
  {
   "cell_type": "markdown",
   "id": "bcab8e69-f790-47b4-b0b9-51166b168cf1",
   "metadata": {},
   "source": [
    "# Primes"
   ]
  },
  {
   "cell_type": "code",
   "execution_count": 14,
   "id": "65f2fd1f-4686-4d62-b747-e13d897c8eb1",
   "metadata": {},
   "outputs": [
    {
     "name": "stdout",
     "output_type": "stream",
     "text": [
      "[2, 3, 5, 7, 11, 13, 17, 19, 23, 29, 31, 37, 41, 43, 47, 53, 59, 61, 67, 71, 73, 79, 83, 89, 97]\n"
     ]
    }
   ],
   "source": [
    "# PRIMES\n",
    "import sympy\n",
    "primes = list(sympy.primerange(0, 100))\n",
    "print(primes)"
   ]
  },
  {
   "cell_type": "code",
   "execution_count": 13,
   "id": "51d5ff12-a995-47e8-9ee8-8bf4525c6296",
   "metadata": {},
   "outputs": [],
   "source": [
    "def primeQ(n):\n",
    "    if n==0 or n==1:\n",
    "        return False\n",
    "    elif n==2:\n",
    "        return True\n",
    "    elif n % 2==0:\n",
    "        return False\n",
    "    for i in range(3, n//2+1):\n",
    "        if n % i == 0:\n",
    "            return False\n",
    "    return True"
   ]
  },
  {
   "cell_type": "code",
   "execution_count": 19,
   "id": "8969548d-697b-412b-a8b6-320a8906b5af",
   "metadata": {},
   "outputs": [
    {
     "data": {
      "text/plain": [
       "True"
      ]
     },
     "execution_count": 19,
     "metadata": {},
     "output_type": "execute_result"
    }
   ],
   "source": [
    "# test if number is prime \n",
    "import sympy\n",
    "sympy.isprime(19)"
   ]
  },
  {
   "cell_type": "code",
   "execution_count": 37,
   "id": "3fdde3ad-0982-4847-9c42-de19ec0087f2",
   "metadata": {},
   "outputs": [
    {
     "name": "stdout",
     "output_type": "stream",
     "text": [
      "19\n"
     ]
    }
   ],
   "source": [
    "# get the nth number prime\n",
    "import sympy\n",
    "print(sympy.prime(8))"
   ]
  },
  {
   "cell_type": "markdown",
   "id": "eaec2247-04c6-4c13-abfd-c0d23ad20e0f",
   "metadata": {},
   "source": [
    "## common Math functions"
   ]
  },
  {
   "cell_type": "code",
   "execution_count": null,
   "id": "09030068-1ac3-4e76-bee1-32b5590b7a15",
   "metadata": {},
   "outputs": [],
   "source": [
    "import math\n",
    "math.prod()\n",
    "math.sqrt()\n",
    "sum()\n",
    "math.factorial()\n",
    "math.pow()"
   ]
  },
  {
   "cell_type": "markdown",
   "id": "db2b23f8-47c2-4475-9bfa-249bfd91166d",
   "metadata": {},
   "source": [
    "## common Numpy functions"
   ]
  },
  {
   "cell_type": "code",
   "execution_count": 2,
   "id": "8bf0813e-03d6-4265-9d37-3888701fc7fc",
   "metadata": {},
   "outputs": [],
   "source": [
    "import numpy as np\n",
    "\n",
    "# creates a 10x10 array with random numbers, each with a value between 1 and 100\n",
    "arrayA = np.random.randint(low=1, high=100, size=(10, 10))\n",
    "\n",
    "# Generate a 10x10 upper triangular matrix with random nonzero integers\n",
    "A = np.triu(arrayA)\n",
    "\n",
    "# get main diagonal values and put them into a np.Array\n",
    "diagonal_entries = np.diag(A)\n",
    "\n",
    "# does a numpy product of a numpy array\n",
    "product = np.prod(diagonal_entries)"
   ]
  },
  {
   "cell_type": "markdown",
   "id": "94cd0ba0-bcdc-4358-9577-fed29187f367",
   "metadata": {},
   "source": [
    "# anonymous functions"
   ]
  },
  {
   "cell_type": "code",
   "execution_count": 3,
   "id": "90f25cf4-7a7f-4eff-8a42-c691cc8c5c8e",
   "metadata": {},
   "outputs": [
    {
     "data": {
      "text/plain": [
       "144"
      ]
     },
     "execution_count": 3,
     "metadata": {},
     "output_type": "execute_result"
    }
   ],
   "source": [
    "(lambda x : x**2)(12) # pass 12 into anonymous function return \"x**2\""
   ]
  },
  {
   "cell_type": "code",
   "execution_count": 6,
   "id": "70399d9a-44af-48bf-9e8d-c01a2afef3d9",
   "metadata": {},
   "outputs": [
    {
     "data": {
      "text/plain": [
       "27"
      ]
     },
     "execution_count": 6,
     "metadata": {},
     "output_type": "execute_result"
    }
   ],
   "source": [
    "(lambda x, y, z : x**2 + y**2 + z**2)(3, 3, 3)"
   ]
  },
  {
   "cell_type": "code",
   "execution_count": 10,
   "id": "7c78c08c-7299-4381-ae74-87a0974fa489",
   "metadata": {},
   "outputs": [
    {
     "data": {
      "text/plain": [
       "409"
      ]
     },
     "execution_count": 10,
     "metadata": {},
     "output_type": "execute_result"
    }
   ],
   "source": [
    "(lambda x, y=12, z=16 : x**2 + y**2 + z**2)(3, z=16)"
   ]
  },
  {
   "cell_type": "code",
   "execution_count": 12,
   "id": "d4cc8f59-695c-4f63-9380-31487837f8d8",
   "metadata": {},
   "outputs": [
    {
     "data": {
      "text/plain": [
       "409"
      ]
     },
     "execution_count": 12,
     "metadata": {},
     "output_type": "execute_result"
    }
   ],
   "source": [
    "(lambda x, y=12, z=16 : x**2 + y**2 + z**2)(3)"
   ]
  },
  {
   "cell_type": "code",
   "execution_count": 14,
   "id": "052fd560-1d21-4747-bd24-8483c8c4551b",
   "metadata": {},
   "outputs": [],
   "source": [
    "f = (lambda x, y=12, z=16 : x**2 + y**2 + z**2)"
   ]
  },
  {
   "cell_type": "code",
   "execution_count": null,
   "id": "23f506c7-586c-422e-bb14-2a39b71d6846",
   "metadata": {},
   "outputs": [],
   "source": [
    "(lambda z: sum(z))([1,2,3,4,5])"
   ]
  },
  {
   "cell_type": "code",
   "execution_count": null,
   "id": "bb1ad9cd-9c7f-4685-8d78-6e837c1bb2cd",
   "metadata": {},
   "outputs": [],
   "source": [
    "# to overcome this error..\n",
    "(lambda *z: sum(z))(1,2,3,4,5)\n",
    "\n",
    "# the asterisk \"unpacks\" the seuqence then passes it to the lambda function"
   ]
  },
  {
   "cell_type": "markdown",
   "id": "4ebfe48c-40e5-4317-bf2a-2b9a6226fcb1",
   "metadata": {},
   "source": [
    "# list(filter())\n",
    "keeps all elements in an iterable that which the applied condition returns true"
   ]
  },
  {
   "cell_type": "code",
   "execution_count": 5,
   "id": "60404322-bf9d-4b9d-9b36-76d091c3d077",
   "metadata": {},
   "outputs": [
    {
     "data": {
      "text/plain": [
       "[77, 154, 231, 308, 385, 462]"
      ]
     },
     "execution_count": 5,
     "metadata": {},
     "output_type": "execute_result"
    }
   ],
   "source": [
    "# write a program to find all the numbers up to 500 divisble by 7 and 11\n",
    "result = list(filter(lambda x: (x%7==0) and (x%11==0), range(1,501)))\n",
    "result"
   ]
  },
  {
   "cell_type": "code",
   "execution_count": 7,
   "id": "db359669-caef-49a5-b13a-632eb2bcfb94",
   "metadata": {},
   "outputs": [
    {
     "data": {
      "text/plain": [
       "[2, 3, 5, 7, 11, 13, 17, 19, 23, 29, 31, 37, 41, 43, 47]"
      ]
     },
     "execution_count": 7,
     "metadata": {},
     "output_type": "execute_result"
    }
   ],
   "source": [
    "import sympy\n",
    "# filter a list, keep all primes from a list of numbers up to 50\n",
    "list(filter(sympy.isprime, range(1,51)))\n"
   ]
  },
  {
   "cell_type": "markdown",
   "id": "347fad3c-5eec-4e50-8832-10f28d31988b",
   "metadata": {},
   "source": [
    "# list(map())\n",
    "map(func, *iterables) --> map object"
   ]
  },
  {
   "cell_type": "code",
   "execution_count": 6,
   "id": "27e9eae4-7d58-4675-be65-a56a41597f06",
   "metadata": {},
   "outputs": [
    {
     "data": {
      "text/plain": [
       "[1, 4, 9, 16, 25]"
      ]
     },
     "execution_count": 6,
     "metadata": {},
     "output_type": "execute_result"
    }
   ],
   "source": [
    "list(map(lambda x : x**2, (1,2,3,4,5)))"
   ]
  },
  {
   "cell_type": "markdown",
   "id": "d6cb7fa9-eb18-4574-aa36-175ba8a3035b",
   "metadata": {},
   "source": [
    "Calculate the sine of the values $\\pi$, $\\pi/2$, $\\pi/5$, $\\pi/10$"
   ]
  },
  {
   "cell_type": "code",
   "execution_count": 7,
   "id": "f1417fd0-9c68-41d9-ac06-dd52c7e68bee",
   "metadata": {},
   "outputs": [
    {
     "data": {
      "text/plain": [
       "[1.2246467991473532e-16, 1.0, 0.5877852522924731, 0.3090169943749474]"
      ]
     },
     "execution_count": 7,
     "metadata": {},
     "output_type": "execute_result"
    }
   ],
   "source": [
    "import math\n",
    "list(map(lambda x : math.sin(x), [math.pi, math.pi/2, math.pi/5, math.pi/10]))"
   ]
  },
  {
   "cell_type": "markdown",
   "id": "60e2c8bf-493d-4c90-aa32-b7ad10a0d8f5",
   "metadata": {},
   "source": [
    "# reduce \n",
    "reduces the iterable cumulatively, from left to right, to get a single result"
   ]
  },
  {
   "cell_type": "code",
   "execution_count": 15,
   "id": "36f382b2-64e6-47b9-9a7e-a0761639abb2",
   "metadata": {},
   "outputs": [
    {
     "data": {
      "text/latex": [
       "$\\displaystyle \\left(\\left(\\left(\\left(\\left(x^{y}\\right)^{z}\\right)^{x}\\right)^{y}\\right)^{z}\\right)^{y}$"
      ],
      "text/plain": [
       "(((((x**y)**z)**x)**y)**z)**y"
      ]
     },
     "execution_count": 15,
     "metadata": {},
     "output_type": "execute_result"
    }
   ],
   "source": [
    "from functools import reduce\n",
    "import sympy\n",
    "\n",
    "x,y,z = sympy.symbols('x y z')\n",
    "reduce(lambda a,b : a**b, [x,y,z,x,y,z,y])"
   ]
  },
  {
   "cell_type": "code",
   "execution_count": 14,
   "id": "0a243573-869e-4a15-b6d4-6522861bc1f1",
   "metadata": {},
   "outputs": [
    {
     "data": {
      "text/plain": [
       "5050"
      ]
     },
     "execution_count": 14,
     "metadata": {},
     "output_type": "execute_result"
    }
   ],
   "source": [
    "# write code to get the sum of the numbers from 1 to 100\n",
    "reduce(lambda a,b : a+b, range(1,101))"
   ]
  },
  {
   "cell_type": "code",
   "execution_count": 24,
   "id": "3dcaa9ba-0fe7-4c19-beb8-5ceef5481985",
   "metadata": {},
   "outputs": [
    {
     "data": {
      "text/latex": [
       "$\\displaystyle a + b + c + d + e + f + g$"
      ],
      "text/plain": [
       "a + b + c + d + e + f + g"
      ]
     },
     "execution_count": 24,
     "metadata": {},
     "output_type": "execute_result"
    }
   ],
   "source": [
    "import sympy\n",
    "a,b,c,d,e,f,g = sympy.symbols('a b c d e f g')\n",
    "reduce(lambda a,b : a+b, [a,b,c,d,e,f,g])\n"
   ]
  },
  {
   "cell_type": "markdown",
   "id": "6cfb59d4-9de5-4d38-bd9b-2633a7fbeb87",
   "metadata": {},
   "source": [
    "# recursive functions"
   ]
  },
  {
   "cell_type": "code",
   "execution_count": 25,
   "id": "92f42d9a-37bc-4824-86de-6577323e205e",
   "metadata": {},
   "outputs": [
    {
     "name": "stdout",
     "output_type": "stream",
     "text": [
      "1 + 1/(1 + 1/(1 + 1/(1 + 1/(x + 1))))\n"
     ]
    }
   ],
   "source": [
    "# recursive approach, while loop\n",
    "def continued_fraction_recursive(x, n):\n",
    "    while n != 1:\n",
    "        return 1 + 1 / continued_fraction_recursive(x, n - 1)\n",
    "    return 1 + x; # the most inner equation\n",
    "    \n",
    "# Example usage:\n",
    "x = sympy.symbols('x') # replace with whatever x is valued\n",
    "n = 5 # number of recursions\n",
    "print(continued_fraction_recursive(x, n))"
   ]
  },
  {
   "cell_type": "code",
   "execution_count": 26,
   "id": "eaed6edc-7467-4ba7-b219-9db7483066ae",
   "metadata": {},
   "outputs": [
    {
     "name": "stdout",
     "output_type": "stream",
     "text": [
      "1 + 1/(1 + 1/(1 + 1/(x + 1)))\n"
     ]
    }
   ],
   "source": [
    "# recursive approach, if else\n",
    "def continued_fraction_recursive(x, n):\n",
    "    if n == 1:\n",
    "        return 1 + x # the most inner equation\n",
    "    else:\n",
    "        return 1 + 1 / continued_fraction_recursive(x, (n-1))\n",
    "\n",
    "# Example usage:\n",
    "x = sympy.symbols('x') # replace with whatever x is valued\n",
    "n = 4 # number of recursions\n",
    "print(continued_fraction_recursive(x, n))"
   ]
  },
  {
   "cell_type": "code",
   "execution_count": 27,
   "id": "76916b3c-104b-4ff2-a066-1253df021c0d",
   "metadata": {},
   "outputs": [
    {
     "data": {
      "text/latex": [
       "$\\displaystyle 1 + \\frac{1}{1 + \\frac{1}{1 + \\frac{1}{1 + \\frac{1}{x}}}}$"
      ],
      "text/plain": [
       "1 + 1/(1 + 1/(1 + 1/(1 + 1/x)))"
      ]
     },
     "execution_count": 27,
     "metadata": {},
     "output_type": "execute_result"
    }
   ],
   "source": [
    "from functools import reduce\n",
    "x, n = sympy.symbols('x n')\n",
    "reduce(lambda x, n: 1/x + 1, (x,n,n,n,n))"
   ]
  },
  {
   "cell_type": "code",
   "execution_count": 30,
   "id": "97a6a523-8d00-439b-8a1e-f4709678f973",
   "metadata": {},
   "outputs": [
    {
     "data": {
      "text/latex": [
       "$\\displaystyle \\left(\\left(\\left(\\left(\\left(x^{y}\\right)^{z}\\right)^{x}\\right)^{y}\\right)^{z}\\right)^{y}$"
      ],
      "text/plain": [
       "(((((x**y)**z)**x)**y)**z)**y"
      ]
     },
     "execution_count": 30,
     "metadata": {},
     "output_type": "execute_result"
    }
   ],
   "source": [
    "from functools import reduce\n",
    "import sympy\n",
    "x,y,z = sympy.symbols('x y z')\n",
    "reduce(lambda a,b : a**b, [x,y,z,x,y,z,y])"
   ]
  },
  {
   "cell_type": "markdown",
   "id": "00f602c1-daba-41e5-a02d-7d38b4ff56a6",
   "metadata": {},
   "source": [
    "# drop a digit"
   ]
  },
  {
   "cell_type": "code",
   "execution_count": null,
   "id": "e3111d6d-cfe9-4c4d-95fb-3186504d2eb2",
   "metadata": {},
   "outputs": [],
   "source": [
    "def dropDigit(n):\n",
    "    return n // 10"
   ]
  },
  {
   "cell_type": "markdown",
   "id": "d7e682f9-8b61-4ea0-be1e-bef3077a207b",
   "metadata": {},
   "source": [
    "# pi helper"
   ]
  },
  {
   "cell_type": "code",
   "execution_count": 52,
   "id": "6f302a95-38b3-4f5f-8dc1-421062d1b1cf",
   "metadata": {},
   "outputs": [
    {
     "name": "stdout",
     "output_type": "stream",
     "text": [
      "3.14159265358979323846264338327950288419716939937510582097494459230781640628620899862803482534211706\n"
     ]
    }
   ],
   "source": [
    "from mpmath import mp\n",
    "\n",
    "mp.dps = 1000\n",
    "pi_val = str(mp.pi)\n",
    "\n",
    "# Display the first 1000 characters\n",
    "print(pi_val[:100])"
   ]
  },
  {
   "cell_type": "markdown",
   "id": "a456b7d6-7859-4014-bc19-d8536f1a5000",
   "metadata": {},
   "source": [
    "# list comprehension"
   ]
  },
  {
   "cell_type": "code",
   "execution_count": 4,
   "id": "af6dfb69-e344-4130-acee-e5744e66fc37",
   "metadata": {},
   "outputs": [
    {
     "data": {
      "text/plain": [
       "3.0"
      ]
     },
     "execution_count": 4,
     "metadata": {},
     "output_type": "execute_result"
    }
   ],
   "source": [
    "import math\n",
    "x = 5\n",
    "result = 1 + sum((1 / (math.sqrt(n-1) + math.sqrt(n))) for n in range(1, x))\n",
    "result"
   ]
  },
  {
   "cell_type": "code",
   "execution_count": 4,
   "id": "e1aebc09-99b4-4623-89fb-feba7a7f4333",
   "metadata": {},
   "outputs": [
    {
     "data": {
      "text/plain": [
       "[0, 6, 12, 18, 24, 30, 36]"
      ]
     },
     "execution_count": 4,
     "metadata": {},
     "output_type": "execute_result"
    }
   ],
   "source": [
    "[2*i for i in range(0,20,3)]"
   ]
  },
  {
   "cell_type": "markdown",
   "id": "05f8915c-8fb2-474d-be7d-4144a6a62a20",
   "metadata": {},
   "source": [
    "$$ \\{2i \\mid <= i < 20, 3 \\mid i\\} $$"
   ]
  },
  {
   "cell_type": "code",
   "execution_count": 15,
   "id": "05516bcf-fea3-4eb9-8c8b-05ab4fa24d97",
   "metadata": {},
   "outputs": [
    {
     "name": "stdout",
     "output_type": "stream",
     "text": [
      "[1, 3, 7, 15, 31, 63, 127, 255, 511, 1023]\n"
     ]
    }
   ],
   "source": [
    "print([2**i-1 for i in range(1,11)])"
   ]
  },
  {
   "cell_type": "markdown",
   "id": "daa9f6f0-98a6-4500-898f-4c3e791a3bd4",
   "metadata": {},
   "source": [
    "$$ \\{2^i-1 \\mid <= i < 20, 3 \\mid i\\} $$"
   ]
  },
  {
   "cell_type": "markdown",
   "id": "32e0a90a-9ff3-4be0-98b2-f9e470c2caa2",
   "metadata": {},
   "source": [
    "generate list $ (x, cos(x)) $ for intervals $ \\{ 0 \\leq x < \\pi \\} $"
   ]
  },
  {
   "cell_type": "code",
   "execution_count": 28,
   "id": "0c3d6f85-c092-43e7-8f5e-9e462cb81884",
   "metadata": {},
   "outputs": [
    {
     "data": {
      "text/plain": [
       "[(0, 1.0),\n",
       " (1, 0.9510565162951535),\n",
       " (2, 0.8090169943749475),\n",
       " (3, 0.5877852522924731),\n",
       " (4, 0.30901699437494745)]"
      ]
     },
     "execution_count": 28,
     "metadata": {},
     "output_type": "execute_result"
    }
   ],
   "source": [
    "import math\n",
    "[(x, math.cos(x/10 * math.pi)) for x in range(0, 5)]"
   ]
  },
  {
   "cell_type": "markdown",
   "id": "22a67bea-db73-4d52-a88a-906f7d454a73",
   "metadata": {},
   "source": [
    "# conditional list comprehension\r\n",
    "write a code to generate all numhbers between 1 and 50 which is divisible by 7"
   ]
  },
  {
   "cell_type": "code",
   "execution_count": 32,
   "id": "1326a7d6-a141-438b-a23b-df1b9f652b9d",
   "metadata": {},
   "outputs": [
    {
     "data": {
      "text/plain": [
       "[7, 14, 21, 28, 35, 42, 49]"
      ]
     },
     "execution_count": 32,
     "metadata": {},
     "output_type": "execute_result"
    }
   ],
   "source": [
    "[i for i in range(1,51) if i%7 == 0]"
   ]
  },
  {
   "cell_type": "code",
   "execution_count": 36,
   "id": "00834428-4b08-4007-84bd-9b1eb8a853ae",
   "metadata": {},
   "outputs": [
    {
     "data": {
      "text/plain": [
       "[77, 154, 231]"
      ]
     },
     "execution_count": 36,
     "metadata": {},
     "output_type": "execute_result"
    }
   ],
   "source": [
    "[n for n in range(1,301) if n%7==0 and n%11==0]"
   ]
  },
  {
   "cell_type": "code",
   "execution_count": 38,
   "id": "9d6d43ed-bee1-4484-a1f1-a915f5bab0b0",
   "metadata": {},
   "outputs": [
    {
     "data": {
      "text/plain": [
       "['sydney', 'western', 20, 4.3, 2333, [2, 4, 4]]"
      ]
     },
     "execution_count": 38,
     "metadata": {},
     "output_type": "execute_result"
    }
   ],
   "source": [
    "# write a code to get all the strings from the list and then get only all the numbers\n",
    "# sort so strings first then numbers afterwords using only list comprehension\n",
    "x = ['sydney', 20, 'western', 4.3, 2333, [2,4,4]]\n",
    "[item for item in x if isinstance(item, str)] + [item for item in x if type(item) != str]"
   ]
  },
  {
   "cell_type": "code",
   "execution_count": 42,
   "id": "7418f062-59a4-486a-809f-4ac68da25283",
   "metadata": {},
   "outputs": [
    {
     "data": {
      "text/plain": [
       "[(3, 4), (20, 21), (119, 120)]"
      ]
     },
     "execution_count": 42,
     "metadata": {},
     "output_type": "execute_result"
    }
   ],
   "source": [
    "# find pythagorean pairs\n",
    "[(m,n) for m in range(1,501) for n in range(m,501) if math.sqrt(m**2+n**2).is_integer() and n == m + 1]"
   ]
  },
  {
   "cell_type": "code",
   "execution_count": 46,
   "id": "7b5ef655-a130-4d29-8f6c-5c9b157f6b4f",
   "metadata": {},
   "outputs": [
    {
     "name": "stdout",
     "output_type": "stream",
     "text": [
      "['less', 'less', 'less', 'less', 'less', 'less', 'less', 'less', 'less', 'less', 'less', 11, 12, 13, 14, 15, 16, 17, 18, 19]\n"
     ]
    }
   ],
   "source": [
    "# if else in list cvomprehension\n",
    "print( [n if n > 10 else 'less' for n in range(20)] )"
   ]
  },
  {
   "cell_type": "code",
   "execution_count": 48,
   "id": "87fb6ea1-921c-41b6-91eb-fd815b8378c3",
   "metadata": {},
   "outputs": [
    {
     "data": {
      "text/plain": [
       "['less', 'less', 'less', 15]"
      ]
     },
     "execution_count": 48,
     "metadata": {},
     "output_type": "execute_result"
    }
   ],
   "source": [
    "[n if n>10 else 'less' for n in range(20) if n%5==0]"
   ]
  },
  {
   "cell_type": "markdown",
   "id": "6c9e3554-7c3d-488f-8cbc-6eb4e355bfd8",
   "metadata": {},
   "source": [
    "# Searching a string(list) for something"
   ]
  },
  {
   "cell_type": "code",
   "execution_count": 48,
   "id": "21e1b938-7740-4016-8ded-63faf4c1ee5c",
   "metadata": {},
   "outputs": [
    {
     "name": "stdout",
     "output_type": "stream",
     "text": [
      "'is' was found begining at index 9\n"
     ]
    }
   ],
   "source": [
    "myString = \"laughter is the key to something\"\n",
    "# get tht length of the pi string for the loop\n",
    "lengthOfPiStr = len(pi_str[:numOfplaces])\n",
    "\n",
    "searchWord = \"is\"\n",
    "\n",
    "i = 0\n",
    "while i < len(myString):\n",
    "    if myString[i : i+len(searchWord)] == searchWord:\n",
    "        print(f\"'{myString[i : i+len(searchWord)]}' was found begining at index {i}\")\n",
    "    i += 1"
   ]
  },
  {
   "cell_type": "markdown",
   "id": "3a0f5235-a014-4183-9dd5-b4839dc972a4",
   "metadata": {},
   "source": [
    "# list splicing"
   ]
  },
  {
   "cell_type": "code",
   "execution_count": null,
   "id": "b2d2a200-0a7a-4dd0-a830-3ce9dc0bac8d",
   "metadata": {},
   "outputs": [],
   "source": [
    "# Get last element in list \n",
    "theList[-1]\n",
    "# Reverse the list\n",
    "theList[::-1]\n",
    "# Get every second list element\n",
    "theList[::2]"
   ]
  },
  {
   "cell_type": "markdown",
   "id": "8b875f2d-345b-4da2-a6bc-66cc7ef67602",
   "metadata": {},
   "source": [
    "# list joining"
   ]
  },
  {
   "cell_type": "code",
   "execution_count": 11,
   "id": "64d202af-8c92-4e35-97fc-f593648f101e",
   "metadata": {},
   "outputs": [
    {
     "data": {
      "text/plain": [
       "'12p4'"
      ]
     },
     "execution_count": 11,
     "metadata": {},
     "output_type": "execute_result"
    }
   ],
   "source": [
    "# takes all the items in list, squishes them together as a string\n",
    "my_list = [1, 2, 'p', 4]\n",
    "''.join(map(str, my_list))"
   ]
  },
  {
   "cell_type": "code",
   "execution_count": 14,
   "id": "3e5cd7b6-f031-49f7-895b-c720d1c0bee5",
   "metadata": {},
   "outputs": [
    {
     "data": {
      "text/plain": [
       "1234"
      ]
     },
     "execution_count": 14,
     "metadata": {},
     "output_type": "execute_result"
    }
   ],
   "source": [
    "# takes all the items in list, squishes them together as a string\n",
    "# then casts the string as an int, if it can\n",
    "my_list = [1, 2, 3, 4]\n",
    "int(''.join(map(str, my_list)))"
   ]
  },
  {
   "cell_type": "markdown",
   "id": "5ba9c925-d110-4380-9944-ab435c928f0d",
   "metadata": {},
   "source": [
    "# proper divisor"
   ]
  },
  {
   "cell_type": "code",
   "execution_count": null,
   "id": "a456f074-863a-4220-8014-e85514793f29",
   "metadata": {},
   "outputs": [],
   "source": [
    "def proper_divisors(num):\n",
    "  divisors = []\n",
    "  for i in range(2, num):\n",
    "    if num % i == 0:\n",
    "      divisors.append(i)\n",
    "  return divisors"
   ]
  },
  {
   "cell_type": "code",
   "execution_count": null,
   "id": "784825df-a9a0-4c95-a3cd-412bbf6069c5",
   "metadata": {},
   "outputs": [],
   "source": []
  },
  {
   "cell_type": "code",
   "execution_count": null,
   "id": "1d355e33-21c2-43dd-a154-141dc39c795d",
   "metadata": {},
   "outputs": [],
   "source": [
    "# create a 3x3 matrix and do something to each coordinate depending on its initial value\n",
    "import math\n",
    "def A(x, y):\n",
    "    matrix = [[],[],[]]\n",
    "    for i in range(3):\n",
    "        for j in range(3):\n",
    "            if(i == j):\n",
    "                matrix[i].append(math.sin(x) + math.cos(y))\n",
    "            else:\n",
    "                matrix[i].append(math.sin(x)**i * math.cos(y)**j)\n",
    "    return matrix\n",
    "\n",
    "# using the previously created function we can create a 3x3 matrix passing in pi and pi/5\n",
    "A = A(math.pi, (math.pi/5))"
   ]
  },
  {
   "cell_type": "code",
   "execution_count": null,
   "id": "de6da1b6-58f9-43c6-8f3a-46e6cb4b9362",
   "metadata": {},
   "outputs": [],
   "source": []
  },
  {
   "cell_type": "code",
   "execution_count": null,
   "id": "2abe0b24-ba36-4adf-a037-6ea04033c055",
   "metadata": {},
   "outputs": [],
   "source": []
  },
  {
   "cell_type": "markdown",
   "id": "ad82d25b-f4cb-4a8c-9fb6-a48eecf28681",
   "metadata": {},
   "source": [
    "## Search strings"
   ]
  },
  {
   "cell_type": "code",
   "execution_count": 1,
   "id": "c9f2ac30-9229-4890-a8a9-6305939b45ab",
   "metadata": {},
   "outputs": [
    {
     "data": {
      "text/plain": [
       "'helloworldIamhere'"
      ]
     },
     "execution_count": 1,
     "metadata": {},
     "output_type": "execute_result"
    }
   ],
   "source": [
    "# join a list of strings together\n",
    "listOfStrings = ['hello', 'world', 'I', 'am', 'here']\n",
    "\n",
    "from functools import reduce\n",
    "x_text = reduce(lambda x, y: ''.join([x,y]), listOfStrings)\n",
    "x_text"
   ]
  },
  {
   "cell_type": "code",
   "execution_count": null,
   "id": "9c9c41e7-3d05-430e-849a-b4fba2666229",
   "metadata": {},
   "outputs": [],
   "source": [
    "# search for a word in a single string\n",
    "def searchWord(theWord, theText):\n",
    "    l_w = len(theWord)\n",
    "    for interval in range(1,100):\n",
    "        for j in range(len(theText)):\n",
    "            if theText[0 + j: l_w * interval + j : interval].lower() == theWord.lower():\n",
    "                print(f'{theWord} appears in the book from {j}th letter with the interval {interval}')\n",
    "\n",
    "word = input('enter a word')\n",
    "searchWord(word, theSingleString)"
   ]
  },
  {
   "cell_type": "markdown",
   "id": "3772ea99-1cc4-4fc9-9397-01abb2d15777",
   "metadata": {},
   "source": [
    "# Plot the graph"
   ]
  },
  {
   "cell_type": "code",
   "execution_count": 19,
   "id": "1bec7f49-3482-44e6-ac3f-de36c336d953",
   "metadata": {},
   "outputs": [
    {
     "data": {
      "image/png": "[encoded data removed]",
      "text/plain": [
       "<Figure size 500x500 with 1 Axes>"
      ]
     },
     "metadata": {},
     "output_type": "display_data"
    },
    {
     "data": {
      "text/plain": [
       "array([ 0.        ,  0.12550584,  0.25101167,  0.37651751,  0.50202335,\n",
       "        0.62752919,  0.75303502,  0.87854086,  1.0040467 ,  1.12955253,\n",
       "        1.25505837,  1.38056421,  1.50607005,  1.63157588,  1.75708172,\n",
       "        1.88258756,  2.00809339,  2.13359923,  2.25910507,  2.38461091,\n",
       "        2.51011674,  2.63562258,  2.76112842,  2.88663425,  3.01214009,\n",
       "        3.13764593,  3.26315177,  3.3886576 ,  3.51416344,  3.63966928,\n",
       "        3.76517511,  3.89068095,  4.01618679,  4.14169263,  4.26719846,\n",
       "        4.3927043 ,  4.51821014,  4.64371598,  4.76922181,  4.89472765,\n",
       "        5.02023349,  5.14573932,  5.27124516,  5.396751  ,  5.52225684,\n",
       "        5.64776267,  5.77326851,  5.89877435,  6.02428018,  6.14978602,\n",
       "        6.27529186,  6.4007977 ,  6.52630353,  6.65180937,  6.77731521,\n",
       "        6.90282104,  7.02832688,  7.15383272,  7.27933856,  7.40484439,\n",
       "        7.53035023,  7.65585607,  7.7813619 ,  7.90686774,  8.03237358,\n",
       "        8.15787942,  8.28338525,  8.40889109,  8.53439693,  8.65990276,\n",
       "        8.7854086 ,  8.91091444,  9.03642028,  9.16192611,  9.28743195,\n",
       "        9.41293779,  9.53844362,  9.66394946,  9.7894553 ,  9.91496114,\n",
       "       10.04046697, 10.16597281, 10.29147865, 10.41698448, 10.54249032,\n",
       "       10.66799616, 10.793502  , 10.91900783, 11.04451367, 11.17001951,\n",
       "       11.29552534, 11.42103118, 11.54653702, 11.67204286, 11.79754869,\n",
       "       11.92305453, 12.04856037, 12.17406621, 12.29957204, 12.42507788,\n",
       "       12.55058372, 12.67608955, 12.80159539, 12.92710123, 13.05260707,\n",
       "       13.1781129 , 13.30361874, 13.42912458, 13.55463041, 13.68013625,\n",
       "       13.80564209, 13.93114793, 14.05665376, 14.1821596 , 14.30766544,\n",
       "       14.43317127, 14.55867711, 14.68418295, 14.80968879, 14.93519462,\n",
       "       15.06070046, 15.1862063 , 15.31171213, 15.43721797, 15.56272381,\n",
       "       15.68822965, 15.81373548, 15.93924132, 16.06474716, 16.19025299,\n",
       "       16.31575883, 16.44126467, 16.56677051, 16.69227634, 16.81778218,\n",
       "       16.94328802, 17.06879385, 17.19429969, 17.31980553, 17.44531137,\n",
       "       17.5708172 , 17.69632304, 17.82182888, 17.94733471, 18.07284055,\n",
       "       18.19834639, 18.32385223, 18.44935806, 18.5748639 , 18.70036974,\n",
       "       18.82587557, 18.95138141, 19.07688725, 19.20239309, 19.32789892,\n",
       "       19.45340476, 19.5789106 , 19.70441644, 19.82992227, 19.95542811,\n",
       "       20.08093395, 20.20643978, 20.33194562, 20.45745146, 20.5829573 ,\n",
       "       20.70846313, 20.83396897, 20.95947481, 21.08498064, 21.21048648,\n",
       "       21.33599232, 21.46149816, 21.58700399, 21.71250983, 21.83801567,\n",
       "       21.9635215 , 22.08902734, 22.21453318, 22.34003902, 22.46554485,\n",
       "       22.59105069, 22.71655653, 22.84206236, 22.9675682 , 23.09307404,\n",
       "       23.21857988, 23.34408571, 23.46959155, 23.59509739, 23.72060322,\n",
       "       23.84610906, 23.9716149 , 24.09712074, 24.22262657, 24.34813241,\n",
       "       24.47363825, 24.59914408, 24.72464992, 24.85015576, 24.9756616 ])"
      ]
     },
     "execution_count": 19,
     "metadata": {},
     "output_type": "execute_result"
    }
   ],
   "source": [
    "import numpy as np\n",
    "import matplotlib.pyplot as plt\n",
    "\n",
    "def f(t):\n",
    "    return 4 * np.cos(-11 * t / 4) + 7 * np.cos(t)\n",
    "#0 is starting point, 8*pi is interval (25.1327), 200 is number of samples \n",
    "t = np.linspace(0, 7.95*np.pi, 200)\n",
    "\n",
    "# Changes the physical size of the graph\n",
    "plt.figure(figsize=(5, 5))\n",
    "\n",
    "# this creates the plot\n",
    "plt.plot(f(t), color='b')\n",
    "\n",
    "# titles and labeling\n",
    "plt.title('Plot of f(t)')\n",
    "plt.ylabel('f(t)')\n",
    "plt.xlabel('x axis')\n",
    "\n",
    "# these are the center axis lines\n",
    "plt.axhline(0, color='black',linewidth=1, ls='--')\n",
    "plt.axvline(0, color='black',linewidth=1, ls='--')\n",
    "# the internal grid of the graph\n",
    "plt.grid(color = 'gray', linestyle = '--', linewidth = 0.5)\n",
    "# make the physical dimensions of graph equal\n",
    "plt.axis('equal')\n",
    "# shows the configured graph\n",
    "plt.show()"
   ]
  },
  {
   "cell_type": "code",
   "execution_count": null,
   "id": "e51384b1-ed4e-4220-a1a3-3780b0d12f1d",
   "metadata": {},
   "outputs": [],
   "source": []
  },
  {
   "cell_type": "code",
   "execution_count": null,
   "id": "36311add-8e47-4980-a6ad-4ae58b8b8cb1",
   "metadata": {},
   "outputs": [],
   "source": []
  },
  {
   "cell_type": "code",
   "execution_count": null,
   "id": "f3c4f011-add2-4115-8a4c-0a97079c7cb7",
   "metadata": {},
   "outputs": [],
   "source": []
  },
  {
   "cell_type": "code",
   "execution_count": null,
   "id": "c21726a0-3f8d-444f-9d81-f4a2b463cea2",
   "metadata": {},
   "outputs": [],
   "source": []
  }
 ],
 "metadata": {
  "kernelspec": {
   "display_name": "Python 3 (ipykernel)",
   "language": "python",
   "name": "python3"
  },
  "language_info": {
   "codemirror_mode": {
    "name": "ipython",
    "version": 3
   },
   "file_extension": ".py",
   "mimetype": "text/x-python",
   "name": "python",
   "nbconvert_exporter": "python",
   "pygments_lexer": "ipython3",
   "version": "3.12.4"
  }
 },
 "nbformat": 4,
 "nbformat_minor": 5
}
