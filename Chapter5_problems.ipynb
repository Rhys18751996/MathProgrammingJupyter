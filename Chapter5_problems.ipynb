{
 "cells": [
  {
   "cell_type": "markdown",
   "id": "4947c24d-d2f8-475c-a68f-34febc73721e",
   "metadata": {},
   "source": [
    "# A Course in Python\n",
    "## Chapter 5 - Problems"
   ]
  },
  {
   "cell_type": "code",
   "execution_count": 10,
   "id": "a12687a4-c70c-4327-87e7-a925212d1d86",
   "metadata": {},
   "outputs": [],
   "source": [
    "import math\n",
    "import numpy as np\n",
    "import sympy as sp\n",
    "import matplotlib.pyplot as plt\n",
    "import nltk"
   ]
  },
  {
   "cell_type": "markdown",
   "id": "c23b2c79-42ba-4d03-a523-f0dbc109919d",
   "metadata": {},
   "source": [
    "1. Investigate whether the following identity holds:\n",
    "\n",
    "\n",
    "$$\n",
    "(1+2+3+\\cdots+n)^{2}=\\left(1^{3}+2^{3}+3^{3}+\\cdots+n^{3}\\right)\n",
    "$$\n",
    "\n",
    "\n",
    "Note: Since we haven't yet worked with symbolic computations in Python, one approach is to check that the above identity holds for various values for $n$."
   ]
  },
  {
   "cell_type": "code",
   "execution_count": 18,
   "id": "82d303a2-51b4-45c1-a05b-907e8f482cce",
   "metadata": {},
   "outputs": [
    {
     "name": "stdout",
     "output_type": "stream",
     "text": [
      "LHS: 36\n",
      "RHS: 36\n"
     ]
    },
    {
     "data": {
      "text/plain": [
       "True"
      ]
     },
     "execution_count": 18,
     "metadata": {},
     "output_type": "execute_result"
    }
   ],
   "source": [
    "n = 3\n",
    "\n",
    "result1 = sum(range(0, n+1))**2\n",
    "print(f\"LHS: {result1}\")\n",
    "    \n",
    "result2 = 0\n",
    "for i in range(0, n+1):\n",
    "    result2 += i**3\n",
    "print(f\"RHS: {result2}\")\n",
    "\n",
    "result1 == result2"
   ]
  },
  {
   "cell_type": "markdown",
   "id": "f4b03b96-c1e6-4b01-92cf-8688f3d7b345",
   "metadata": {},
   "source": [
    "2. Consider the following series:\n",
    "\n",
    "$$\n",
    "\\frac{1 \\times 3}{2 \\times 2} \\frac{3 \\times 5}{4 \\times 4} \\frac{5 \\times 7}{6 \\times 6} \\cdots\n",
    "$$\n",
    "\n",
    "Investigate if this series tends to $2 / \\pi$.   \n",
    "Note: The general term of this series is\n",
    "\n",
    "$$\n",
    "\\frac{(2 n-1)(2 n+1)}{2 n \\times 2 n}\n",
    "$$"
   ]
  },
  {
   "cell_type": "code",
   "execution_count": 32,
   "id": "7149bab2-660a-4b3a-85db-c1cdb52ba933",
   "metadata": {},
   "outputs": [
    {
     "name": "stdout",
     "output_type": "stream",
     "text": [
      "0.9722222222222222\n",
      "0.9722222222222222\n",
      "2/pi = 0.6366197723675814\n"
     ]
    }
   ],
   "source": [
    "import math\n",
    "import sympy\n",
    "n = 3\n",
    "\n",
    "# function style\n",
    "def f(n):\n",
    "    return ( ((2*n) - 1) * ((2*n) + 1) ) / ( (2*n)*(2*n) )\n",
    "print(f(n))   \n",
    "\n",
    "# lambda style\n",
    "print((lambda n : (((2*n) - 1) * ((2*n) + 1) ) / ( (2*n)*(2*n)) )(n))\n",
    "\n",
    "print(f\"2/pi = {2/math.pi}\")"
   ]
  },
  {
   "cell_type": "markdown",
   "id": "8d8f0ac0-bd79-4b37-9c1d-5cc9d6bb0735",
   "metadata": {},
   "source": [
    "3. Given non-negative integers $c_{1}, c_{2}, \\ldots, c_{m}$, with $c_{m} \\neq 0$, define the function\n",
    "\n",
    "$$\n",
    "\\large{f\\left(c_{1}, c_{2}, \\ldots, c_{m}\\right)=c_{1}-\\frac{1}{c_{2}-\\frac{2}{\\cdots-\\frac{m-1}{c_{m}}}}}\n",
    "$$\n",
    "\n",
    "Note that if a denominator happens to become zero, the program should give a warning and stop the execution."
   ]
  },
  {
   "cell_type": "markdown",
   "id": "c170d132-3938-4c82-82e6-0cdbb8e89d60",
   "metadata": {},
   "source": [
    "4. Investigate if\n",
    "\n",
    "$$\n",
    "\\frac{2}{\\pi} = \\frac{\\sqrt{2}}{2} \\cdot \\frac{\\sqrt{2+\\sqrt{2}}}{2} \\cdot \\frac{\\sqrt{2+\\sqrt{2+\\sqrt{2}}}}{2} \\cdots\n",
    "$$"
   ]
  },
  {
   "cell_type": "code",
   "execution_count": 36,
   "id": "31ea2793-3fa2-43dc-a222-ceedcb51804b",
   "metadata": {},
   "outputs": [
    {
     "data": {
      "text/plain": [
       "(0, 1, 2, 3, 4)"
      ]
     },
     "execution_count": 36,
     "metadata": {},
     "output_type": "execute_result"
    }
   ],
   "source": [
    "c = list(range(5))\n",
    "\n",
    "def f(c):\n",
    "   # math.sqrt(2+math.sqrt(2+math.sqrt(2+math.sqrt(2)))) "
   ]
  },
  {
   "cell_type": "code",
   "execution_count": 38,
   "id": "8fad4ef1-ce15-46f0-b3b1-01b0a4d2d005",
   "metadata": {},
   "outputs": [
    {
     "name": "stdout",
     "output_type": "stream",
     "text": [
      "The value of the expression with 10 terms is approximately: 7951461829180084.0000000000\n"
     ]
    }
   ],
   "source": [
    "import math\n",
    "import sympy\n",
    "\n",
    "def nested_sqrt_expression(n):\n",
    "    result = 1.0\n",
    "    for x in range(n):\n",
    "        result *= math.sqrt(2 + result)\n",
    "    return result\n",
    "\n",
    "# Example usage:\n",
    "n_terms = 10  # You can adjust the number of terms\n",
    "result = nested_sqrt_expression(n_terms)\n",
    "print(f\"The value of the expression with {n_terms} terms is approximately: {result:.10f}\")"
   ]
  },
  {
   "cell_type": "markdown",
   "id": "4b31b222-491f-4213-a7f7-5998664d5878",
   "metadata": {},
   "source": [
    "5. An integer $d_{n} d_{n-1} d_{n-2} \\ldots d_{1}$ is palindromic if\n",
    "\n",
    "\n",
    "$$\n",
    "d_{n} d_{n-1} d_{n-2} \\ldots d_{1}=d_{1} d_{2} \\ldots d_{n-1} d_{n}\n",
    "$$\n",
    "\n",
    "\n",
    "(for example 15651). Write a code to ask for a number $d_{n} d_{n-1} d_{n-2} \\ldots d_{1}$ and find out if it is palindromic. Enhance the code further so that if the number is not palindromic then the code tests whether $d_{n} d_{n-1} d_{n-2} \\ldots d_{1}+d_{1} d_{2} \\ldots d_{n-1} d_{n}$ is (for example, 108+801=909). Furthermore, write a code to give the number of times needed to repeat this procedure until one gets a palindromic number, starting with $d_{n} d_{n-1} d_{n-2} \\ldots d_{1}$ (if it takes more than 150 times, let the function return infinity)."
   ]
  },
  {
   "cell_type": "code",
   "execution_count": null,
   "id": "ef3ab320-cf29-4bc0-8d75-ca296dbb640e",
   "metadata": {},
   "outputs": [],
   "source": []
  },
  {
   "cell_type": "markdown",
   "id": "100d425b-2247-408c-bc2c-64ed89fa3d62",
   "metadata": {},
   "source": [
    "6. Write a code to check for every integer $n$ that the following inequality holds:\n",
    "\n",
    "\n",
    "$$\n",
    "\\sqrt{2} \\sqrt[4]{4} \\sqrt[8]{8} \\cdots \\sqrt[2 n]{2^{n}} \\leq n+1\n",
    "$$"
   ]
  },
  {
   "cell_type": "code",
   "execution_count": null,
   "id": "1bef12f2-6992-49d7-bab4-d251d4cc05d3",
   "metadata": {},
   "outputs": [],
   "source": []
  },
  {
   "cell_type": "markdown",
   "id": "da7835f6-d900-42dc-bae9-45d8aa01b96e",
   "metadata": {},
   "source": [
    "7. A happy number is a number such that if one squares its digits and adds them together, and then takes the result and squares its digits and adds them together again, and so on, repeating this process, then one eventually reaches the number 1. Find all the happy ages, i.e., happy numbers up to 100 ."
   ]
  },
  {
   "cell_type": "code",
   "execution_count": null,
   "id": "0bfbccee-dc77-43e1-989f-c8107656e78b",
   "metadata": {},
   "outputs": [],
   "source": []
  },
  {
   "cell_type": "markdown",
   "id": "4abda44d-6885-49db-8fb7-73429851bdbc",
   "metadata": {},
   "source": [
    "8. Consider a positive integer. Sort the decimal digits of this number in ascending and descending order. Calculate the difference of these two numbers (for example, starting from 5742 , we get $7542-2457=5085$ ). This is called the Kaprekar routine. First check that starting with any 4-digit number and repeating the Kaprekar routine, you always reach either 0 or 6174 . Then find out, among all the 4-digit numbers, what is the maximum number of iterations needed in order to get to 6174 ."
   ]
  },
  {
   "cell_type": "code",
   "execution_count": null,
   "id": "89e1d46c-dd43-4882-bc90-b208223d4aea",
   "metadata": {},
   "outputs": [],
   "source": []
  },
  {
   "cell_type": "markdown",
   "id": "1f5bc266-67df-4b2a-aa39-9bd6b89259e9",
   "metadata": {},
   "source": [
    "he maximum number of iterations needed i]]n order to get to 6174 .\r\n",
    "\r\n",
    "9. Explain what the following code does:"
   ]
  },
  {
   "cell_type": "code",
   "execution_count": 11,
   "id": "ec84542f-c166-448b-93c6-89572ee2c9b0",
   "metadata": {},
   "outputs": [
    {
     "data": {
      "text/plain": [
       "[4, 2, 22, 5, 40, 8, 58, 11, 76, 14]"
      ]
     },
     "execution_count": 11,
     "metadata": {},
     "output_type": "execute_result"
    }
   ],
   "source": [
    "[n//2 if n % 2 == 0 else 3*n + 1 for n in range(1,30) if n % 3 == 1]"
   ]
  },
  {
   "cell_type": "markdown",
   "id": "e5e8efcd-242e-4b47-ad52-f771ab8ac837",
   "metadata": {},
   "source": [
    "10. Explain what the following code does:"
   ]
  },
  {
   "cell_type": "code",
   "execution_count": 14,
   "id": "5a931c98-8679-4b97-8053-d128e7207106",
   "metadata": {},
   "outputs": [
    {
     "data": {
      "text/plain": [
       "[['a', 'd', 'g'], ['b', 'e', 'h'], ['c', 'f', 'k']]"
      ]
     },
     "execution_count": 14,
     "metadata": {},
     "output_type": "execute_result"
    }
   ],
   "source": [
    "m = [('a', 'b', 'c'), ('d', 'e', 'f'), ('g', 'h', 'k')]\n",
    "[list(i) for i in zip(*m)]"
   ]
  },
  {
   "cell_type": "markdown",
   "id": "0f2ca642-f1e6-4660-af04-c6c71afa7136",
   "metadata": {},
   "source": [
    "11. We asked ChatGPT to write a code to find Ramanujan's cab number, namely the smallest positive integer that can be written as a sum of two cubes in two different way. The code given is as follows. It does not generate the result, i.e., 1729. Where does the code go wrong?"
   ]
  },
  {
   "cell_type": "code",
   "execution_count": 13,
   "id": "9d75d464-744b-4b6f-b8d8-75026a8f1332",
   "metadata": {},
   "outputs": [
    {
     "name": "stdout",
     "output_type": "stream",
     "text": [
      "The smallest number that can be written as a sum of two cubes in two different ways is: inf\n"
     ]
    }
   ],
   "source": [
    "def find_smallest_sum_of_two_cubed():\n",
    "    # Initialize the smallest sum to a large value\n",
    "    smallest_sum = float('inf')\n",
    "    \n",
    "    # Define the upper limit for the search (You can adjust this if needed)\n",
    "    upper_limit = 1000\n",
    "   \n",
    "    # Dictionary to store the sums of cubes and their corresponding numbers\n",
    "    sums_of_cubes = {}\n",
    "    \n",
    "    for num in range(1, upper_limit):\n",
    "        cube = num**3\n",
    "        \n",
    "        for key in sums_of_cubes:\n",
    "            current_sum = key + cube\n",
    "            \n",
    "            if current_sum in sums_of_cubes:\n",
    "            # Check if the numbers are different to find two different ways\n",
    "                \n",
    "                if sums_of_cubes[current_sum] != num:\n",
    "                # Update the smallest sum if a smaller one is found\n",
    "                \n",
    "                    if current_sum < smallest_sum:\n",
    "                        smallest_sum = current_sum\n",
    "            else:\n",
    "                sums_of_cubes[current_sum] = num\n",
    "                \n",
    "    return smallest_sum\n",
    "                \n",
    "result = find_smallest_sum_of_two_cubed()\n",
    "print(f\"The smallest number that can be written as a sum of two cubes in two different ways is: {result}\")"
   ]
  },
  {
   "cell_type": "code",
   "execution_count": null,
   "id": "98373554-ae9d-4e75-a177-b5d4c15774ec",
   "metadata": {},
   "outputs": [],
   "source": []
  }
 ],
 "metadata": {
  "kernelspec": {
   "display_name": "Python 3 (ipykernel)",
   "language": "python",
   "name": "python3"
  },
  "language_info": {
   "codemirror_mode": {
    "name": "ipython",
    "version": 3
   },
   "file_extension": ".py",
   "mimetype": "text/x-python",
   "name": "python",
   "nbconvert_exporter": "python",
   "pygments_lexer": "ipython3",
   "version": "3.12.4"
  }
 },
 "nbformat": 4,
 "nbformat_minor": 5
}
