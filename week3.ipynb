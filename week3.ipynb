{
 "cells": [
  {
   "cell_type": "code",
   "execution_count": 1,
   "id": "567f00ac-8370-4043-97a3-13904715c792",
   "metadata": {},
   "outputs": [],
   "source": [
    "import math"
   ]
  },
  {
   "cell_type": "code",
   "execution_count": 5,
   "id": "ef12bd30-a033-4f75-b6db-75b27d861c16",
   "metadata": {},
   "outputs": [
    {
     "name": "stdout",
     "output_type": "stream",
     "text": [
      "tested  1 =  25  with a square root of  5.0\n",
      "tested  8 =  7921  with a square root of  89.0\n",
      "tested  15 =  73441  with a square root of  271.0\n",
      "tested  22 =  303601  with a square root of  551.0\n",
      "tested  29 =  863041  with a square root of  929.0\n",
      "tested  36 =  1974025  with a square root of  1405.0\n",
      "tested  43 =  3916441  with a square root of  1979.0\n",
      "tested  50 =  7027801  with a square root of  2651.0\n",
      "tested  57 =  11703241  with a square root of  3421.0\n",
      "tested  64 =  18395521  with a square root of  4289.0\n",
      "tested  71 =  27615025  with a square root of  5255.0\n",
      "tested  78 =  39929761  with a square root of  6319.0\n",
      "tested  85 =  55965361  with a square root of  7481.0\n",
      "tested  92 =  76405081  with a square root of  8741.0\n",
      "tested  99 =  101989801  with a square root of  10099.0\n"
     ]
    }
   ],
   "source": [
    "for n in range(1,100,7):\n",
    "    y = n * (n+1) * (n+2) * (n+3) + 1\n",
    "    math.sqrt(y)\n",
    "    print(\"tested \",n, \"= \", y, \" with a square root of \", math.sqrt(y))"
   ]
  },
  {
   "cell_type": "code",
   "execution_count": null,
   "id": "7b6cbb70-77a8-4e35-b672-e617af1cde2d",
   "metadata": {},
   "outputs": [],
   "source": []
  },
  {
   "cell_type": "raw",
   "id": "b6f6ab11-42f4-44b9-8a9c-206de18da325",
   "metadata": {},
   "source": [
    "len('spam')"
   ]
  },
  {
   "cell_type": "code",
   "execution_count": 8,
   "id": "8cd4c53f-77d9-4fe4-adf3-7fe34b7aef5a",
   "metadata": {},
   "outputs": [
    {
     "name": "stdout",
     "output_type": "stream",
     "text": [
      "s\n",
      "pppppppp\n",
      "aaaaaaaaaaaaaaaaaaaaaaaaaaa\n",
      "mmmmmmmmmmmmmmmmmmmmmmmmmmmmmmmmmmmmmmmmmmmmmmmmmmmmmmmmmmmmmmmm\n"
     ]
    }
   ],
   "source": [
    "for i in range(len('spam')):\n",
    "    print('spam'[i] * (i+1)**3)"
   ]
  },
  {
   "cell_type": "code",
   "execution_count": null,
   "id": "0fd71e1c-8119-45ee-acca-e6af4d03dd9b",
   "metadata": {},
   "outputs": [],
   "source": []
  },
  {
   "cell_type": "code",
   "execution_count": 14,
   "id": "41bafeb4-9376-41cb-a4bc-0845bea56fb1",
   "metadata": {},
   "outputs": [
    {
     "data": {
      "text/plain": [
       "236736"
      ]
     },
     "execution_count": 14,
     "metadata": {},
     "output_type": "execute_result"
    }
   ],
   "source": [
    "from nltk.corpus import words\n",
    "word_list = words.words()\n",
    "len(word_list)"
   ]
  },
  {
   "cell_type": "code",
   "execution_count": 18,
   "id": "3c070cf3-c30a-4594-a58e-475222f86114",
   "metadata": {},
   "outputs": [
    {
     "name": "stdout",
     "output_type": "stream",
     "text": [
      "is palandromic\n"
     ]
    }
   ],
   "source": [
    "# check if palaondromic\n",
    "x = \"kayak\"\n",
    "if(x == x[: : -1]):\n",
    "    print(\"is palandromic\")"
   ]
  },
  {
   "cell_type": "code",
   "execution_count": 20,
   "id": "318c1881-fbf5-4281-a628-06c59d1527ee",
   "metadata": {},
   "outputs": [
    {
     "name": "stdout",
     "output_type": "stream",
     "text": [
      "ajaja is palandromic\n",
      "alala is palandromic\n",
      "alula is palandromic\n",
      "anana is palandromic\n",
      "arara is palandromic\n",
      "civic is palandromic\n",
      "deedeed is palandromic\n",
      "degged is palandromic\n",
      "hallah is palandromic\n",
      "kakkak is palandromic\n",
      "kayak is palandromic\n",
      "kelek is palandromic\n",
      "lemel is palandromic\n",
      "level is palandromic\n",
      "madam is palandromic\n",
      "mesem is palandromic\n",
      "minim is palandromic\n",
      "murdrum is palandromic\n",
      "radar is palandromic\n",
      "redder is palandromic\n",
      "refer is palandromic\n",
      "repaper is palandromic\n",
      "retter is palandromic\n",
      "rever is palandromic\n",
      "reviver is palandromic\n",
      "rotator is palandromic\n",
      "rotor is palandromic\n",
      "siris is palandromic\n",
      "sooloos is palandromic\n",
      "tebbet is palandromic\n",
      "tenet is palandromic\n",
      "terret is palandromic\n",
      "ululu is palandromic\n",
      "yaray is palandromic\n",
      "level is palandromic\n"
     ]
    }
   ],
   "source": [
    "for word in word_list:\n",
    "    if((len(word) > 4) and (word == word[: : -1])):\n",
    "        print(f\"{word} is palandromic\")"
   ]
  },
  {
   "cell_type": "code",
   "execution_count": 25,
   "id": "3f07863a-3dee-4b0b-bd16-bb597d34d509",
   "metadata": {},
   "outputs": [
    {
     "data": {
      "text/plain": [
       "[10, 8, 6, 4, 2]"
      ]
     },
     "execution_count": 25,
     "metadata": {},
     "output_type": "execute_result"
    }
   ],
   "source": [
    "x = [1,2,3,4,5,6,7,8,9,10]\n",
    "x[11:0:-2]"
   ]
  },
  {
   "cell_type": "code",
   "execution_count": null,
   "id": "2947e708-8f3d-4477-840d-cfe1fa15ecc7",
   "metadata": {},
   "outputs": [],
   "source": []
  }
 ],
 "metadata": {
  "kernelspec": {
   "display_name": "Python 3 (ipykernel)",
   "language": "python",
   "name": "python3"
  },
  "language_info": {
   "codemirror_mode": {
    "name": "ipython",
    "version": 3
   },
   "file_extension": ".py",
   "mimetype": "text/x-python",
   "name": "python",
   "nbconvert_exporter": "python",
   "pygments_lexer": "ipython3",
   "version": "3.12.4"
  }
 },
 "nbformat": 4,
 "nbformat_minor": 5
}
