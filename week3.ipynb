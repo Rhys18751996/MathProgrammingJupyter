{
 "cells": [
  {
   "cell_type": "code",
   "execution_count": 1,
   "id": "567f00ac-8370-4043-97a3-13904715c792",
   "metadata": {},
   "outputs": [],
   "source": [
    "import math"
   ]
  },
  {
   "cell_type": "code",
   "execution_count": 5,
   "id": "ef12bd30-a033-4f75-b6db-75b27d861c16",
   "metadata": {},
   "outputs": [
    {
     "name": "stdout",
     "output_type": "stream",
     "text": [
      "tested  1 =  25  with a square root of  5.0\n",
      "tested  8 =  7921  with a square root of  89.0\n",
      "tested  15 =  73441  with a square root of  271.0\n",
      "tested  22 =  303601  with a square root of  551.0\n",
      "tested  29 =  863041  with a square root of  929.0\n",
      "tested  36 =  1974025  with a square root of  1405.0\n",
      "tested  43 =  3916441  with a square root of  1979.0\n",
      "tested  50 =  7027801  with a square root of  2651.0\n",
      "tested  57 =  11703241  with a square root of  3421.0\n",
      "tested  64 =  18395521  with a square root of  4289.0\n",
      "tested  71 =  27615025  with a square root of  5255.0\n",
      "tested  78 =  39929761  with a square root of  6319.0\n",
      "tested  85 =  55965361  with a square root of  7481.0\n",
      "tested  92 =  76405081  with a square root of  8741.0\n",
      "tested  99 =  101989801  with a square root of  10099.0\n"
     ]
    }
   ],
   "source": [
    "for n in range(1,100,7):\n",
    "    y = n * (n+1) * (n+2) * (n+3) + 1\n",
    "    math.sqrt(y)\n",
    "    print(\"tested \",n, \"= \", y, \" with a square root of \", math.sqrt(y))"
   ]
  },
  {
   "cell_type": "code",
   "execution_count": null,
   "id": "7b6cbb70-77a8-4e35-b672-e617af1cde2d",
   "metadata": {},
   "outputs": [],
   "source": []
  },
  {
   "cell_type": "raw",
   "id": "b6f6ab11-42f4-44b9-8a9c-206de18da325",
   "metadata": {},
   "source": [
    "len('spam')"
   ]
  },
  {
   "cell_type": "code",
   "execution_count": 8,
   "id": "8cd4c53f-77d9-4fe4-adf3-7fe34b7aef5a",
   "metadata": {},
   "outputs": [
    {
     "name": "stdout",
     "output_type": "stream",
     "text": [
      "s\n",
      "pppppppp\n",
      "aaaaaaaaaaaaaaaaaaaaaaaaaaa\n",
      "mmmmmmmmmmmmmmmmmmmmmmmmmmmmmmmmmmmmmmmmmmmmmmmmmmmmmmmmmmmmmmmm\n"
     ]
    }
   ],
   "source": [
    "for i in range(len('spam')):\n",
    "    print('spam'[i] * (i+1)**3)"
   ]
  },
  {
   "cell_type": "code",
   "execution_count": null,
   "id": "0fd71e1c-8119-45ee-acca-e6af4d03dd9b",
   "metadata": {},
   "outputs": [],
   "source": []
  },
  {
   "cell_type": "code",
   "execution_count": 14,
   "id": "41bafeb4-9376-41cb-a4bc-0845bea56fb1",
   "metadata": {},
   "outputs": [
    {
     "data": {
      "text/plain": [
       "236736"
      ]
     },
     "execution_count": 14,
     "metadata": {},
     "output_type": "execute_result"
    }
   ],
   "source": [
    "from nltk.corpus import words\n",
    "word_list = words.words()\n",
    "len(word_list)"
   ]
  },
  {
   "cell_type": "code",
   "execution_count": 18,
   "id": "3c070cf3-c30a-4594-a58e-475222f86114",
   "metadata": {},
   "outputs": [
    {
     "name": "stdout",
     "output_type": "stream",
     "text": [
      "is palandromic\n"
     ]
    }
   ],
   "source": [
    "# check if palaondromic\n",
    "x = \"kayak\"\n",
    "if(x == x[: : -1]):\n",
    "    print(\"is palandromic\")"
   ]
  },
  {
   "cell_type": "code",
   "execution_count": 20,
   "id": "318c1881-fbf5-4281-a628-06c59d1527ee",
   "metadata": {},
   "outputs": [
    {
     "name": "stdout",
     "output_type": "stream",
     "text": [
      "ajaja is palandromic\n",
      "alala is palandromic\n",
      "alula is palandromic\n",
      "anana is palandromic\n",
      "arara is palandromic\n",
      "civic is palandromic\n",
      "deedeed is palandromic\n",
      "degged is palandromic\n",
      "hallah is palandromic\n",
      "kakkak is palandromic\n",
      "kayak is palandromic\n",
      "kelek is palandromic\n",
      "lemel is palandromic\n",
      "level is palandromic\n",
      "madam is palandromic\n",
      "mesem is palandromic\n",
      "minim is palandromic\n",
      "murdrum is palandromic\n",
      "radar is palandromic\n",
      "redder is palandromic\n",
      "refer is palandromic\n",
      "repaper is palandromic\n",
      "retter is palandromic\n",
      "rever is palandromic\n",
      "reviver is palandromic\n",
      "rotator is palandromic\n",
      "rotor is palandromic\n",
      "siris is palandromic\n",
      "sooloos is palandromic\n",
      "tebbet is palandromic\n",
      "tenet is palandromic\n",
      "terret is palandromic\n",
      "ululu is palandromic\n",
      "yaray is palandromic\n",
      "level is palandromic\n"
     ]
    }
   ],
   "source": [
    "for word in word_list:\n",
    "    if((len(word) > 4) and (word == word[: : -1])):\n",
    "        print(f\"{word} is palandromic\")"
   ]
  },
  {
   "cell_type": "code",
   "execution_count": 25,
   "id": "3f07863a-3dee-4b0b-bd16-bb597d34d509",
   "metadata": {},
   "outputs": [
    {
     "data": {
      "text/plain": [
       "[10, 8, 6, 4, 2]"
      ]
     },
     "execution_count": 25,
     "metadata": {},
     "output_type": "execute_result"
    }
   ],
   "source": [
    "x = [1,2,3,4,5,6,7,8,9,10]\n",
    "x[11:0:-2]"
   ]
  },
  {
   "cell_type": "code",
   "execution_count": null,
   "id": "2947e708-8f3d-4477-840d-cfe1fa15ecc7",
   "metadata": {},
   "outputs": [],
   "source": []
  },
  {
   "cell_type": "code",
   "execution_count": null,
   "id": "029a580f-bbc9-44f7-8914-c36043c1231a",
   "metadata": {},
   "outputs": [],
   "source": []
  },
  {
   "cell_type": "code",
   "execution_count": 30,
   "id": "de3e0995-2524-4143-b425-535a95962093",
   "metadata": {},
   "outputs": [
    {
     "name": "stdout",
     "output_type": "stream",
     "text": [
      "3  4\n",
      "5  12\n",
      "6  8\n",
      "8  15\n",
      "9  12\n"
     ]
    }
   ],
   "source": [
    "for n in range(1,16):\n",
    "    for m in range(n,16):\n",
    "        #print(n, \"\", m)\n",
    "        if math.sqrt((n**2 + m**2)).is_integer():\n",
    "            print(n, \"\", m)"
   ]
  },
  {
   "cell_type": "code",
   "execution_count": null,
   "id": "01245d9e-89c1-4e58-baa9-5f05ad5677da",
   "metadata": {},
   "outputs": [],
   "source": []
  },
  {
   "cell_type": "code",
   "execution_count": 34,
   "id": "315c6d10-6082-4dcd-8ca5-b7251c875ec9",
   "metadata": {},
   "outputs": [
    {
     "ename": "TypeError",
     "evalue": "unsupported operand type(s) for ** or pow(): 'str' and 'int'",
     "output_type": "error",
     "traceback": [
      "\u001b[1;31m---------------------------------------------------------------------------\u001b[0m",
      "\u001b[1;31mTypeError\u001b[0m                                 Traceback (most recent call last)",
      "Cell \u001b[1;32mIn[34], line 2\u001b[0m\n\u001b[0;32m      1\u001b[0m \u001b[38;5;28;01mfor\u001b[39;00m a \u001b[38;5;129;01min\u001b[39;00m \u001b[38;5;28mrange\u001b[39m(\u001b[38;5;241m1\u001b[39m, \u001b[38;5;241m1001\u001b[39m):\n\u001b[1;32m----> 2\u001b[0m    \u001b[38;5;28;01mif\u001b[39;00m \u001b[38;5;28mint\u001b[39m(\u001b[38;5;28mstr\u001b[39m(a\u001b[38;5;241m*\u001b[39m\u001b[38;5;241m*\u001b[39m\u001b[38;5;241m2\u001b[39m)) \u001b[38;5;241m==\u001b[39m \u001b[38;5;28mint\u001b[39m(\u001b[38;5;28mstr\u001b[39m(a)[::\u001b[38;5;241m-\u001b[39m\u001b[38;5;241m1\u001b[39m]\u001b[38;5;241m*\u001b[39m\u001b[38;5;241m*\u001b[39m\u001b[38;5;241m2\u001b[39m):\n\u001b[0;32m      3\u001b[0m        \u001b[38;5;28mprint\u001b[39m(a)\n",
      "\u001b[1;31mTypeError\u001b[0m: unsupported operand type(s) for ** or pow(): 'str' and 'int'"
     ]
    }
   ],
   "source": [
    "for a in range(1, 1001):\n",
    "   if int(str(a**2)) == int(str(a)[::-1]**2:\n",
    "       print(a)"
   ]
  },
  {
   "cell_type": "code",
   "execution_count": 56,
   "id": "909a8cd4-a8af-4e61-961f-ab2bebe00487",
   "metadata": {},
   "outputs": [
    {
     "name": "stdout",
     "output_type": "stream",
     "text": [
      "[[2, 3, 6], [3, 6, 2]]\n",
      "[[2, 3, 9], [3, 6, 4]]\n"
     ]
    }
   ],
   "source": [
    "import numpy as np\n",
    "A = np.array = [[2, 3, 6],[3, 6, 2]]\n",
    "B = np.array = [[2, 3, 9],[3, 6, 4]]\n",
    "print(A)\n",
    "print(B)"
   ]
  },
  {
   "cell_type": "code",
   "execution_count": 55,
   "id": "5732ada2-219d-4ff9-a464-430e3b878480",
   "metadata": {},
   "outputs": [
    {
     "data": {
      "text/plain": [
       "[[4, 6], [6, 12]]"
      ]
     },
     "execution_count": 55,
     "metadata": {},
     "output_type": "execute_result"
    }
   ],
   "source": [
    "sumAB = [ [0,0],[0,0] ];\n",
    "for row in range(len(A[0])):\n",
    "    for column in range(len(A[1])):\n",
    "        sumAB[row][column] = A[row][column] + B[row][column]\n",
    "\n",
    "\n",
    "sumAB"
   ]
  },
  {
   "cell_type": "code",
   "execution_count": 103,
   "id": "8361ccb1-4773-488d-8fd7-2c9f700a0acf",
   "metadata": {},
   "outputs": [
    {
     "name": "stdout",
     "output_type": "stream",
     "text": [
      "[2, 3]\n",
      "[5, 6]\n",
      "[6, 4]\n",
      "\n",
      "[4, 8]\n",
      "[3, 6]\n",
      "[7, 3]\n",
      "\n",
      "[17, 34]\n",
      "[38, 76]\n",
      "[36, 72]\n",
      "\n"
     ]
    }
   ],
   "source": [
    "import numpy as np\n",
    "#A = np.array = [[2, 3, 9], [3, 6, 6], [6, 4, 2]]\n",
    "#B = np.array = [[2, 3, 4], [3, 6, 4], [7, 3, 1]]\n",
    "A = np.array = [[2, 3], [5, 6], [6, 4]]\n",
    "B = np.array = [[4, 8], [3, 6], [7, 3]]\n",
    "print(f\"{A[0]}\\n{A[1]}\\n{A[2]}\\n\")\n",
    "print(f\"{B[0]}\\n{B[1]}\\n{B[2]}\\n\")\n",
    "\n",
    "multAB = [ [0, 0], [0, 0], [0, 0] ];\n",
    "\n",
    "for row in range(len(A)):\n",
    "    for column in range(len(A[0])):\n",
    "        for k in range(len(A[0])):\n",
    "            multAB[row][column] += A[row][k] * B[k][column]\n",
    "\n",
    "print(f\"{multAB[0]}\\n{multAB[1]}\\n{multAB[2]}\\n\")"
   ]
  },
  {
   "cell_type": "code",
   "execution_count": null,
   "id": "33330868-0c01-4db5-b411-829fb2557b95",
   "metadata": {},
   "outputs": [],
   "source": []
  }
 ],
 "metadata": {
  "kernelspec": {
   "display_name": "Python 3 (ipykernel)",
   "language": "python",
   "name": "python3"
  },
  "language_info": {
   "codemirror_mode": {
    "name": "ipython",
    "version": 3
   },
   "file_extension": ".py",
   "mimetype": "text/x-python",
   "name": "python",
   "nbconvert_exporter": "python",
   "pygments_lexer": "ipython3",
   "version": "3.12.4"
  }
 },
 "nbformat": 4,
 "nbformat_minor": 5
}
