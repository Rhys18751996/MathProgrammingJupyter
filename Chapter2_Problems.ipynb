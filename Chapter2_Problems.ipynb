{
 "cells": [
  {
   "cell_type": "markdown",
   "id": "91b299b2-dd2e-48d6-b114-ffe7cd18d006",
   "metadata": {},
   "source": [
    "# A Course in Python\n",
    "## Chapter 2 - Problems"
   ]
  },
  {
   "cell_type": "code",
   "execution_count": 40,
   "id": "39eea03f-b65f-4a15-a520-150939a22da6",
   "metadata": {},
   "outputs": [],
   "source": [
    "import math\n",
    "import numpy\n",
    "import sympy as sp\n",
    "import matplotlib.pyplot as plt"
   ]
  },
  {
   "cell_type": "markdown",
   "id": "da0e03cb-987b-4825-a0a7-43aa7ed1be58",
   "metadata": {},
   "source": [
    "# 1) \n",
    "### Defne a list of the form <br/>"
   ]
  },
  {
   "cell_type": "markdown",
   "id": "3682bc66-6249-4d25-983a-e0789b7e8a3b",
   "metadata": {},
   "source": [
    "`z=[[x1, y1], [x2, y2], [x3, y3], [x4, y4] , [x5,y5]]` <br/>"
   ]
  },
  {
   "cell_type": "markdown",
   "id": "05f20c27-399e-46cf-8160-ff5db443e25d",
   "metadata": {},
   "source": [
    "Into these <br/>\n",
    "`[x1, x2, x3, x4, x5]`<br/>\n",
    "`[y1, y2, y3, y4, y5]`<br/>\n",
    "`[[y1,x1],[y2,x2],[y3, x3],[y4, x4],[y5,x5]]`<br/>\n",
    "`[x1, y1, x2, y2, x3, y3, x4, y4, x5, y5]`<br/>\n",
    "`[[x4, y4],[x2, y2]]`<br/>\n",
    "`[[x1, y1],[x3, y3],[x5, y5]]`<br/>"
   ]
  },
  {
   "cell_type": "code",
   "execution_count": null,
   "id": "b459809b-2a83-4106-af54-044829c5bd75",
   "metadata": {},
   "outputs": [],
   "source": []
  },
  {
   "cell_type": "markdown",
   "id": "757061a6-5625-49b6-922b-458a39ebf801",
   "metadata": {},
   "source": [
    "____"
   ]
  },
  {
   "cell_type": "markdown",
   "id": "de63b575-6bc0-4534-9ac1-85c44c898ec5",
   "metadata": {},
   "source": [
    "# 2)\n",
    "### Define the following matrix in form of a list."
   ]
  },
  {
   "cell_type": "markdown",
   "id": "64796997-b195-45ed-9e82-7ce894643801",
   "metadata": {},
   "source": [
    "$$\r\n",
    "M=\\left(\\begin{array}{lll}\r\n",
    "a & b & c \\\\\r\n",
    "d & e & f \\\\\r\n",
    "g & h & k\r\n",
    "\\end{array}\\right)\r\n",
    "$$"
   ]
  },
  {
   "cell_type": "code",
   "execution_count": 20,
   "id": "def2e6a6-a9c6-4601-8967-832cd144d483",
   "metadata": {},
   "outputs": [
    {
     "data": {
      "text/plain": [
       "[['a', 'b', 'c'], ['d', 'e', 'f'], ['g', 'h', 'k']]"
      ]
     },
     "execution_count": 20,
     "metadata": {},
     "output_type": "execute_result"
    }
   ],
   "source": [
    "a,b,c,d,e,f,g,h,k = 'a', 'b', 'c', 'd', 'e', 'f', 'g', 'h', 'k'\n",
    "M = [[a, b, c], [d, e, f], [g, h, k]]\n",
    "M"
   ]
  },
  {
   "cell_type": "markdown",
   "id": "2999a0ef-1291-40fe-a057-2d1a9165315f",
   "metadata": {},
   "source": [
    "Using **list methods** produce the following matrices from the list M:"
   ]
  },
  {
   "cell_type": "markdown",
   "id": "c41883fc-781b-4359-b04e-3c2003206143",
   "metadata": {},
   "source": [
    "The transpose of M\n",
    "­\n",
    "$$ \n",
    "\\left(\\begin{array}{lll} a & d & g \\\\ b & e & h \\\\ c & f & k \\end{array}\\right)\n",
    "$$"
   ]
  },
  {
   "cell_type": "code",
   "execution_count": 24,
   "id": "ee839c93-f0cf-4e97-8837-f4272e4137c7",
   "metadata": {},
   "outputs": [
    {
     "data": {
      "text/plain": [
       "[['a', 'd', 'g'], ['b', 'e', 'h'], ['c', 'f', 'k']]"
      ]
     },
     "execution_count": 24,
     "metadata": {},
     "output_type": "execute_result"
    }
   ],
   "source": [
    "M_T = [ [M[0][0], M[1][0], M[2][0]], [M[0][1], M[1][1], M[2][1]], [M[0][2], M[1][2], M[2][2]] ]\n",
    "M_T"
   ]
  },
  {
   "attachments": {},
   "cell_type": "markdown",
   "id": "d1dacb4e-be39-462c-a940-eea8230eb120",
   "metadata": {},
   "source": [
    "The main diagonal of M, namely\n",
    "$$ \n",
    "\\left(\\begin{array}{lll} a & 0 & 0 \\\\ 0 & e & 0 \\\\ 0 & 0 & k \\end{array}\\right)\n",
    "$$\n",
    "\n"
   ]
  },
  {
   "cell_type": "code",
   "execution_count": 30,
   "id": "cee382c0-d1db-46c1-884a-0ba5a3841252",
   "metadata": {},
   "outputs": [
    {
     "data": {
      "text/plain": [
       "[['a', 0, 0], [0, 'e', 0], [0, 0, 'k']]"
      ]
     },
     "execution_count": 30,
     "metadata": {},
     "output_type": "execute_result"
    }
   ],
   "source": [
    "DiagonalOfM = [ [M[0][0],0,0],[0,M[1][1],0],[0,0,M[2][2]] ]\n",
    "DiagonalOfM"
   ]
  },
  {
   "cell_type": "markdown",
   "id": "f3237c49-93e8-4a6d-96bc-09e4b814522f",
   "metadata": {},
   "source": [
    "The anti-diagonal of M, namely\n",
    "$$ \n",
    "\\left(\\begin{array}{lll} 0 & 0 & c \\\\ 0 & e & 0 \\\\ g & 0 & 0 \\end{array}\\right)\n",
    "$$"
   ]
  },
  {
   "cell_type": "code",
   "execution_count": 33,
   "id": "fc88fc67-c8fb-455a-a392-606d361c7514",
   "metadata": {},
   "outputs": [
    {
     "data": {
      "text/plain": [
       "[[0, 0, 'c'], [0, 'e', 0], ['g', 0, 0]]"
      ]
     },
     "execution_count": 33,
     "metadata": {},
     "output_type": "execute_result"
    }
   ],
   "source": [
    "AntiDiagonalOfM = [ [0,0,M[0][2]],[0,M[1][1],0],[M[2][0],0,0] ]\n",
    "AntiDiagonalOfM"
   ]
  },
  {
   "cell_type": "markdown",
   "id": "0271cf1a-5846-4db2-adcd-381dcfab25c4",
   "metadata": {},
   "source": [
    "The matrix\n",
    "$$ \n",
    "\\left(\\begin{array}{lll} c & b & a \\\\ f & e & d \\\\ g & h & k \\end{array}\\right)\n",
    "$$"
   ]
  },
  {
   "cell_type": "code",
   "execution_count": 37,
   "id": "f8848425-4f77-4bf0-af39-913ddb81125d",
   "metadata": {},
   "outputs": [
    {
     "data": {
      "text/plain": [
       "[['c', 'b', 'a'], ['f', 'e', 'd'], ['g', 'h', 'k']]"
      ]
     },
     "execution_count": 37,
     "metadata": {},
     "output_type": "execute_result"
    }
   ],
   "source": [
    "Matrix1 = [ [M[0][2],M[0][1],M[0][0]], [M[1][2],M[1][1],M[1][0]], [M[2][0],M[2][1],M[2][2]] ]\n",
    "Matrix1"
   ]
  },
  {
   "cell_type": "markdown",
   "id": "ad6c9887-924d-4df3-b8c0-651865b1e6a6",
   "metadata": {},
   "source": [
    "The matrix\n",
    "$$ \n",
    "\\left(\\begin{array}{lll} 1 & 2 & a \\\\ 3 & 4 & d \\\\ g & h & k \\end{array}\\right)\n",
    "$$"
   ]
  },
  {
   "cell_type": "code",
   "execution_count": 39,
   "id": "d7286efe-917a-4602-948e-87661018ab98",
   "metadata": {},
   "outputs": [
    {
     "data": {
      "text/plain": [
       "[[1, 2, 'a'], [3, 4, 'd'], ['g', 'h', 'k']]"
      ]
     },
     "execution_count": 39,
     "metadata": {},
     "output_type": "execute_result"
    }
   ],
   "source": [
    "Matrix1 = [ [1,2,M[0][0]], [3,4,M[1][0]], [M[2][0],M[2][1],M[2][2]] ]\n",
    "Matrix1"
   ]
  },
  {
   "cell_type": "markdown",
   "id": "4180729e-c177-461c-a124-511d45e47f05",
   "metadata": {},
   "source": [
    "The matrix\n",
    "$$ \n",
    "\\left(\\begin{array}{lll} * & * & * \\\\ * & X & * \\\\ * & * & * \\end{array}\\right)\n",
    "$$"
   ]
  },
  {
   "cell_type": "code",
   "execution_count": 42,
   "id": "c55aaedd-c137-4f3d-9f5e-531996ffa48a",
   "metadata": {},
   "outputs": [
    {
     "data": {
      "text/plain": [
       "[['*', '*', '*'], ['*', 'X', '*'], ['*', '*', '*']]"
      ]
     },
     "execution_count": 42,
     "metadata": {},
     "output_type": "execute_result"
    }
   ],
   "source": [
    "Matrix2 = [ ['*','*','*'], ['*','X','*'], ['*','*','*'] ]\n",
    "Matrix2"
   ]
  },
  {
   "cell_type": "markdown",
   "id": "f1e9ec5b-3f0d-4a4e-be65-e7386de35585",
   "metadata": {},
   "source": [
    "____"
   ]
  },
  {
   "cell_type": "markdown",
   "id": "46bda819-2024-46b8-a4bb-d969fe69d501",
   "metadata": {},
   "source": [
    "# 3)\n",
    "### Consider the process"
   ]
  },
  {
   "cell_type": "markdown",
   "id": "0f7084fc-1cdd-4b4d-8249-de798eaaf6e3",
   "metadata": {},
   "source": [
    "$$\r\n",
    "\\left(\\begin{array}{lll}\r\n",
    "a & b & c \\\\\r\n",
    "d & e & f \\\\\r\n",
    "g & h & k\r\n",
    "\\end{array}\\right) \\longrightarrow\\left(\\begin{array}{lll}\r\n",
    "a^1 & b^2 & c^3 \\\\\r\n",
    "d^1 & e^2 & f^3 \\\\\r\n",
    "g^1 & h^2 & k^3\r\n",
    "\\end{array}\\right)\r\n",
    "$$"
   ]
  },
  {
   "cell_type": "markdown",
   "id": "929b40ed-34b2-4341-9729-2937cf6de895",
   "metadata": {},
   "source": [
    "### Write a code to apply this process to a 3 × 3-matrix. Try the code for"
   ]
  },
  {
   "cell_type": "markdown",
   "id": "2c970228-d796-449e-8aef-d5ebb4b3f505",
   "metadata": {},
   "source": [
    "$$ \n",
    "\\left(\\begin{array}{lll} 1 & 2 & 3 \\\\ 1 & 2 & 3 \\\\ 1 & 2 & 3 \\end{array}\\right)\n",
    "$$"
   ]
  },
  {
   "cell_type": "code",
   "execution_count": 57,
   "id": "76aa7bc9-af20-4910-b0bf-b9848d00b5c2",
   "metadata": {},
   "outputs": [
    {
     "data": {
      "text/plain": [
       "[[1, 4, 27], [1, 4, 27], [1, 4, 27]]"
      ]
     },
     "execution_count": 57,
     "metadata": {},
     "output_type": "execute_result"
    }
   ],
   "source": [
    "M = [ [1,2,3],[1,2,3],[1,2,3] ]\n",
    "\n",
    "Y = []\n",
    "for i in range(1,4):\n",
    "    X = []\n",
    "    for j in range(1,4):\n",
    "        X.append(M[j-1][j-1]**j)\n",
    "    Y.append(X)    \n",
    "Y"
   ]
  },
  {
   "cell_type": "markdown",
   "id": "d7b9ff8b-454e-4555-b985-a70851271722",
   "metadata": {},
   "source": [
    "## 4)\n",
    "From the Reserve Bank of Australia, import data in the csv format of the interest <br/>\n",
    "rates since October 2002 and try to obtain various data out of the imported file<br/>\n",
    "(see 2.4) "
   ]
  },
  {
   "cell_type": "code",
   "execution_count": null,
   "id": "a229d439-c3cb-43aa-833d-49af7df1bd65",
   "metadata": {},
   "outputs": [],
   "source": []
  },
  {
   "cell_type": "code",
   "execution_count": null,
   "id": "11610f05-5948-4c94-9b36-d546d438c256",
   "metadata": {},
   "outputs": [],
   "source": []
  },
  {
   "cell_type": "code",
   "execution_count": null,
   "id": "4c6d9aad-9fb1-4fea-989d-6796057f9b48",
   "metadata": {},
   "outputs": [],
   "source": []
  }
 ],
 "metadata": {
  "kernelspec": {
   "display_name": "Python 3 (ipykernel)",
   "language": "python",
   "name": "python3"
  },
  "language_info": {
   "codemirror_mode": {
    "name": "ipython",
    "version": 3
   },
   "file_extension": ".py",
   "mimetype": "text/x-python",
   "name": "python",
   "nbconvert_exporter": "python",
   "pygments_lexer": "ipython3",
   "version": "3.12.4"
  }
 },
 "nbformat": 4,
 "nbformat_minor": 5
}
