{
 "cells": [
  {
   "cell_type": "markdown",
   "id": "68192a85-71a3-4923-8868-834a3450284b",
   "metadata": {},
   "source": [
    "# A Course in Python\n",
    "## Chapter 4 - Problems"
   ]
  },
  {
   "cell_type": "code",
   "execution_count": 13,
   "id": "121c4096-4788-47b0-ad88-27ef2b0d53a3",
   "metadata": {},
   "outputs": [],
   "source": [
    "import math\n",
    "import numpy as np\n",
    "import sympy as sp\n",
    "import matplotlib.pyplot as plt\n",
    "import nltk"
   ]
  },
  {
   "cell_type": "markdown",
   "id": "873c7f28-8968-4b16-8a02-810849a0c93b",
   "metadata": {},
   "source": [
    "1. For integers $2 \\leq n \\leq 200$, find all $n$ such that $n$ divides $(n-1)$ ! +1 . Show that there are 46 such $n$."
   ]
  },
  {
   "cell_type": "code",
   "execution_count": 3,
   "id": "a0fdf69f-bfc6-432b-92b5-e623f3ce3499",
   "metadata": {},
   "outputs": [
    {
     "name": "stdout",
     "output_type": "stream",
     "text": [
      "23\n"
     ]
    }
   ],
   "source": [
    "import math\n",
    "\n",
    "def f(n):\n",
    "    return math.factorial((n - 1)) + 1\n",
    "\n",
    "counter = 0;\n",
    "for n in range(2,201):\n",
    "    if( (n / f(n)).is_integer() ):\n",
    "        counter += 1;\n",
    "\n",
    "print(counter)"
   ]
  },
  {
   "cell_type": "markdown",
   "id": "23fe7adb-ea8b-4abd-9d73-271ea080364a",
   "metadata": {},
   "source": [
    "2. Write a function which returns an answer of True if the $n$ 'th prime number is of the form $4 k+1$ for some integer $k$. Hence produce a list of those positive integers $n$ lying between 1 and 100 such that the $n$ 'th prime is of such a form $4 k+1$. Verify that there are 47 such $n$."
   ]
  },
  {
   "cell_type": "code",
   "execution_count": 15,
   "id": "247e64f6-9add-4db9-b284-ace34eadd0a7",
   "metadata": {},
   "outputs": [
    {
     "name": "stdout",
     "output_type": "stream",
     "text": [
      "[5, 13, 17, 29, 37, 41, 53, 61, 73, 89, 97]\n"
     ]
    }
   ],
   "source": [
    "import sympy\n",
    "\n",
    "def is_of_form_4k_plus_1(number):\n",
    "    return (number - 1) % 4 == 0\n",
    "\n",
    "primes = list(sympy.primerange(0, 100))\n",
    "isOfForm = []\n",
    "for n in primes:\n",
    "    if( is_of_form_4k_plus_1(n) ):\n",
    "        isOfForm.append(n)\n",
    "print( isOfForm )"
   ]
  },
  {
   "cell_type": "markdown",
   "id": "ebcca6ed-ae95-4264-b073-0f50bbf32a6d",
   "metadata": {},
   "source": [
    "3. Suppose $P_{i}$ is the $i$-th prime number. Let $E_{i}=P_{1} \\times P_{2} \\times \\cdots \\times P_{i}+1$ be the $i$-th Euclid number. Define a function Euclidnumber ( n ) to produce the $n$-th Euclid number. Use this function and produce the list of the first 20 Euclid numbers. Find out which of these numbers are in fact prime. Find the indices of the prime Euclid numbers (i.e, $i$, where $E_{i}$ is prime), where $1 \\leq i \\leq 100$."
   ]
  },
  {
   "cell_type": "code",
   "execution_count": null,
   "id": "8bef6251-d222-4586-ade2-6190145a1312",
   "metadata": {},
   "outputs": [],
   "source": []
  },
  {
   "cell_type": "markdown",
   "id": "bb446efd-a1ed-47c1-8add-8ae0f649efda",
   "metadata": {},
   "source": [
    "4. Write a function to calculate the following\n",
    "\n",
    "\n",
    "$$\n",
    "p(n)=1+\\frac{1}{\\sqrt{1}}+\\frac{1}{\\sqrt{1}+\\sqrt{2}}+\\frac{1}{\\sqrt{2}+\\sqrt{3}}+\\frac{1}{\\sqrt{3}+\\sqrt{4}}+\\cdots+\\frac{1}{\\sqrt{n-1}+\\sqrt{n}}\n",
    "$$\n",
    "\n",
    "\n",
    "(How many ways can you write this function?)"
   ]
  },
  {
   "cell_type": "code",
   "execution_count": null,
   "id": "eea2e4f9-17c1-42be-975e-236389d59afe",
   "metadata": {},
   "outputs": [],
   "source": []
  },
  {
   "cell_type": "markdown",
   "id": "d2ea1d66-ddd3-4ecf-990e-57c43630e5f1",
   "metadata": {},
   "source": [
    "5. Let us call a number $a_{0} a_{1} \\ldots a_{n-1} a_{n}$ pure prime if $a_{0} a_{1} \\ldots a_{n-1} a_{n}, a_{0} a_{1} \\ldots a_{n-1} \\ldots$ , $a_{0} a_{1}$ and $a_{0}$ are all prime numbers. Find all the 3,4 and 5 digit numbers which are pure prime. Can you conjecture how many pure prime 16 digit numbers exists?(Example: 7193 is a pure prime number, as $7193,719,71$ and 7 are prime). Write the code using functional programming."
   ]
  },
  {
   "cell_type": "code",
   "execution_count": null,
   "id": "abe2cd78-2002-46f0-a3f8-c8d046c66d9b",
   "metadata": {},
   "outputs": [],
   "source": []
  },
  {
   "cell_type": "markdown",
   "id": "00cfa18c-a391-40a0-aacc-083799b14c5a",
   "metadata": {},
   "source": [
    "6. A function $f$ of a natural number $n$ is defined as follows. Let $p_{n}$ denote the $n$ 'th prime number. Initialise $s$ to be 1 and then replace it by $\\left(s \\times p_{k}\\right)-1$ for $k=1,2, \\ldots, p_{n}$ in turn. The final value of $s$ is the value of $f(n)$. The first few\n",
    "values are $f(1)=1, f(2)=2, f(3)=9$ and $f(4)=62$. Define this function in Python. What are $f(5)$ and $f(10)$ ?"
   ]
  },
  {
   "cell_type": "code",
   "execution_count": null,
   "id": "773ca2e2-d829-4bc3-938f-9877699b2269",
   "metadata": {},
   "outputs": [],
   "source": []
  },
  {
   "cell_type": "markdown",
   "id": "4bade18b-42e4-46c8-96d3-83ec11e2ed39",
   "metadata": {},
   "source": [
    "7. Let $A(x, y)=\\left(a_{i j}(x, y)\\right)$ be the $n \\times n$ matrix with\n",
    "\n",
    "\n",
    "$$\n",
    "a_{i j}(x, y)= \\begin{cases}0 & \\text { if } i=j \\\\ \\sin (x)^{i} \\cos (y)^{j}(\\sin (y)+\\cos (x))^{i+j} & \\text { if } i \\neq j\\end{cases}\n",
    "$$\n",
    "\n",
    "\n",
    "Create the $3 \\times 3$ matrix $A(\\pi, \\pi / 5)$."
   ]
  },
  {
   "cell_type": "code",
   "execution_count": null,
   "id": "3b64e3fd-b1dd-476c-83f5-b45fe125baec",
   "metadata": {},
   "outputs": [],
   "source": []
  },
  {
   "cell_type": "markdown",
   "id": "fca8d83e-1ce7-44d8-9090-3aa0cff03363",
   "metadata": {},
   "source": [
    "8. The norm of a vector $x=\\left(x_{1}, x_{2}, \\ldots, x_{n}\\right)$ of real numbers (i.e., floats) is defined to be\n",
    "\n",
    "\n",
    "$$\n",
    "\\|x\\|=\\sqrt{\\sum_{k=1}^{n} x_{k}^{2}}\n",
    "$$\n",
    "\n",
    "\n",
    "Write a function vnorm which computes the norm of a real vector of any length. (Write the function in two different ways: using procedural loops and also using functional programming)."
   ]
  },
  {
   "cell_type": "code",
   "execution_count": null,
   "id": "abc8bae3-7485-4eda-a804-9a8cd51c5f0c",
   "metadata": {},
   "outputs": [],
   "source": []
  },
  {
   "cell_type": "markdown",
   "id": "d97d9078-c03a-461d-bc3b-4d240be4c32f",
   "metadata": {},
   "source": [
    "9. For a number $n$, a proper divisor $k$ is a number which is not $n$ and which divides $n$. For example, $\\{1,3,5\\}$ are all the proper divisors of 15 . Consider the sum of all the proper divisors of a number. Now consider the sum of all the proper divisors of this new number and repeat the process. If one eventually obtains the number which one started with, then this number is called a social number. Write a program to show that 1264460 is a social number. Check whether 14316 is also a social number"
   ]
  },
  {
   "cell_type": "code",
   "execution_count": null,
   "id": "aa57ee22-1cc6-4ce6-aeb4-a98c416aed92",
   "metadata": {},
   "outputs": [],
   "source": []
  },
  {
   "cell_type": "markdown",
   "id": "453fab5d-3924-4020-8e11-f1584d869bc9",
   "metadata": {},
   "source": [
    "10. Using functional programming, demonstrate that for any sequence of positive numbers $a_{1}, a_{2}, \\ldots, a_{n}$ we have\n",
    "\n",
    "\n",
    "$$\n",
    "\\left(a_{1}+a_{2}+\\cdots+a_{n}\\right)\\left(\\frac{1}{a_{1}}+\\frac{1}{a_{2}}+\\cdots+\\frac{1}{a_{n}}\\right) \\geq n^{2}\n",
    "$$"
   ]
  },
  {
   "cell_type": "code",
   "execution_count": null,
   "id": "f2ed89aa-f755-4e1e-9d99-5407f1759cfa",
   "metadata": {},
   "outputs": [],
   "source": []
  },
  {
   "cell_type": "markdown",
   "id": "6fb408df-e155-4b9b-a55a-e86d30eccc05",
   "metadata": {},
   "source": [
    "11. We call a pair of prime numbers $p$ and $q$ friends if $p q$ and $q p$ are both prime (by $p q$ we mean the juxtaposition of the numbers together). For example, the prime numbers 563 and 587 are friends as 563587 and 587563 are both primes. Write a program to produce all the prime friends for some suitable range of primes."
   ]
  },
  {
   "cell_type": "code",
   "execution_count": null,
   "id": "56d881eb-4484-4887-86fb-c4a3d9aca21d",
   "metadata": {},
   "outputs": [],
   "source": []
  },
  {
   "cell_type": "markdown",
   "id": "77d05a5b-8fbc-4dbb-91e2-9666fcb09fd3",
   "metadata": {},
   "source": [
    "12. The number $\\pi$ starts with\n",
    "\n",
    "3.14159265358979323846264338327950288419716939937510582097494 $45923078164062862089986280348253421170679 \\ldots$\n",
    "\n",
    "and continues with no pattern. Search the first 100,000 digits of $\\pi$ and check if your birthday appears as a sequence of digits in $\\pi$.   \n",
    "For example the date Thursday 8th of April of 1971 appears in the digits of $\\pi$ : $3.1415926535897932384626433832795028\\large{841971}693 \\cdots$"
   ]
  },
  {
   "cell_type": "code",
   "execution_count": 157,
   "id": "9fde8a1f-e6e6-4778-9453-aae0ad98d988",
   "metadata": {},
   "outputs": [
    {
     "name": "stdout",
     "output_type": "stream",
     "text": [
      "9779 found begining at index 5138\n"
     ]
    }
   ],
   "source": [
    "from mpmath import mp\n",
    "\n",
    "numOfplaces = 10000\n",
    "mp.dps = numOfplaces\n",
    "pi_str = str(mp.pi)\n",
    "\n",
    "# get tht length of the pi string for the loop\n",
    "lengthOfPiStr = len(pi_str[:numOfplaces])\n",
    "\n",
    "Bday = \"9779\"\n",
    "\n",
    "found = False\n",
    "i = 0\n",
    "while i < lengthOfPiStr:\n",
    "    if pi_str[i : i+len(Bday)] == Bday:\n",
    "        print(f\"{pi_str[i : i+len(Bday)]} found begining at index {i}\")\n",
    "        found = True\n",
    "        break\n",
    "    i += 1\n",
    "\n",
    "if(found == False):\n",
    "    print(\"couldnt find\")"
   ]
  },
  {
   "cell_type": "code",
   "execution_count": 103,
   "id": "c830627c-5dc5-4ca7-acd4-1c71995042d0",
   "metadata": {},
   "outputs": [
    {
     "name": "stdout",
     "output_type": "stream",
     "text": [
      "3.14159265358979323846264338327950288419716939937510582097494459230781640628620899862803482534211706\n"
     ]
    }
   ],
   "source": [
    "from mpmath import mp\n",
    "\n",
    "numOfplaces = 100\n",
    "mp.dps = numOfplaces\n",
    "pi_value = mp.pi\n",
    "\n",
    "# Convert to a string with 10,000 decimal places\n",
    "pi_str_long = str(pi_value)\n",
    "\n",
    "# Display the first 1000 characters\n",
    "print(pi_str_long[:numOfplaces])"
   ]
  },
  {
   "cell_type": "markdown",
   "id": "714c8fcc-643c-4c15-ae40-5ca110f66218",
   "metadata": {},
   "source": [
    "13. Recall that if $f: A \\rightarrow B$ and $g: B \\rightarrow C$ are two functions, then $g f: A \\rightarrow C$ is defined by $g f(a)=g(f(a))$, where $a \\in A$. Explain what the following code does and rewrite it by using only one map."
   ]
  },
  {
   "cell_type": "code",
   "execution_count": 159,
   "id": "334b893e-05e4-4709-ba4e-dd633d9b851a",
   "metadata": {},
   "outputs": [
    {
     "data": {
      "text/plain": [
       "[2, 5, 10, 17, 26, 37, 50, 65, 82]"
      ]
     },
     "execution_count": 159,
     "metadata": {},
     "output_type": "execute_result"
    }
   ],
   "source": [
    "z = map(lambda i : i+1, map(lambda i: i**2, range(1,10)))\n",
    "list(z)"
   ]
  },
  {
   "cell_type": "code",
   "execution_count": null,
   "id": "4efc09e4-a838-427c-b381-b02906c9ef58",
   "metadata": {},
   "outputs": [],
   "source": []
  },
  {
   "cell_type": "markdown",
   "id": "c4b8d6d1-00a9-40c4-b47c-413f8b480a5e",
   "metadata": {},
   "source": [
    "14. Recall that map creates an iterator that will be executed once it is prompted. Run the following code and explain how the map works."
   ]
  },
  {
   "cell_type": "code",
   "execution_count": 15,
   "id": "31c64cec-8e21-4d38-a8b7-f0f43ff1cf7d",
   "metadata": {},
   "outputs": [
    {
     "name": "stdout",
     "output_type": "stream",
     "text": [
      "1\n",
      "4\n",
      "9\n",
      "16\n",
      "25\n",
      "36\n"
     ]
    }
   ],
   "source": [
    "x_square = map(lambda i: i ** 2, range(1,10000000000))\n",
    "\n",
    "for n in x_square:\n",
    "    if n > 6**2:\n",
    "        break\n",
    "    print(n)"
   ]
  },
  {
   "cell_type": "code",
   "execution_count": 16,
   "id": "d26b97b0-de57-4631-b832-171bdf5b5bd4",
   "metadata": {},
   "outputs": [
    {
     "name": "stdout",
     "output_type": "stream",
     "text": [
      "64\n",
      "81\n"
     ]
    }
   ],
   "source": [
    "for n in x_square:\n",
    "    if n > 9**2:    \n",
    "        break\n",
    "    print(n)"
   ]
  },
  {
   "cell_type": "code",
   "execution_count": null,
   "id": "830e22eb-ecd5-4628-ab80-8cfefa7559d2",
   "metadata": {},
   "outputs": [],
   "source": []
  }
 ],
 "metadata": {
  "kernelspec": {
   "display_name": "Python 3 (ipykernel)",
   "language": "python",
   "name": "python3"
  },
  "language_info": {
   "codemirror_mode": {
    "name": "ipython",
    "version": 3
   },
   "file_extension": ".py",
   "mimetype": "text/x-python",
   "name": "python",
   "nbconvert_exporter": "python",
   "pygments_lexer": "ipython3",
   "version": "3.12.4"
  }
 },
 "nbformat": 4,
 "nbformat_minor": 5
}
