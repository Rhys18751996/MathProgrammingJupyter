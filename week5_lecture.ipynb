{
 "cells": [
  {
   "cell_type": "code",
   "execution_count": 1,
   "id": "f011337b-16f1-4276-88a5-145739ef58f2",
   "metadata": {},
   "outputs": [],
   "source": [
    "import math\n",
    "\n"
   ]
  },
  {
   "cell_type": "code",
   "execution_count": null,
   "id": "1b788224-c816-48b6-b59a-328e951ef2b2",
   "metadata": {},
   "outputs": [],
   "source": []
  },
  {
   "cell_type": "markdown",
   "id": "ac3e0aca-8ebf-4b95-ad4f-6387d9655894",
   "metadata": {},
   "source": [
    "$$s(n)=\\frac{1}{1}+\\frac{1}{1+2}+...+\\frac{1}{1+2+...+n}$$"
   ]
  },
  {
   "cell_type": "code",
   "execution_count": 9,
   "id": "efe316b6-21da-424a-95b0-7d22b3071644",
   "metadata": {},
   "outputs": [
    {
     "data": {
      "text/plain": [
       "1.7142857142857144"
      ]
     },
     "execution_count": 9,
     "metadata": {},
     "output_type": "execute_result"
    }
   ],
   "source": [
    "def f(n):\n",
    "    result = 0\n",
    "    for i in range(1, n+1):\n",
    "        result += 1 / sum(range(1, i+1))\n",
    "    return result\n",
    "\n",
    "f(6)"
   ]
  },
  {
   "cell_type": "code",
   "execution_count": 11,
   "id": "4fe8810c-6b97-47fc-b49f-ecd771fa65ca",
   "metadata": {},
   "outputs": [
    {
     "data": {
      "text/plain": [
       "1.7142857142857144"
      ]
     },
     "execution_count": 11,
     "metadata": {},
     "output_type": "execute_result"
    }
   ],
   "source": [
    "def s(n):\n",
    "    total_sum = 0\n",
    "    denom_sum = 0\n",
    "    for i in range(1,n+1):\n",
    "        denom_sum += i\n",
    "        total_sum += 1/denom_sum\n",
    "    return total_sum\n",
    "s(6)"
   ]
  },
  {
   "cell_type": "code",
   "execution_count": null,
   "id": "fb1836d3-0914-4630-b2ae-346fad77926b",
   "metadata": {},
   "outputs": [],
   "source": []
  },
  {
   "cell_type": "code",
   "execution_count": null,
   "id": "4d70ec53-428e-49bb-8f08-0d7429f119ca",
   "metadata": {},
   "outputs": [],
   "source": []
  },
  {
   "cell_type": "markdown",
   "id": "15186585-f11b-44a0-af41-e330609227b9",
   "metadata": {},
   "source": [
    "Exercise: write a function \"decom(n,p)\" to accept a number m and a prime number p and it returns the decomposition\n",
    "\n",
    "fundamental theorem of number theory, any number can be decomposed in a unique way as the product of primes"
   ]
  },
  {
   "cell_type": "code",
   "execution_count": 26,
   "id": "b787e8bc-5132-4328-beeb-5e6aedf48cb0",
   "metadata": {},
   "outputs": [
    {
     "name": "stdout",
     "output_type": "stream",
     "text": [
      "[2, 3, 5, 7, 11, 13, 17, 19, 23, 29, 31, 37, 41, 43, 47, 53, 59, 61, 67, 71, 73, 79, 83, 89, 97, 101, 103, 107, 109, 113, 127, 131, 137, 139, 149, 151, 157, 163, 167, 173, 179, 181, 191, 193, 197, 199]\n"
     ]
    }
   ],
   "source": [
    "import sympy\n",
    "primes = list(sympy.primerange(0, 200))\n",
    "print(primes)"
   ]
  },
  {
   "cell_type": "code",
   "execution_count": 42,
   "id": "e62567cf-aee3-4ab0-8f44-7dbfd1c2054d",
   "metadata": {},
   "outputs": [
    {
     "name": "stdin",
     "output_type": "stream",
     "text": [
      "enter an integer: 125\n"
     ]
    },
    {
     "name": "stdout",
     "output_type": "stream",
     "text": [
      "k: 1\n",
      "n: 25\n",
      "k: 2\n",
      "n: 5\n",
      "k: 3\n",
      "n: 1\n",
      "125 is of the form 5^3 x 1\n"
     ]
    }
   ],
   "source": [
    "# we want to know if the seconds parameter (a prime number) can be factored into it and some other number\n",
    "def decom(n, p):\n",
    "    # returns n**k*s\n",
    "    k = 0\n",
    "    while n % p == 0:\n",
    "        k += 1\n",
    "        print(f\"k: {k}\")\n",
    "        n = n // p\n",
    "        print(f\"n: {n}\")\n",
    "    return n, k\n",
    "\n",
    "n = int(input('enter an integer:'))\n",
    "m, k = decom(n, 5)\n",
    "\n",
    "print(f'{n} is of the form 5^{k} x {m}')"
   ]
  },
  {
   "cell_type": "code",
   "execution_count": null,
   "id": "5a40d935-c4c7-46a0-9257-a541ba64d489",
   "metadata": {},
   "outputs": [],
   "source": []
  },
  {
   "cell_type": "code",
   "execution_count": null,
   "id": "f2fcdee0-5978-49aa-a609-5b1e411fae12",
   "metadata": {},
   "outputs": [],
   "source": []
  },
  {
   "cell_type": "markdown",
   "id": "470fc48e-b5c0-4c14-8915-8a5724b98170",
   "metadata": {},
   "source": [
    "## Anonymous functions"
   ]
  },
  {
   "cell_type": "code",
   "execution_count": 45,
   "id": "e21183ba-35db-43de-bf1e-24f6ce3231d2",
   "metadata": {},
   "outputs": [
    {
     "data": {
      "text/plain": [
       "144"
      ]
     },
     "execution_count": 45,
     "metadata": {},
     "output_type": "execute_result"
    }
   ],
   "source": [
    "(lambda x : x**2)(12) # pass 12 into anonymous function return \"x**2\""
   ]
  },
  {
   "cell_type": "code",
   "execution_count": 49,
   "id": "4e6c37ee-e322-462a-9fd7-65732a62b0e4",
   "metadata": {},
   "outputs": [
    {
     "data": {
      "text/plain": [
       "60"
      ]
     },
     "execution_count": 49,
     "metadata": {},
     "output_type": "execute_result"
    }
   ],
   "source": [
    "(lambda x : 5*x)(12)"
   ]
  },
  {
   "cell_type": "code",
   "execution_count": null,
   "id": "f1afcb62-7e1f-4f86-a2cf-8c381f189149",
   "metadata": {},
   "outputs": [],
   "source": []
  },
  {
   "cell_type": "code",
   "execution_count": null,
   "id": "d11e37ba-d332-403d-a09a-1048d326a207",
   "metadata": {},
   "outputs": [],
   "source": []
  },
  {
   "cell_type": "markdown",
   "id": "b749362a-fd35-4450-bcea-3ea2a626ac4d",
   "metadata": {},
   "source": [
    "## contionue with functions.. recursive functions\n",
    "\n",
    "$$f(n) = n^2 + n + 1 $$"
   ]
  },
  {
   "cell_type": "markdown",
   "id": "eee3550c-9909-4655-8521-b6a6e4e0232c",
   "metadata": {},
   "source": [
    "a recursive function calls itself.. sucvh as $$g(n) = g(n-1) + g(n-2)$$"
   ]
  },
  {
   "cell_type": "markdown",
   "id": "1c7ef6af-f39d-422a-8d60-cf8f0fcc5f7f",
   "metadata": {},
   "source": [
    "$f(3) = 3^2 + 3 + 1$\n",
    "\n",
    "$g(3) = g(2) + g(1)$\n",
    "\n",
    "$g(4) = g(3)+g(2) = (g(2)+g(1)) + (g(1)+g(0)) = "
   ]
  },
  {
   "cell_type": "code",
   "execution_count": null,
   "id": "3b7994b6-5cd9-417f-8460-dd6da762ee72",
   "metadata": {},
   "outputs": [],
   "source": []
  },
  {
   "cell_type": "code",
   "execution_count": null,
   "id": "41d9b322-bea5-47df-9939-6be4bea623a8",
   "metadata": {},
   "outputs": [],
   "source": []
  },
  {
   "cell_type": "markdown",
   "id": "5f52f3bb-b9c0-4d59-b569-651190f7f05f",
   "metadata": {},
   "source": [
    "create a recursive function to show fibonacci sequence"
   ]
  },
  {
   "cell_type": "code",
   "execution_count": 68,
   "id": "817e14ce-2eb0-4d30-b720-ceac8ad150d5",
   "metadata": {},
   "outputs": [],
   "source": [
    "def fib(n):\n",
    "    a, b = 0, 1\n",
    "    for i in range(n):\n",
    "        a, b = b, a + b\n",
    "    return a\n",
    "    "
   ]
  },
  {
   "cell_type": "code",
   "execution_count": 80,
   "id": "3d30f2db-d1b9-4850-8c85-0ce99295faa5",
   "metadata": {},
   "outputs": [],
   "source": [
    "def fib2(n):\n",
    "    a, b = 0, 1\n",
    "    for i in range(n):\n",
    "        tmpa = a\n",
    "        a = b\n",
    "        b = tmpa + b\n",
    "        #a, b = b, a + b\n",
    "    return a"
   ]
  },
  {
   "cell_type": "code",
   "execution_count": 84,
   "id": "0827abac-a21c-4e48-ad41-66c3e4439b7c",
   "metadata": {},
   "outputs": [
    {
     "name": "stdout",
     "output_type": "stream",
     "text": [
      "21\n",
      "21\n"
     ]
    }
   ],
   "source": [
    "n = 8\n",
    "print(fib(n))\n",
    "print(fib2(n))"
   ]
  },
  {
   "cell_type": "code",
   "execution_count": null,
   "id": "0c85515a-ca5e-4037-a5b2-9552f1a44eb9",
   "metadata": {},
   "outputs": [],
   "source": []
  },
  {
   "cell_type": "code",
   "execution_count": null,
   "id": "3bb87051-249d-4a9f-9674-cb9725c41523",
   "metadata": {},
   "outputs": [],
   "source": []
  },
  {
   "cell_type": "markdown",
   "id": "10c77710-09aa-4319-b637-0caa0c46e540",
   "metadata": {},
   "source": [
    "## Default paramter in functions"
   ]
  },
  {
   "cell_type": "code",
   "execution_count": 93,
   "id": "c5e5d5e3-fe98-4fcd-b958-8b5face35193",
   "metadata": {},
   "outputs": [
    {
     "name": "stdout",
     "output_type": "stream",
     "text": [
      "n=1, a=1000, b=10\n",
      "n=3, a=99, b=25\n",
      "n=1, a=99, b=10000\n"
     ]
    }
   ],
   "source": [
    "def f(n, a=99, b=10000):\n",
    "   print(f\"n={n}, a={a}, b={b}\") \n",
    "\n",
    "f(1, a=1000, b=10)\n",
    "f(3, b=25)\n",
    "f(1)"
   ]
  },
  {
   "cell_type": "code",
   "execution_count": null,
   "id": "72cce384-af3d-448c-8227-529ee8c4c636",
   "metadata": {},
   "outputs": [],
   "source": []
  },
  {
   "cell_type": "code",
   "execution_count": 105,
   "id": "a0db52cb-d50e-4ab2-9a34-3e1c330881cb",
   "metadata": {},
   "outputs": [
    {
     "name": "stdout",
     "output_type": "stream",
     "text": [
      "199\n",
      "21\n",
      "7\n"
     ]
    }
   ],
   "source": [
    "def fib_defaultVars(n, a=4, b=7):\n",
    "    #a, b = 0, 1\n",
    "    for i in range(n):\n",
    "        a, b = b, a + b\n",
    "    return a\n",
    "\n",
    "\n",
    "n = 8\n",
    "# without passing extra parameters\n",
    "print(fib_defaultVars(n))\n",
    "# with passing extra parameters\n",
    "print(fib_defaultVars(n, 0, 1))\n",
    "print(fib_defaultVars(1))"
   ]
  },
  {
   "cell_type": "code",
   "execution_count": null,
   "id": "5544d6f1-5c51-4393-aeae-46d480c087a2",
   "metadata": {},
   "outputs": [],
   "source": []
  },
  {
   "cell_type": "code",
   "execution_count": null,
   "id": "6938507e-0814-4271-a2f2-f1e0d18073fe",
   "metadata": {},
   "outputs": [],
   "source": []
  },
  {
   "cell_type": "code",
   "execution_count": null,
   "id": "d056ca3c-a2bb-410e-afe3-9fcd0afd3065",
   "metadata": {},
   "outputs": [],
   "source": []
  },
  {
   "cell_type": "markdown",
   "id": "fbcdff93-76c8-4f27-9152-2cc4f72c4217",
   "metadata": {},
   "source": [
    "## functional programming, lambda functions"
   ]
  },
  {
   "cell_type": "code",
   "execution_count": 108,
   "id": "ba755888-53ce-409e-89dd-443bbf4d4e75",
   "metadata": {},
   "outputs": [
    {
     "data": {
      "text/plain": [
       "340"
      ]
     },
     "execution_count": 108,
     "metadata": {},
     "output_type": "execute_result"
    }
   ],
   "source": [
    "(lambda x, y : x**2 + y**2)(12,14)"
   ]
  },
  {
   "cell_type": "code",
   "execution_count": 114,
   "id": "21d6386d-4225-493e-afe6-28ec3dadb899",
   "metadata": {},
   "outputs": [
    {
     "data": {
      "text/plain": [
       "27"
      ]
     },
     "execution_count": 114,
     "metadata": {},
     "output_type": "execute_result"
    }
   ],
   "source": [
    "(lambda x, y, z : x**2 + y**2 + z**2)(3, 3, 3)"
   ]
  },
  {
   "cell_type": "code",
   "execution_count": 116,
   "id": "ef03da57-7db7-4705-9575-89b525c3819c",
   "metadata": {},
   "outputs": [
    {
     "data": {
      "text/plain": [
       "6"
      ]
     },
     "execution_count": 116,
     "metadata": {},
     "output_type": "execute_result"
    }
   ],
   "source": [
    "(lambda z: sum(z))([1,2,3,4,5])"
   ]
  },
  {
   "cell_type": "code",
   "execution_count": 120,
   "id": "c51add4a-0d8b-47e2-ad37-3f1b4b8b4f82",
   "metadata": {},
   "outputs": [
    {
     "ename": "TypeError",
     "evalue": "<lambda>() takes 1 positional argument but 5 were given",
     "output_type": "error",
     "traceback": [
      "\u001b[1;31m---------------------------------------------------------------------------\u001b[0m",
      "\u001b[1;31mTypeError\u001b[0m                                 Traceback (most recent call last)",
      "Cell \u001b[1;32mIn[120], line 1\u001b[0m\n\u001b[1;32m----> 1\u001b[0m (\u001b[38;5;28;01mlambda\u001b[39;00m z: \u001b[38;5;28msum\u001b[39m(z))(\u001b[38;5;241m1\u001b[39m,\u001b[38;5;241m2\u001b[39m,\u001b[38;5;241m3\u001b[39m,\u001b[38;5;241m4\u001b[39m,\u001b[38;5;241m5\u001b[39m)\n",
      "\u001b[1;31mTypeError\u001b[0m: <lambda>() takes 1 positional argument but 5 were given"
     ]
    }
   ],
   "source": [
    "(lambda z: sum(z))(1,2,3,4,5)\n",
    "# throws an error"
   ]
  },
  {
   "cell_type": "code",
   "execution_count": 126,
   "id": "f3e7cd9c-f16e-45a6-ab78-40f439229c5e",
   "metadata": {},
   "outputs": [
    {
     "data": {
      "text/plain": [
       "15"
      ]
     },
     "execution_count": 126,
     "metadata": {},
     "output_type": "execute_result"
    }
   ],
   "source": [
    "# to overcome this..\n",
    "(lambda *z: sum(z))(1,2,3,4,5)\n",
    "\n",
    "# the asterisk \"unpacks\" the seuqence then passes it to the lambda function"
   ]
  },
  {
   "cell_type": "code",
   "execution_count": 3,
   "id": "345c2a9d-af8e-4b32-8239-44f14f4865d6",
   "metadata": {},
   "outputs": [
    {
     "data": {
      "text/plain": [
       "10"
      ]
     },
     "execution_count": 3,
     "metadata": {},
     "output_type": "execute_result"
    }
   ],
   "source": [
    "(lambda *z: sum(z))(*range(5))"
   ]
  },
  {
   "cell_type": "code",
   "execution_count": 4,
   "id": "f14f266a-a197-4fa5-b17c-e0d94939376c",
   "metadata": {},
   "outputs": [
    {
     "data": {
      "text/plain": [
       "15"
      ]
     },
     "execution_count": 4,
     "metadata": {},
     "output_type": "execute_result"
    }
   ],
   "source": [
    "(lambda *z: sum(z))(1,2,3,4,5)"
   ]
  },
  {
   "cell_type": "code",
   "execution_count": 2,
   "id": "eb892502-b252-49ec-9a33-aef2888432b3",
   "metadata": {},
   "outputs": [
    {
     "ename": "SyntaxError",
     "evalue": "can't use starred expression here (2967029459.py, line 1)",
     "output_type": "error",
     "traceback": [
      "\u001b[1;36m  Cell \u001b[1;32mIn[2], line 1\u001b[1;36m\u001b[0m\n\u001b[1;33m    *range(11)\u001b[0m\n\u001b[1;37m    ^\u001b[0m\n\u001b[1;31mSyntaxError\u001b[0m\u001b[1;31m:\u001b[0m can't use starred expression here\n"
     ]
    }
   ],
   "source": [
    "*range(11)"
   ]
  },
  {
   "cell_type": "code",
   "execution_count": null,
   "id": "066b717d-2902-4c93-9b90-7baac6fdfd1b",
   "metadata": {},
   "outputs": [],
   "source": []
  },
  {
   "cell_type": "code",
   "execution_count": 134,
   "id": "a97e096f-0473-44c7-8fd8-36c2cb10ecff",
   "metadata": {},
   "outputs": [
    {
     "data": {
      "text/plain": [
       "0.4201670368266409"
      ]
     },
     "execution_count": 134,
     "metadata": {},
     "output_type": "execute_result"
    }
   ],
   "source": [
    "import math\n",
    "(lambda x : math.sin(x))(13)"
   ]
  },
  {
   "cell_type": "code",
   "execution_count": 136,
   "id": "9489a2c9-d3f7-470f-9d3d-9488e09070d2",
   "metadata": {},
   "outputs": [
    {
     "data": {
      "text/plain": [
       "0.4201670368266409"
      ]
     },
     "execution_count": 136,
     "metadata": {},
     "output_type": "execute_result"
    }
   ],
   "source": [
    "def f(x):\n",
    "    return math.sin(x)\n",
    "\n",
    "f(13)"
   ]
  },
  {
   "cell_type": "code",
   "execution_count": null,
   "id": "f0a41424-3e52-481d-bc86-51351c8c4a2e",
   "metadata": {},
   "outputs": [],
   "source": []
  },
  {
   "cell_type": "code",
   "execution_count": 140,
   "id": "802bac11-5601-48bc-9cd4-4f820718e43d",
   "metadata": {},
   "outputs": [
    {
     "data": {
      "text/plain": [
       "0.4201670368266409"
      ]
     },
     "execution_count": 140,
     "metadata": {},
     "output_type": "execute_result"
    }
   ],
   "source": [
    "f = (lambda x : math.sin(x))\n",
    "f(13)"
   ]
  },
  {
   "cell_type": "code",
   "execution_count": null,
   "id": "fc5c568a-8462-480c-ab13-0a4d0d977272",
   "metadata": {},
   "outputs": [],
   "source": []
  }
 ],
 "metadata": {
  "kernelspec": {
   "display_name": "Python 3 (ipykernel)",
   "language": "python",
   "name": "python3"
  },
  "language_info": {
   "codemirror_mode": {
    "name": "ipython",
    "version": 3
   },
   "file_extension": ".py",
   "mimetype": "text/x-python",
   "name": "python",
   "nbconvert_exporter": "python",
   "pygments_lexer": "ipython3",
   "version": "3.12.4"
  }
 },
 "nbformat": 4,
 "nbformat_minor": 5
}
