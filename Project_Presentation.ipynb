{
 "cells": [
  {
   "cell_type": "markdown",
   "id": "d8281b2c-7651-492d-aa9e-f81781e1a851",
   "metadata": {},
   "source": [
    "# Question 1"
   ]
  },
  {
   "cell_type": "markdown",
   "id": "489a7b63-9802-435c-b24a-b5c16b087fa2",
   "metadata": {},
   "source": [
    "Consider the first 10000 digits of $\\sqrt{2}$ and present them as a \"random walk\" by converting them in base 4, representing 4 directions (up, down, left and right). \n",
    "\n",
    "We know that $\\sqrt{2}$ is an irrational number and irrational numbers have decimal expansions that neither terminate nor become periodic."
   ]
  },
  {
   "cell_type": "markdown",
   "id": "8d3d0b62-32f5-484c-bd04-05074528cd55",
   "metadata": {},
   "source": [
    "Write a code to produce this random walk. Try this code with $\\sqrt{3}$\n",
    " $\\sqrt{6}$ and $\\sqrt{13}$.\n",
    "\n",
    "Is there any comparison one can make among these numbers?"
   ]
  },
  {
   "cell_type": "code",
   "execution_count": null,
   "id": "38b0da5e-7007-4a70-a76b-64685695a0a6",
   "metadata": {},
   "outputs": [],
   "source": []
  },
  {
   "cell_type": "markdown",
   "id": "e44073d2-9fbe-4252-9149-6c3d71f36e53",
   "metadata": {},
   "source": [
    "# Question 2 \n",
    "### Chapter 5 - problem 8.\n",
    "Consider a positive integer. Sort the decimal digits of this number in ascending and descending order. \n",
    "\n",
    "Calculate the difference of these two numbers (for example, starting from 5742 , we get $7542-2457=5085$ ). This is called the Kaprekar routine. \n",
    "\n",
    "First check that starting with any 4-digit number and repeating the Kaprekar routine, you always reach either 0 or 6174 . \n",
    "\n",
    "Then find out, among all the 4-digit numbers, what is the maximum number of iterations needed in order to get to 6174 ."
   ]
  },
  {
   "cell_type": "code",
   "execution_count": null,
   "id": "38c914ed-40e9-4dce-8fbf-6cd73b5262b6",
   "metadata": {},
   "outputs": [],
   "source": []
  },
  {
   "cell_type": "markdown",
   "id": "e3bbfaf2-5c06-49cc-9419-46d341d4dba7",
   "metadata": {},
   "source": [
    "# Question 3"
   ]
  },
  {
   "cell_type": "markdown",
   "id": "d5e5879a-a004-4467-bdd5-3f67d8444050",
   "metadata": {},
   "source": [
    "### Chapter 6 - problem 1"
   ]
  },
  {
   "cell_type": "markdown",
   "id": "9f547bb4-44bd-44f8-a63a-f48e63a68cb4",
   "metadata": {},
   "source": [
    "### Plot the graph of\n",
    "\n",
    "\n",
    "$$\n",
    "\\begin{aligned}\n",
    "& x(t)=4 \\cos (-11 t / 4)+7 \\cos (t) \\\\\n",
    "& y(t)=4 \\sin (-11 t / 4)+7 \\sin (t)\n",
    "\\end{aligned}\n",
    "$$"
   ]
  },
  {
   "cell_type": "code",
   "execution_count": null,
   "id": "ab73c9dc-269c-4252-86a2-57458925ddf1",
   "metadata": {},
   "outputs": [],
   "source": []
  },
  {
   "cell_type": "markdown",
   "id": "66d29043-2b4a-4bf4-9614-08c714806998",
   "metadata": {},
   "source": [
    "# Question 4"
   ]
  },
  {
   "cell_type": "markdown",
   "id": "225533ba-8271-4e7a-98c1-359e086146e1",
   "metadata": {},
   "source": [
    "### Chapter 7 - problem 4"
   ]
  },
  {
   "cell_type": "markdown",
   "id": "00e4f372-20ad-4a19-8823-c12836a1d1ab",
   "metadata": {},
   "source": [
    "Write function which accepts x and n and calculates\n",
    "$$\n",
    "1+\\frac{1}{1+\\frac{1}{1+\\frac{1}{1+\\cdots \\frac{1}{1+x}}}}\n",
    "$$"
   ]
  },
  {
   "cell_type": "markdown",
   "id": "4537289c-cadb-4133-af91-26ed64fab290",
   "metadata": {},
   "source": [
    "where there are n division lines in the expression on the right. "
   ]
  },
  {
   "cell_type": "code",
   "execution_count": null,
   "id": "bf376aa5-d112-4d83-85da-81389fc90f94",
   "metadata": {},
   "outputs": [],
   "source": []
  },
  {
   "cell_type": "markdown",
   "id": "a7a80eca-e6da-44b3-9d4d-1702a860c6ab",
   "metadata": {},
   "source": [
    "Can you write the code also using map and reduce."
   ]
  },
  {
   "cell_type": "code",
   "execution_count": null,
   "id": "e5fe6889-2750-42c8-8a41-39a622d5c34d",
   "metadata": {},
   "outputs": [],
   "source": []
  },
  {
   "cell_type": "markdown",
   "id": "b49740aa-fa7d-46ab-b38a-3fb798061197",
   "metadata": {},
   "source": [
    "# Question 5"
   ]
  },
  {
   "cell_type": "markdown",
   "id": "d3011e40-6dfc-4cf8-a1c2-c49a3c2731a0",
   "metadata": {},
   "source": [
    "### Chapter 8 - problem 8"
   ]
  },
  {
   "cell_type": "markdown",
   "id": "c2efeba5-439d-4c50-94cd-e32deb20cdb6",
   "metadata": {},
   "source": [
    "Plot the graph of the function"
   ]
  },
  {
   "cell_type": "markdown",
   "id": "27d32c99-5139-47ca-9fa7-855d37ce821e",
   "metadata": {},
   "source": [
    "$$\n",
    "f(x)= \\begin{cases}-x, & \\text { if }|x|<1 \\\\ \\sum_{n=1}^{10} \\sin \\left(\\frac{x}{n}\\right), & \\text { if } 1 \\leq|x|<2 \\\\ \\sum_{n=1}^{10} \\cos \\left(\\frac{x}{n}\\right), & \\text { otherwise }\\end{cases}\n",
    "$$"
   ]
  },
  {
   "cell_type": "code",
   "execution_count": null,
   "id": "19b99563-9c08-48a6-837c-1b2a644cc238",
   "metadata": {},
   "outputs": [],
   "source": []
  }
 ],
 "metadata": {
  "kernelspec": {
   "display_name": "Python 3 (ipykernel)",
   "language": "python",
   "name": "python3"
  },
  "language_info": {
   "codemirror_mode": {
    "name": "ipython",
    "version": 3
   },
   "file_extension": ".py",
   "mimetype": "text/x-python",
   "name": "python",
   "nbconvert_exporter": "python",
   "pygments_lexer": "ipython3",
   "version": "3.12.4"
  }
 },
 "nbformat": 4,
 "nbformat_minor": 5
}
