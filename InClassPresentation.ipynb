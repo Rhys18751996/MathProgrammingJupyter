{
 "cells": [
  {
   "cell_type": "markdown",
   "id": "b939f0a7-a0f5-481a-bd89-bc80dfe1fec1",
   "metadata": {},
   "source": [
    "# chapter 6\n",
    "## Problem 9. \n",
    "Construct a $10 \\times 10$ upper triangular matrix $A$ (see Wikipedia for the definition of such matrices) whose nonzero entries are random integers. \n",
    "\n",
    "Show that its determinant is equal to the product of the entries on its main diagonal. \n",
    "\n",
    "Now consider the transpose matrix $A^{t}$ and show that its determinant $\\left(\\operatorname{det}\\left(A^{t}\\right)\\right)$ is the same as $A$. \n",
    "\n",
    "What is $\\operatorname{det}\\left(A+A^{t}\\right)$ ?"
   ]
  },
  {
   "cell_type": "code",
   "execution_count": 8,
   "id": "ac6ffb23-91b0-4ad9-a48c-c7361c157a03",
   "metadata": {},
   "outputs": [],
   "source": [
    "import numpy as np"
   ]
  },
  {
   "cell_type": "code",
   "execution_count": 16,
   "id": "fdc16dba-afc2-410f-818c-b2b72ccd7907",
   "metadata": {},
   "outputs": [
    {
     "data": {
      "text/plain": [
       "array([[ -3,   7,  -6,   4,   6,  -5,  -4,  -4,   7,   0],\n",
       "       [  9,   5,  -8,   4,   7,   3,  -6,  -5,   0,   1],\n",
       "       [ -4,   7,  -7,  -1,  -4,   7,   4,  -6,   4,   3],\n",
       "       [ -4,   5,  -9,  -9,  -7,   5,  -8,   0,  -3,  -9],\n",
       "       [ -8,   2,   5,   4,  -4,  -8,   3,   3,  -6,   6],\n",
       "       [ -4,  -2,   1,  -1,  -7,   8,  -3,  -5,   3,   7],\n",
       "       [  0,  -7,  -5,  -4,   4,   9,  -2,  -9, -10,  -5],\n",
       "       [  7,   4,  -5,   7,   6,  -5,  -7,  -7,   3,  -1],\n",
       "       [ -1,   6,   3,   4,   4,  -2,   7,  -4,   8,   3],\n",
       "       [  5,  -9,  -1,   4,  -2,   8,  -2, -10,   9,  -6]])"
      ]
     },
     "execution_count": 16,
     "metadata": {},
     "output_type": "execute_result"
    }
   ],
   "source": [
    "arrayA = np.random.randint(low=-10, high=10, size=(10,10))\n",
    "arrayA"
   ]
  },
  {
   "cell_type": "code",
   "execution_count": 18,
   "id": "078f12e5-4171-4e5e-8cbe-527f491de675",
   "metadata": {},
   "outputs": [
    {
     "name": "stdout",
     "output_type": "stream",
     "text": [
      "[[ -3   7  -6   4   6  -5  -4  -4   7   0]\n",
      " [  0   5  -8   4   7   3  -6  -5   0   1]\n",
      " [  0   0  -7  -1  -4   7   4  -6   4   3]\n",
      " [  0   0   0  -9  -7   5  -8   0  -3  -9]\n",
      " [  0   0   0   0  -4  -8   3   3  -6   6]\n",
      " [  0   0   0   0   0   8  -3  -5   3   7]\n",
      " [  0   0   0   0   0   0  -2  -9 -10  -5]\n",
      " [  0   0   0   0   0   0   0  -7   3  -1]\n",
      " [  0   0   0   0   0   0   0   0   8   3]\n",
      " [  0   0   0   0   0   0   0   0   0  -6]]\n"
     ]
    }
   ],
   "source": [
    "A = np.triu(arrayA)\n",
    "print(A)"
   ]
  },
  {
   "cell_type": "code",
   "execution_count": 20,
   "id": "5d810927-1df5-4661-9a08-78263794326e",
   "metadata": {},
   "outputs": [
    {
     "name": "stdout",
     "output_type": "stream",
     "text": [
      "-20321280.000000034\n"
     ]
    }
   ],
   "source": [
    "det_A = np.linalg.det(A)\n",
    "print(det_A)"
   ]
  },
  {
   "cell_type": "code",
   "execution_count": 24,
   "id": "4cf08fc4-e920-4199-943f-798123926689",
   "metadata": {},
   "outputs": [
    {
     "name": "stdout",
     "output_type": "stream",
     "text": [
      "[-3  5 -7 -9 -4  8 -2 -7  8 -6]\n",
      "-20321280\n"
     ]
    }
   ],
   "source": [
    "diagonal_entries = np.diag(A)\n",
    "print(diagonal_entries)\n",
    "\n",
    "productOfDiagonalEntries = np.prod(diagonal_entries)\n",
    "print(productOfDiagonalEntries)"
   ]
  },
  {
   "cell_type": "code",
   "execution_count": 28,
   "id": "abc60c4b-8f61-4b42-add5-771feb2647fc",
   "metadata": {},
   "outputs": [
    {
     "data": {
      "text/plain": [
       "True"
      ]
     },
     "execution_count": 28,
     "metadata": {},
     "output_type": "execute_result"
    }
   ],
   "source": [
    "round(det_A,3) == round(productOfDiagonalEntries,3)"
   ]
  },
  {
   "cell_type": "code",
   "execution_count": 30,
   "id": "f1f0e905-1ac0-454e-a816-f5ae01cc3988",
   "metadata": {},
   "outputs": [
    {
     "name": "stdout",
     "output_type": "stream",
     "text": [
      "[[ -3   0   0   0   0   0   0   0   0   0]\n",
      " [  7   5   0   0   0   0   0   0   0   0]\n",
      " [ -6  -8  -7   0   0   0   0   0   0   0]\n",
      " [  4   4  -1  -9   0   0   0   0   0   0]\n",
      " [  6   7  -4  -7  -4   0   0   0   0   0]\n",
      " [ -5   3   7   5  -8   8   0   0   0   0]\n",
      " [ -4  -6   4  -8   3  -3  -2   0   0   0]\n",
      " [ -4  -5  -6   0   3  -5  -9  -7   0   0]\n",
      " [  7   0   4  -3  -6   3 -10   3   8   0]\n",
      " [  0   1   3  -9   6   7  -5  -1   3  -6]]\n"
     ]
    }
   ],
   "source": [
    "A_T = A.T\n",
    "print(A_T)"
   ]
  },
  {
   "cell_type": "code",
   "execution_count": 34,
   "id": "e0f808be-b8b8-461d-83e1-c9180a263a45",
   "metadata": {},
   "outputs": [
    {
     "name": "stdout",
     "output_type": "stream",
     "text": [
      "-20321280.0\n"
     ]
    }
   ],
   "source": [
    "det_A_T = np.linalg.det(A_T)\n",
    "print(round(det_A_T,3))"
   ]
  },
  {
   "cell_type": "code",
   "execution_count": 36,
   "id": "2336c542-fd1e-4b00-9886-7526bde8acc3",
   "metadata": {},
   "outputs": [
    {
     "data": {
      "text/plain": [
       "True"
      ]
     },
     "execution_count": 36,
     "metadata": {},
     "output_type": "execute_result"
    }
   ],
   "source": [
    "round(det_A_T,3) == round(det_A,3)"
   ]
  },
  {
   "cell_type": "code",
   "execution_count": 38,
   "id": "070c8835-7807-41f4-988e-92486e1d6a61",
   "metadata": {},
   "outputs": [],
   "source": [
    "#what is the |A + A_T|\n",
    "# A[n][m] + B[n][m]"
   ]
  },
  {
   "cell_type": "code",
   "execution_count": 40,
   "id": "d54c89f7-05c4-4491-bcac-e170a92ac769",
   "metadata": {},
   "outputs": [
    {
     "name": "stdout",
     "output_type": "stream",
     "text": [
      "[[ -6   7  -6   4   6  -5  -4  -4   7   0]\n",
      " [  7  10  -8   4   7   3  -6  -5   0   1]\n",
      " [ -6  -8 -14  -1  -4   7   4  -6   4   3]\n",
      " [  4   4  -1 -18  -7   5  -8   0  -3  -9]\n",
      " [  6   7  -4  -7  -8  -8   3   3  -6   6]\n",
      " [ -5   3   7   5  -8  16  -3  -5   3   7]\n",
      " [ -4  -6   4  -8   3  -3  -4  -9 -10  -5]\n",
      " [ -4  -5  -6   0   3  -5  -9 -14   3  -1]\n",
      " [  7   0   4  -3  -6   3 -10   3  16   3]\n",
      " [  0   1   3  -9   6   7  -5  -1   3 -12]]\n"
     ]
    }
   ],
   "source": [
    "AplusA_T = np.add(A, A_T)\n",
    "print(AplusA_T)"
   ]
  },
  {
   "cell_type": "code",
   "execution_count": 42,
   "id": "c63b95d6-6448-416f-aef6-66816409450d",
   "metadata": {},
   "outputs": [
    {
     "name": "stdout",
     "output_type": "stream",
     "text": [
      "149308468886.99893\n"
     ]
    }
   ],
   "source": [
    "det_AplusA_T = np.linalg.det(AplusA_T)\n",
    "print(det_AplusA_T)"
   ]
  },
  {
   "cell_type": "code",
   "execution_count": null,
   "id": "c2d37bef-25c4-45a8-bb3a-4f2328d28efa",
   "metadata": {},
   "outputs": [],
   "source": []
  }
 ],
 "metadata": {
  "kernelspec": {
   "display_name": "Python 3 (ipykernel)",
   "language": "python",
   "name": "python3"
  },
  "language_info": {
   "codemirror_mode": {
    "name": "ipython",
    "version": 3
   },
   "file_extension": ".py",
   "mimetype": "text/x-python",
   "name": "python",
   "nbconvert_exporter": "python",
   "pygments_lexer": "ipython3",
   "version": "3.12.4"
  }
 },
 "nbformat": 4,
 "nbformat_minor": 5
}
