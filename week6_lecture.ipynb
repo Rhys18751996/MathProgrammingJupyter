{
 "cells": [
  {
   "cell_type": "code",
   "execution_count": 3,
   "id": "9ff87b10-11c6-4c41-89ef-d3a4321e4af6",
   "metadata": {},
   "outputs": [],
   "source": [
    "def primeQ(n):\n",
    "    if n==0 or n==1:\n",
    "        return False\n",
    "    elif n==2:\n",
    "        return True\n",
    "    elif n % 2==0:\n",
    "        return False\n",
    "    for i in range(3, n//2+1):\n",
    "        if n % i == 0:\n",
    "            return False\n",
    "    return True"
   ]
  },
  {
   "cell_type": "markdown",
   "id": "c4d6cbdd-3c69-4713-b71b-c03e94b39f9f",
   "metadata": {},
   "source": [
    "What is the first prime after 27364372"
   ]
  },
  {
   "cell_type": "code",
   "execution_count": 5,
   "id": "a4c16f4c-90bc-48df-868d-770a94d611d3",
   "metadata": {},
   "outputs": [
    {
     "name": "stdout",
     "output_type": "stream",
     "text": [
      "27364433\n"
     ]
    }
   ],
   "source": [
    "n = 27364372\n",
    "\n",
    "while not primeQ(n):\n",
    "    n += 1 # the next number\n",
    "print(n)\n",
    "        "
   ]
  },
  {
   "cell_type": "code",
   "execution_count": 8,
   "id": "c0778efb-9953-484e-ad4c-0e46ade41e85",
   "metadata": {},
   "outputs": [
    {
     "data": {
      "text/plain": [
       "True"
      ]
     },
     "execution_count": 8,
     "metadata": {},
     "output_type": "execute_result"
    }
   ],
   "source": [
    "import sympy\n",
    "sympy.isprime(27364433)"
   ]
  },
  {
   "cell_type": "code",
   "execution_count": 10,
   "id": "7afc366e-3a60-431b-af3e-cded429e0a6f",
   "metadata": {},
   "outputs": [
    {
     "name": "stdout",
     "output_type": "stream",
     "text": [
      "[27364433, 27364439, 27364451, 27364489, 27364511]\n"
     ]
    }
   ],
   "source": [
    "firstFivePrimes = []\n",
    "n = 27364372\n",
    "\n",
    "while len(firstFivePrimes) < 5:\n",
    "    if(primeQ(n)):\n",
    "        firstFivePrimes.append(n)\n",
    "    n += 1\n",
    "\n",
    "print(firstFivePrimes)"
   ]
  },
  {
   "cell_type": "code",
   "execution_count": 20,
   "id": "c156caf6-cf27-49a7-81d5-1a44e4a28344",
   "metadata": {},
   "outputs": [
    {
     "name": "stdout",
     "output_type": "stream",
     "text": [
      "[44, 4, 16]\n"
     ]
    }
   ],
   "source": [
    "import sympy\n",
    "\n",
    "def f(sequence):\n",
    "    resultList = []\n",
    "    for n in sequence:\n",
    "        if(sympy.isprime(n)):\n",
    "           break\n",
    "        else:\n",
    "            resultList.append(n)\n",
    "    return resultList\n",
    "\n",
    "seq = (4,16,17,18,3,5)\n",
    "print(f(seq))"
   ]
  },
  {
   "cell_type": "code",
   "execution_count": 22,
   "id": "bee9600c-2625-4409-9bdd-5c995fd341ea",
   "metadata": {},
   "outputs": [
    {
     "data": {
      "text/plain": [
       "(4, 16)"
      ]
     },
     "execution_count": 22,
     "metadata": {},
     "output_type": "execute_result"
    }
   ],
   "source": [
    "# or another way\n",
    "def fp(*n):\n",
    "    for i in range(len(n)):\n",
    "        if primeQ(n[i]):\n",
    "            return n[ : i]\n",
    "    return n\n",
    "fp(4,16,17,18,3,5)"
   ]
  },
  {
   "cell_type": "code",
   "execution_count": 54,
   "id": "a494b2e3-aa14-446b-8f03-158291365c75",
   "metadata": {},
   "outputs": [
    {
     "name": "stdout",
     "output_type": "stream",
     "text": [
      "[17, 3, 5]\n"
     ]
    }
   ],
   "source": [
    "def pickUpPrimes(a):\n",
    "    primes = []\n",
    "    for i in a:\n",
    "        if primeQ(i):\n",
    "            primes.append(i)\n",
    "    return primes\n",
    "\n",
    "print(pickUpPrimes([4,16,17,18,3,5]))"
   ]
  },
  {
   "cell_type": "code",
   "execution_count": 30,
   "id": "a517c628-3d0f-4743-b907-b791b57cb58b",
   "metadata": {},
   "outputs": [
    {
     "data": {
      "text/plain": [
       "[17, 3, 5]"
      ]
     },
     "execution_count": 30,
     "metadata": {},
     "output_type": "execute_result"
    }
   ],
   "source": [
    "def pk1(*a):\n",
    "    L=[]\n",
    "    for i in range(len(a)):\n",
    "        if primeQ(a[i]):\n",
    "            L+=[a[i]]\n",
    "    return L\n",
    "\n",
    "pk1(4,16,17,18,3,5)\n"
   ]
  },
  {
   "cell_type": "markdown",
   "id": "291b2210-5784-4087-9173-727559bab7f2",
   "metadata": {},
   "source": [
    "Write a code to receive a sequence of names\n",
    "\n",
    "pick the ones that start with 'n' or 'N'"
   ]
  },
  {
   "cell_type": "code",
   "execution_count": 96,
   "id": "852dee5b-9d24-4b0a-923e-88c9b390ba66",
   "metadata": {},
   "outputs": [
    {
     "data": {
      "text/plain": [
       "['Narmak', 'nAsko']"
      ]
     },
     "execution_count": 96,
     "metadata": {},
     "output_type": "execute_result"
    }
   ],
   "source": [
    "def names(*args):\n",
    "    filteredList = []\n",
    "    for name in args:\n",
    "        if len(name) > 2:\n",
    "            if name[0].lower() == 'n' and name[1].lower() == 'a':\n",
    "            #if name.lower().startswith('na'):\n",
    "                filteredList.append(name)\n",
    "    return filteredList\n",
    "\n",
    "names('western sydney', 'nippon', 'Parramatta', 'Narmak', 'CBD', 'pilly', 'nAsko', 'n')"
   ]
  },
  {
   "cell_type": "code",
   "execution_count": 100,
   "id": "1bfcd719-2d59-4100-b326-58f39d364c3d",
   "metadata": {},
   "outputs": [
    {
     "data": {
      "text/plain": [
       "['Narmak', 'nAsko']"
      ]
     },
     "execution_count": 100,
     "metadata": {},
     "output_type": "execute_result"
    }
   ],
   "source": [
    "def namena(*words):\n",
    "    L=[]\n",
    "    for word in words:\n",
    "        if word[0:2].lower() == 'na':\n",
    "            L.append(word)\n",
    "    return L\n",
    "namena('western sydney', 'nippon', 'Parramatta', 'Narmak', 'CBD', 'pilly', 'nAsko', 'n')"
   ]
  },
  {
   "cell_type": "code",
   "execution_count": 116,
   "id": "0514e193-3d2a-4693-9a4b-95ba244776c9",
   "metadata": {},
   "outputs": [
    {
     "data": {
      "text/plain": [
       "'Napoleon'"
      ]
     },
     "execution_count": 116,
     "metadata": {},
     "output_type": "execute_result"
    }
   ],
   "source": [
    "text = \"Napoleon Bonaparte (born Napoleone di Buonaparte;[1][b] 15 August 1769 – 5 May 1821), later known by his regnal name Napoleon I, was a French military officer and statesman who rose to prominence during the French Revolution and led a series of successful campaigns across Europe during the French Revolutionary and Napoleonic Wars from 1796 to 1815. He was the leader of the French Republic as First Consul from 1799 to 1804, then of the French Empire as Emperor of the French from 1804 to 1814, and briefly again in 1815.\"\n",
    "text = text.split()\n",
    "text[0]"
   ]
  },
  {
   "cell_type": "code",
   "execution_count": 134,
   "id": "9b69a9b5-fc5b-4cc6-9006-33e9ff465a91",
   "metadata": {},
   "outputs": [
    {
     "name": "stdout",
     "output_type": "stream",
     "text": [
      "['xxxxx', 'Bonaparte', '(born', 'Napoleone', 'di', 'Buonaparte;[1][b]', '15', 'August', '1769', '–', '5', 'May', '1821),', 'later', 'known', 'by', 'his', 'regnal', 'name', 'xxxxx', 'I,', 'was', 'a', 'French', 'military', 'officer', 'and', 'statesman', 'who', 'rose', 'to', 'prominence', 'during', 'the', 'French', 'Revolution', 'and', 'led', 'a', 'series', 'of', 'successful', 'campaigns', 'across', 'Europe', 'during', 'the', 'French', 'Revolutionary', 'and', 'Napoleonic', 'Wars', 'from', '1796', 'to', '1815.', 'He', 'was', 'the', 'leader', 'of', 'the', 'French', 'Republic', 'as', 'First', 'Consul', 'from', '1799', 'to', '1804,', 'then', 'of', 'the', 'French', 'Empire', 'as', 'Emperor', 'of', 'the', 'French', 'from', '1804', 'to', '1814,', 'and', 'briefly', 'again', 'in', '1815.']\n"
     ]
    }
   ],
   "source": [
    "def hideWord(text, wordToHide):\n",
    "    newText = []\n",
    "    for word in text:\n",
    "        if(word.lower() == wordToHide.lower()):\n",
    "            newText.append(\"xxxxx\")\n",
    "        else:\n",
    "            newText.append(word)\n",
    "    return newText\n",
    "    \n",
    "print(hideWord(text, \"Napoleon\"))"
   ]
  },
  {
   "cell_type": "code",
   "execution_count": null,
   "id": "d8746883-3ef5-4a1a-ac8c-b0f3855e0768",
   "metadata": {},
   "outputs": [],
   "source": []
  }
 ],
 "metadata": {
  "kernelspec": {
   "display_name": "Python 3 (ipykernel)",
   "language": "python",
   "name": "python3"
  },
  "language_info": {
   "codemirror_mode": {
    "name": "ipython",
    "version": 3
   },
   "file_extension": ".py",
   "mimetype": "text/x-python",
   "name": "python",
   "nbconvert_exporter": "python",
   "pygments_lexer": "ipython3",
   "version": "3.12.4"
  }
 },
 "nbformat": 4,
 "nbformat_minor": 5
}
