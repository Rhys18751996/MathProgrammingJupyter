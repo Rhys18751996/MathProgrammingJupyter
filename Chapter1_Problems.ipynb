{
 "cells": [
  {
   "cell_type": "markdown",
   "id": "57c2a655-f6cd-43a4-bed7-1c271ffd4803",
   "metadata": {},
   "source": [
    "# A Course in Python\n",
    "## Chapter 1 - Problems"
   ]
  },
  {
   "cell_type": "code",
   "execution_count": 22,
   "id": "32ded551-89ae-44ce-afc7-c441170e732c",
   "metadata": {},
   "outputs": [],
   "source": [
    "import math\n",
    "import numpy\n",
    "import sympy"
   ]
  },
  {
   "cell_type": "markdown",
   "id": "93b3f653-de12-4ee8-8990-200e7e4da8bd",
   "metadata": {},
   "source": [
    "### 1) Compute\n",
    "$$\n",
    "\\sqrt{1+\\frac{1}{1^2}+\\frac{1}{2^2}}+\\sqrt{1+\\frac{1}{2^2}+\\frac{1}{3^2}}+\\sqrt{1+\\frac{1}{3^2}+\\frac{1}{4^2}}\n",
    "$$"
   ]
  },
  {
   "cell_type": "code",
   "execution_count": 24,
   "id": "0e2dc581-d536-4fc5-8104-781393d24030",
   "metadata": {},
   "outputs": [
    {
     "data": {
      "text/plain": [
       "3.75"
      ]
     },
     "execution_count": 24,
     "metadata": {},
     "output_type": "execute_result"
    }
   ],
   "source": [
    "math.sqrt( 1 + (1 / 1**2) + (1 / 2**2) ) + math.sqrt( 1 + (1 / 2**2) + (1 / 3**2) ) + math.sqrt( 1 + (1 / 3**2) + (1 / 4**2) )"
   ]
  },
  {
   "cell_type": "code",
   "execution_count": 40,
   "id": "598f8d36-36cd-471c-b71a-330f958e0d84",
   "metadata": {},
   "outputs": [
    {
     "data": {
      "text/plain": [
       "3.75"
      ]
     },
     "execution_count": 40,
     "metadata": {},
     "output_type": "execute_result"
    }
   ],
   "source": [
    "result = 0;\n",
    "for x in range(1, 4):\n",
    "    result += math.sqrt( 1 + (1 / x**2) + (1 / (x+1)**2) )\n",
    "result"
   ]
  },
  {
   "cell_type": "markdown",
   "id": "f14c1e0f-9970-4fd2-9186-408ca8f2c53f",
   "metadata": {},
   "source": [
    "### 2) Compute\n",
    "$$\n",
    "\\left(\\frac{1}{2}+\\frac{1}{3}+\\frac{1}{5}+\\frac{1}{7}\\right)+\\left(\\frac{5}{2}+\\frac{5}{3}+\\frac{5}{5}+\\frac{5}{7}\\right)+\\left(\\frac{11}{2}+\\frac{11}{3}+\\frac{11}{5}+\\frac{11}{7}\\right)\n",
    "$$"
   ]
  },
  {
   "cell_type": "code",
   "execution_count": 46,
   "id": "618be1d4-a9f2-4e4b-bc7d-c0d694460417",
   "metadata": {},
   "outputs": [
    {
     "data": {
      "text/plain": [
       "19.995238095238093"
      ]
     },
     "execution_count": 46,
     "metadata": {},
     "output_type": "execute_result"
    }
   ],
   "source": [
    "((1/2)+(1/3)+(1/5)+(1/7)) + ((5/2)+(5/3)+(5/5)+(5/7)) + ((11/2)+(11/3)+(11/5)+(11/7))"
   ]
  },
  {
   "cell_type": "markdown",
   "id": "6c8da075-f792-495b-854d-d4825d9c3caf",
   "metadata": {},
   "source": [
    "### 3) Show that for any two positive numbers 𝑎 and 𝑏, if 𝑎 + 𝑏 = 1, then\n",
    "$$\n",
    "\\left(a+\\frac{1}{a}\\right)^2+\\left(b+\\frac{1}{b}\\right)^2 \\geq \\frac{25}{2}\n",
    "$$"
   ]
  },
  {
   "cell_type": "code",
   "execution_count": null,
   "id": "2246bb24-c1a5-4916-b08c-ce31e80ef093",
   "metadata": {},
   "outputs": [],
   "source": []
  },
  {
   "cell_type": "markdown",
   "id": "d23106cd-4c8d-4558-ac32-a2ab7a2dbb4b",
   "metadata": {},
   "source": [
    "### 4) Use Python to show that\n",
    "$$\n",
    "\\tan \\frac{3 \\pi}{11}+4 \\sin \\frac{2 \\pi}{11}=\\sqrt{11}\n",
    "$$"
   ]
  },
  {
   "cell_type": "code",
   "execution_count": 66,
   "id": "14e6bfae-759d-4915-b9d1-38444e13d492",
   "metadata": {},
   "outputs": [
    {
     "data": {
      "text/plain": [
       "True"
      ]
     },
     "execution_count": 66,
     "metadata": {},
     "output_type": "execute_result"
    }
   ],
   "source": [
    "math.tan((3 * math.pi) / 11) + (4 * math.sin((2 * math.pi) / 11)) == math.sqrt(11)\n"
   ]
  },
  {
   "cell_type": "markdown",
   "id": "259f0932-85b7-4d4b-ac0d-09b4255c69aa",
   "metadata": {},
   "source": [
    "### 5) Show that\n",
    "$$\n",
    "\\sqrt{\\sqrt[3]{64}\\left(2^2+(1 / 2)^2\\right)-1}=4\n",
    "$$"
   ]
  },
  {
   "cell_type": "code",
   "execution_count": 68,
   "id": "e23bb6af-ad62-4c67-9a00-dc59e597a9ba",
   "metadata": {},
   "outputs": [
    {
     "data": {
      "text/plain": [
       "True"
      ]
     },
     "execution_count": 68,
     "metadata": {},
     "output_type": "execute_result"
    }
   ],
   "source": [
    "math.sqrt(math.cbrt(64) * (2**2 + (1/2)**2) - 1) == 4"
   ]
  },
  {
   "cell_type": "markdown",
   "id": "1620d6a6-1eff-44ea-8df2-d41592a5e71a",
   "metadata": {},
   "source": [
    "### 6) Show that\n",
    "$$\n",
    "\\sin \\left(\\frac{2 \\pi}{10}\\right)+\\sin \\left(\\frac{4 \\pi}{10}\\right)+\\cdots+\\sin \\left(\\frac{10 \\pi}{10}\\right)=\\sqrt{\\frac{1}{2}(5-\\sqrt{5})}+\\sqrt{\\frac{1}{2}(5+\\sqrt{5})}\n",
    "$$"
   ]
  },
  {
   "cell_type": "code",
   "execution_count": 104,
   "id": "7031bf62-9905-4033-b1c2-1f2c6340a2d4",
   "metadata": {},
   "outputs": [
    {
     "data": {
      "text/plain": [
       "3.0776835371752536"
      ]
     },
     "execution_count": 104,
     "metadata": {},
     "output_type": "execute_result"
    }
   ],
   "source": [
    "lhs = 0;\n",
    "num = 2;\n",
    "while num <= 10:\n",
    "    lhs += math.sin((num*math.pi) / 10)\n",
    "    num += 2\n",
    "lhs"
   ]
  },
  {
   "cell_type": "code",
   "execution_count": 102,
   "id": "edc3bff7-965e-47e2-9ffa-e19ac327a348",
   "metadata": {},
   "outputs": [
    {
     "data": {
      "text/plain": [
       "3.077683537175253"
      ]
     },
     "execution_count": 102,
     "metadata": {},
     "output_type": "execute_result"
    }
   ],
   "source": [
    "rhs = (math.sqrt( (1/2) * (5 - math.sqrt(5)))) + (math.sqrt( (1/2) * (5 + math.sqrt(5))))\n",
    "rhs"
   ]
  },
  {
   "cell_type": "markdown",
   "id": "2ed85b87-cfbb-4a7d-ba76-2782abdb0daf",
   "metadata": {
    "jp-MarkdownHeadingCollapsed": true
   },
   "source": [
    "### 7) Show that\n",
    "$$\n",
    "\\left(\\frac{1}{2}+\\cos \\left(\\frac{\\pi}{20}\\right)\\right)\\left(\\frac{1}{2}+\\cos \\left(\\frac{3 \\pi}{20}\\right)\\right)\\left(\\frac{1}{2}+\\cos \\left(\\frac{9 \\pi}{20}\\right)\\right)\\left(\\frac{1}{2}+\\cos \\left(\\frac{27 \\pi}{20}\\right)\\right)=\\frac{1}{16}\n",
    "$$"
   ]
  },
  {
   "cell_type": "code",
   "execution_count": null,
   "id": "aecfe471-d5de-4eb1-9393-235cc92445e6",
   "metadata": {},
   "outputs": [],
   "source": []
  },
  {
   "cell_type": "markdown",
   "id": "66a19106-7fdb-42c8-aa15-602f0e76efb0",
   "metadata": {},
   "source": [
    "### 8) \n",
    "By looking at various examples, observe that the product of four consecutive \n",
    "numbers plus one is always a square number."
   ]
  },
  {
   "cell_type": "code",
   "execution_count": null,
   "id": "4d515621-4991-4bfe-a719-52373bd56d45",
   "metadata": {},
   "outputs": [],
   "source": []
  },
  {
   "cell_type": "markdown",
   "id": "e7faa096-b817-4cef-abc3-c8a331585c08",
   "metadata": {},
   "source": [
    "### 9) Using Python, demonstrate that\n",
    "$$\n",
    "\\frac{1+\\sin (x)-\\cos (x)}{1+\\sin (x)+\\cos (x)}=\\tan (x / 2)\n",
    "$$"
   ]
  },
  {
   "cell_type": "code",
   "execution_count": null,
   "id": "a1389da0-90c2-4d9e-b316-88098287a9a8",
   "metadata": {},
   "outputs": [],
   "source": []
  }
 ],
 "metadata": {
  "kernelspec": {
   "display_name": "Python 3 (ipykernel)",
   "language": "python",
   "name": "python3"
  },
  "language_info": {
   "codemirror_mode": {
    "name": "ipython",
    "version": 3
   },
   "file_extension": ".py",
   "mimetype": "text/x-python",
   "name": "python",
   "nbconvert_exporter": "python",
   "pygments_lexer": "ipython3",
   "version": "3.12.4"
  }
 },
 "nbformat": 4,
 "nbformat_minor": 5
}
