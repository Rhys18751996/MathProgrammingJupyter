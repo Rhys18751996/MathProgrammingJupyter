{
 "cells": [
  {
   "cell_type": "markdown",
   "id": "57c2a655-f6cd-43a4-bed7-1c271ffd4803",
   "metadata": {},
   "source": [
    "# A Course in Python\n",
    "## Chapter 1 - Problems"
   ]
  },
  {
   "cell_type": "markdown",
   "id": "93b3f653-de12-4ee8-8990-200e7e4da8bd",
   "metadata": {},
   "source": [
    "### 1) Compute\n",
    "$$\n",
    "\\sqrt{1+\\frac{1}{1^2}+\\frac{1}{2^2}}+\\sqrt{1+\\frac{1}{2^2}+\\frac{1}{3^2}}+\\sqrt{1+\\frac{1}{3^2}+\\frac{1}{4^2}}\n",
    "$$"
   ]
  },
  {
   "cell_type": "code",
   "execution_count": null,
   "id": "0e2dc581-d536-4fc5-8104-781393d24030",
   "metadata": {},
   "outputs": [],
   "source": []
  },
  {
   "cell_type": "markdown",
   "id": "f14c1e0f-9970-4fd2-9186-408ca8f2c53f",
   "metadata": {},
   "source": [
    "### 2) Compute\n",
    "$$\n",
    "\\left(\\frac{1}{2}+\\frac{1}{3}+\\frac{1}{5}+\\frac{1}{7}\\right)+\\left(\\frac{5}{2}+\\frac{5}{3}+\\frac{5}{5}+\\frac{5}{7}\\right)+\\left(\\frac{11}{2}+\\frac{11}{3}+\\frac{11}{5}+\\frac{11}{7}\\right)\n",
    "$$"
   ]
  },
  {
   "cell_type": "code",
   "execution_count": null,
   "id": "a1a38005-e730-4e9d-b294-cb9115246b00",
   "metadata": {},
   "outputs": [],
   "source": []
  },
  {
   "cell_type": "code",
   "execution_count": null,
   "id": "14ae23db-d027-4ac9-9ac9-ce4fb43c7618",
   "metadata": {},
   "outputs": [],
   "source": []
  }
 ],
 "metadata": {
  "kernelspec": {
   "display_name": "Python 3 (ipykernel)",
   "language": "python",
   "name": "python3"
  },
  "language_info": {
   "codemirror_mode": {
    "name": "ipython",
    "version": 3
   },
   "file_extension": ".py",
   "mimetype": "text/x-python",
   "name": "python",
   "nbconvert_exporter": "python",
   "pygments_lexer": "ipython3",
   "version": "3.12.4"
  }
 },
 "nbformat": 4,
 "nbformat_minor": 5
}
