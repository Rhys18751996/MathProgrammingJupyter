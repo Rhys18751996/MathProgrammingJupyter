{
 "cells": [
  {
   "cell_type": "markdown",
   "id": "83bd82f1-15bf-4d47-b19d-509ccd05399b",
   "metadata": {},
   "source": [
    "# A Course in Python"
   ]
  },
  {
   "cell_type": "code",
   "execution_count": 2,
   "id": "a6ba3ca6-84fb-4a97-a3c9-9dd8d5ee4515",
   "metadata": {},
   "outputs": [],
   "source": [
    "import math\n",
    "import numpy\n",
    "import sympy"
   ]
  },
  {
   "cell_type": "markdown",
   "id": "5f80d111-7bd7-41ab-85c3-f75f7833dc76",
   "metadata": {},
   "source": [
    "### Exercise 1.3 - Calculate the expression\n",
    "\\sqrt[3]{\\mathrm{e}^\\pi+\\log \\left(\\frac{23}{\\sin \\left(\\frac{\\pi}{6}\\right)}\\right)}\n",
    "$$\n",
    "\\sqrt[3]{\\mathrm{e}^\\pi+\\log \\left(\\frac{23}{\\sin \\left(\\frac{\\pi}{6}\\right)}\\right)}\n",
    "$$"
   ]
  },
  {
   "cell_type": "code",
   "execution_count": 4,
   "id": "62696f60-e450-45a5-8fe9-bee30b91cb2c",
   "metadata": {},
   "outputs": [
    {
     "data": {
      "text/plain": [
       "1.0"
      ]
     },
     "execution_count": 4,
     "metadata": {},
     "output_type": "execute_result"
    }
   ],
   "source": [
    "math.sin(math.pi/5)**2 + math.cos(math.pi/5)**2"
   ]
  },
  {
   "cell_type": "code",
   "execution_count": null,
   "id": "b931e8dd-0bdb-40a1-ac3e-8273dd1aff87",
   "metadata": {},
   "outputs": [],
   "source": []
  },
  {
   "cell_type": "markdown",
   "id": "dfff7bd5-79d1-4970-8cb0-cfd77cc15184",
   "metadata": {},
   "source": [
    "### Exercise 1.4 Compute\n",
    "6 + \\frac{1}{{5 + \\frac{1}{{4 + \\frac{1}{3 + \\frac{1}{2}}}}}}\n",
    "$$\n",
    "6 + \\frac{1}{{5 + \\frac{1}{{4 + \\frac{1}{3 + \\frac{1}{2}}}}}}\n",
    "$$"
   ]
  },
  {
   "cell_type": "code",
   "execution_count": 10,
   "id": "15788f9a-76b7-4836-bb09-148d051e68c4",
   "metadata": {},
   "outputs": [
    {
     "data": {
      "text/plain": [
       "6.191082802547771"
      ]
     },
     "execution_count": 10,
     "metadata": {},
     "output_type": "execute_result"
    }
   ],
   "source": [
    "6 + 1/(5 + 1/(4 + 1/(3 + 1/2)))"
   ]
  },
  {
   "cell_type": "code",
   "execution_count": null,
   "id": "8f8fbb26-a16d-4c09-9b0c-d3dee47ce4e1",
   "metadata": {},
   "outputs": [],
   "source": []
  },
  {
   "cell_type": "markdown",
   "id": "6cc80657-2d0e-4d85-832e-c0658c78744a",
   "metadata": {},
   "source": [
    "### Chaptere 124Line24\n",
    "\\sin( \\frac{\\pi}{5} ) \n",
    "$$\n",
    "\\sin( \\frac{\\pi}{5} )\n",
    "$$\n"
   ]
  },
  {
   "cell_type": "code",
   "execution_count": 13,
   "id": "86c1f123-dee5-4a11-8333-6ff4d18e72b7",
   "metadata": {},
   "outputs": [
    {
     "data": {
      "text/plain": [
       "0.5877852522924731"
      ]
     },
     "execution_count": 13,
     "metadata": {},
     "output_type": "execute_result"
    }
   ],
   "source": [
    "math.sin(math.pi/5)"
   ]
  },
  {
   "cell_type": "code",
   "execution_count": 15,
   "id": "11dbed75-4b01-43b8-a9bc-e5d0548c55be",
   "metadata": {},
   "outputs": [
    {
     "data": {
      "text/plain": [
       "0.5877852522924731"
      ]
     },
     "execution_count": 15,
     "metadata": {},
     "output_type": "execute_result"
    }
   ],
   "source": [
    "numpy.sin(numpy.pi/5)"
   ]
  },
  {
   "cell_type": "code",
   "execution_count": 17,
   "id": "f0248809-9d5a-4293-aa5a-806abf02e10e",
   "metadata": {},
   "outputs": [
    {
     "data": {
      "text/latex": [
       "$\\displaystyle \\sqrt{\\frac{5}{8} - \\frac{\\sqrt{5}}{8}}$"
      ],
      "text/plain": [
       "sqrt(5/8 - sqrt(5)/8)"
      ]
     },
     "execution_count": 17,
     "metadata": {},
     "output_type": "execute_result"
    }
   ],
   "source": [
    "sympy.sin(sympy.pi/5)"
   ]
  },
  {
   "cell_type": "code",
   "execution_count": null,
   "id": "e9786793-4cfa-45c2-b31c-6c4d83363e22",
   "metadata": {},
   "outputs": [],
   "source": []
  },
  {
   "cell_type": "code",
   "execution_count": 55,
   "id": "226c031d-4df7-48d0-b218-4ec7903c0592",
   "metadata": {},
   "outputs": [
    {
     "data": {
      "text/latex": [
       "$\\displaystyle x + 1$"
      ],
      "text/plain": [
       "x + 1"
      ]
     },
     "execution_count": 55,
     "metadata": {},
     "output_type": "execute_result"
    }
   ],
   "source": [
    "x = sympy.symbols('x')\n",
    "x + 1"
   ]
  },
  {
   "cell_type": "code",
   "execution_count": 61,
   "id": "91217662-c180-476b-a5a4-860ea5f49e21",
   "metadata": {},
   "outputs": [
    {
     "data": {
      "text/latex": [
       "$\\displaystyle \\left(3 x + 2 y\\right)^{2}$"
      ],
      "text/plain": [
       "(3*x + 2*y)**2"
      ]
     },
     "execution_count": 61,
     "metadata": {},
     "output_type": "execute_result"
    }
   ],
   "source": [
    "x = sympy.symbols('x')\n",
    "y = sympy.symbols('y')\n",
    "(2*y + x*3)**2"
   ]
  },
  {
   "cell_type": "code",
   "execution_count": null,
   "id": "ea5ae137-e1b8-4fdb-980b-3c443a121f5f",
   "metadata": {},
   "outputs": [],
   "source": []
  },
  {
   "cell_type": "code",
   "execution_count": 1,
   "id": "15bb2f79-6c41-47bf-b134-592c70259cec",
   "metadata": {},
   "outputs": [
    {
     "name": "stdin",
     "output_type": "stream",
     "text": [
      "enter a text:  sasd\n"
     ]
    }
   ],
   "source": [
    "s = input('enter a text: ')"
   ]
  },
  {
   "cell_type": "code",
   "execution_count": 5,
   "id": "93b5e230-4a27-4eef-b278-5c6e38bebe7c",
   "metadata": {},
   "outputs": [
    {
     "name": "stdout",
     "output_type": "stream",
     "text": [
      "sasd was input by the user\n"
     ]
    }
   ],
   "source": [
    "print(s + ' was input by the user')"
   ]
  },
  {
   "cell_type": "code",
   "execution_count": null,
   "id": "93429f99-2152-4481-876a-82f82df7dbb2",
   "metadata": {},
   "outputs": [],
   "source": []
  }
 ],
 "metadata": {
  "kernelspec": {
   "display_name": "Python 3 (ipykernel)",
   "language": "python",
   "name": "python3"
  },
  "language_info": {
   "codemirror_mode": {
    "name": "ipython",
    "version": 3
   },
   "file_extension": ".py",
   "mimetype": "text/x-python",
   "name": "python",
   "nbconvert_exporter": "python",
   "pygments_lexer": "ipython3",
   "version": "3.12.4"
  }
 },
 "nbformat": 4,
 "nbformat_minor": 5
}
