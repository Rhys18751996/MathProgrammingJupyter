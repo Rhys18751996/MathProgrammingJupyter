{
 "cells": [
  {
   "cell_type": "code",
   "execution_count": 2,
   "id": "46c099e2-59d3-469d-b612-65fe29c6ea0f",
   "metadata": {},
   "outputs": [
    {
     "data": {
      "text/plain": [
       "(x0, x1, x2, x3, x4, x5, x6, x7, x8, x9, x10)"
      ]
     },
     "execution_count": 2,
     "metadata": {},
     "output_type": "execute_result"
    }
   ],
   "source": [
    "import sympy\n",
    "s = sympy.symbols('x:11')\n",
    "s"
   ]
  },
  {
   "cell_type": "code",
   "execution_count": null,
   "id": "6177e14a-67f7-473a-9975-450fa321c643",
   "metadata": {},
   "outputs": [],
   "source": []
  },
  {
   "cell_type": "markdown",
   "id": "d9fe2eb5-7318-4a23-aa5e-0f6e95e1b723",
   "metadata": {},
   "source": [
    "## Chapter 6 - Problems"
   ]
  },
  {
   "cell_type": "markdown",
   "id": "290e2cda-a09b-4ee5-b717-77ffa90f895a",
   "metadata": {},
   "source": [
    "# 1). \n",
    "### Plot the graph of\r\n",
    "\r\n",
    "\r\n",
    "$$\r\n",
    "\\begin{aligned}\r\n",
    "& x(t)=4 \\cos (-11 t / 4)+7 \\cos (t) \\\\\r\n",
    "& y(t)=4 \\sin (-11 t / 4)+7 \\sin (t)\r\n",
    "\\end{aligned}\r\n",
    "$$"
   ]
  },
  {
   "cell_type": "markdown",
   "id": "c9ac31e2-ebbc-4480-a4cb-b1fbfa625f91",
   "metadata": {},
   "source": [
    "for $0 \\leq t \\leq 14 \\pi$."
   ]
  },
  {
   "cell_type": "code",
   "execution_count": null,
   "id": "5dc9e3ed-73ee-4340-bed1-79d096dcc74f",
   "metadata": {},
   "outputs": [],
   "source": []
  },
  {
   "cell_type": "markdown",
   "id": "4c3a5801-49bc-45ed-b6ee-46d040ccd510",
   "metadata": {},
   "source": [
    "# 2. \n",
    "### Plot the graph of\r\n",
    "\r\n",
    "\r\n",
    "$$\r\n",
    "\\begin{aligned}\r\n",
    "& x(t)=\\cos (t)+1 / 2 \\cos (7 t)+1 / 3 \\sin (17 t) \\\\\r\n",
    "& y(t)=\\sin (t)+1 / 2 \\sin (7 t)+1 / 3 \\cos (17 t)\r\n",
    "\\end{aligned}\r\n",
    "$$"
   ]
  },
  {
   "cell_type": "markdown",
   "id": "c32b25eb-e6cb-49c8-9139-cba5b6a764fc",
   "metadata": {},
   "source": [
    "for $0 \\leq t \\leq 14 \\pi$."
   ]
  },
  {
   "cell_type": "code",
   "execution_count": null,
   "id": "c5c1b7fc-382f-40e6-b7f3-297e47363305",
   "metadata": {},
   "outputs": [],
   "source": []
  },
  {
   "cell_type": "code",
   "execution_count": null,
   "id": "c4b402c2-9b07-42ed-a982-7c1fc7a0b53b",
   "metadata": {},
   "outputs": [],
   "source": []
  },
  {
   "cell_type": "markdown",
   "id": "dd27e105-84f2-4086-a602-00bf4e3b98a7",
   "metadata": {},
   "source": [
    "# 3. \n",
    "### Consider the following function.haviour."
   ]
  },
  {
   "cell_type": "markdown",
   "id": "92268898-15e3-4748-bdf2-24d1bd6a9940",
   "metadata": {},
   "source": [
    "$$\n",
    "f(x):=\\sum_{k=1}^{100}\\left(\\frac{\\sin \\left(2 \\pi k^{2} x\\right)}{4 \\pi^{2} k^{5}}+\\frac{x^{2}}{2 k}\\right)\n",
    "$$"
   ]
  },
  {
   "cell_type": "markdown",
   "id": "7097d958-2d42-4af8-87ab-45b0da8179b4",
   "metadata": {},
   "source": [
    "This function was suggested by Sungkon Chang as an example of a function that looks quite \"innocent\" but whose derivatives behave quite wildly. Plot $f(x)$, $f^{\\prime}(x)$ and $f^{\\prime \\prime}(x)$ and observe this behaviour."
   ]
  },
  {
   "cell_type": "code",
   "execution_count": null,
   "id": "ecd48c2f-be11-4748-9980-7b694a38b578",
   "metadata": {},
   "outputs": [],
   "source": []
  },
  {
   "cell_type": "markdown",
   "id": "c326fdd0-4db4-4571-b48e-d1913ad62295",
   "metadata": {},
   "source": [
    "# 4. \n",
    "### Consider the following functions of two variablesu, v)=\\frac{3}"
   ]
  },
  {
   "cell_type": "markdown",
   "id": "7f061458-f834-4ebd-98b7-41b4806bb13b",
   "metadata": {},
   "source": [
    "$$\n",
    "\\begin{aligned}\n",
    "& \\mathbf{x}(u, v)=\\sin (v) \\cos (u) \\\\\n",
    "& \\mathbf{y}(u, v)=\\sin (v) \\sin (u) \\\\\n",
    "& \\mathbf{z}(u, v)=\\cos (v)\n",
    "\\end{aligned}\n",
    "$$"
   ]
  },
  {
   "cell_type": "markdown",
   "id": "04b923e7-fd52-4b9b-9956-a2f8f3755496",
   "metadata": {},
   "source": [
    "Generate the surface $(\\mathbf{x}, \\mathbf{y}, \\mathbf{z})$ when $0 \\leq u \\leq 3 \\pi / 2$ and $0 \\leq v \\leq \\pi$."
   ]
  },
  {
   "cell_type": "markdown",
   "id": "38f5dc17-3e4c-4579-bf67-86d3333ce95f",
   "metadata": {},
   "source": [
    "Now consider \n",
    "$$\n",
    "\\mathbf{x}{1}(u, v)=\\frac{-3}{8} \\cos (v) \\sin \\left(\\frac{4 u}{3}\\right), \\mathbf{y}{\\mathbf{1}}(u, v)=\\frac{3}\n",
    "$$"
   ]
  },
  {
   "cell_type": "code",
   "execution_count": null,
   "id": "d569b75f-4abb-402c-8844-c784c7592b87",
   "metadata": {},
   "outputs": [],
   "source": []
  },
  {
   "cell_type": "markdown",
   "id": "09f8d3c1-e631-4d5d-828a-ec636101e756",
   "metadata": {},
   "source": [
    "${8} \\cos \\left(\\frac{4 u}{3}\\right) \\cos (v)$ and $\\mathbf{z}_{\\mathbf{1}}(u, v)=\\frac{\\sin (v)}{2}$. Generate the surface\r\n",
    "\r\n",
    "\r\n",
    "$$\r\n",
    "\\left(\\frac{\\mathrm{d} \\mathbf{x}_{1}}{\\mathrm{~d} v \\mathrm{~d} u}, \\frac{\\mathrm{d} \\mathbf{y}_{1}}{\\mathrm{~d} u \\mathrm{~d} v}, \\frac{\\mathrm{d} \\mathbf{z}_{1}}{\\mathrm{~d} v}\\right)\r\n",
    "$$\r\n",
    "\r\n",
    "\r\n",
    "when $0 \\leq u \\leq 3 \\pi / 2$ and $0 \\leq v \\leq \\pi$. Finally, superimpose these two images."
   ]
  },
  {
   "cell_type": "code",
   "execution_count": null,
   "id": "10ce8afa-b6ec-4c87-a413-61a9b914282e",
   "metadata": {},
   "outputs": [],
   "source": []
  },
  {
   "cell_type": "code",
   "execution_count": null,
   "id": "3b4fedbc-e2c7-4ed2-80f2-3bc603fbb787",
   "metadata": {},
   "outputs": [],
   "source": []
  },
  {
   "cell_type": "markdown",
   "id": "54191137-9b83-4c6a-8d63-35534d2f2fdc",
   "metadata": {},
   "source": [
    "# 5. \n",
    "### Consider the function \n",
    "$\\cos \\left(x^{2}\\right)$. Calculate the area below this function and between 0 and where the function first hits the $x$-axis."
   ]
  },
  {
   "cell_type": "code",
   "execution_count": null,
   "id": "59247d49-ccce-4576-b608-f4825a11aa61",
   "metadata": {},
   "outputs": [],
   "source": []
  },
  {
   "cell_type": "code",
   "execution_count": null,
   "id": "b27c5ffd-c721-4f47-8f52-2b295831916a",
   "metadata": {},
   "outputs": [],
   "source": []
  },
  {
   "cell_type": "markdown",
   "id": "5410da8b-e4b8-42de-9d60-3ee983171f01",
   "metadata": {},
   "source": [
    "# 6. \n",
    "### Write a function to check that, for any $n$, the following identity holds:\r\n",
    "\r\n",
    "\r\n",
    "$$\r\n",
    "\\operatorname{det}\\left(\\begin{array}{ccccc}\r\n",
    "x & a_{1} & a_{2} & \\cdots & a_{n} \\\\\r\n",
    "a_{1} & x & a_{2} & \\cdots & a_{n} \\\\\r\n",
    "a_{1} & a_{2} & x & \\cdots & a_{n} \\\\\r\n",
    "\\vdots & \\vdots & \\vdots & & \\vdots \\\\\r\n",
    "a_{1} & a_{2} & a_{3} & \\cdots & x\r\n",
    "\\end{array}\\right)=\\left(x+a_{1}+\\cdots+a_{n}\\right)\\left(x-a_{1}\\right) \\cdots\\left(x-a_{n}\\right)\r\n",
    "$$"
   ]
  },
  {
   "cell_type": "code",
   "execution_count": null,
   "id": "f79d5b3a-ab66-43ef-bf72-7d79ee9268cb",
   "metadata": {},
   "outputs": [],
   "source": []
  },
  {
   "cell_type": "code",
   "execution_count": null,
   "id": "bf21a9d0-a55e-4809-a80d-1608a453c982",
   "metadata": {},
   "outputs": [],
   "source": []
  },
  {
   "cell_type": "markdown",
   "id": "5008756f-c06a-49bc-84a3-261fd6281282",
   "metadata": {},
   "source": [
    "# 7. \n",
    "### Write a function to check that, for any $n$, the following identity holds:\r\n",
    "\r\n",
    "\r\n",
    "$$\r\n",
    "\\operatorname{det}\\left(\\begin{array}{cccccc}\r\n",
    "1 & 1 & 1 & \\cdots & 1 & 1 \\\\\r\n",
    "b_{1} & a_{1} & a_{1} & \\cdots & a_{1} & a_{1} \\\\\r\n",
    "b_{1} & b_{2} & a_{2} & \\cdots & a_{2} & a_{2} \\\\\r\n",
    "\\vdots & \\vdots & \\vdots & & \\vdots & \\vdots \\\\\r\n",
    "b_{1} & b_{2} & b_{3} & \\cdots & b_{n} & a_{n}\r\n",
    "\\end{array}\\right)=\\left(a_{1}-b_{1}\\right)\\left(a_{2}-b_{2}\\right) \\cdots\\left(a_{n}-b_{n}\\right)\r\n",
    "$$"
   ]
  },
  {
   "cell_type": "code",
   "execution_count": null,
   "id": "48d2ce3f-3a03-481a-b5ae-99f463eecb7e",
   "metadata": {},
   "outputs": [],
   "source": []
  },
  {
   "cell_type": "code",
   "execution_count": null,
   "id": "8d5ee666-b120-4cc2-995c-d8fb86911354",
   "metadata": {},
   "outputs": [],
   "source": []
  },
  {
   "cell_type": "markdown",
   "id": "d94c3d17-145c-42fd-af6d-fde5d87ce190",
   "metadata": {},
   "source": [
    "# 8. \n",
    "The Hilbert matrix is a square matrix whose element in row $i$ and column $j$ is $\\frac{1}{i+j-1}$. Construct the Hilbert matrix of order 6 (i.e. a $6 \\times 6$-matrix) and compute its determinant and its inverse. Try this for $7 \\times 7$ and $8 \\times 8$ matrices. Construct a table which shows the determinant of Hilbert matrices of orders 1 through 10."
   ]
  },
  {
   "cell_type": "code",
   "execution_count": null,
   "id": "f7144a48-0024-4020-a41b-38478a738d5e",
   "metadata": {},
   "outputs": [],
   "source": []
  },
  {
   "cell_type": "code",
   "execution_count": null,
   "id": "c91dfb44-12a2-41b9-9bac-4847f440855d",
   "metadata": {},
   "outputs": [],
   "source": []
  },
  {
   "cell_type": "code",
   "execution_count": null,
   "id": "8839dd85-a295-4971-9834-30a7e32c7d93",
   "metadata": {},
   "outputs": [],
   "source": []
  },
  {
   "cell_type": "code",
   "execution_count": null,
   "id": "8a3dbe2c-0688-439e-b62d-100f1ab9ea60",
   "metadata": {},
   "outputs": [],
   "source": []
  },
  {
   "cell_type": "code",
   "execution_count": null,
   "id": "a0c01865-ad2e-460c-9fd7-6ba367706d21",
   "metadata": {},
   "outputs": [],
   "source": []
  },
  {
   "cell_type": "code",
   "execution_count": null,
   "id": "abab492d-a41c-4423-a53b-4d52aca7d88c",
   "metadata": {},
   "outputs": [],
   "source": []
  },
  {
   "cell_type": "code",
   "execution_count": null,
   "id": "174e5cc6-6e3c-4ddc-8727-8067ee4bba24",
   "metadata": {},
   "outputs": [],
   "source": []
  },
  {
   "cell_type": "code",
   "execution_count": null,
   "id": "13656177-f71d-4fc0-a68b-004054ee3849",
   "metadata": {},
   "outputs": [],
   "source": []
  },
  {
   "cell_type": "markdown",
   "id": "a47b294d-8e09-4e96-8ccf-102209999a68",
   "metadata": {},
   "source": [
    "# 9. \n",
    "Construct a $10 \\times 10$ upper triangular matrix $A$ (see Wikipedia for the definition of such matrices) whose nonzero entries are random integers. Show that its determinant is equal to the product of the entries on its main diagonal. Now consider the transpose matrix $A^{t}$ and show that its determinant $\\left(\\operatorname{det}\\left(A^{t}\\right)\\right)$ is the same as $A$. What is $\\operatorname{det}\\left(A+A^{t}\\right)$ ?"
   ]
  },
  {
   "cell_type": "code",
   "execution_count": 14,
   "id": "6124da8a-9b83-4a0e-acde-cf5f3be3f13f",
   "metadata": {},
   "outputs": [],
   "source": [
    "import numpy as np\n",
    "import math\n",
    "#help(np.triu)"
   ]
  },
  {
   "cell_type": "code",
   "execution_count": 53,
   "id": "1abfcd10-da30-4045-8d3c-c1180652492d",
   "metadata": {},
   "outputs": [
    {
     "name": "stdout",
     "output_type": "stream",
     "text": [
      "[[ -8  -8 -10   6   1 -10   8   7   4  -3]\n",
      " [  7   6  -8   0   7  -8  -7  -5   7   9]\n",
      " [  3  -2  -5  -4  -7   9  -5   6   6 -10]\n",
      " [  2  -1   5   4  -9   7   3  -3  -6   7]\n",
      " [ -1  -3  -4  -8 -10  -4   8  -4  -6  -8]\n",
      " [  3  -8   6  -8  -7   1 -10  -4   1   0]\n",
      " [ -4   5   2 -10  -6   3  -6  -5   6  -2]\n",
      " [  7   3   9  -2   2   3  -7   5   1   2]\n",
      " [ -1   7 -10 -10  -9  -2  -8  -5   2   5]\n",
      " [ -6   2   0   5   1   6  -2   5   4  -8]]\n"
     ]
    }
   ],
   "source": [
    "# create a 10x10 array with random numbers, each with a value between 1 and 100\n",
    "arrayA = np.random.randint(low=-10, high=10, size=(10, 10))\n",
    "print(arrayA)"
   ]
  },
  {
   "cell_type": "code",
   "execution_count": 54,
   "id": "eadfd50e-bb08-4222-9624-80a2fd2e37f3",
   "metadata": {},
   "outputs": [
    {
     "name": "stdout",
     "output_type": "stream",
     "text": [
      "[[ -8  -8 -10   6   1 -10   8   7   4  -3]\n",
      " [  0   6  -8   0   7  -8  -7  -5   7   9]\n",
      " [  0   0  -5  -4  -7   9  -5   6   6 -10]\n",
      " [  0   0   0   4  -9   7   3  -3  -6   7]\n",
      " [  0   0   0   0 -10  -4   8  -4  -6  -8]\n",
      " [  0   0   0   0   0   1 -10  -4   1   0]\n",
      " [  0   0   0   0   0   0  -6  -5   6  -2]\n",
      " [  0   0   0   0   0   0   0   5   1   2]\n",
      " [  0   0   0   0   0   0   0   0   2   5]\n",
      " [  0   0   0   0   0   0   0   0   0  -8]]\n"
     ]
    }
   ],
   "source": [
    "# Generate a 10x10 upper triangular matrix with random nonzero integers\n",
    "A = np.triu(arrayA)\n",
    "print(A)"
   ]
  },
  {
   "cell_type": "code",
   "execution_count": 55,
   "id": "42e1dd15-1e0b-40c9-9b08-24fe5a3a9304",
   "metadata": {},
   "outputs": [
    {
     "name": "stdout",
     "output_type": "stream",
     "text": [
      "-4607999.999999997\n"
     ]
    }
   ],
   "source": [
    "# get the determinant, numpy's linear algebra extention method to find determinant of a square matrix\n",
    "det_A = np.linalg.det(A)\n",
    "print(det_A)"
   ]
  },
  {
   "cell_type": "code",
   "execution_count": 67,
   "id": "0338bcc9-c7fe-4d13-869a-04038d423c74",
   "metadata": {},
   "outputs": [
    {
     "name": "stdout",
     "output_type": "stream",
     "text": [
      "-4608000\n"
     ]
    }
   ],
   "source": [
    "# extract the entries on matrix A's main diagonal\n",
    "diagonal_entries = np.diag(A)\n",
    "\n",
    "# then find the product of A's main diagonal\n",
    "print(np.prod(diagonal_entries))"
   ]
  },
  {
   "cell_type": "code",
   "execution_count": 66,
   "id": "0a627ee9-b038-41a3-8652-e60ae998761a",
   "metadata": {},
   "outputs": [
    {
     "name": "stdout",
     "output_type": "stream",
     "text": [
      "[[ -8   0   0   0   0   0   0   0   0   0]\n",
      " [ -8   6   0   0   0   0   0   0   0   0]\n",
      " [-10  -8  -5   0   0   0   0   0   0   0]\n",
      " [  6   0  -4   4   0   0   0   0   0   0]\n",
      " [  1   7  -7  -9 -10   0   0   0   0   0]\n",
      " [-10  -8   9   7  -4   1   0   0   0   0]\n",
      " [  8  -7  -5   3   8 -10  -6   0   0   0]\n",
      " [  7  -5   6  -3  -4  -4  -5   5   0   0]\n",
      " [  4   7   6  -6  -6   1   6   1   2   0]\n",
      " [ -3   9 -10   7  -8   0  -2   2   5  -8]]\n"
     ]
    }
   ],
   "source": [
    "# to get the transpose of a np matrix, you can just do <theMatrix>.T\n",
    "A_T = A.T\n",
    "print(A_T)"
   ]
  },
  {
   "cell_type": "code",
   "execution_count": 70,
   "id": "c663f7ec-951c-4075-aa08-1c73b57a5afa",
   "metadata": {},
   "outputs": [
    {
     "name": "stdout",
     "output_type": "stream",
     "text": [
      "-4607999.999999997\n"
     ]
    }
   ],
   "source": [
    "# to get |A_T|, we can use numpy's linear algebra extention method to find determinant of a square matrix again\n",
    "det_A_T = np.linalg.det(A_T)\n",
    "print(det_A_T)"
   ]
  },
  {
   "cell_type": "code",
   "execution_count": 71,
   "id": "04325627-5271-48ba-a541-9bbafbe5d7b6",
   "metadata": {
    "scrolled": true
   },
   "outputs": [
    {
     "name": "stdout",
     "output_type": "stream",
     "text": [
      "[[-16  -8 -10   6   1 -10   8   7   4  -3]\n",
      " [ -8  12  -8   0   7  -8  -7  -5   7   9]\n",
      " [-10  -8 -10  -4  -7   9  -5   6   6 -10]\n",
      " [  6   0  -4   8  -9   7   3  -3  -6   7]\n",
      " [  1   7  -7  -9 -20  -4   8  -4  -6  -8]\n",
      " [-10  -8   9   7  -4   2 -10  -4   1   0]\n",
      " [  8  -7  -5   3   8 -10 -12  -5   6  -2]\n",
      " [  7  -5   6  -3  -4  -4  -5  10   1   2]\n",
      " [  4   7   6  -6  -6   1   6   1   4   5]\n",
      " [ -3   9 -10   7  -8   0  -2   2   5 -16]]\n"
     ]
    }
   ],
   "source": [
    "# Matrix addition is scalar or elementwise, ie. A[n][m] + B[n][m]\n",
    "AplusA_T = np.add(A, A_T)\n",
    "print(AplusA_T)"
   ]
  },
  {
   "cell_type": "code",
   "execution_count": null,
   "id": "6ddffe60-3018-4d57-bbdc-63be3569ea97",
   "metadata": {},
   "outputs": [],
   "source": []
  },
  {
   "cell_type": "markdown",
   "id": "07be9740-94ed-402b-ba98-6daa2869a1c3",
   "metadata": {},
   "source": [
    "What is $\\operatorname{det}\\left(A+A^{t}\\right)$ ?"
   ]
  },
  {
   "cell_type": "code",
   "execution_count": 72,
   "id": "be548b7a-ebb2-4804-81b4-d31403da9bd7",
   "metadata": {},
   "outputs": [
    {
     "name": "stdout",
     "output_type": "stream",
     "text": [
      "-4714542862485.02\n"
     ]
    }
   ],
   "source": [
    "det_AplusA_T = np.linalg.det(AplusA_T)\n",
    "print(det_AplusA_T)"
   ]
  },
  {
   "cell_type": "code",
   "execution_count": null,
   "id": "fb503261-98fe-45c2-90f8-c9dc93ce1f7c",
   "metadata": {},
   "outputs": [],
   "source": []
  },
  {
   "cell_type": "code",
   "execution_count": null,
   "id": "76229c4f-c5ca-429d-b008-edd8160a2f95",
   "metadata": {},
   "outputs": [],
   "source": []
  },
  {
   "cell_type": "code",
   "execution_count": null,
   "id": "ce7aabfb-9f1a-4502-ac60-2fa9f6002bd1",
   "metadata": {},
   "outputs": [],
   "source": []
  },
  {
   "cell_type": "code",
   "execution_count": null,
   "id": "06e22260-5951-4068-b593-f195914232c7",
   "metadata": {},
   "outputs": [],
   "source": []
  },
  {
   "cell_type": "code",
   "execution_count": null,
   "id": "232f156b-bca3-404a-b22c-f254ad029f3d",
   "metadata": {},
   "outputs": [],
   "source": []
  },
  {
   "cell_type": "code",
   "execution_count": null,
   "id": "9c430822-eac1-49af-bdfc-b739471133a2",
   "metadata": {},
   "outputs": [],
   "source": []
  },
  {
   "cell_type": "code",
   "execution_count": null,
   "id": "8f54eff6-d2cb-4cae-9bef-ccf40ce05d28",
   "metadata": {},
   "outputs": [],
   "source": []
  },
  {
   "cell_type": "code",
   "execution_count": null,
   "id": "36b8d6a7-ee16-4fdc-b99b-e6bfa22b3796",
   "metadata": {},
   "outputs": [],
   "source": []
  },
  {
   "cell_type": "markdown",
   "id": "241e3793-774c-416e-a347-c5eb822be7f0",
   "metadata": {},
   "source": [
    "For a 3x3 matrix\n",
    "\n",
    "$$\n",
    "[ \\text{det}(A) = \n",
    "\\begin{vmatrix} \n",
    "a & b & c \\\\ d & e & f \\\\ g & h & i \\end{vmatrix} = aei + bfg + cdh - afh - bdi - ceg ]\n",
    "$$"
   ]
  },
  {
   "cell_type": "markdown",
   "id": "ff9b5d85-7d0a-4b45-a376-b99c3213d202",
   "metadata": {},
   "source": [
    "# 10. \n",
    "Investigate how many solutions the equation $\\sin \\left(x^{2}\\right)-\\cos \\left(x^{3}\\right)=0$ has for $0 \\leq x \\leq \\pi$."
   ]
  },
  {
   "cell_type": "code",
   "execution_count": null,
   "id": "a559fba8-ab97-459b-91d6-77bb5969aaf3",
   "metadata": {},
   "outputs": [],
   "source": []
  },
  {
   "cell_type": "code",
   "execution_count": null,
   "id": "9cb750b0-5115-4bfa-9f42-14654b7613d5",
   "metadata": {},
   "outputs": [],
   "source": []
  },
  {
   "cell_type": "markdown",
   "id": "c4bb40f8-b77f-495a-8904-3e4a72ac0481",
   "metadata": {},
   "source": [
    "# 11. \n",
    "Plot the graphs of the functions $2 \\exp \\left(-x^{2}\\right)$ and $\\cos (\\sin (x)+\\cos (x))$ between $[-\\pi, \\pi]$. Investigate where they intersect."
   ]
  },
  {
   "cell_type": "code",
   "execution_count": null,
   "id": "1385d817-02b7-4df4-bca2-061fb512b530",
   "metadata": {},
   "outputs": [],
   "source": []
  },
  {
   "cell_type": "code",
   "execution_count": null,
   "id": "4ee31c14-a8d7-42f9-83f0-f6dd7cdd80bf",
   "metadata": {},
   "outputs": [],
   "source": []
  },
  {
   "cell_type": "markdown",
   "id": "2c2586a3-b18e-4274-adeb-eb38f6bffbe2",
   "metadata": {},
   "source": [
    "# 12. \n",
    "Define the functions\n",
    "\n",
    "\n",
    "$$\n",
    "\\begin{gathered}\n",
    "f(t, a)=2+\\frac{1}{2} \\sin (a t) \\\\\n",
    "g(t, b, c)=\\cos \\left(t+\\frac{\\sin (b t)}{c}\\right) \\\\\n",
    "h(t, b, c)=\\sin \\left(t+\\frac{\\sin (b t)}{c}\\right)\n",
    "\\end{gathered}\n",
    "$$\n",
    "\n",
    "\n",
    "Generate the parametric graph\n",
    "\n",
    "\n",
    "$$\n",
    "\\begin{aligned}\n",
    "& x(t)=f(t, 8) g(t, 16,4) \\\\\n",
    "& y(t)=f(t, 8) h(t, 16,4)\n",
    "\\end{aligned}\n",
    "$$\n",
    "\n",
    "\n",
    "when $0 \\leq t \\leq 2 \\pi$. Also plot the graph\n",
    "\n",
    "\n",
    "$$\n",
    "(f(t, 6) g(t, 18,18), f(t, 6) h(t, 18,18))\n",
    "$$\n",
    "\n",
    "\n",
    "when $0 \\leq t \\leq 2 \\pi$."
   ]
  },
  {
   "cell_type": "code",
   "execution_count": null,
   "id": "b7dc3f90-18a2-4dbd-a5a9-b13cdfe3bdce",
   "metadata": {},
   "outputs": [],
   "source": []
  },
  {
   "cell_type": "code",
   "execution_count": null,
   "id": "7451e08a-28da-4bbc-acd3-bb0ff7275f57",
   "metadata": {},
   "outputs": [],
   "source": []
  },
  {
   "cell_type": "markdown",
   "id": "046942ff-91cc-4086-a065-6916ecfe66b9",
   "metadata": {},
   "source": [
    "# 13. \n",
    "Let $g(x)=\\sin (x)+\\cos (x)$. Plot graphs of $g(g(g(g(x))))$ and $g(g(g(g(g(x)))))$ for $x$ lying between 0 and $\\pi$. There are four points where the graphs cross. Find, numerically, their $(x, y)$ coordinates."
   ]
  },
  {
   "cell_type": "code",
   "execution_count": null,
   "id": "0afca2e9-9453-4987-895c-75867df59255",
   "metadata": {},
   "outputs": [],
   "source": []
  },
  {
   "cell_type": "code",
   "execution_count": null,
   "id": "042b4bd0-5917-4d27-b0d0-da55d202b0a8",
   "metadata": {},
   "outputs": [],
   "source": []
  },
  {
   "cell_type": "markdown",
   "id": "071ca43f-755d-4e4b-85b0-155cfeb143a0",
   "metadata": {},
   "source": [
    "# 14. \n",
    "Let $A$ denote the $3 \\times 3$ matrix\n",
    "\n",
    "\n",
    "$$\n",
    "\\left(\\begin{array}{lll}\n",
    "x+y & x^{2}+y & x^{3}+y \\\\\n",
    "x+y^{2} & x^{2}+y^{2} & x^{3}+y^{2} \\\\\n",
    "x^{2}+y^{3} & x^{2}+y^{3} & x^{3}+y^{3}\n",
    "\\end{array}\\right)\n",
    "$$\n",
    "\n",
    "\n",
    "(yes, the fact that the bottom left-hand entry does not fit the pattern of the rest of the entries is intended!) and let $B$ denote its inverse. Show that the sum of the entries in the first row of $B$ is 0 . What is the sum of the entries in each of the second and third rows? Also find the sum of the entries in each column of $B$."
   ]
  },
  {
   "cell_type": "code",
   "execution_count": null,
   "id": "35fcdfae-4d5e-45cf-a618-2ddfbc7affd8",
   "metadata": {},
   "outputs": [],
   "source": []
  },
  {
   "cell_type": "code",
   "execution_count": null,
   "id": "f33a60bb-b6e7-455a-8388-cf9cf26baaa0",
   "metadata": {},
   "outputs": [],
   "source": []
  },
  {
   "cell_type": "markdown",
   "id": "6f9dcc4b-dd8f-4786-a956-19a0aa4695d3",
   "metadata": {},
   "source": [
    "# 15. \n",
    "Investigate and determine the values of $x$ between $0 \\leq x \\leq 2 \\pi$ such that we have the inequality\n",
    "\n",
    "$$\r\n",
    "2 \\cos (x) \\leq \\sqrt{1+\\sin (2 x)}-\\sqrt{1-\\sin (2 x)} \\leq \\sqrt{2}\r\n",
    "$$"
   ]
  },
  {
   "cell_type": "code",
   "execution_count": null,
   "id": "de67816c-cce4-4be8-b164-2a470b3c44fb",
   "metadata": {},
   "outputs": [],
   "source": []
  },
  {
   "cell_type": "code",
   "execution_count": null,
   "id": "ceee8d6a-9515-40fb-8d0e-455845343e86",
   "metadata": {},
   "outputs": [],
   "source": []
  }
 ],
 "metadata": {
  "kernelspec": {
   "display_name": "Python 3 (ipykernel)",
   "language": "python",
   "name": "python3"
  },
  "language_info": {
   "codemirror_mode": {
    "name": "ipython",
    "version": 3
   },
   "file_extension": ".py",
   "mimetype": "text/x-python",
   "name": "python",
   "nbconvert_exporter": "python",
   "pygments_lexer": "ipython3",
   "version": "3.12.4"
  }
 },
 "nbformat": 4,
 "nbformat_minor": 5
}
