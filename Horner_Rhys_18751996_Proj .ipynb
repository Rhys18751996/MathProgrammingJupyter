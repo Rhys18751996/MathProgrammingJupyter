{
 "cells": [
  {
   "cell_type": "markdown",
   "id": "c7b894dc-f21e-4950-abc1-be196d25ebf0",
   "metadata": {},
   "source": [
    "# Question 1"
   ]
  },
  {
   "cell_type": "markdown",
   "id": "fa6724dd-52d6-4cb8-bb7b-bbcca07f3cf4",
   "metadata": {},
   "source": [
    "Consider the first 10000 digits of $\\sqrt{2}$ and present them as a \"random walk\" by converting them in base 4, representing 4 directions (up, down, left and right). \r\n",
    "\r\n",
    "We know that $\\sqrt{2}$ is an irrational number and irrational numbers have decimal expansions that neither terminate nor become periodic."
   ]
  },
  {
   "cell_type": "markdown",
   "id": "d5885ac0-bd13-48e2-aacb-8641a99d7a43",
   "metadata": {},
   "source": [
    "Write a code to produce this random walk. Try this code with $\\sqrt{3}$\r\n",
    " $\\sqrt{6}$ and $\\sqrt{13}$.\r\n",
    "\r\n",
    "Is there any comparison one can make among these numbers?"
   ]
  },
  {
   "cell_type": "code",
   "execution_count": 253,
   "id": "fc9872ee-0c31-493d-ae88-0ac4e432f346",
   "metadata": {},
   "outputs": [],
   "source": [
    "import mpmath\n",
    "from functools import reduce"
   ]
  },
  {
   "cell_type": "code",
   "execution_count": 254,
   "id": "34457809-c03a-4814-8077-9e09dcd6fc54",
   "metadata": {},
   "outputs": [],
   "source": [
    "# a function to convert any digit from base10 to any other base\n",
    "def decimalDigit_to_base4(digit):\n",
    "    num = int(digit)\n",
    "    if num == 0:\n",
    "        return \"0\"\n",
    "    result = []\n",
    "    while num > 0:\n",
    "        result.append(str(num % 4))\n",
    "        num //= 4\n",
    "    return ''.join(result[::-1])\n",
    "\n",
    "#print(base10_to_baseN(10))"
   ]
  },
  {
   "cell_type": "code",
   "execution_count": 255,
   "id": "4b148b4c-8193-4bc9-b02b-6277bf4eefa5",
   "metadata": {},
   "outputs": [],
   "source": [
    "def createIrrationalDigits(resolution, number):\n",
    "    # for example: Set the precision to 10,000 digits\n",
    "    mpmath.mp.dps = resolution\n",
    "    return str(number)\n",
    "\n",
    "#print(createIrrationalDigitsWithSqrt(1000, 2))"
   ]
  },
  {
   "cell_type": "code",
   "execution_count": 256,
   "id": "1c573e93-d48a-4b3d-a1a5-ca7a9c944e29",
   "metadata": {},
   "outputs": [],
   "source": [
    "def CreateBase4DigitsString(Q_Digits):\n",
    "    # uses list comprehension to create a list of digits if they are a digit (prevents the decimal point for throwing error)\n",
    "    # and converts each of the conditionally selected elements from base10 to base4 then assigns that \n",
    "    # list to the variable base4_digits\n",
    "    base4_digits = [ decimalDigit_to_base4(n) for n in Q_Digits if n.isdigit() ]\n",
    "    # functools.reduce recursively executes the lambda expression of joining each of the previous digits\n",
    "    # consequently joining the entire list together\n",
    "    return reduce(lambda x, y: ''.join([x,y]), base4_digits)\n",
    "\n",
    "#print(CreateBase4DigitsString(Q_Digits))"
   ]
  },
  {
   "cell_type": "code",
   "execution_count": 257,
   "id": "d103c98a-3fd2-4e7c-aa27-7c84dc14e075",
   "metadata": {},
   "outputs": [],
   "source": [
    "def MapBase4DigitsAsDirections(base4_digits):\n",
    "    # direction dictionary \n",
    "    direction_mapping = {\n",
    "        '0': 'Up',\n",
    "        '1': 'Down',\n",
    "        '2': 'Left',\n",
    "        '3': 'Right'\n",
    "    }\n",
    "    # Convert each digit to its corresponding direction\n",
    "    result = [direction_mapping[digit] for digit in base4_digits]\n",
    "    return result\n",
    "\n",
    "#print(MapBase4DigitsAsDirections(base4_digits))"
   ]
  },
  {
   "cell_type": "code",
   "execution_count": null,
   "id": "72e7551c-4b4f-4f5b-b53a-257dd54c73a5",
   "metadata": {},
   "outputs": [],
   "source": []
  },
  {
   "cell_type": "code",
   "execution_count": 258,
   "id": "6e7e56b5-746d-4337-8a6e-ae02daab7323",
   "metadata": {},
   "outputs": [],
   "source": [
    "# To visualize random walk\n",
    "import matplotlib.pyplot as plt\n",
    "\n",
    "def CreateRandomWalkGraph(mapped_directions):\n",
    "    # Starting position\n",
    "    x, y = 0, 0\n",
    "    # Lists to store the positions\n",
    "    x_positions = [x]\n",
    "    y_positions = [y]\n",
    "    # Define movement deltas for each direction\n",
    "    movement = {\n",
    "        'Up': (0, 1),\n",
    "        'Down': (0, -1),\n",
    "        'Left': (-1, 0),\n",
    "        'Right': (1, 0)\n",
    "    }\n",
    "    \n",
    "    # Process each direction\n",
    "    for direction in mapped_directions:\n",
    "        dx, dy = movement[direction]\n",
    "        x += dx\n",
    "        y += dy\n",
    "        x_positions.append(x)\n",
    "        y_positions.append(y)\n",
    "    \n",
    "    # Create the plot\n",
    "    plt.plot(x_positions, y_positions, marker='o')\n",
    "    plt.axhline(0, color='gray', linewidth=0.5, linestyle='--')\n",
    "    plt.axvline(0, color='gray', linewidth=0.5, linestyle='--')\n",
    "    plt.grid()\n",
    "    plt.xlim(min(x_positions) - 1, max(x_positions) + 1)\n",
    "    plt.ylim(min(y_positions) - 1, max(y_positions) + 1)\n",
    "    plt.show()\n",
    "\n",
    "    # Return final coordinates\n",
    "    return x, y"
   ]
  },
  {
   "cell_type": "code",
   "execution_count": null,
   "id": "d1d50565-e508-4d45-977a-23302445eb72",
   "metadata": {},
   "outputs": [],
   "source": []
  },
  {
   "cell_type": "markdown",
   "id": "335ea07a-b0fb-4f9b-8531-2b7b171caea7",
   "metadata": {},
   "source": [
    "Write a code to produce this random walk. Try this code with $\\sqrt{2}$, $\\sqrt{3}$\n",
    " $\\sqrt{6}$ and $\\sqrt{13}$."
   ]
  },
  {
   "cell_type": "code",
   "execution_count": 259,
   "id": "a3807eab-3d33-4cf3-b080-19b0bcf05df3",
   "metadata": {},
   "outputs": [
    {
     "data": {
      "image/png": "[encoded data removed]",
      "text/plain": [
       "<Figure size 640x480 with 1 Axes>"
      ]
     },
     "metadata": {},
     "output_type": "display_data"
    },
    {
     "name": "stdout",
     "output_type": "stream",
     "text": [
      "Final coordinates: ( -2138 , -4043 )\n",
      "slope: 1.891019644527596\n"
     ]
    }
   ],
   "source": [
    "# Calculate the square root of 2 and convert it to a string\n",
    "Q_Digits = createIrrationalDigits(10000, mpmath.sqrt(2))\n",
    "# create the base4 digits string\n",
    "base4_digits = CreateBase4DigitsString(Q_Digits)\n",
    "# map the digits to the direction up(0), left(2), down(1), right(3)\n",
    "mapped_directions = MapBase4DigitsAsDirections(base4_digits)\n",
    "# show a graph for fun\n",
    "final_x, final_y = CreateRandomWalkGraph(mapped_directions)\n",
    "\n",
    "print(\"Final coordinates: (\", final_x, \",\", final_y, \")\")\n",
    "print(f\"slope: {final_y / final_x}\")"
   ]
  },
  {
   "cell_type": "code",
   "execution_count": null,
   "id": "7f830449-5ed5-4cbe-bf5d-8a793715d07d",
   "metadata": {},
   "outputs": [],
   "source": []
  },
  {
   "cell_type": "markdown",
   "id": "d2c51df2-0932-42d1-9d66-a2cab5c7100a",
   "metadata": {},
   "source": [
    "# (2) \n",
    "### Chapter 5 - problem 8.\n",
    "Consider a positive integer. Sort the decimal digits of this number in ascending and descending order. \n",
    "\n",
    "Calculate the difference of these two numbers (for example, starting from 5742 , we get $7542-2457=5085$ ). This is called the Kaprekar routine. \n",
    "\n",
    "First check that starting with any 4-digit number and repeating the Kaprekar routine, you always reach either 0 or 6174 . \n",
    "\n",
    "Then find out, among all the 4-digit numbers, what is the maximum number of iterations needed in order to get to 6174 ."
   ]
  },
  {
   "cell_type": "code",
   "execution_count": 265,
   "id": "62936cdc-61fd-49b1-95cf-7b07cd62f7e0",
   "metadata": {},
   "outputs": [
    {
     "name": "stdout",
     "output_type": "stream",
     "text": [
      "5085\n",
      "7992\n",
      "7173\n",
      "6354\n",
      "3087\n",
      "8352\n",
      "6174\n",
      "it took 7 loops to \n"
     ]
    }
   ],
   "source": [
    "n = 5472\n",
    "\n",
    "def g(list):\n",
    "    return int(''.join(map(str, list)))\n",
    "    \n",
    "numberOfIterations = 0\n",
    "while n != 6174:\n",
    "    n = [int(n) for n in str(n)]\n",
    "    \n",
    "    n_sorted = sorted(n)\n",
    "    n_reversed = n_sorted[::-1]\n",
    "    n = g(n_reversed) - g(n_sorted)\n",
    "    \n",
    "    numberOfIterations += 1\n",
    "    print(n)\n",
    "\n",
    "print(f\"it took {numberOfIterations} loops to \")"
   ]
  },
  {
   "cell_type": "code",
   "execution_count": null,
   "id": "6654af07-745d-4fad-b7da-b353a93082b7",
   "metadata": {},
   "outputs": [],
   "source": []
  }
 ],
 "metadata": {
  "kernelspec": {
   "display_name": "Python 3 (ipykernel)",
   "language": "python",
   "name": "python3"
  },
  "language_info": {
   "codemirror_mode": {
    "name": "ipython",
    "version": 3
   },
   "file_extension": ".py",
   "mimetype": "text/x-python",
   "name": "python",
   "nbconvert_exporter": "python",
   "pygments_lexer": "ipython3",
   "version": "3.12.4"
  }
 },
 "nbformat": 4,
 "nbformat_minor": 5
}
