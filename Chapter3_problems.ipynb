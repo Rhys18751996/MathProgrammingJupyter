{
 "cells": [
  {
   "cell_type": "markdown",
   "id": "0edfcac7-a6f1-4200-af78-fa9fe42ee471",
   "metadata": {},
   "source": [
    "# A Course in Python\n",
    "## Chapter 3 - Problems"
   ]
  },
  {
   "cell_type": "code",
   "execution_count": 1,
   "id": "8e0b597b-6ae9-4645-950c-fcc71048edc1",
   "metadata": {},
   "outputs": [],
   "source": [
    "import math\n",
    "import numpy as np\n",
    "import sympy as sp\n",
    "import matplotlib.pyplot as plt\n",
    "import nltk"
   ]
  },
  {
   "cell_type": "markdown",
   "id": "7ad54f35-27db-4ff8-b71f-904ed26eab80",
   "metadata": {},
   "source": [
    "# 1) \n",
    "Find the number of positive integers $ 0 < n < 20000 $ such that 1997 divides $n^2 + (n+1)^2 $.  Try the same code for 2009 and 2022"
   ]
  },
  {
   "cell_type": "code",
   "execution_count": null,
   "id": "5706ba7a-7a68-458c-8a42-c8c54538cf57",
   "metadata": {},
   "outputs": [],
   "source": []
  },
  {
   "cell_type": "markdown",
   "id": "e3881f89-b509-43fa-8987-306965045d2a",
   "metadata": {},
   "source": [
    "# 2) \n",
    "Show that the number of $k$ between 0 and 1000 for which $\\binom{1000}{k}$ is odd is a power of 2.  \n",
    "Note that $\\binom{n}{m}$ is the binomial coefficient defined by <br/>\n",
    "$$\\binom{n}{m}=\\frac{n!}{m!(n-m)!}$$  \n",
    "and it is available in the python `math` library as the command `comb(n,m)`"
   ]
  },
  {
   "cell_type": "code",
   "execution_count": null,
   "id": "b632b5ac-6adf-45b8-b4e8-4089a996acf5",
   "metadata": {},
   "outputs": [],
   "source": []
  },
  {
   "cell_type": "markdown",
   "id": "f2749013-6c6c-4674-b246-da4c0d2bb367",
   "metadata": {},
   "source": [
    "# 3) \n",
    "For integers $2 \\leq n \\leq 200$, find all $n$ such that $n$ divides $(n-1)! + 1$.  \n",
    "Show that there are 46 such  $n$."
   ]
  },
  {
   "cell_type": "code",
   "execution_count": null,
   "id": "3b94f030-1d04-445c-84ad-5ddc49f91cb3",
   "metadata": {},
   "outputs": [],
   "source": []
  },
  {
   "cell_type": "markdown",
   "id": "c7d5a7e7-a20c-4517-95f2-80c25656626a",
   "metadata": {},
   "source": [
    "# 4) \n",
    "Show that there is only one positive integer $n$ smaller than 100 such that $n! + (n+1)!$ is the square of an integer"
   ]
  },
  {
   "cell_type": "code",
   "execution_count": null,
   "id": "14a212e6-c7ae-45fe-8369-4778c2d425b6",
   "metadata": {},
   "outputs": [],
   "source": []
  },
  {
   "cell_type": "markdown",
   "id": "5a258f3d-f657-473c-8505-649bc5bfe2ec",
   "metadata": {},
   "source": [
    "# 5)\n",
    "Let $m$ be a natural number and\n",
    "$$\r\n",
    "A=\\frac{(m+3)^3+1}{3 m}\r\n",
    "  $$"
   ]
  },
  {
   "cell_type": "markdown",
   "id": "3125717e-657a-49d6-be2a-43e5d98796bc",
   "metadata": {},
   "source": [
    "Find all the integers $m$ less than 500 such that $A$ is an integer. Show that $A$ is always odd."
   ]
  },
  {
   "cell_type": "code",
   "execution_count": null,
   "id": "d23ac092-ad26-4868-b70f-426df75cd89a",
   "metadata": {},
   "outputs": [],
   "source": []
  },
  {
   "cell_type": "markdown",
   "id": "eb7dc985-6247-4bea-9fdf-05b63bbc2056",
   "metadata": {},
   "source": [
    "# 6) "
   ]
  },
  {
   "cell_type": "code",
   "execution_count": null,
   "id": "15b122fb-9214-48f9-9987-27cfc26806eb",
   "metadata": {},
   "outputs": [],
   "source": []
  },
  {
   "cell_type": "markdown",
   "id": "71428465-65d0-46ba-85c1-e656272495bc",
   "metadata": {},
   "source": [
    "# 7) "
   ]
  },
  {
   "cell_type": "code",
   "execution_count": null,
   "id": "79ab8998-c67e-42fb-8303-5e1d242107d2",
   "metadata": {},
   "outputs": [],
   "source": []
  },
  {
   "cell_type": "markdown",
   "id": "fb86dbbb-bf51-44a1-b897-c285459e522e",
   "metadata": {},
   "source": [
    "# 8) "
   ]
  },
  {
   "cell_type": "code",
   "execution_count": null,
   "id": "96c1b2ea-277f-47a2-a37b-14c35a39d3fa",
   "metadata": {},
   "outputs": [],
   "source": []
  },
  {
   "cell_type": "markdown",
   "id": "5a8dea29-cecf-43d5-a542-942fc614d54a",
   "metadata": {},
   "source": [
    "# 9) "
   ]
  },
  {
   "cell_type": "code",
   "execution_count": null,
   "id": "9ffb30c0-5677-4c46-a228-7ca429c9f4b2",
   "metadata": {},
   "outputs": [],
   "source": []
  },
  {
   "cell_type": "markdown",
   "id": "470b5800-bf17-477e-b84f-27c59e17442a",
   "metadata": {},
   "source": [
    "# 10) "
   ]
  },
  {
   "cell_type": "code",
   "execution_count": null,
   "id": "dc89a967-29a2-4233-8f49-771fd26f3923",
   "metadata": {},
   "outputs": [],
   "source": []
  },
  {
   "cell_type": "markdown",
   "id": "040b88bc-207e-4756-b8ac-b6951328e719",
   "metadata": {},
   "source": [
    "# 11) "
   ]
  },
  {
   "cell_type": "code",
   "execution_count": null,
   "id": "2f8ba342-0348-4baf-83a1-4ca1694588f1",
   "metadata": {},
   "outputs": [],
   "source": []
  },
  {
   "cell_type": "markdown",
   "id": "3a713ee7-8e56-4374-8bb5-ea553c244af2",
   "metadata": {},
   "source": [
    "# 12) "
   ]
  },
  {
   "cell_type": "code",
   "execution_count": null,
   "id": "9c2e0e6c-5f3b-4ea5-906f-c40700535360",
   "metadata": {},
   "outputs": [],
   "source": []
  },
  {
   "cell_type": "markdown",
   "id": "1a58639f-b1f3-4121-9e69-e59a675b5323",
   "metadata": {},
   "source": [
    "# 13) "
   ]
  },
  {
   "cell_type": "code",
   "execution_count": null,
   "id": "a0743a01-abf5-4198-87e0-abe59b9f4106",
   "metadata": {},
   "outputs": [],
   "source": []
  },
  {
   "cell_type": "markdown",
   "id": "af1b3ddc-845f-4286-9eeb-a2e2d58f7aba",
   "metadata": {},
   "source": [
    "# 14) "
   ]
  },
  {
   "cell_type": "code",
   "execution_count": null,
   "id": "89b46b47-d96f-4a08-9a14-6c903ab8daf7",
   "metadata": {},
   "outputs": [],
   "source": []
  },
  {
   "cell_type": "markdown",
   "id": "14f65951-0d35-4419-8501-c1040dd8eb43",
   "metadata": {},
   "source": [
    "# 15) "
   ]
  },
  {
   "cell_type": "code",
   "execution_count": null,
   "id": "dd494ac7-e77d-4f7b-bd6a-fe3ac07e6d16",
   "metadata": {},
   "outputs": [],
   "source": []
  },
  {
   "cell_type": "markdown",
   "id": "ae81b5d5-3f4a-4bdf-ae29-4b9fa35c393d",
   "metadata": {},
   "source": [
    "# 16)"
   ]
  },
  {
   "cell_type": "code",
   "execution_count": null,
   "id": "8e3cd211-fe45-4054-b683-4953151c0566",
   "metadata": {},
   "outputs": [],
   "source": []
  },
  {
   "cell_type": "markdown",
   "id": "054f9ade-c051-4bd8-94b9-22688e87f398",
   "metadata": {},
   "source": [
    "# 17)"
   ]
  },
  {
   "cell_type": "code",
   "execution_count": null,
   "id": "1b981c37-6485-4922-915a-8fb16a060dd4",
   "metadata": {},
   "outputs": [],
   "source": []
  },
  {
   "cell_type": "markdown",
   "id": "f4e34d08-6cee-41f5-b8af-f4edfde62945",
   "metadata": {},
   "source": [
    "# 18)"
   ]
  },
  {
   "cell_type": "code",
   "execution_count": null,
   "id": "3117ea9c-71e6-4321-b78d-da1e5c11f2d5",
   "metadata": {},
   "outputs": [],
   "source": []
  },
  {
   "cell_type": "markdown",
   "id": "6ef6a320-1e6e-4f2f-b1de-e479291ca36f",
   "metadata": {},
   "source": [
    "# 19)"
   ]
  },
  {
   "cell_type": "code",
   "execution_count": null,
   "id": "2e7c9858-9914-4457-be45-c19b90fcab08",
   "metadata": {},
   "outputs": [],
   "source": []
  },
  {
   "cell_type": "markdown",
   "id": "80c8ad98-2513-4199-881a-85ef14bedf70",
   "metadata": {},
   "source": [
    "# 20)"
   ]
  },
  {
   "cell_type": "code",
   "execution_count": null,
   "id": "cbb05c71-f144-4cae-98d8-339a70a29744",
   "metadata": {},
   "outputs": [],
   "source": []
  }
 ],
 "metadata": {
  "kernelspec": {
   "display_name": "Python 3 (ipykernel)",
   "language": "python",
   "name": "python3"
  },
  "language_info": {
   "codemirror_mode": {
    "name": "ipython",
    "version": 3
   },
   "file_extension": ".py",
   "mimetype": "text/x-python",
   "name": "python",
   "nbconvert_exporter": "python",
   "pygments_lexer": "ipython3",
   "version": "3.12.4"
  }
 },
 "nbformat": 4,
 "nbformat_minor": 5
}
