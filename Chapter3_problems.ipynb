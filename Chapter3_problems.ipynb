{
 "cells": [
  {
   "cell_type": "markdown",
   "id": "0edfcac7-a6f1-4200-af78-fa9fe42ee471",
   "metadata": {},
   "source": [
    "# A Course in Python\n",
    "## Chapter 3 - Problems"
   ]
  },
  {
   "cell_type": "code",
   "execution_count": 1,
   "id": "8e0b597b-6ae9-4645-950c-fcc71048edc1",
   "metadata": {},
   "outputs": [],
   "source": [
    "import math\n",
    "import numpy as np\n",
    "import sympy as sp\n",
    "import matplotlib.pyplot as plt\n",
    "import nltk"
   ]
  },
  {
   "cell_type": "markdown",
   "id": "7ad54f35-27db-4ff8-b71f-904ed26eab80",
   "metadata": {},
   "source": [
    "# 1) \n",
    "Find the number of positive integers $ 0 < n < 20000 $ such that 1997 divides $n^2 + (n+1)^2 $.  Try the same code for 2009 and 2022"
   ]
  },
  {
   "cell_type": "code",
   "execution_count": null,
   "id": "5706ba7a-7a68-458c-8a42-c8c54538cf57",
   "metadata": {},
   "outputs": [],
   "source": []
  },
  {
   "cell_type": "markdown",
   "id": "e3881f89-b509-43fa-8987-306965045d2a",
   "metadata": {},
   "source": [
    "# 2) \n",
    "Show that the number of $k$ between 0 and 1000 for which $\\binom{1000}{k}$ is odd is a power of 2.  \n",
    "Note that $\\binom{n}{m}$ is the binomial coefficient defined by <br/>\n",
    "$$\\binom{n}{m}=\\frac{n!}{m!(n-m)!}$$  \n",
    "and it is available in the python `math` library as the command `comb(n,m)`"
   ]
  },
  {
   "cell_type": "code",
   "execution_count": null,
   "id": "b632b5ac-6adf-45b8-b4e8-4089a996acf5",
   "metadata": {},
   "outputs": [],
   "source": []
  },
  {
   "cell_type": "markdown",
   "id": "f2749013-6c6c-4674-b246-da4c0d2bb367",
   "metadata": {},
   "source": [
    "# 3) \n",
    "For integers $2 \\leq n \\leq 200$, find all $n$ such that $n$ divides $(n-1)! + 1$.  \n",
    "Show that there are 46 such  $n$."
   ]
  },
  {
   "cell_type": "code",
   "execution_count": null,
   "id": "3b94f030-1d04-445c-84ad-5ddc49f91cb3",
   "metadata": {},
   "outputs": [],
   "source": []
  },
  {
   "cell_type": "markdown",
   "id": "c7d5a7e7-a20c-4517-95f2-80c25656626a",
   "metadata": {},
   "source": [
    "# 4) \n",
    "Show that there is only one positive integer $n$ smaller than 100 such that $n! + (n+1)!$ is the square of an integer"
   ]
  },
  {
   "cell_type": "code",
   "execution_count": null,
   "id": "14a212e6-c7ae-45fe-8369-4778c2d425b6",
   "metadata": {},
   "outputs": [],
   "source": []
  },
  {
   "cell_type": "markdown",
   "id": "5a258f3d-f657-473c-8505-649bc5bfe2ec",
   "metadata": {},
   "source": [
    "# 5)\n",
    "Let $m$ be a natural number and\n",
    "$$\r\n",
    "A=\\frac{(m+3)^3+1}{3 m}\r\n",
    "  $$"
   ]
  },
  {
   "cell_type": "markdown",
   "id": "3125717e-657a-49d6-be2a-43e5d98796bc",
   "metadata": {},
   "source": [
    "Find all the integers $m$ less than 500 such that $A$ is an integer. Show that $A$ is always odd."
   ]
  },
  {
   "cell_type": "code",
   "execution_count": null,
   "id": "d23ac092-ad26-4868-b70f-426df75cd89a",
   "metadata": {},
   "outputs": [],
   "source": []
  },
  {
   "cell_type": "markdown",
   "id": "eb7dc985-6247-4bea-9fdf-05b63bbc2056",
   "metadata": {},
   "source": [
    "# 6)\n",
    "For a given 𝑛, calculate the series\n",
    "$$ 1^3 + 2^3 + ... + n^3, 1 + \\frac{1}{1} + \\frac{1}{2!} + ... + \\frac{1}{n!} $$ \n"
   ]
  },
  {
   "cell_type": "code",
   "execution_count": null,
   "id": "15b122fb-9214-48f9-9987-27cfc26806eb",
   "metadata": {},
   "outputs": [],
   "source": []
  },
  {
   "cell_type": "markdown",
   "id": "71428465-65d0-46ba-85c1-e656272495bc",
   "metadata": {},
   "source": [
    "# 7)\n",
    "Show that only $n$ less than 1000 such that\n",
    "$$ 3^n + 4^n + ... +  (n + 2)^n = (n + 3)^n $$\n",
    "are the numbers 2 and 3"
   ]
  },
  {
   "cell_type": "code",
   "execution_count": null,
   "id": "79ab8998-c67e-42fb-8303-5e1d242107d2",
   "metadata": {},
   "outputs": [],
   "source": []
  },
  {
   "cell_type": "markdown",
   "id": "fb86dbbb-bf51-44a1-b897-c285459e522e",
   "metadata": {},
   "source": [
    "# 8)\n",
    "find all the numbers up to one million which have the following property:  \n",
    "if $ n = d_1 d_2 ... d_k $ then $ n = d_1! + d_2! + ... + d_k! $ (eg 145 = 1! + 4! + 5!) "
   ]
  },
  {
   "cell_type": "code",
   "execution_count": null,
   "id": "96c1b2ea-277f-47a2-a37b-14c35a39d3fa",
   "metadata": {},
   "outputs": [],
   "source": []
  },
  {
   "cell_type": "markdown",
   "id": "5a8dea29-cecf-43d5-a542-942fc614d54a",
   "metadata": {},
   "source": [
    "# 9) \n",
    "Consider the number 485. Observe that 485 + 584 = 1069 is a prime number.\r\n",
    "Find all numbers 𝑛 between 1 and 1000 such that 𝑛 plus its reverse is prime."
   ]
  },
  {
   "cell_type": "code",
   "execution_count": 2,
   "id": "9ffb30c0-5677-4c46-a228-7ca429c9f4b2",
   "metadata": {},
   "outputs": [
    {
     "data": {
      "text/plain": [
       "684"
      ]
     },
     "execution_count": 2,
     "metadata": {},
     "output_type": "execute_result"
    }
   ],
   "source": [
    "x = 486\n",
    "x_r = int(str(x)[::-1])\n",
    "x_r"
   ]
  },
  {
   "cell_type": "markdown",
   "id": "470b5800-bf17-477e-b84f-27c59e17442a",
   "metadata": {},
   "source": [
    "# 10) \n",
    "write two functions $f$ and $g$, each accepting two sequences $(x_1, x_2, ..., x_n)$ and $(y_1, y_2, ...,y_n)$ of positive integers, and return respectively.  }\r\n",
    "$$"
   ]
  },
  {
   "cell_type": "markdown",
   "id": "c2adf9fc-7859-46d5-b965-286b8af0509f",
   "metadata": {},
   "source": [
    "$$\n",
    "\\sqrt{x_1 y_1} + \\sqrt{x_2, y_2} \\cdots + \\sqrt{x_n y_n}\n",
    "$$"
   ]
  },
  {
   "cell_type": "markdown",
   "id": "fbbcc0c8-7909-4055-a55b-1896c898af3d",
   "metadata": {},
   "source": [
    "$$\n",
    "\\sqrt{x_1+x_2+\\cdots+x_n} \\times \\sqrt{y_1+y_2+\\cdots+y_n}\n",
    "$$"
   ]
  },
  {
   "cell_type": "code",
   "execution_count": null,
   "id": "dbe2eca2-e360-4d10-a66a-b79fc4971c6a",
   "metadata": {},
   "outputs": [],
   "source": []
  },
  {
   "cell_type": "markdown",
   "id": "040b88bc-207e-4756-b8ac-b6951328e719",
   "metadata": {},
   "source": [
    "# 11) \n",
    "Write a function that steps in sequence $(a_1, a_2, ..., a_n)$ and returns $\\frac{(a_1 + a_2 + ... + a_n)}{n}$  \n",
    "Use this function to demonstrate Chebycheff's inequality ,  \n",
    "i.e\n",
    "$$\r\n",
    "\\frac{a_1+a_2+\\cdots+a_n}{n} \\times \\frac{b_1+b_2+\\cdots+b_n}{n} \\leq \\frac{a_1 b_1+a_2 b_2+\\cdots+a_n b_n}{n},\r\n",
    "$$"
   ]
  },
  {
   "cell_type": "markdown",
   "id": "82e070ac-f16f-4b2a-87f7-ea00bac184ef",
   "metadata": {},
   "source": [
    "for non-increasing sequences of numbers"
   ]
  },
  {
   "cell_type": "code",
   "execution_count": null,
   "id": "9bcfecab-9aa4-4488-9015-793b4f9e8f07",
   "metadata": {},
   "outputs": [],
   "source": []
  },
  {
   "cell_type": "markdown",
   "id": "3a713ee7-8e56-4374-8bb5-ea553c244af2",
   "metadata": {},
   "source": [
    "# 12) \n",
    "A number is called a Harshad number if it is divisible by the sum of its digits (e.g.,\r\n",
    "12 is Harshad as it is divisible by 1 + 2 = 3). Find all 2-digit Harshad numbers.\r\n",
    "How many 5-digit Harshad numbers are there? (Harshad means “giving joy” in\r\n",
    "Sanskrit, defined and named by the Indian mathematician D. Kaprekar.)"
   ]
  },
  {
   "cell_type": "code",
   "execution_count": null,
   "id": "9c2e0e6c-5f3b-4ea5-906f-c40700535360",
   "metadata": {},
   "outputs": [],
   "source": []
  },
  {
   "cell_type": "markdown",
   "id": "1a58639f-b1f3-4121-9e69-e59a675b5323",
   "metadata": {},
   "source": [
    "# 13) \n",
    "The formula 𝑒41 = 𝑛2+𝑛+41 produces prime numbers for 0 ≤ 𝑛 ≤ 39 but not for\r\n",
    "𝑛 = 40. Check that for no 𝑖 between 1 and 10000 does the formula 𝑒𝑖 = 𝑛2 + 𝑛 +𝑖\r\n",
    "produce prime numbers for a larger interval starting at 𝑛 = 0"
   ]
  },
  {
   "cell_type": "code",
   "execution_count": null,
   "id": "a0743a01-abf5-4198-87e0-abe59b9f4106",
   "metadata": {},
   "outputs": [],
   "source": []
  },
  {
   "cell_type": "markdown",
   "id": "af1b3ddc-845f-4286-9eeb-a2e2d58f7aba",
   "metadata": {},
   "source": [
    "# 14) \n",
    "Recall that Fibonacci numbers are defined recursively by 𝑎1 = 𝑎2 = 1 and\r\n",
    "𝑎𝑛 = 𝑎𝑛−1 + 𝑎𝑛−2, for 𝑛 ≥ 2. Show that the following identities hold for 𝑛 = 100."
   ]
  },
  {
   "cell_type": "markdown",
   "id": "46464967-8151-4f4b-a690-e377b93e899e",
   "metadata": {},
   "source": [
    "$$\n",
    "a_1 + a_2 + ... + a_n = a_{n+2} - 1\n",
    "$$"
   ]
  },
  {
   "cell_type": "markdown",
   "id": "eaee1825-d710-46dc-a991-7bb49e69aee6",
   "metadata": {},
   "source": [
    "$$\n",
    "a_n^4-a_{n-2} \\cdot a_{n-1} \\cdot a_{n+1} \\cdot a_{n+2}=1\n",
    "$$"
   ]
  },
  {
   "cell_type": "markdown",
   "id": "8dcdb64e-3b35-40e1-a1a4-1da03c3edf9f",
   "metadata": {},
   "source": [
    "$$\n",
    "a_{2n} = a_n(a_{n-1}+a_{n+1})\n",
    "$$"
   ]
  },
  {
   "cell_type": "code",
   "execution_count": null,
   "id": "c8522754-b79a-4093-aa05-eb343ec81116",
   "metadata": {},
   "outputs": [],
   "source": []
  },
  {
   "cell_type": "markdown",
   "id": "14f65951-0d35-4419-8501-c1040dd8eb43",
   "metadata": {},
   "source": [
    "# 15) Compute\r\n",
    "\r\n",
    "\r\n",
    "$$\r\n",
    "\\sqrt{1+\\frac{1}{1^{2}}+\\frac{1}{2^{2}}}+\\sqrt{1+\\frac{1}{2^{2}}+\\frac{1}{3^{2}}}+\\cdots+\\sqrt{1+\\frac{1}{2022^{2}}+\\frac{1}{2023^{2}}}\r\n",
    "$$"
   ]
  },
  {
   "cell_type": "code",
   "execution_count": null,
   "id": "dd494ac7-e77d-4f7b-bd6a-fe3ac07e6d16",
   "metadata": {},
   "outputs": [],
   "source": []
  },
  {
   "cell_type": "markdown",
   "id": "ae81b5d5-3f4a-4bdf-ae29-4b9fa35c393d",
   "metadata": {},
   "source": [
    "# 16) \n",
    "Investigate whether the series\r",
    "\r\n",
    "\r\n",
    "$$\r\n",
    "2^{-\\frac{1}{2}}+(3+5)^{-\\frac{1}{2}}+(7+11+13)^{-\\frac{1}{2}}+(17+19+23+29)^{-\\frac{1}{2}}+\\cdots\r\n",
    "$$\r\n",
    "\r\n",
    "\r\n",
    "converges."
   ]
  },
  {
   "cell_type": "code",
   "execution_count": null,
   "id": "8e3cd211-fe45-4054-b683-4953151c0566",
   "metadata": {},
   "outputs": [],
   "source": []
  },
  {
   "cell_type": "markdown",
   "id": "054f9ade-c051-4bd8-94b9-22688e87f398",
   "metadata": {},
   "source": [
    "# 17\n",
    "Write\r\n",
    "\r\n",
    "\r\n",
    "$$\r\n",
    "\\prod_{n=1}^{10} \\frac{(2 n-1)(2 n+1)}{2 n \\times 2 n}=\\frac{1 \\times 3}{2 \\times 2} \\frac{3 \\times 5}{4 \\times 4} \\frac{5 \\times 7}{6 \\times 6} \\cdots\r\n",
    "$$"
   ]
  },
  {
   "cell_type": "code",
   "execution_count": null,
   "id": "1b981c37-6485-4922-915a-8fb16a060dd4",
   "metadata": {},
   "outputs": [],
   "source": []
  },
  {
   "cell_type": "markdown",
   "id": "f4e34d08-6cee-41f5-b8af-f4edfde62945",
   "metadata": {},
   "source": [
    "# 18)\n",
    "Investigate\r\n",
    "\r\n",
    "\r\n",
    "$$\r\n",
    "\\frac{\\mathrm{e}}{2}=\\left(\\frac{2}{1}\\right)^{\\frac{1}{2}}\\left(\\frac{2}{3} \\frac{4}{3}\\right)^{\\frac{1}{4}}\\left(\\frac{4}{5} \\frac{6}{5} \\frac{6}{7} \\frac{8}{7}\\right)^{\\frac{1}{8}}\\left(\\frac{8}{9} \\frac{10}{9} \\frac{10}{11} \\frac{12}{11} \\frac{12}{13} \\frac{14}{13} \\frac{14}{15} \\frac{16}{15}\\right)^{\\frac{1}{16}} \\ldots\r\n",
    "$$"
   ]
  },
  {
   "cell_type": "code",
   "execution_count": null,
   "id": "3117ea9c-71e6-4321-b78d-da1e5c11f2d5",
   "metadata": {},
   "outputs": [],
   "source": []
  },
  {
   "cell_type": "markdown",
   "id": "6ef6a320-1e6e-4f2f-b1de-e479291ca36f",
   "metadata": {},
   "source": [
    "# 19)\n",
    "Investigate\r\n",
    "\r\n",
    "\r\n",
    "$$\r\n",
    "\\sum_{n=0}^{\\infty} \\frac{(-1)^{n}}{2 n+1} \\sum_{k=0}^{2 n} \\frac{1}{2 n+4 k+3}=\\frac{3 \\pi}{8} \\log \\frac{\\sqrt{5}+1}{2}-\\frac{\\pi}{16} \\log 5\r\n",
    "$$"
   ]
  },
  {
   "cell_type": "code",
   "execution_count": null,
   "id": "2e7c9858-9914-4457-be45-c19b90fcab08",
   "metadata": {},
   "outputs": [],
   "source": []
  },
  {
   "cell_type": "markdown",
   "id": "80c8ad98-2513-4199-881a-85ef14bedf70",
   "metadata": {},
   "source": [
    "# 20)\n",
    "Find the smallest number expressible as the sum of two cubes in two different ways (hint: the number is less than 3000 )."
   ]
  },
  {
   "cell_type": "code",
   "execution_count": null,
   "id": "cbb05c71-f144-4cae-98d8-339a70a29744",
   "metadata": {},
   "outputs": [],
   "source": []
  }
 ],
 "metadata": {
  "kernelspec": {
   "display_name": "Python 3 (ipykernel)",
   "language": "python",
   "name": "python3"
  },
  "language_info": {
   "codemirror_mode": {
    "name": "ipython",
    "version": 3
   },
   "file_extension": ".py",
   "mimetype": "text/x-python",
   "name": "python",
   "nbconvert_exporter": "python",
   "pygments_lexer": "ipython3",
   "version": "3.12.4"
  }
 },
 "nbformat": 4,
 "nbformat_minor": 5
}
