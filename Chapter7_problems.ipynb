{
 "cells": [
  {
   "cell_type": "code",
   "execution_count": 1,
   "id": "d5bdc537-6a42-4698-8ba1-a2d070b6c692",
   "metadata": {},
   "outputs": [],
   "source": [
    "import sympy\n",
    "import math"
   ]
  },
  {
   "cell_type": "markdown",
   "id": "5e39807c-4785-4296-80a6-42e63a518ab6",
   "metadata": {},
   "source": [
    "## Chapter 7 - problems"
   ]
  },
  {
   "cell_type": "markdown",
   "id": "b7e0adb2-c4ef-4a2f-bcd1-6c0ddf0f1d75",
   "metadata": {},
   "source": [
    "(1) Find the smallest positive integer m such that $529^3 + 132^3$ * m is divisible by 262417. How many\r\n",
    "ways can you write a code for it\r"
   ]
  },
  {
   "cell_type": "code",
   "execution_count": 53,
   "id": "0e766b3a-1830-46bb-b0a3-3a3caf8b2c40",
   "metadata": {},
   "outputs": [
    {
     "name": "stdout",
     "output_type": "stream",
     "text": [
      "1984\n"
     ]
    }
   ],
   "source": [
    "def f(m):\n",
    "    return ((529**3) + ((132**3) * m)) % 262417 == 0\n",
    "                                                                                                                                                                                                                                                                                                                                                                                                                                                                                                                                                                                                                                                                                                                                                                                                                                                                                                                                                                                                                                                                                                                                                                                                                                                                                                                                                                                                                                                                                                                                                                                                                        \n",
    "m = 1\n",
    "while not f(m):\n",
    "    m += 1\n",
    "\n",
    "print(m)"
   ]
  },
  {
   "cell_type": "markdown",
   "id": "bde91741-88e3-4b7d-8878-5d6634d70abb",
   "metadata": {},
   "source": [
    "(2) Recall that for integers n, m the gcd(n, m), is the largest positive number k which divides both\r\n",
    "n and m. Also note that if n = mq + r, for integers q and r then gcd(n, m) = gcd(m, r). Find\r\n",
    "the gcd(n, m) by repeatedly using Euclidean algorithm n = mq + r and make the numbers\r\n",
    "smallr.\r"
   ]
  },
  {
   "cell_type": "code",
   "execution_count": null,
   "id": "eb6407bc-25be-4994-9082-85e72d3e12b3",
   "metadata": {},
   "outputs": [],
   "source": []
  },
  {
   "cell_type": "markdown",
   "id": "73a2c2e5-1f60-475d-9e24-6115e28e6add",
   "metadata": {},
   "source": [
    "(3) Find the closest prime number less than a given number n."
   ]
  },
  {
   "cell_type": "code",
   "execution_count": 65,
   "id": "a29f2434-22db-44c6-b7e1-c15bde2b6c5f",
   "metadata": {},
   "outputs": [
    {
     "data": {
      "text/plain": [
       "[2, 5, 11, 17, 23, 31, 41, 47]"
      ]
     },
     "execution_count": 65,
     "metadata": {},
     "output_type": "execute_result"
    }
   ],
   "source": [
    "import sympy\n",
    "n = 57\n",
    "theList = list(sympy.primerange(0, n))\n",
    "theList[-1]\n",
    "theList[::2]"
   ]
  },
  {
   "cell_type": "markdown",
   "id": "62a759a8-b3da-4a56-aeaf-76bfcc4df4f7",
   "metadata": {},
   "source": [
    "(4) Write function which accepts x and n and calculates\r",
    "$$\r\n",
    "1+\\frac{1}{1+\\frac{1}{1+\\frac{1}{1+\\cdots \\frac{1}{1+x}}}}\r\n",
    "$$"
   ]
  },
  {
   "cell_type": "markdown",
   "id": "0f371514-03f0-486a-9a24-e1c473ee57b8",
   "metadata": {},
   "source": [
    "where there are n division lines in the expression on the right. Can you write the code also\r\n",
    "using map and reduce.\r"
   ]
  },
  {
   "cell_type": "code",
   "execution_count": 30,
   "id": "16dc6bba-9b1c-41f7-8b49-36b3369bd0cd",
   "metadata": {},
   "outputs": [
    {
     "name": "stdout",
     "output_type": "stream",
     "text": [
      "1 + 1/(1 + 1/(1 + 1/(x + 1)))\n"
     ]
    }
   ],
   "source": [
    "# recursive approach, if else\n",
    "def continued_fraction_recursive(x, n):\n",
    "    if n == 1:\n",
    "        return 1 + x # the most inner equation\n",
    "    else:\n",
    "        return 1 + 1 / continued_fraction_recursive(x, (n-1))\n",
    "\n",
    "# Example usage:\n",
    "x = sympy.symbols('x') # replace with whatever x is valued\n",
    "n = 4 # number of recursions\n",
    "print(continued_fraction_recursive(x, n))"
   ]
  },
  {
   "cell_type": "code",
   "execution_count": 50,
   "id": "a1c99a2c-5078-456d-9a57-739bb4fa8a17",
   "metadata": {},
   "outputs": [
    {
     "name": "stdout",
     "output_type": "stream",
     "text": [
      "1 + 1/(1 + 1/(1 + 1/(1 + 1/(x + 1))))\n"
     ]
    }
   ],
   "source": [
    "# recursive approach, while loop\n",
    "def continued_fraction_recursive(x, n):\n",
    "    while n != 1:\n",
    "        return 1 + 1 / continued_fraction_recursive(x, n - 1)\n",
    "    return 1 + x; # the most inner equation\n",
    "    \n",
    "# Example usage:\n",
    "x = sympy.symbols('x') # replace with whatever x is valued\n",
    "n = 5 # number of recursions\n",
    "print(continued_fraction_recursive(x, n))"
   ]
  },
  {
   "cell_type": "code",
   "execution_count": 38,
   "id": "8f1af6e4-27b6-44e4-a7f0-19784ef515a1",
   "metadata": {},
   "outputs": [
    {
     "data": {
      "text/latex": [
       "$\\displaystyle 1 + \\frac{1}{1 + \\frac{1}{1 + \\frac{1}{1 + \\frac{1}{x}}}}$"
      ],
      "text/plain": [
       "1 + 1/(1 + 1/(1 + 1/(1 + 1/x)))"
      ]
     },
     "execution_count": 38,
     "metadata": {},
     "output_type": "execute_result"
    }
   ],
   "source": [
    "from functools import reduce\n",
    "x, n = sympy.symbols('x n')\n",
    "reduce(lambda x, n: 1/x + 1, (x,n,n,n,n))\n"
   ]
  },
  {
   "cell_type": "code",
   "execution_count": 48,
   "id": "c1aead01-b18f-4328-8c79-7b2703a77fe6",
   "metadata": {},
   "outputs": [
    {
     "data": {
      "text/plain": [
       "1.6363636363636362"
      ]
     },
     "execution_count": 48,
     "metadata": {},
     "output_type": "execute_result"
    }
   ],
   "source": [
    "x = 3\n",
    "reduce(lambda x, n: 1/x + 1, (x,x,x,x,x))"
   ]
  },
  {
   "cell_type": "markdown",
   "id": "ed0425b9-5304-4d47-94df-f4651c4dd1f0",
   "metadata": {},
   "source": [
    " A number a1a2 · · · an is called a pure prime number if\n",
    " \r",
    "$$\n",
    "a1a2 . . . an, a1a2 . . . an−1, . . . , a1a2a3, a1a2, a$$\n",
    "1\r\n",
    "are all prime. Find all pure prime number up to 6 digits. Can you write the code using map,\r\n",
    "filter and reduce\r"
   ]
  },
  {
   "cell_type": "code",
   "execution_count": 3,
   "id": "774f33ac-9541-487c-9d1d-89bc132e966f",
   "metadata": {},
   "outputs": [
    {
     "name": "stdout",
     "output_type": "stream",
     "text": [
      "[2, 3, 5, 7, 23, 29, 31, 37, 53, 59, 71, 73, 79, 233, 239, 293, 311, 313, 317, 373, 379, 593, 599, 719, 733, 739, 797, 2333, 2339, 2393, 2399, 2939, 3119, 3137, 3733, 3739, 3793, 3797, 5939, 7193, 7331, 7333, 7393, 23333, 23339, 23399, 23993, 29399, 31193, 31379, 37337, 37339, 37397, 59393, 59399, 71933, 73331, 73939, 233993, 239933, 293999, 373379, 373393, 593933, 593993, 719333, 739391, 739393, 739397, 739399]\n"
     ]
    }
   ],
   "source": [
    "import sympy\n",
    "def isPurePrime(n):\n",
    "    ispure = True\n",
    "    while n > 0:\n",
    "        if(not sympy.isprime(n)):\n",
    "            ispure = False\n",
    "        n = n // 10\n",
    "    return ispure\n",
    "    \n",
    "purePrimesList = []\n",
    "for i in range(1, 1*10**6):\n",
    "    if isPurePrime(i):\n",
    "        purePrimesList.append(i)\n",
    "\n",
    "print(purePrimesList)"
   ]
  },
  {
   "cell_type": "code",
   "execution_count": 6,
   "id": "8feb0ec8-6bdf-4bf9-9286-026f5a50acb9",
   "metadata": {},
   "outputs": [
    {
     "name": "stdout",
     "output_type": "stream",
     "text": [
      "[2, 3, 5, 7, 23, 29, 31, 37, 53, 59, 71, 73, 79, 233, 239, 293, 311, 313, 317, 373, 379, 593, 599, 719, 733, 739, 797, 2333, 2339, 2393, 2399, 2939, 3119, 3137, 3733, 3739, 3793, 3797, 5939, 7193, 7331, 7333, 7393, 23333, 23339, 23399, 23993, 29399, 31193, 31379, 37337, 37339, 37397, 59393, 59399, 71933, 73331, 73939, 233993, 239933, 293999, 373379, 373393, 593933, 593993, 719333, 739391, 739393, 739397, 739399]\n"
     ]
    }
   ],
   "source": [
    "def isPurePrime(n):\n",
    "    ispure = True\n",
    "    while n > 0:\n",
    "        if(not sympy.isprime(n)):\n",
    "            ispure = False\n",
    "        n = n // 10\n",
    "    return ispure\n",
    "\n",
    "print(list(filter(isPurePrime, range(1,1*10**6))))"
   ]
  },
  {
   "cell_type": "markdown",
   "id": "b12b08ea-0e55-4782-84a9-4516afa48ce3",
   "metadata": {},
   "source": [
    "(6) For a number n, a proper divisor k is a number which is not n and it divides n. For example,\r\n",
    "{1, 3, 5} are all the proper divisor of 15. Starting with a number, consider the sum of all the\r\n",
    "proper divisors of the number. Now consider the sum of all the proper divisors of this new\r\n",
    "number and repeat this process. If one eventually obtains the number which one started with,\r\n",
    "then this number is called a social number. Write a program to show that 1264460 is a social\r\n",
    "number. Can you check whether 14316 is also a social number."
   ]
  },
  {
   "cell_type": "code",
   "execution_count": 20,
   "id": "43bdf8d7-837b-4fb3-82dd-e62aa5da738c",
   "metadata": {},
   "outputs": [
    {
     "name": "stdout",
     "output_type": "stream",
     "text": [
      "[2, 4, 5, 10, 17, 20, 34, 68, 85, 170, 340, 3719, 7438, 14876, 18595, 37190, 63223, 74380, 126446, 252892, 316115, 632230]\n",
      "1547859\n",
      "[3, 457, 1129, 1371, 3387, 515953]\n",
      "522300\n",
      "[2, 3, 4, 5, 6, 10, 12, 15, 20, 25, 30, 50, 60, 75, 100, 150, 300, 1741, 3482, 5223, 6964, 8705, 10446, 17410, 20892, 26115, 34820, 43525, 52230, 87050, 104460, 130575, 174100, 261150]\n",
      "989755\n",
      "[5, 13, 65, 15227, 76135, 197951]\n",
      "289396\n",
      "[2, 4, 71, 142, 284, 1019, 2038, 4076, 72349, 144698]\n",
      "224683\n",
      "[]\n",
      "0\n"
     ]
    }
   ],
   "source": [
    "def proper_divisors(num):\n",
    "  divisors = []\n",
    "  for i in range(2, num):\n",
    "    if num % i == 0:\n",
    "      divisors.append(i)\n",
    "  return divisors\n",
    "\n",
    "num = 1264460\n",
    "origNum = 1264460\n",
    "while num > 0:\n",
    "    print(proper_divisors(num))\n",
    "    num = sum(proper_divisors(num))\n",
    "    print(num)\n",
    "    if num == origNum:\n",
    "        print(f'{num} is social')"
   ]
  },
  {
   "cell_type": "markdown",
   "id": "36b0cf3e-87fc-4cb8-87ab-2b7b77da0a4e",
   "metadata": {},
   "source": [
    "(7) We call a pair of prime numbers p and q friends if pq and qp are both prime (by pq we mean\r\n",
    "the juxtaposition of the numbers together). For example, the prime numbers 563 and 587 are\r\n",
    "friends as 563587 and 587563 are both primes. Write a program to produce all the prime friends\r\n",
    "for some suitable range of primes."
   ]
  },
  {
   "cell_type": "code",
   "execution_count": null,
   "id": "2b4bf61d-e622-4d00-9598-2bd3f5b275c1",
   "metadata": {},
   "outputs": [],
   "source": []
  },
  {
   "cell_type": "code",
   "execution_count": null,
   "id": "f2391e18-68d1-486d-8523-87a8aef18a15",
   "metadata": {},
   "outputs": [],
   "source": []
  }
 ],
 "metadata": {
  "kernelspec": {
   "display_name": "Python 3 (ipykernel)",
   "language": "python",
   "name": "python3"
  },
  "language_info": {
   "codemirror_mode": {
    "name": "ipython",
    "version": 3
   },
   "file_extension": ".py",
   "mimetype": "text/x-python",
   "name": "python",
   "nbconvert_exporter": "python",
   "pygments_lexer": "ipython3",
   "version": "3.12.4"
  }
 },
 "nbformat": 4,
 "nbformat_minor": 5
}
