{
 "cells": [
  {
   "cell_type": "code",
   "execution_count": 9,
   "id": "44c5ccba-1e79-44ac-92d1-d76689b3ed78",
   "metadata": {},
   "outputs": [
    {
     "data": {
      "text/plain": [
       "[['id', 'gender', 'lname', 'fname'],\n",
       " ['172-32-1176', 'm', 'White', 'Johnson'],\n",
       " ['514-14-8905', 'f', 'Borden', 'Ashley'],\n",
       " ['213-46-8915', 'f', 'Green', 'Marjorie'],\n",
       " ['524-02-7657', 'm', 'Munsch', 'Jerome'],\n",
       " ['489-36-8350', 'm', 'Aragon', 'Robert'],\n",
       " ['514-30-2668', 'f', 'Russell', 'Jacki'],\n",
       " ['505-88-5714', 'f', 'Venson', 'Lillian'],\n",
       " ['690-05-5315', 'm', 'Conley', 'Thomas'],\n",
       " ['646-44-9061', 'M', 'Jackson', 'Charles']]"
      ]
     },
     "execution_count": 9,
     "metadata": {},
     "output_type": "execute_result"
    }
   ],
   "source": [
    "import csv\n",
    "with open('sample-data.csv', newline='') as interest_data:\n",
    "    reader = csv.reader(interest_data)\n",
    "    RBA_data = list(reader)\n",
    "\n",
    "RBA_data[ : 10]\n"
   ]
  },
  {
   "cell_type": "code",
   "execution_count": null,
   "id": "b020870b-9032-4c1b-9371-67d10c773da8",
   "metadata": {},
   "outputs": [],
   "source": []
  }
 ],
 "metadata": {
  "kernelspec": {
   "display_name": "Python 3 (ipykernel)",
   "language": "python",
   "name": "python3"
  },
  "language_info": {
   "codemirror_mode": {
    "name": "ipython",
    "version": 3
   },
   "file_extension": ".py",
   "mimetype": "text/x-python",
   "name": "python",
   "nbconvert_exporter": "python",
   "pygments_lexer": "ipython3",
   "version": "3.12.4"
  }
 },
 "nbformat": 4,
 "nbformat_minor": 5
}
