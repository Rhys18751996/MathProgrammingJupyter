{
 "cells": [
  {
   "cell_type": "code",
   "execution_count": 5,
   "id": "edfebc5c-53c6-4bb2-9c50-5810cda4d9eb",
   "metadata": {},
   "outputs": [
    {
     "name": "stdout",
     "output_type": "stream",
     "text": [
      "*** Introductory Examples for the NLTK Book ***\n",
      "Loading text1, ..., text9 and sent1, ..., sent9\n",
      "Type the name of the text or sentence to view it.\n",
      "Type: 'texts()' or 'sents()' to list the materials.\n",
      "text1: Moby Dick by Herman Melville 1851\n",
      "text2: Sense and Sensibility by Jane Austen 1811\n",
      "text3: The Book of Genesis\n",
      "text4: Inaugural Address Corpus\n",
      "text5: Chat Corpus\n",
      "text6: Monty Python and the Holy Grail\n",
      "text7: Wall Street Journal\n",
      "text8: Personals Corpus\n",
      "text9: The Man Who Was Thursday by G . K . Chesterton 1908\n"
     ]
    }
   ],
   "source": [
    "import nltk\n",
    "#nltk.download()\n",
    "from nltk.book import *;"
   ]
  },
  {
   "cell_type": "code",
   "execution_count": 6,
   "id": "c4148194-5b0a-4a8d-b718-34b92f160287",
   "metadata": {},
   "outputs": [
    {
     "data": {
      "text/plain": [
       "141576"
      ]
     },
     "execution_count": 6,
     "metadata": {},
     "output_type": "execute_result"
    }
   ],
   "source": [
    "len(text2)"
   ]
  },
  {
   "cell_type": "code",
   "execution_count": 9,
   "id": "693adb56-a025-4ec1-a27c-541e3284d22b",
   "metadata": {},
   "outputs": [
    {
     "data": {
      "text/plain": [
       "['family', 'of', 'his', 'nephew', 'Mr', '.', 'Henry', 'Dashwood', ',', 'the']"
      ]
     },
     "execution_count": 9,
     "metadata": {},
     "output_type": "execute_result"
    }
   ],
   "source": [
    "text2[140:150]"
   ]
  },
  {
   "cell_type": "code",
   "execution_count": 11,
   "id": "74b2bf78-456c-48e0-bde0-74fe4db42866",
   "metadata": {},
   "outputs": [],
   "source": [
    "s1 = 'hello'; s2 ='world'"
   ]
  },
  {
   "cell_type": "code",
   "execution_count": 13,
   "id": "8c8942c6-acd2-435d-b390-f5470451a858",
   "metadata": {},
   "outputs": [
    {
     "data": {
      "text/plain": [
       "'helloworld'"
      ]
     },
     "execution_count": 13,
     "metadata": {},
     "output_type": "execute_result"
    }
   ],
   "source": [
    "''.join([s1,s2])"
   ]
  },
  {
   "cell_type": "code",
   "execution_count": null,
   "id": "defcd10c-1f89-469d-a886-451b45719a87",
   "metadata": {},
   "outputs": [],
   "source": []
  },
  {
   "cell_type": "code",
   "execution_count": 27,
   "id": "850cd202-47f6-4634-9553-61fb8237aeeb",
   "metadata": {},
   "outputs": [
    {
     "data": {
      "text/plain": [
       "'tewaslarge,andtheirresidencewasatNorlandPark,inthecentreoftheirproperty,where,fo'"
      ]
     },
     "execution_count": 27,
     "metadata": {},
     "output_type": "execute_result"
    }
   ],
   "source": [
    "from functools import reduce\n",
    "x_text = reduce(lambda x, y: ''.join([x,y]), text2)\n",
    "x_text[100:180]"
   ]
  },
  {
   "cell_type": "code",
   "execution_count": 23,
   "id": "ef3a4d05-0b8f-45cb-83ee-4caa8f6d8eb7",
   "metadata": {},
   "outputs": [
    {
     "name": "stdout",
     "output_type": "stream",
     "text": [
      "google appears in the book from 312852th letter with the interval 90\n"
     ]
    }
   ],
   "source": [
    "word = 'google'\n",
    "l_w = len(word)\n",
    "for interval in range(1,100):\n",
    "    for j in range(len(x_text)):\n",
    "        if x_text[0 + j: l_w * interval + j : interval].lower() == word:\n",
    "            print(f'{word} appears in the book from {j}th letter with the interval {interval}')"
   ]
  },
  {
   "cell_type": "code",
   "execution_count": 35,
   "id": "f2585443-2c40-4ef2-9433-80eb0684c07e",
   "metadata": {},
   "outputs": [
    {
     "name": "stdin",
     "output_type": "stream",
     "text": [
      "enter a word biden\n"
     ]
    },
    {
     "name": "stdout",
     "output_type": "stream",
     "text": [
      "biden appears in the book from 238146th letter with the interval 13\n",
      "biden appears in the book from 233777th letter with the interval 19\n",
      "biden appears in the book from 95354th letter with the interval 21\n",
      "biden appears in the book from 96228th letter with the interval 23\n",
      "biden appears in the book from 466444th letter with the interval 33\n",
      "biden appears in the book from 24399th letter with the interval 36\n",
      "biden appears in the book from 283440th letter with the interval 39\n",
      "biden appears in the book from 350177th letter with the interval 47\n",
      "biden appears in the book from 470937th letter with the interval 49\n",
      "biden appears in the book from 390741th letter with the interval 55\n",
      "biden appears in the book from 62987th letter with the interval 62\n",
      "biden appears in the book from 102995th letter with the interval 64\n",
      "biden appears in the book from 263692th letter with the interval 89\n",
      "biden appears in the book from 473883th letter with the interval 90\n"
     ]
    }
   ],
   "source": [
    "def searchWord(theWord, theText):\n",
    "    l_w = len(theWord)\n",
    "    for interval in range(1,100):\n",
    "        for j in range(len(theText)):\n",
    "            if theText[0 + j: l_w * interval + j : interval].lower() == theWord.lower():\n",
    "                print(f'{theWord} appears in the book from {j}th letter with the interval {interval}')\n",
    "\n",
    "word = input('enter a word')\n",
    "searchWord(word, x_text)"
   ]
  },
  {
   "cell_type": "code",
   "execution_count": null,
   "id": "7968bb2d-8a92-46c9-99cd-9c86297b9890",
   "metadata": {},
   "outputs": [],
   "source": []
  },
  {
   "cell_type": "code",
   "execution_count": null,
   "id": "07b1ef25-bf93-41bd-a46b-043fcb79faa0",
   "metadata": {},
   "outputs": [],
   "source": []
  },
  {
   "cell_type": "markdown",
   "id": "b8fd80a1-563b-4acb-9f89-ccbd7fb2f274",
   "metadata": {},
   "source": [
    "## list comprehension"
   ]
  },
  {
   "cell_type": "code",
   "execution_count": 38,
   "id": "02212aa7-aeb0-4e91-a92f-67c389746b41",
   "metadata": {},
   "outputs": [
    {
     "data": {
      "text/plain": [
       "range(0, 10)"
      ]
     },
     "execution_count": 38,
     "metadata": {},
     "output_type": "execute_result"
    }
   ],
   "source": [
    "range(10)"
   ]
  },
  {
   "cell_type": "code",
   "execution_count": 42,
   "id": "9daa05ae-1718-4f6d-9020-6fa11d1fd105",
   "metadata": {},
   "outputs": [
    {
     "data": {
      "text/plain": [
       "[0, 1, 2, 3, 4, 5, 6, 7, 8, 9]"
      ]
     },
     "execution_count": 42,
     "metadata": {},
     "output_type": "execute_result"
    }
   ],
   "source": [
    "list(range(10))"
   ]
  },
  {
   "cell_type": "code",
   "execution_count": 44,
   "id": "cf4cdec3-c4d5-49a6-bdda-bccd020d92ac",
   "metadata": {},
   "outputs": [
    {
     "data": {
      "text/plain": [
       "[0, 1, 2, 3, 4, 5, 6, 7, 8, 9]"
      ]
     },
     "execution_count": 44,
     "metadata": {},
     "output_type": "execute_result"
    }
   ],
   "source": [
    "[i for i in range(10)]"
   ]
  },
  {
   "cell_type": "markdown",
   "id": "65eb9f57-99ad-454e-be65-3c47da16e9ab",
   "metadata": {},
   "source": [
    "{i | 0 <= i < 10}"
   ]
  },
  {
   "cell_type": "code",
   "execution_count": 68,
   "id": "2bb5f320-8740-46cd-91f6-b772a51ac850",
   "metadata": {},
   "outputs": [
    {
     "data": {
      "text/plain": [
       "[0, 6, 12, 18, 24, 30, 36]"
      ]
     },
     "execution_count": 68,
     "metadata": {},
     "output_type": "execute_result"
    }
   ],
   "source": [
    "[2*i for i in range(0,20,3)]"
   ]
  },
  {
   "cell_type": "markdown",
   "id": "27f7ee11-495b-4d3e-bb3f-0864800d326a",
   "metadata": {},
   "source": [
    "$$ \\{2i \\mid <= i < 20, 3 \\mid i\\} $$"
   ]
  },
  {
   "cell_type": "code",
   "execution_count": 103,
   "id": "27329e16-b292-4fac-955e-fbf130b58a57",
   "metadata": {},
   "outputs": [
    {
     "name": "stdout",
     "output_type": "stream",
     "text": [
      "[1, 3, 7, 15, 31, 63, 127, 255, 511]\n"
     ]
    }
   ],
   "source": [
    "print([2**i - 1 for i in range(1,10)])"
   ]
  },
  {
   "cell_type": "markdown",
   "id": "44f1054a-43a6-45f0-bf02-44c4e9dcdb53",
   "metadata": {},
   "source": [
    "$$ \\{2^i-1 \\mid <= i < 20, 3 \\mid i\\} $$"
   ]
  },
  {
   "cell_type": "code",
   "execution_count": null,
   "id": "f326238b-cda6-4e61-9026-a392362ebd92",
   "metadata": {},
   "outputs": [],
   "source": []
  },
  {
   "cell_type": "markdown",
   "id": "b3c6959b-2181-4fff-87f4-d8ee8482c5ac",
   "metadata": {},
   "source": [
    "generate list $ (x, cos(x)) $ for intervals $ \\{ 0 \\leq x < \\pi \\} $"
   ]
  },
  {
   "cell_type": "code",
   "execution_count": 108,
   "id": "09193f36-07c6-48af-a840-2425b4731035",
   "metadata": {},
   "outputs": [
    {
     "data": {
      "text/plain": [
       "[[1, 0.9510565162951535],\n",
       " [2, 0.8090169943749475],\n",
       " [3, 0.5877852522924731],\n",
       " [4, 0.30901699437494745],\n",
       " [5, 6.123233995736766e-17],\n",
       " [6, -0.30901699437494734],\n",
       " [7, -0.587785252292473],\n",
       " [8, -0.8090169943749473],\n",
       " [9, -0.9510565162951535],\n",
       " [10, -1.0]]"
      ]
     },
     "execution_count": 108,
     "metadata": {},
     "output_type": "execute_result"
    }
   ],
   "source": [
    "import math\n",
    "[[x, math.cos(x/10 * math.pi)] for x in range(1, 11)]"
   ]
  },
  {
   "cell_type": "code",
   "execution_count": null,
   "id": "57009c96-e992-4a05-9263-81607bce82e1",
   "metadata": {},
   "outputs": [],
   "source": []
  },
  {
   "cell_type": "markdown",
   "id": "90ea4e34-b389-4f16-98be-0d2f48e8a289",
   "metadata": {},
   "source": [
    "write a code to generate all numhbers between 1 and 50 which is divisible by 7\n"
   ]
  },
  {
   "cell_type": "code",
   "execution_count": 112,
   "id": "884ae3bd-5c4b-4e91-a1e6-49285412ae03",
   "metadata": {},
   "outputs": [
    {
     "data": {
      "text/plain": [
       "[7, 14, 21, 28, 35, 42, 49]"
      ]
     },
     "execution_count": 112,
     "metadata": {},
     "output_type": "execute_result"
    }
   ],
   "source": [
    "[i for i in range(1,51) if i%7 == 0]"
   ]
  },
  {
   "cell_type": "code",
   "execution_count": 118,
   "id": "6eaf1e62-6587-42fc-b5d6-70cb879696f5",
   "metadata": {},
   "outputs": [
    {
     "data": {
      "text/plain": [
       "[77]"
      ]
     },
     "execution_count": 118,
     "metadata": {},
     "output_type": "execute_result"
    }
   ],
   "source": [
    "[n for n in range(1,101) if n%7==0 and n%11==0]"
   ]
  },
  {
   "cell_type": "code",
   "execution_count": 120,
   "id": "d84c18da-f043-4415-96ab-822c62756231",
   "metadata": {},
   "outputs": [
    {
     "data": {
      "text/plain": [
       "str"
      ]
     },
     "execution_count": 120,
     "metadata": {},
     "output_type": "execute_result"
    }
   ],
   "source": [
    "type('str')"
   ]
  },
  {
   "cell_type": "code",
   "execution_count": 143,
   "id": "28f8ab3e-3a70-4e6f-bf50-62ef43520336",
   "metadata": {},
   "outputs": [
    {
     "data": {
      "text/plain": [
       "['sydney', 'western', 20, 4.3, 2333, [2, 4, 4]]"
      ]
     },
     "execution_count": 143,
     "metadata": {},
     "output_type": "execute_result"
    }
   ],
   "source": [
    "x = ['sydney', 20, 'western', 4.3, 2333, [2,4,4]]\n",
    "# write a code to get all the strings from the list and then get only all the numbers\n",
    "# sort so strings first then numbers afterwords using only list comprehension\n",
    "[item for item in x if isinstance(item, str)] + [item for item in x if type(item) != str]"
   ]
  },
  {
   "cell_type": "code",
   "execution_count": 141,
   "id": "8361b2f5-89e1-47c1-9ad7-bf7d57e91431",
   "metadata": {},
   "outputs": [
    {
     "data": {
      "text/plain": [
       "[['sydney', 'western'], [20, 4.3, 2333, [2, 4, 4]]]"
      ]
     },
     "execution_count": 141,
     "metadata": {},
     "output_type": "execute_result"
    }
   ],
   "source": [
    "x = ['sydney', 20, 'western', 4.3, 2333, [2,4,4]]\n",
    "[[i for i in x if type(i) == str],[i for i in x if type(i) != str]]"
   ]
  },
  {
   "cell_type": "code",
   "execution_count": null,
   "id": "d08b3bab-d930-4d08-9c27-b7eca6e5a58f",
   "metadata": {},
   "outputs": [],
   "source": []
  },
  {
   "cell_type": "code",
   "execution_count": 161,
   "id": "316d10af-06ec-4076-aca2-b3a6906ccef5",
   "metadata": {},
   "outputs": [
    {
     "data": {
      "text/plain": [
       "[(1, 13), (1, 16), (2, 13), (2, 16), (3, 13), (3, 16), (4, 13), (4, 16)]"
      ]
     },
     "execution_count": 161,
     "metadata": {},
     "output_type": "execute_result"
    }
   ],
   "source": [
    "[(i,j) for i in range(1,5) for j in range(13,19,3)]"
   ]
  },
  {
   "cell_type": "markdown",
   "id": "e54e6980-f2b8-4e01-9077-4f5bae884344",
   "metadata": {},
   "source": [
    "$$ \\{ (i,j) \\mid 1 \\leq i \\leq 10, 5 \\leq j \\leq 15\\} $$"
   ]
  },
  {
   "cell_type": "code",
   "execution_count": 178,
   "id": "0111167a-f9d8-454d-92b9-7dd03da9fd04",
   "metadata": {},
   "outputs": [
    {
     "ename": "AttributeError",
     "evalue": "'float' object has no attribute 'is_interger'",
     "output_type": "error",
     "traceback": [
      "\u001b[1;31m---------------------------------------------------------------------------\u001b[0m",
      "\u001b[1;31mAttributeError\u001b[0m                            Traceback (most recent call last)",
      "Cell \u001b[1;32mIn[178], line 2\u001b[0m\n\u001b[0;32m      1\u001b[0m \u001b[38;5;28;01mimport\u001b[39;00m \u001b[38;5;21;01mmath\u001b[39;00m\n\u001b[1;32m----> 2\u001b[0m [i \u001b[38;5;28;01mfor\u001b[39;00m i \u001b[38;5;129;01min\u001b[39;00m \u001b[38;5;28mrange\u001b[39m(\u001b[38;5;241m1\u001b[39m,\u001b[38;5;241m51\u001b[39m) \u001b[38;5;28;01mif\u001b[39;00m(math\u001b[38;5;241m.\u001b[39msqrt(i)\u001b[38;5;241m+\u001b[39mmath\u001b[38;5;241m.\u001b[39msqrt(i\u001b[38;5;241m+\u001b[39m\u001b[38;5;241m1\u001b[39m) \u001b[38;5;241m==\u001b[39m math\u001b[38;5;241m.\u001b[39msqrt(i\u001b[38;5;241m+\u001b[39m\u001b[38;5;241m2\u001b[39m)\u001b[38;5;241m.\u001b[39mis_interger()) ]\n",
      "\u001b[1;31mAttributeError\u001b[0m: 'float' object has no attribute 'is_interger'"
     ]
    }
   ],
   "source": [
    "import math\n",
    "[i for i in range(1,51) if(math.sqrt(i)+math.sqrt(i+1) == math.sqrt(i+2).is_interger()) ]"
   ]
  },
  {
   "cell_type": "code",
   "execution_count": 180,
   "id": "24f604d2-94f0-4295-982d-16f6c7257906",
   "metadata": {},
   "outputs": [
    {
     "data": {
      "text/plain": [
       "[(3, 4), (20, 21), (119, 120)]"
      ]
     },
     "execution_count": 180,
     "metadata": {},
     "output_type": "execute_result"
    }
   ],
   "source": [
    "[(m,n) for m in range(1,501) for n in range(m,501) if math.sqrt(m**2+n**2).is_integer() and n==m+1]"
   ]
  },
  {
   "cell_type": "code",
   "execution_count": null,
   "id": "40288147-ae82-424b-ab49-bf32a255ac09",
   "metadata": {},
   "outputs": [],
   "source": []
  },
  {
   "cell_type": "code",
   "execution_count": null,
   "id": "fc569d5e-60f9-4535-abe9-f20b06ea7aba",
   "metadata": {},
   "outputs": [],
   "source": []
  },
  {
   "cell_type": "code",
   "execution_count": 205,
   "id": "33802509-a9f5-4fb4-95c8-22d8b6220cfb",
   "metadata": {},
   "outputs": [
    {
     "data": {
      "text/plain": [
       "[1, 'name']"
      ]
     },
     "execution_count": 205,
     "metadata": {},
     "output_type": "execute_result"
    }
   ],
   "source": [
    "x = ['sydney', [1,2,3], 3.5, 'hello', ['name','degree'], 12]\n",
    "[item[0] for item in x if type(item) == list]"
   ]
  },
  {
   "cell_type": "code",
   "execution_count": null,
   "id": "774930b2-10c8-4f5f-9f91-5c4ddd716d1c",
   "metadata": {},
   "outputs": [],
   "source": []
  },
  {
   "cell_type": "code",
   "execution_count": null,
   "id": "97210e58-62d9-4a42-901e-1613577e2964",
   "metadata": {},
   "outputs": [],
   "source": []
  },
  {
   "cell_type": "markdown",
   "id": "c17e13dc-874b-43d9-8bea-0c8a9e00916a",
   "metadata": {},
   "source": [
    "## graphs\n",
    "plottly"
   ]
  },
  {
   "cell_type": "code",
   "execution_count": null,
   "id": "31b012f5-ced8-4911-bf75-64a55e77b560",
   "metadata": {},
   "outputs": [],
   "source": []
  },
  {
   "cell_type": "code",
   "execution_count": null,
   "id": "137c6b95-f9a9-4360-93f5-d3fa31ced204",
   "metadata": {},
   "outputs": [],
   "source": []
  },
  {
   "cell_type": "code",
   "execution_count": null,
   "id": "eca82662-aea9-4213-9d0a-fd01716f84df",
   "metadata": {},
   "outputs": [],
   "source": []
  },
  {
   "cell_type": "markdown",
   "id": "69bcbf78-249e-47f2-bb75-09a6df802085",
   "metadata": {},
   "source": [
    "### symbolic computation in library sympy"
   ]
  },
  {
   "cell_type": "code",
   "execution_count": 209,
   "id": "285e8466-a9cb-4d70-b41a-6b330ebc9c99",
   "metadata": {},
   "outputs": [],
   "source": [
    "import sympy"
   ]
  },
  {
   "cell_type": "code",
   "execution_count": 211,
   "id": "dd0f8a17-0a62-43db-8bb6-ef183fb9e752",
   "metadata": {},
   "outputs": [],
   "source": [
    "def f(x):\n",
    "    return 3*x + x"
   ]
  },
  {
   "cell_type": "code",
   "execution_count": 213,
   "id": "ce3fa50e-cc92-4cdb-859d-454ad77678a9",
   "metadata": {},
   "outputs": [
    {
     "data": {
      "text/plain": [
       "48"
      ]
     },
     "execution_count": 213,
     "metadata": {},
     "output_type": "execute_result"
    }
   ],
   "source": [
    "f(12)"
   ]
  },
  {
   "cell_type": "code",
   "execution_count": 215,
   "id": "3737df96-66f9-460e-9788-8e8624890d91",
   "metadata": {},
   "outputs": [
    {
     "data": {
      "text/plain": [
       "'testtesttesttest'"
      ]
     },
     "execution_count": 215,
     "metadata": {},
     "output_type": "execute_result"
    }
   ],
   "source": [
    "f('test')"
   ]
  },
  {
   "cell_type": "code",
   "execution_count": 219,
   "id": "40398f2f-079d-49a8-a950-ea5bb5f7f898",
   "metadata": {},
   "outputs": [
    {
     "data": {
      "text/latex": [
       "$\\displaystyle 4 x$"
      ],
      "text/plain": [
       "4*x"
      ]
     },
     "execution_count": 219,
     "metadata": {},
     "output_type": "execute_result"
    }
   ],
   "source": [
    "x = sympy.symbols('x')\n",
    "f(x)"
   ]
  },
  {
   "cell_type": "code",
   "execution_count": 223,
   "id": "e8bf323d-937c-4601-9811-645bd6bc4f86",
   "metadata": {},
   "outputs": [
    {
     "data": {
      "text/latex": [
       "$\\displaystyle x + y$"
      ],
      "text/plain": [
       "x + y"
      ]
     },
     "execution_count": 223,
     "metadata": {},
     "output_type": "execute_result"
    }
   ],
   "source": [
    "y = sympy.symbols('y')\n",
    "x + y"
   ]
  },
  {
   "cell_type": "code",
   "execution_count": 225,
   "id": "9a31b31b-f8a0-44ab-b00d-60a41308f40a",
   "metadata": {},
   "outputs": [
    {
     "data": {
      "text/latex": [
       "$\\displaystyle \\left(x + y\\right)^{2}$"
      ],
      "text/plain": [
       "(x + y)**2"
      ]
     },
     "execution_count": 225,
     "metadata": {},
     "output_type": "execute_result"
    }
   ],
   "source": [
    "(x+y)**2"
   ]
  },
  {
   "cell_type": "code",
   "execution_count": null,
   "id": "796bccee-96c3-44d7-b747-f989e4f3a1d7",
   "metadata": {},
   "outputs": [],
   "source": []
  }
 ],
 "metadata": {
  "kernelspec": {
   "display_name": "Python 3 (ipykernel)",
   "language": "python",
   "name": "python3"
  },
  "language_info": {
   "codemirror_mode": {
    "name": "ipython",
    "version": 3
   },
   "file_extension": ".py",
   "mimetype": "text/x-python",
   "name": "python",
   "nbconvert_exporter": "python",
   "pygments_lexer": "ipython3",
   "version": "3.12.4"
  }
 },
 "nbformat": 4,
 "nbformat_minor": 5
}
