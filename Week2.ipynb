{
 "cells": [
  {
   "cell_type": "code",
   "execution_count": 1,
   "id": "8de11425-73ae-4241-83d3-fbc898aabc40",
   "metadata": {},
   "outputs": [],
   "source": [
    "import math\n",
    "import numpy\n",
    "import sympy\n",
    "import matplotlib.pyplot as plt\n",
    "from PIL import Image"
   ]
  },
  {
   "cell_type": "code",
   "execution_count": null,
   "id": "25c85716-95f2-4754-b770-7b077548a754",
   "metadata": {},
   "outputs": [],
   "source": [
    "\n"
   ]
  },
  {
   "cell_type": "code",
   "execution_count": null,
   "id": "513b8e0e-30fa-4e28-ac28-e7f04edf092d",
   "metadata": {},
   "outputs": [],
   "source": []
  },
  {
   "cell_type": "code",
   "execution_count": null,
   "id": "0ea21cbf-160e-4c88-8fe8-3b3b1a2d1012",
   "metadata": {},
   "outputs": [],
   "source": []
  },
  {
   "cell_type": "markdown",
   "id": "292123a7-4402-4b23-afc3-5bb48b8692cd",
   "metadata": {},
   "source": [
    "### Write code to accept a string and check if it is paladromic"
   ]
  },
  {
   "cell_type": "code",
   "execution_count": 2,
   "id": "73493fd8-ebc0-4018-af99-934c394f8ab0",
   "metadata": {},
   "outputs": [
    {
     "name": "stdout",
     "output_type": "stream",
     "text": [
      "Word please kayak\n"
     ]
    },
    {
     "name": "stdout",
     "output_type": "stream",
     "text": [
      "yes it is palindrome\n"
     ]
    }
   ],
   "source": [
    "#word=input(\"Word please\")\n",
    "word = \"kayak\"\n",
    "\n",
    "if word==word[::-1]:\n",
    "    print(\"yes it is palindrome\")\n",
    "else:\n",
    "    print(\"no it's not a palindrome\")"
   ]
  },
  {
   "cell_type": "code",
   "execution_count": null,
   "id": "138b5693-35de-4531-8d4b-a00c0fbc2211",
   "metadata": {},
   "outputs": [],
   "source": []
  },
  {
   "cell_type": "markdown",
   "id": "de5f145e-f5fe-4252-959a-3ab07b63558c",
   "metadata": {},
   "source": [
    "### collatz function "
   ]
  },
  {
   "cell_type": "code",
   "execution_count": 3,
   "id": "9790af8f-b72a-42a4-958f-7c8945b25ef6",
   "metadata": {},
   "outputs": [
    {
     "data": {
      "text/plain": [
       "3"
      ]
     },
     "execution_count": 3,
     "metadata": {},
     "output_type": "execute_result"
    }
   ],
   "source": [
    "x = 6\n",
    "\n",
    "if (x % 2 == 0):\n",
    "    x = x//2\n",
    "else:\n",
    "    x = 3*x + 1\n",
    "\n",
    "x"
   ]
  },
  {
   "cell_type": "code",
   "execution_count": null,
   "id": "40e9e4e0-f23a-415a-aa9c-6f084d323bf3",
   "metadata": {},
   "outputs": [],
   "source": []
  },
  {
   "cell_type": "code",
   "execution_count": null,
   "id": "db187ff6-84a8-4961-8b2f-a2c6e0ca2e63",
   "metadata": {},
   "outputs": [],
   "source": []
  },
  {
   "cell_type": "code",
   "execution_count": 4,
   "id": "cd91cb40-e0f6-48e6-baee-c63adcda23dc",
   "metadata": {},
   "outputs": [
    {
     "data": {
      "text/plain": [
       "1"
      ]
     },
     "execution_count": 4,
     "metadata": {},
     "output_type": "execute_result"
    }
   ],
   "source": [
    "x = 1\n",
    "\n",
    "if(x > 0):\n",
    "    x = x\n",
    "elif(x <= 0):\n",
    "    x = x * -1\n",
    "\n",
    "x"
   ]
  },
  {
   "cell_type": "code",
   "execution_count": null,
   "id": "c11b3fad-348f-4435-b515-71cba04e888b",
   "metadata": {},
   "outputs": [],
   "source": []
  },
  {
   "cell_type": "code",
   "execution_count": null,
   "id": "b862d6d9-b010-490d-ba3d-e9ea03f0f12f",
   "metadata": {},
   "outputs": [],
   "source": []
  },
  {
   "cell_type": "code",
   "execution_count": 5,
   "id": "51353b51-ef89-4c23-b741-81718e53ebd6",
   "metadata": {},
   "outputs": [
    {
     "data": {
      "text/plain": [
       "-0.2836910914865273"
      ]
     },
     "execution_count": 5,
     "metadata": {},
     "output_type": "execute_result"
    }
   ],
   "source": [
    "import math\n",
    "x = 360\n",
    "\n",
    "if(abs(x) < 1):\n",
    "    x *= -1\n",
    "elif(1 <= abs(x) < 2):\n",
    "    x = math.sin(x)\n",
    "else:\n",
    "    x = math.cos(x)\n",
    "\n",
    "x"
   ]
  },
  {
   "cell_type": "code",
   "execution_count": null,
   "id": "a8300c23-baab-4977-bd97-592ea5b7f9af",
   "metadata": {},
   "outputs": [],
   "source": []
  },
  {
   "cell_type": "code",
   "execution_count": null,
   "id": "e22acbd8-af53-4ac2-95d6-1e1bc5b507ba",
   "metadata": {},
   "outputs": [],
   "source": []
  },
  {
   "cell_type": "code",
   "execution_count": 6,
   "id": "5d00e195-4682-464b-8f9e-f7bff4f52860",
   "metadata": {},
   "outputs": [
    {
     "name": "stdout",
     "output_type": "stream",
     "text": [
      "y = [1, 3, 2, 2.5]\n",
      "z = [1, 3, 2, 2.5]\n",
      "d = [1, 3, 2, 2.5]\n"
     ]
    }
   ],
   "source": [
    "x = ['a', 1, 3, 2, 2.5, 'a']\n",
    "\n",
    "# we want [1, 3, 2, 2.5]\n",
    "\n",
    "y = x[1 : 5]\n",
    "print(f\"y = {y}\")\n",
    "\n",
    "# or \n",
    "z = []\n",
    "for i in range(len(x)):\n",
    "    if(type(x[i]) == int or type(x[i]) == float):\n",
    "        z.append(x[i])\n",
    "print(f\"z = {z}\")\n",
    "\n",
    "if (x[0] == x[-1]):\n",
    "    [a, *b, c] = x\n",
    "    d = [*b]\n",
    "print(f\"d = {d}\")"
   ]
  },
  {
   "cell_type": "code",
   "execution_count": null,
   "id": "083bf1d0-7b95-4c63-bfdd-b00c58cdece5",
   "metadata": {},
   "outputs": [],
   "source": []
  },
  {
   "cell_type": "code",
   "execution_count": 14,
   "id": "df40ae5b-4000-423e-8d45-6c23abd011ce",
   "metadata": {},
   "outputs": [
    {
     "data": {
      "text/plain": [
       "[<PIL.JpegImagePlugin.JpegImageFile image mode=RGB size=340x559>,\n",
       " <PIL.JpegImagePlugin.JpegImageFile image mode=RGB size=576x713>]"
      ]
     },
     "execution_count": 14,
     "metadata": {},
     "output_type": "execute_result"
    }
   ],
   "source": [
    "from PIL import Image\n",
    "x = Image.open(\"N1.jpg\")\n",
    "y = Image.open(\"N2.jpeg\")\n",
    "\n",
    "L = [x, y]\n",
    "L"
   ]
  },
  {
   "cell_type": "code",
   "execution_count": null,
   "id": "8f0ad6ab-69ad-4e13-9f20-bf2dc5670dd3",
   "metadata": {},
   "outputs": [],
   "source": []
  }
 ],
 "metadata": {
  "kernelspec": {
   "display_name": "Python 3 (ipykernel)",
   "language": "python",
   "name": "python3"
  },
  "language_info": {
   "codemirror_mode": {
    "name": "ipython",
    "version": 3
   },
   "file_extension": ".py",
   "mimetype": "text/x-python",
   "name": "python",
   "nbconvert_exporter": "python",
   "pygments_lexer": "ipython3",
   "version": "3.12.4"
  }
 },
 "nbformat": 4,
 "nbformat_minor": 5
}
