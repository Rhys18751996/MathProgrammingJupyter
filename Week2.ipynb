{
 "cells": [
  {
   "cell_type": "code",
   "execution_count": 1,
   "id": "8de11425-73ae-4241-83d3-fbc898aabc40",
   "metadata": {},
   "outputs": [],
   "source": [
    "import math\n",
    "import numpy\n",
    "import sympy\n",
    "import matplotlib.pyplot as plt\n",
    "from PIL import Image"
   ]
  },
  {
   "cell_type": "code",
   "execution_count": null,
   "id": "25c85716-95f2-4754-b770-7b077548a754",
   "metadata": {},
   "outputs": [],
   "source": [
    "\n"
   ]
  },
  {
   "cell_type": "code",
   "execution_count": null,
   "id": "513b8e0e-30fa-4e28-ac28-e7f04edf092d",
   "metadata": {},
   "outputs": [],
   "source": [
    "tet push"
   ]
  },
  {
   "cell_type": "code",
   "execution_count": null,
   "id": "0ea21cbf-160e-4c88-8fe8-3b3b1a2d1012",
   "metadata": {},
   "outputs": [],
   "source": []
  },
  {
   "cell_type": "markdown",
   "id": "292123a7-4402-4b23-afc3-5bb48b8692cd",
   "metadata": {},
   "source": [
    "### Write code to accept a string and check if it is paladromic"
   ]
  },
  {
   "cell_type": "code",
   "execution_count": 2,
   "id": "73493fd8-ebc0-4018-af99-934c394f8ab0",
   "metadata": {},
   "outputs": [
    {
     "name": "stdout",
     "output_type": "stream",
     "text": [
      "Word please kayak\n"
     ]
    },
    {
     "name": "stdout",
     "output_type": "stream",
     "text": [
      "yes it is palindrome\n"
     ]
    }
   ],
   "source": [
    "#word=input(\"Word please\")\n",
    "word = \"kayak\"\n",
    "\n",
    "if word==word[::-1]:\n",
    "    print(\"yes it is palindrome\")\n",
    "else:\n",
    "    print(\"no it's not a palindrome\")"
   ]
  },
  {
   "cell_type": "code",
   "execution_count": null,
   "id": "138b5693-35de-4531-8d4b-a00c0fbc2211",
   "metadata": {},
   "outputs": [],
   "source": []
  },
  {
   "cell_type": "markdown",
   "id": "de5f145e-f5fe-4252-959a-3ab07b63558c",
   "metadata": {},
   "source": [
    "### collatz function "
   ]
  },
  {
   "cell_type": "code",
   "execution_count": 3,
   "id": "9790af8f-b72a-42a4-958f-7c8945b25ef6",
   "metadata": {},
   "outputs": [
    {
     "data": {
      "text/plain": [
       "3"
      ]
     },
     "execution_count": 3,
     "metadata": {},
     "output_type": "execute_result"
    }
   ],
   "source": [
    "x = 6\n",
    "\n",
    "if (x % 2 == 0):\n",
    "    x = x//2\n",
    "else:\n",
    "    x = 3*x + 1\n",
    "\n",
    "x"
   ]
  },
  {
   "cell_type": "code",
   "execution_count": null,
   "id": "40e9e4e0-f23a-415a-aa9c-6f084d323bf3",
   "metadata": {},
   "outputs": [],
   "source": []
  },
  {
   "cell_type": "code",
   "execution_count": null,
   "id": "db187ff6-84a8-4961-8b2f-a2c6e0ca2e63",
   "metadata": {},
   "outputs": [],
   "source": []
  },
  {
   "cell_type": "code",
   "execution_count": 4,
   "id": "cd91cb40-e0f6-48e6-baee-c63adcda23dc",
   "metadata": {},
   "outputs": [
    {
     "data": {
      "text/plain": [
       "1"
      ]
     },
     "execution_count": 4,
     "metadata": {},
     "output_type": "execute_result"
    }
   ],
   "source": [
    "x = 1\n",
    "\n",
    "if(x > 0):\n",
    "    x = x\n",
    "elif(x <= 0):\n",
    "    x = x * -1\n",
    "\n",
    "x"
   ]
  },
  {
   "cell_type": "code",
   "execution_count": null,
   "id": "c11b3fad-348f-4435-b515-71cba04e888b",
   "metadata": {},
   "outputs": [],
   "source": []
  },
  {
   "cell_type": "code",
   "execution_count": null,
   "id": "b862d6d9-b010-490d-ba3d-e9ea03f0f12f",
   "metadata": {},
   "outputs": [],
   "source": []
  },
  {
   "cell_type": "code",
   "execution_count": 5,
   "id": "51353b51-ef89-4c23-b741-81718e53ebd6",
   "metadata": {},
   "outputs": [
    {
     "data": {
      "text/plain": [
       "-0.2836910914865273"
      ]
     },
     "execution_count": 5,
     "metadata": {},
     "output_type": "execute_result"
    }
   ],
   "source": [
    "import math\n",
    "x = 360\n",
    "\n",
    "if(abs(x) < 1):\n",
    "    x *= -1\n",
    "elif(1 <= abs(x) < 2):\n",
    "    x = math.sin(x)\n",
    "else:\n",
    "    x = math.cos(x)\n",
    "\n",
    "x"
   ]
  },
  {
   "cell_type": "code",
   "execution_count": null,
   "id": "a8300c23-baab-4977-bd97-592ea5b7f9af",
   "metadata": {},
   "outputs": [],
   "source": []
  },
  {
   "cell_type": "code",
   "execution_count": null,
   "id": "e22acbd8-af53-4ac2-95d6-1e1bc5b507ba",
   "metadata": {},
   "outputs": [],
   "source": []
  },
  {
   "cell_type": "code",
   "execution_count": 6,
   "id": "5d00e195-4682-464b-8f9e-f7bff4f52860",
   "metadata": {},
   "outputs": [
    {
     "name": "stdout",
     "output_type": "stream",
     "text": [
      "y = [1, 3, 2, 2.5]\n",
      "z = [1, 3, 2, 2.5]\n",
      "d = [1, 3, 2, 2.5]\n"
     ]
    }
   ],
   "source": [
    "x = ['a', 1, 3, 2, 2.5, 'a']\n",
    "\n",
    "# we want [1, 3, 2, 2.5]\n",
    "\n",
    "y = x[1 : 5]\n",
    "print(f\"y = {y}\")\n",
    "\n",
    "# or \n",
    "z = []\n",
    "for i in range(len(x)):\n",
    "    if(type(x[i]) == int or type(x[i]) == float):\n",
    "        z.append(x[i])\n",
    "print(f\"z = {z}\")\n",
    "\n",
    "if (x[0] == x[-1]):\n",
    "    [a, *b, c] = x\n",
    "    d = [*b]\n",
    "print(f\"d = {d}\")"
   ]
  },
  {
   "cell_type": "code",
   "execution_count": null,
   "id": "083bf1d0-7b95-4c63-bfdd-b00c58cdece5",
   "metadata": {},
   "outputs": [],
   "source": []
  },
  {
   "cell_type": "code",
   "execution_count": 14,
   "id": "df40ae5b-4000-423e-8d45-6c23abd011ce",
   "metadata": {},
   "outputs": [
    {
     "data": {
      "text/plain": [
       "[<PIL.JpegImagePlugin.JpegImageFile image mode=RGB size=340x559>,\n",
       " <PIL.JpegImagePlugin.JpegImageFile image mode=RGB size=576x713>]"
      ]
     },
     "execution_count": 14,
     "metadata": {},
     "output_type": "execute_result"
    }
   ],
   "source": [
    "from PIL import Image\n",
    "x = Image.open(\"N1.jpg\")\n",
    "y = Image.open(\"N2.jpeg\")\n",
    "\n",
    "L = [x, y]\n",
    "L"
   ]
  },
  {
   "cell_type": "code",
   "execution_count": null,
   "id": "8f0ad6ab-69ad-4e13-9f20-bf2dc5670dd3",
   "metadata": {},
   "outputs": [],
   "source": []
  },
  {
   "cell_type": "code",
   "execution_count": null,
   "id": "d5bae120-a383-44b4-a640-3727e1fdc505",
   "metadata": {},
   "outputs": [],
   "source": []
  },
  {
   "cell_type": "code",
   "execution_count": 2,
   "id": "9d3e2594-0db3-4c3d-a3b3-4ef9c5720b4c",
   "metadata": {},
   "outputs": [
    {
     "data": {
      "text/plain": [
       "['a', 1, 2, 3, 4, 'B']"
      ]
     },
     "execution_count": 2,
     "metadata": {},
     "output_type": "execute_result"
    }
   ],
   "source": [
    "L = [\"a\", 1,2,3,4, \"B\"]\n",
    "L"
   ]
  },
  {
   "cell_type": "code",
   "execution_count": 3,
   "id": "0bdc6c7d-88a8-4814-9735-6f5c2595d0e9",
   "metadata": {},
   "outputs": [
    {
     "data": {
      "text/plain": [
       "6"
      ]
     },
     "execution_count": 3,
     "metadata": {},
     "output_type": "execute_result"
    }
   ],
   "source": [
    "len(L)"
   ]
  },
  {
   "cell_type": "code",
   "execution_count": 7,
   "id": "92c18b18-95ec-42c3-9858-1ad3ad95f155",
   "metadata": {},
   "outputs": [
    {
     "data": {
      "text/plain": [
       "['B', 1, 2, 3, 4, 'a']"
      ]
     },
     "execution_count": 7,
     "metadata": {},
     "output_type": "execute_result"
    }
   ],
   "source": [
    "tmp = L[len(L)-1]\n",
    "L[len(L)-1] = L[0]\n",
    "L[0] = tmp\n",
    "L"
   ]
  },
  {
   "cell_type": "code",
   "execution_count": 11,
   "id": "f102a639-449f-4a4c-9e6f-399b52ae3b9a",
   "metadata": {},
   "outputs": [
    {
     "data": {
      "text/plain": [
       "['B', 1, 2, 3, 4, 'a']"
      ]
     },
     "execution_count": 11,
     "metadata": {},
     "output_type": "execute_result"
    }
   ],
   "source": [
    "L[0], L[-1] = L[-1], L[0]\n",
    "L"
   ]
  },
  {
   "cell_type": "code",
   "execution_count": 14,
   "id": "51985827-abea-468d-9515-b9c9952cb156",
   "metadata": {},
   "outputs": [
    {
     "data": {
      "text/plain": [
       "['B', 1, 'a', 3, 4, 2]"
      ]
     },
     "execution_count": 14,
     "metadata": {},
     "output_type": "execute_result"
    }
   ],
   "source": [
    "L[2], L[5] = L[5], L[2]\n",
    "L"
   ]
  },
  {
   "cell_type": "code",
   "execution_count": null,
   "id": "ac000649-1570-4ec2-b2cc-0bcfbbc5b9f9",
   "metadata": {},
   "outputs": [],
   "source": []
  },
  {
   "cell_type": "code",
   "execution_count": null,
   "id": "e0eafd2b-bd63-4235-b44b-a59edcb9bb9f",
   "metadata": {},
   "outputs": [],
   "source": []
  },
  {
   "cell_type": "code",
   "execution_count": 4,
   "id": "39e478d5-2662-40b9-aee9-90f591da4a80",
   "metadata": {},
   "outputs": [
    {
     "data": {
      "image/png": "[encoded data removed]",
      "text/plain": [
       "<Figure size 640x480 with 1 Axes>"
      ]
     },
     "metadata": {},
     "output_type": "display_data"
    }
   ],
   "source": [
    "\n",
    "xses = [1, 2, 2.5, 4]\n",
    "yses = [10, 12, -2, 1]\n",
    "plt.plot(xses, yses);"
   ]
  },
  {
   "cell_type": "code",
   "execution_count": 5,
   "id": "3f78b4ef-0401-4a60-911e-5f2333022b58",
   "metadata": {},
   "outputs": [
    {
     "data": {
      "image/png": "[encoded data removed]",
      "text/plain": [
       "<Figure size 640x480 with 1 Axes>"
      ]
     },
     "metadata": {},
     "output_type": "display_data"
    }
   ],
   "source": [
    "from math import sin\n",
    "x = [0, 0.3, 0.5, 0.8, 1, 1.3, 1.5, 1.8, 2, 2.3, 2.5, 2.8, 3, 3.3, 3.5]\n",
    "y = [sin(0), sin(0.3), sin(0.5), sin(0.8), sin(1), sin(1.3), sin(1.5), sin(1.8), sin(2), sin(2.3), sin(2.5), sin(2.8), sin(3), sin(3.3), sin(3.5)]\n",
    "plt.plot(x, y);\n"
   ]
  },
  {
   "cell_type": "code",
   "execution_count": 10,
   "id": "bd7844be-15d6-4d73-85d5-f816c1becebf",
   "metadata": {},
   "outputs": [
    {
     "data": {
      "text/plain": [
       "[<matplotlib.lines.Line2D at 0x2d0bc738080>]"
      ]
     },
     "execution_count": 10,
     "metadata": {},
     "output_type": "execute_result"
    },
    {
     "data": {
      "image/png": "[encoded data removed]",
      "text/plain": [
       "<Figure size 640x480 with 1 Axes>"
      ]
     },
     "metadata": {},
     "output_type": "display_data"
    }
   ],
   "source": [
    "plt.plot(x, y[ : : -1]);\n",
    "plt.plot(x, y);\n",
    "plt.plot(y,x)"
   ]
  },
  {
   "cell_type": "code",
   "execution_count": 23,
   "id": "58c05239-6d9a-42e4-b628-14a7a1ee2ce8",
   "metadata": {},
   "outputs": [
    {
     "data": {
      "text/plain": [
       "[['id', 'score', 'gender', 'lname', 'fname'],\n",
       " ['172-32-1176', '2', 'm', 'White', 'Johnson'],\n",
       " ['514-14-8905', '5', 'f', 'Borden', 'Ashley'],\n",
       " ['213-46-8915', '7', 'f', 'Green', 'Marjorie'],\n",
       " ['524-02-7657', '2', 'm', 'Munsch', 'Jerome']]"
      ]
     },
     "execution_count": 23,
     "metadata": {},
     "output_type": "execute_result"
    }
   ],
   "source": [
    "import csv\n",
    "with open('sample-data.csv', newline='') as interest_data:\n",
    "    reader = csv.reader(interest_data)\n",
    "    sample_data = list(reader)\n",
    "\n",
    "sample_data[ : 5]"
   ]
  },
  {
   "cell_type": "code",
   "execution_count": 26,
   "id": "b0ecc7a1-1d32-4d99-8647-e6650fa4bdf9",
   "metadata": {},
   "outputs": [
    {
     "name": "stdout",
     "output_type": "stream",
     "text": [
      "[2, 5, 7, 2, 8, 3, 9, 4, 6, 4, 7, 2, 5, 4, 2, 1, 7, 6, 5, 3, 8, 2, 6, 3, 5, 9, 1, 6, 3, 7]\n",
      "[2, 5, 7, 2, 8, 3, 9, 4, 6, 4, 7, 2, 5, 4, 2, 1, 7, 6, 5, 3, 8, 2, 6, 3, 5, 9, 1, 6, 3, 7]\n"
     ]
    }
   ],
   "source": [
    "e = []\n",
    "for item in sample_data[1 : ]:\n",
    "    e.append(int(item[1][0]))\n",
    "print(e)\n",
    "\n",
    "\n",
    "d = [int(item[1][0]) for item in RBA_data[1 : ]]\n",
    "print(d)"
   ]
  },
  {
   "cell_type": "code",
   "execution_count": 18,
   "id": "9ce291e2-3f82-45a7-9ce3-8495626f963f",
   "metadata": {},
   "outputs": [
    {
     "data": {
      "image/png": "[encoded data removed]",
      "text/plain": [
       "<Figure size 640x480 with 1 Axes>"
      ]
     },
     "metadata": {},
     "output_type": "display_data"
    }
   ],
   "source": [
    "import matplotlib.pyplot as plt\n",
    "plt.plot(d);\n"
   ]
  },
  {
   "cell_type": "markdown",
   "id": "5d019c84-24ab-4f71-ba7c-cc403d6af56c",
   "metadata": {},
   "source": [
    "### Tuples\n",
    "Just immutable lists basically"
   ]
  },
  {
   "cell_type": "code",
   "execution_count": 28,
   "id": "c675941a-edf1-41c9-9a25-d2fd051a9c42",
   "metadata": {},
   "outputs": [
    {
     "data": {
      "text/plain": [
       "(1, 2, 'new', 1.5)"
      ]
     },
     "execution_count": 28,
     "metadata": {},
     "output_type": "execute_result"
    }
   ],
   "source": [
    "t =  (1, 2 , 'new', 1.5)\n",
    "t"
   ]
  },
  {
   "cell_type": "code",
   "execution_count": null,
   "id": "51285846-62d2-4ae4-9a4e-691ca7e1d5e2",
   "metadata": {},
   "outputs": [],
   "source": [
    "import nltk\n",
    "nltk.download()"
   ]
  },
  {
   "cell_type": "code",
   "execution_count": null,
   "id": "5b52bf80-a66e-4b40-95da-e64751d7e2f9",
   "metadata": {},
   "outputs": [],
   "source": []
  },
  {
   "cell_type": "code",
   "execution_count": null,
   "id": "17ec16fb-009f-4ce1-8e9d-16ff0426d389",
   "metadata": {},
   "outputs": [],
   "source": []
  },
  {
   "cell_type": "code",
   "execution_count": null,
   "id": "e474000c-e70f-40d7-b239-11890e92c54d",
   "metadata": {},
   "outputs": [],
   "source": [
    "from nltk.corpus import words\n",
    "word_list = words.words()"
   ]
  },
  {
   "cell_type": "code",
   "execution_count": null,
   "id": "0f4d499c-082a-4450-8789-96018766cc05",
   "metadata": {},
   "outputs": [],
   "source": [
    "p = len(word_list)\n",
    "print(p"
   ]
  },
  {
   "cell_type": "code",
   "execution_count": null,
   "id": "9649a8b8-cef1-41e0-a28e-89e2b06424bf",
   "metadata": {},
   "outputs": [],
   "source": []
  }
 ],
 "metadata": {
  "kernelspec": {
   "display_name": "Python 3 (ipykernel)",
   "language": "python",
   "name": "python3"
  },
  "language_info": {
   "codemirror_mode": {
    "name": "ipython",
    "version": 3
   },
   "file_extension": ".py",
   "mimetype": "text/x-python",
   "name": "python",
   "nbconvert_exporter": "python",
   "pygments_lexer": "ipython3",
   "version": "3.12.4"
  }
 },
 "nbformat": 4,
 "nbformat_minor": 5
}
