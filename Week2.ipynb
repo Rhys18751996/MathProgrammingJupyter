{
 "cells": [
  {
   "cell_type": "code",
   "execution_count": null,
   "id": "8de11425-73ae-4241-83d3-fbc898aabc40",
   "metadata": {},
   "outputs": [],
   "source": []
  },
  {
   "cell_type": "code",
   "execution_count": null,
   "id": "25c85716-95f2-4754-b770-7b077548a754",
   "metadata": {},
   "outputs": [],
   "source": [
    "\n"
   ]
  },
  {
   "cell_type": "code",
   "execution_count": null,
   "id": "513b8e0e-30fa-4e28-ac28-e7f04edf092d",
   "metadata": {},
   "outputs": [],
   "source": []
  },
  {
   "cell_type": "code",
   "execution_count": null,
   "id": "0ea21cbf-160e-4c88-8fe8-3b3b1a2d1012",
   "metadata": {},
   "outputs": [],
   "source": []
  },
  {
   "cell_type": "markdown",
   "id": "292123a7-4402-4b23-afc3-5bb48b8692cd",
   "metadata": {},
   "source": [
    "### Write code to accept a string and check if it is paladromic"
   ]
  },
  {
   "cell_type": "code",
   "execution_count": 4,
   "id": "73493fd8-ebc0-4018-af99-934c394f8ab0",
   "metadata": {},
   "outputs": [
    {
     "name": "stdin",
     "output_type": "stream",
     "text": [
      "Word please werwerwerdddd\n"
     ]
    },
    {
     "name": "stdout",
     "output_type": "stream",
     "text": [
      "no it's not a palindrome\n"
     ]
    }
   ],
   "source": [
    "word=input(\"Word please\")\n",
    "\n",
    "if word==word[::-1]:\n",
    "    print(\"yes it is palindrome\")\n",
    "else:\n",
    "    print(\"no it's not a palindrome\")"
   ]
  },
  {
   "cell_type": "code",
   "execution_count": null,
   "id": "138b5693-35de-4531-8d4b-a00c0fbc2211",
   "metadata": {},
   "outputs": [],
   "source": []
  },
  {
   "cell_type": "markdown",
   "id": "de5f145e-f5fe-4252-959a-3ab07b63558c",
   "metadata": {},
   "source": [
    "### collatz function "
   ]
  },
  {
   "cell_type": "code",
   "execution_count": 7,
   "id": "9790af8f-b72a-42a4-958f-7c8945b25ef6",
   "metadata": {},
   "outputs": [
    {
     "data": {
      "text/plain": [
       "3"
      ]
     },
     "execution_count": 7,
     "metadata": {},
     "output_type": "execute_result"
    }
   ],
   "source": [
    "x = 6\n",
    "\n",
    "if (x % 2 == 0):\n",
    "    x = x//2\n",
    "else:\n",
    "    x = 3*x + 1\n",
    "\n",
    "x"
   ]
  },
  {
   "cell_type": "code",
   "execution_count": null,
   "id": "40e9e4e0-f23a-415a-aa9c-6f084d323bf3",
   "metadata": {},
   "outputs": [],
   "source": []
  },
  {
   "cell_type": "code",
   "execution_count": null,
   "id": "db187ff6-84a8-4961-8b2f-a2c6e0ca2e63",
   "metadata": {},
   "outputs": [],
   "source": []
  },
  {
   "cell_type": "code",
   "execution_count": 14,
   "id": "cd91cb40-e0f6-48e6-baee-c63adcda23dc",
   "metadata": {},
   "outputs": [
    {
     "data": {
      "text/plain": [
       "1"
      ]
     },
     "execution_count": 14,
     "metadata": {},
     "output_type": "execute_result"
    }
   ],
   "source": [
    "x = 1\n",
    "\n",
    "if(x > 0):\n",
    "    x = x\n",
    "elif(x <= 0):\n",
    "    x = x * -1\n",
    "\n",
    "x"
   ]
  },
  {
   "cell_type": "code",
   "execution_count": null,
   "id": "c11b3fad-348f-4435-b515-71cba04e888b",
   "metadata": {},
   "outputs": [],
   "source": []
  }
 ],
 "metadata": {
  "kernelspec": {
   "display_name": "Python 3 (ipykernel)",
   "language": "python",
   "name": "python3"
  },
  "language_info": {
   "codemirror_mode": {
    "name": "ipython",
    "version": 3
   },
   "file_extension": ".py",
   "mimetype": "text/x-python",
   "name": "python",
   "nbconvert_exporter": "python",
   "pygments_lexer": "ipython3",
   "version": "3.12.4"
  }
 },
 "nbformat": 4,
 "nbformat_minor": 5
}
