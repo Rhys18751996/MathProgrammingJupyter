{
 "cells": [
  {
   "cell_type": "code",
   "execution_count": 1,
   "id": "8de11425-73ae-4241-83d3-fbc898aabc40",
   "metadata": {},
   "outputs": [],
   "source": [
    "import math\n",
    "import numpy\n",
    "import sympy\n",
    "import matplotlib.pyplot as plt\n",
    "from PIL import Image"
   ]
  },
  {
   "cell_type": "code",
   "execution_count": null,
   "id": "25c85716-95f2-4754-b770-7b077548a754",
   "metadata": {},
   "outputs": [],
   "source": [
    "\n"
   ]
  },
  {
   "cell_type": "code",
   "execution_count": null,
   "id": "0ea21cbf-160e-4c88-8fe8-3b3b1a2d1012",
   "metadata": {},
   "outputs": [],
   "source": []
  },
  {
   "cell_type": "markdown",
   "id": "292123a7-4402-4b23-afc3-5bb48b8692cd",
   "metadata": {},
   "source": [
    "### Write code to accept a string and check if it is paladromic"
   ]
  },
  {
   "cell_type": "code",
   "execution_count": null,
   "id": "73493fd8-ebc0-4018-af99-934c394f8ab0",
   "metadata": {},
   "outputs": [],
   "source": [
    "#word=input(\"Word please\")\n",
    "word = \"kayak\"\n",
    "\n",
    "if word==word[::-1]:\n",
    "    print(\"yes it is palindrome\")\n",
    "else:\n",
    "    print(\"no it's not a palindrome\")"
   ]
  },
  {
   "cell_type": "code",
   "execution_count": null,
   "id": "138b5693-35de-4531-8d4b-a00c0fbc2211",
   "metadata": {},
   "outputs": [],
   "source": []
  },
  {
   "cell_type": "markdown",
   "id": "de5f145e-f5fe-4252-959a-3ab07b63558c",
   "metadata": {},
   "source": [
    "### collatz function "
   ]
  },
  {
   "cell_type": "code",
   "execution_count": null,
   "id": "9790af8f-b72a-42a4-958f-7c8945b25ef6",
   "metadata": {},
   "outputs": [],
   "source": [
    "x = 6\n",
    "\n",
    "if (x % 2 == 0):\n",
    "    x = x//2\n",
    "else:\n",
    "    x = 3*x + 1\n",
    "\n",
    "x"
   ]
  },
  {
   "cell_type": "code",
   "execution_count": null,
   "id": "40e9e4e0-f23a-415a-aa9c-6f084d323bf3",
   "metadata": {},
   "outputs": [],
   "source": []
  },
  {
   "cell_type": "code",
   "execution_count": null,
   "id": "db187ff6-84a8-4961-8b2f-a2c6e0ca2e63",
   "metadata": {},
   "outputs": [],
   "source": []
  },
  {
   "cell_type": "code",
   "execution_count": null,
   "id": "cd91cb40-e0f6-48e6-baee-c63adcda23dc",
   "metadata": {},
   "outputs": [],
   "source": [
    "x = 1\n",
    "\n",
    "if(x > 0):\n",
    "    x = x\n",
    "elif(x <= 0):\n",
    "    x = x * -1\n",
    "\n",
    "x"
   ]
  },
  {
   "cell_type": "code",
   "execution_count": null,
   "id": "c11b3fad-348f-4435-b515-71cba04e888b",
   "metadata": {},
   "outputs": [],
   "source": []
  },
  {
   "cell_type": "code",
   "execution_count": null,
   "id": "b862d6d9-b010-490d-ba3d-e9ea03f0f12f",
   "metadata": {},
   "outputs": [],
   "source": []
  },
  {
   "cell_type": "code",
   "execution_count": null,
   "id": "51353b51-ef89-4c23-b741-81718e53ebd6",
   "metadata": {},
   "outputs": [],
   "source": [
    "import math\n",
    "x = 360\n",
    "\n",
    "if(abs(x) < 1):\n",
    "    x *= -1\n",
    "elif(1 <= abs(x) < 2):\n",
    "    x = math.sin(x)\n",
    "else:\n",
    "    x = math.cos(x)\n",
    "\n",
    "x"
   ]
  },
  {
   "cell_type": "code",
   "execution_count": null,
   "id": "a8300c23-baab-4977-bd97-592ea5b7f9af",
   "metadata": {},
   "outputs": [],
   "source": []
  },
  {
   "cell_type": "code",
   "execution_count": null,
   "id": "e22acbd8-af53-4ac2-95d6-1e1bc5b507ba",
   "metadata": {},
   "outputs": [],
   "source": []
  },
  {
   "cell_type": "code",
   "execution_count": null,
   "id": "5d00e195-4682-464b-8f9e-f7bff4f52860",
   "metadata": {},
   "outputs": [],
   "source": [
    "x = ['a', 1, 3, 2, 2.5, 'a']\n",
    "\n",
    "# we want [1, 3, 2, 2.5]\n",
    "\n",
    "y = x[1 : 5]\n",
    "print(f\"y = {y}\")\n",
    "\n",
    "# or \n",
    "z = []\n",
    "for i in range(len(x)):\n",
    "    if(type(x[i]) == int or type(x[i]) == float):\n",
    "        z.append(x[i])\n",
    "print(f\"z = {z}\")\n",
    "\n",
    "if (x[0] == x[-1]):\n",
    "    [a, *b, c] = x\n",
    "    d = [*b]\n",
    "print(f\"d = {d}\")"
   ]
  },
  {
   "cell_type": "code",
   "execution_count": null,
   "id": "083bf1d0-7b95-4c63-bfdd-b00c58cdece5",
   "metadata": {},
   "outputs": [],
   "source": []
  },
  {
   "cell_type": "code",
   "execution_count": null,
   "id": "df40ae5b-4000-423e-8d45-6c23abd011ce",
   "metadata": {},
   "outputs": [],
   "source": [
    "from PIL import Image\n",
    "x = Image.open(\"N1.jpg\")\n",
    "y = Image.open(\"N2.jpeg\")\n",
    "\n",
    "L = [x, y]\n",
    "L"
   ]
  },
  {
   "cell_type": "code",
   "execution_count": null,
   "id": "8f0ad6ab-69ad-4e13-9f20-bf2dc5670dd3",
   "metadata": {},
   "outputs": [],
   "source": []
  },
  {
   "cell_type": "code",
   "execution_count": null,
   "id": "d5bae120-a383-44b4-a640-3727e1fdc505",
   "metadata": {},
   "outputs": [],
   "source": []
  },
  {
   "cell_type": "code",
   "execution_count": null,
   "id": "9d3e2594-0db3-4c3d-a3b3-4ef9c5720b4c",
   "metadata": {},
   "outputs": [],
   "source": [
    "L = [\"a\", 1,2,3,4, \"B\"]\n",
    "L"
   ]
  },
  {
   "cell_type": "code",
   "execution_count": null,
   "id": "0bdc6c7d-88a8-4814-9735-6f5c2595d0e9",
   "metadata": {},
   "outputs": [],
   "source": [
    "len(L)"
   ]
  },
  {
   "cell_type": "code",
   "execution_count": null,
   "id": "92c18b18-95ec-42c3-9858-1ad3ad95f155",
   "metadata": {},
   "outputs": [],
   "source": [
    "tmp = L[len(L)-1]\n",
    "L[len(L)-1] = L[0]\n",
    "L[0] = tmp\n",
    "L"
   ]
  },
  {
   "cell_type": "code",
   "execution_count": null,
   "id": "f102a639-449f-4a4c-9e6f-399b52ae3b9a",
   "metadata": {},
   "outputs": [],
   "source": [
    "L[0], L[-1] = L[-1], L[0]\n",
    "L"
   ]
  },
  {
   "cell_type": "code",
   "execution_count": null,
   "id": "51985827-abea-468d-9515-b9c9952cb156",
   "metadata": {},
   "outputs": [],
   "source": [
    "L[2], L[5] = L[5], L[2]\n",
    "L"
   ]
  },
  {
   "cell_type": "code",
   "execution_count": null,
   "id": "ac000649-1570-4ec2-b2cc-0bcfbbc5b9f9",
   "metadata": {},
   "outputs": [],
   "source": []
  },
  {
   "cell_type": "code",
   "execution_count": null,
   "id": "e0eafd2b-bd63-4235-b44b-a59edcb9bb9f",
   "metadata": {},
   "outputs": [],
   "source": []
  },
  {
   "cell_type": "code",
   "execution_count": null,
   "id": "39e478d5-2662-40b9-aee9-90f591da4a80",
   "metadata": {},
   "outputs": [],
   "source": [
    "\n",
    "xses = [1, 2, 2.5, 4]\n",
    "yses = [10, 12, -2, 1]\n",
    "plt.plot(xses, yses);"
   ]
  },
  {
   "cell_type": "code",
   "execution_count": null,
   "id": "3f78b4ef-0401-4a60-911e-5f2333022b58",
   "metadata": {},
   "outputs": [],
   "source": [
    "from math import sin\n",
    "x = [0, 0.3, 0.5, 0.8, 1, 1.3, 1.5, 1.8, 2, 2.3, 2.5, 2.8, 3, 3.3, 3.5]\n",
    "y = [sin(0), sin(0.3), sin(0.5), sin(0.8), sin(1), sin(1.3), sin(1.5), sin(1.8), sin(2), sin(2.3), sin(2.5), sin(2.8), sin(3), sin(3.3), sin(3.5)]\n",
    "plt.plot(x, y);\n"
   ]
  },
  {
   "cell_type": "code",
   "execution_count": null,
   "id": "bd7844be-15d6-4d73-85d5-f816c1becebf",
   "metadata": {},
   "outputs": [],
   "source": [
    "plt.plot(x, y[ : : -1]);\n",
    "plt.plot(x, y);\n",
    "plt.plot(y,x)"
   ]
  },
  {
   "cell_type": "code",
   "execution_count": null,
   "id": "58c05239-6d9a-42e4-b628-14a7a1ee2ce8",
   "metadata": {},
   "outputs": [],
   "source": [
    "import csv\n",
    "with open('sample-data.csv', newline='') as interest_data:\n",
    "    reader = csv.reader(interest_data)\n",
    "    sample_data = list(reader)\n",
    "\n",
    "sample_data[ : 5]"
   ]
  },
  {
   "cell_type": "code",
   "execution_count": null,
   "id": "b0ecc7a1-1d32-4d99-8647-e6650fa4bdf9",
   "metadata": {},
   "outputs": [],
   "source": [
    "e = []\n",
    "for item in sample_data[1 : ]:\n",
    "    e.append(int(item[1][0]))\n",
    "print(e)\n",
    "\n",
    "\n",
    "d = [int(item[1][0]) for item in sample_data[1 : ]]\n",
    "print(d)"
   ]
  },
  {
   "cell_type": "code",
   "execution_count": null,
   "id": "9ce291e2-3f82-45a7-9ce3-8495626f963f",
   "metadata": {},
   "outputs": [],
   "source": [
    "import matplotlib.pyplot as plt\n",
    "plt.plot(d);\n"
   ]
  },
  {
   "cell_type": "markdown",
   "id": "5d019c84-24ab-4f71-ba7c-cc403d6af56c",
   "metadata": {},
   "source": [
    "### Tuples\n",
    "Just immutable lists basically"
   ]
  },
  {
   "cell_type": "code",
   "execution_count": null,
   "id": "c675941a-edf1-41c9-9a25-d2fd051a9c42",
   "metadata": {},
   "outputs": [],
   "source": [
    "t =  (1, 2 , 'new', 1.5)\n",
    "t"
   ]
  },
  {
   "cell_type": "code",
   "execution_count": null,
   "id": "51285846-62d2-4ae4-9a4e-691ca7e1d5e2",
   "metadata": {},
   "outputs": [],
   "source": [
    "import nltk\n",
    "nltk.download()"
   ]
  },
  {
   "cell_type": "code",
   "execution_count": null,
   "id": "5b52bf80-a66e-4b40-95da-e64751d7e2f9",
   "metadata": {},
   "outputs": [],
   "source": [
    "from nltk.corpus import words\n",
    "word_list = words.words()"
   ]
  },
  {
   "cell_type": "code",
   "execution_count": null,
   "id": "8eb7ba0e-4124-4d52-bfc2-07d8ab9ebfac",
   "metadata": {},
   "outputs": [],
   "source": [
    "print(len(word_list))\n",
    "print(word_list[:20])"
   ]
  },
  {
   "cell_type": "code",
   "execution_count": null,
   "id": "0efa9c4d-6d83-44d1-b235-a7b55bea1042",
   "metadata": {},
   "outputs": [],
   "source": [
    "'fortunate' in word_list"
   ]
  },
  {
   "cell_type": "code",
   "execution_count": null,
   "id": "f76e2f8b-0e7c-441f-98ef-73d11ef95e08",
   "metadata": {},
   "outputs": [],
   "source": [
    "word_list[ : : 20001]"
   ]
  },
  {
   "cell_type": "code",
   "execution_count": null,
   "id": "fd012e39-8b4c-47c4-af9d-bf24ce1f9101",
   "metadata": {},
   "outputs": [],
   "source": [
    "import nltk\n",
    "nltk.download()"
   ]
  },
  {
   "cell_type": "code",
   "execution_count": null,
   "id": "17ec16fb-009f-4ce1-8e9d-16ff0426d389",
   "metadata": {},
   "outputs": [],
   "source": [
    "from nltk.corpus import gutenberg\n",
    "gutenberg.fileids()"
   ]
  },
  {
   "cell_type": "code",
   "execution_count": null,
   "id": "d9d11f82-2a40-4f38-bafb-9cef0b11befd",
   "metadata": {},
   "outputs": [],
   "source": []
  },
  {
   "cell_type": "code",
   "execution_count": null,
   "id": "cb54fb6e-e49e-4c6b-993e-6706e129b1b0",
   "metadata": {},
   "outputs": [],
   "source": [
    "from nltk.corpus import gutenberg\n",
    "Hamlet_sentences = gutenberg.sents('shakespeare-hamlet.txt')\n",
    "type(Hamlet_sentences)"
   ]
  },
  {
   "cell_type": "code",
   "execution_count": null,
   "id": "b7c4c9e3-ea99-4a75-a512-531260326acb",
   "metadata": {},
   "outputs": [],
   "source": [
    "Hamlet_sentences[1226]"
   ]
  },
  {
   "cell_type": "code",
   "execution_count": null,
   "id": "f50b2cc5-defd-4c91-af4f-05d1cf2089fd",
   "metadata": {},
   "outputs": [],
   "source": []
  }
 ],
 "metadata": {
  "kernelspec": {
   "display_name": "Python 3 (ipykernel)",
   "language": "python",
   "name": "python3"
  },
  "language_info": {
   "codemirror_mode": {
    "name": "ipython",
    "version": 3
   },
   "file_extension": ".py",
   "mimetype": "text/x-python",
   "name": "python",
   "nbconvert_exporter": "python",
   "pygments_lexer": "ipython3",
   "version": "3.12.4"
  }
 },
 "nbformat": 4,
 "nbformat_minor": 5
}
