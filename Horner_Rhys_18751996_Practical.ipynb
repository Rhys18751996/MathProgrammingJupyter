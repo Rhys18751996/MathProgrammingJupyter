{
 "cells": [
  {
   "cell_type": "markdown",
   "id": "69fe9b9b-debe-4525-8a51-800640a67628",
   "metadata": {},
   "source": [
    "## Week 7 Practical - Rhys Horner 18751996"
   ]
  },
  {
   "cell_type": "markdown",
   "id": "796b91d8-1f85-4c57-84d0-64e6638813c1",
   "metadata": {},
   "source": [
    "## Question 1"
   ]
  },
  {
   "cell_type": "markdown",
   "id": "4c3e703c-206b-4986-844f-ce0a513223d8",
   "metadata": {},
   "source": [
    "### (a)"
   ]
  },
  {
   "cell_type": "code",
   "execution_count": 12,
   "id": "a8670c27-1826-4622-b9c2-512ac64ac229",
   "metadata": {},
   "outputs": [
    {
     "name": "stdout",
     "output_type": "stream",
     "text": [
      "[11, 22, 33, 44, 55, 66, 77, 88, 99, 165, 253, 341, 528, 594, 616, 682, 704, 770, 869, 957]\n"
     ]
    }
   ],
   "source": [
    "def revStringify(n):\n",
    "    return str(n)[ : : -1]\n",
    "\n",
    "results = []\n",
    "for i in range(1,1001):\n",
    "    # concatenate the numbers p + p* + p then turn back into an integer\n",
    "    x = int(str(i) + revStringify(i) + str(i))\n",
    "    # test if the concatenated integer is divisible by both 7 AND 11  \n",
    "    if((x % 7 == 0) and (x % 11 == 0)):\n",
    "        # if it is append to the list\n",
    "        results.append(i)\n",
    "\n",
    "print(results)"
   ]
  },
  {
   "cell_type": "markdown",
   "id": "dd4fa081-3dc0-418b-8766-c7e7c5614a71",
   "metadata": {},
   "source": [
    "### (b)"
   ]
  },
  {
   "cell_type": "code",
   "execution_count": 17,
   "id": "bc5454e3-ad08-4505-94af-70dd51d7506c",
   "metadata": {},
   "outputs": [
    {
     "data": {
      "text/plain": [
       "9.545941546018389"
      ]
     },
     "execution_count": 17,
     "metadata": {},
     "output_type": "execute_result"
    }
   ],
   "source": [
    "import math\n",
    "def f(n):\n",
    "    result = []\n",
    "    if n < 0:\n",
    "        print(\"not a positive number\")\n",
    "    else:\n",
    "        for i in range(n):\n",
    "            # 2*n root of 2**n\n",
    "            result.append( (2*n) / math.sqrt(2**n) )\n",
    "        return math.prod(result)\n",
    "                \n",
    "f(3)"
   ]
  },
  {
   "cell_type": "markdown",
   "id": "de4ba704-2c79-4583-a2e2-197a327675b7",
   "metadata": {},
   "source": [
    "## Question 2"
   ]
  },
  {
   "cell_type": "markdown",
   "id": "c7ffbf61-ed10-42cc-b578-40058b2c2134",
   "metadata": {},
   "source": [
    "### part 1"
   ]
  },
  {
   "cell_type": "code",
   "execution_count": 46,
   "id": "375dbbc7-f8d5-44fd-9e39-dbeea6d0c74e",
   "metadata": {},
   "outputs": [],
   "source": [
    "import math\n",
    "def A(x, y):\n",
    "    matrix = [[],[],[]]\n",
    "    for i in range(3):\n",
    "        for j in range(3):\n",
    "            if(i == j):\n",
    "                matrix[i].append(math.sin(x) + math.cos(y))\n",
    "            else:\n",
    "                matrix[i].append(math.sin(x)**i * math.cos(y)**j)\n",
    "    return matrix"
   ]
  },
  {
   "cell_type": "markdown",
   "id": "472d4bcb-78e1-4140-9ec3-2d76e150b536",
   "metadata": {},
   "source": [
    "### part 2"
   ]
  },
  {
   "cell_type": "code",
   "execution_count": 47,
   "id": "78755481-7d2b-458e-a95c-485ba1c627d2",
   "metadata": {},
   "outputs": [
    {
     "data": {
      "text/plain": [
       "[[0.8090169943749476, 0.8090169943749475, 0.6545084971874737],\n",
       " [1.2246467991473532e-16, 0.8090169943749476, 8.015417360953842e-17],\n",
       " [1.4997597826618576e-32, 1.2133311516535204e-32, 0.8090169943749476]]"
      ]
     },
     "execution_count": 47,
     "metadata": {},
     "output_type": "execute_result"
    }
   ],
   "source": [
    "# using the previously created function we can create a 3x3 matrix passing in pi and pi/5\n",
    "A = A(math.pi, (math.pi/5))\n",
    "A"
   ]
  },
  {
   "cell_type": "code",
   "execution_count": null,
   "id": "4fddb5b9-f148-4130-a4a2-a8b6c81dceb7",
   "metadata": {},
   "outputs": [],
   "source": []
  }
 ],
 "metadata": {
  "kernelspec": {
   "display_name": "Python 3 (ipykernel)",
   "language": "python",
   "name": "python3"
  },
  "language_info": {
   "codemirror_mode": {
    "name": "ipython",
    "version": 3
   },
   "file_extension": ".py",
   "mimetype": "text/x-python",
   "name": "python",
   "nbconvert_exporter": "python",
   "pygments_lexer": "ipython3",
   "version": "3.12.4"
  }
 },
 "nbformat": 4,
 "nbformat_minor": 5
}
