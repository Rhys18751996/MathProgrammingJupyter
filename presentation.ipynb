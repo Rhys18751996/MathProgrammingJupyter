{
 "cells": [
  {
   "cell_type": "markdown",
   "id": "593c9130-e705-4bb3-8ff7-1de0e1350f4a",
   "metadata": {},
   "source": [
    "# chapter 6\n",
    "## 9. \n",
    "Construct a $10 \\times 10$ upper triangular matrix $A$ (see Wikipedia for the definition of such matrices) whose nonzero entries are random integers. Show that its determinant is equal to the product of the entries on its main diagonal. Now consider the transpose matrix $A^{t}$ and show that its determinant $\\left(\\operatorname{det}\\left(A^{t}\\right)\\right)$ is the same as $A$. What is $\\operatorname{det}\\left(A+A^{t}\\right)$ ?"
   ]
  },
  {
   "cell_type": "code",
   "execution_count": 1,
   "id": "7a5c9eae-c793-4d9b-a1fa-b34960895c84",
   "metadata": {},
   "outputs": [],
   "source": [
    "import numpy as np\n",
    "import math\n",
    "#help(np.triu)"
   ]
  },
  {
   "cell_type": "code",
   "execution_count": 2,
   "id": "b202d1de-6793-4db6-9d1b-34182b432bfe",
   "metadata": {},
   "outputs": [
    {
     "name": "stdout",
     "output_type": "stream",
     "text": [
      "[[  4   7   2  -8  -9  -2   0  -5   0  -3]\n",
      " [ -1   6 -10  -3 -10  -9   1  -9   0   2]\n",
      " [ -9  -3  -6  -5   0  -5  -3  -1  -2  -4]\n",
      " [ -5  -6  -8  -2  -3   2   3  -2  -1  -4]\n",
      " [ -1  -9   1  -3   5  -4   5  -9  -7   3]\n",
      " [  6   3  -1   6   8  -9   0  -4   1  -9]\n",
      " [-10  -2 -10 -10  -1 -10  -1  -9  -8   7]\n",
      " [  9  -2  -4   7   7  -9   9 -10   1 -10]\n",
      " [ -3   6   3   3 -10   8  -7   9   3 -10]\n",
      " [  8   7  -3  -7  -8   5  -8  -9   9   3]]\n"
     ]
    }
   ],
   "source": [
    "# create a 10x10 array with random numbers, each with a value between 1 and 100\n",
    "arrayA = np.random.randint(low=-10, high=10, size=(10, 10))\n",
    "print(arrayA)"
   ]
  },
  {
   "cell_type": "code",
   "execution_count": 3,
   "id": "e895f9c8-e563-4328-aa58-6340c311dfd7",
   "metadata": {},
   "outputs": [
    {
     "name": "stdout",
     "output_type": "stream",
     "text": [
      "[[  4   7   2  -8  -9  -2   0  -5   0  -3]\n",
      " [  0   6 -10  -3 -10  -9   1  -9   0   2]\n",
      " [  0   0  -6  -5   0  -5  -3  -1  -2  -4]\n",
      " [  0   0   0  -2  -3   2   3  -2  -1  -4]\n",
      " [  0   0   0   0   5  -4   5  -9  -7   3]\n",
      " [  0   0   0   0   0  -9   0  -4   1  -9]\n",
      " [  0   0   0   0   0   0  -1  -9  -8   7]\n",
      " [  0   0   0   0   0   0   0 -10   1 -10]\n",
      " [  0   0   0   0   0   0   0   0   3 -10]\n",
      " [  0   0   0   0   0   0   0   0   0   3]]\n"
     ]
    }
   ],
   "source": [
    "# Generate a 10x10 upper triangular matrix with random nonzero integers\n",
    "A = np.triu(arrayA)\n",
    "print(A)"
   ]
  },
  {
   "cell_type": "code",
   "execution_count": 4,
   "id": "711a56c8-d995-41b2-bb37-bf8f90d6143a",
   "metadata": {},
   "outputs": [
    {
     "name": "stdout",
     "output_type": "stream",
     "text": [
      "-1166399.999999999\n"
     ]
    }
   ],
   "source": [
    "# get the determinant, numpy's linear algebra extention method to find determinant of a square matrix\n",
    "det_A = np.linalg.det(A)\n",
    "print(det_A)"
   ]
  },
  {
   "cell_type": "code",
   "execution_count": 12,
   "id": "96fce0fb-add6-4b17-a7d0-bce3932a6b3f",
   "metadata": {},
   "outputs": [
    {
     "name": "stdout",
     "output_type": "stream",
     "text": [
      "-1166400\n"
     ]
    }
   ],
   "source": [
    "# extract the entries on matrix A's main diagonal\n",
    "diagonal_entries = np.diag(A)\n",
    "\n",
    "# then find the product of A's main diagonal\n",
    "productOfDiagonalEntries = np.prod(diagonal_entries)\n",
    "print(productOfDiagonalEntries)"
   ]
  },
  {
   "cell_type": "code",
   "execution_count": 6,
   "id": "328e9d50-77a7-45cf-999d-ad9f9a5bce5a",
   "metadata": {},
   "outputs": [
    {
     "name": "stdout",
     "output_type": "stream",
     "text": [
      "[[  4   0   0   0   0   0   0   0   0   0]\n",
      " [  7   6   0   0   0   0   0   0   0   0]\n",
      " [  2 -10  -6   0   0   0   0   0   0   0]\n",
      " [ -8  -3  -5  -2   0   0   0   0   0   0]\n",
      " [ -9 -10   0  -3   5   0   0   0   0   0]\n",
      " [ -2  -9  -5   2  -4  -9   0   0   0   0]\n",
      " [  0   1  -3   3   5   0  -1   0   0   0]\n",
      " [ -5  -9  -1  -2  -9  -4  -9 -10   0   0]\n",
      " [  0   0  -2  -1  -7   1  -8   1   3   0]\n",
      " [ -3   2  -4  -4   3  -9   7 -10 -10   3]]\n"
     ]
    }
   ],
   "source": [
    "# to get the transpose of a np matrix, you can just do <theMatrix>.T\n",
    "A_T = A.T\n",
    "print(A_T)"
   ]
  },
  {
   "cell_type": "code",
   "execution_count": 7,
   "id": "c6cca608-e318-40a9-9094-6ec7b02705d1",
   "metadata": {},
   "outputs": [
    {
     "name": "stdout",
     "output_type": "stream",
     "text": [
      "-1166400.000000003\n"
     ]
    }
   ],
   "source": [
    "# to get |A_T|, we can use numpy's linear algebra extention method to find determinant of a square matrix again\n",
    "det_A_T = np.linalg.det(A_T)\n",
    "print(det_A_T)"
   ]
  },
  {
   "cell_type": "code",
   "execution_count": null,
   "id": "5199114f-b2ce-49c3-80a4-483899f58fb4",
   "metadata": {},
   "outputs": [],
   "source": []
  },
  {
   "cell_type": "markdown",
   "id": "9dcfc438-7e33-43a3-b10d-953d22a22d85",
   "metadata": {},
   "source": [
    "What is $\\operatorname{det}\\left(A+A^{t}\\right)$ ?"
   ]
  },
  {
   "cell_type": "code",
   "execution_count": 10,
   "id": "9f44de4d-744d-4d5a-93b5-3590808cc630",
   "metadata": {},
   "outputs": [
    {
     "name": "stdout",
     "output_type": "stream",
     "text": [
      "[[  8   7   2  -8  -9  -2   0  -5   0  -3]\n",
      " [  7  12 -10  -3 -10  -9   1  -9   0   2]\n",
      " [  2 -10 -12  -5   0  -5  -3  -1  -2  -4]\n",
      " [ -8  -3  -5  -4  -3   2   3  -2  -1  -4]\n",
      " [ -9 -10   0  -3  10  -4   5  -9  -7   3]\n",
      " [ -2  -9  -5   2  -4 -18   0  -4   1  -9]\n",
      " [  0   1  -3   3   5   0  -2  -9  -8   7]\n",
      " [ -5  -9  -1  -2  -9  -4  -9 -20   1 -10]\n",
      " [  0   0  -2  -1  -7   1  -8   1   6 -10]\n",
      " [ -3   2  -4  -4   3  -9   7 -10 -10   6]]\n"
     ]
    }
   ],
   "source": [
    "# Matrix addition is scalar or elementwise, ie. A[n][m] + B[n][m]\n",
    "AplusA_T = np.add(A, A_T)\n",
    "print(AplusA_T)"
   ]
  },
  {
   "cell_type": "code",
   "execution_count": 11,
   "id": "5d00baef-89c9-4c57-9de0-d430720b02d3",
   "metadata": {},
   "outputs": [
    {
     "name": "stdout",
     "output_type": "stream",
     "text": [
      "-9175741420.000002\n"
     ]
    }
   ],
   "source": [
    "det_AplusA_T = np.linalg.det(AplusA_T)\n",
    "print(det_AplusA_T)"
   ]
  },
  {
   "cell_type": "code",
   "execution_count": null,
   "id": "f14500e1-0923-4bd7-9e2c-32d92233ecef",
   "metadata": {},
   "outputs": [],
   "source": []
  }
 ],
 "metadata": {
  "kernelspec": {
   "display_name": "Python 3 (ipykernel)",
   "language": "python",
   "name": "python3"
  },
  "language_info": {
   "codemirror_mode": {
    "name": "ipython",
    "version": 3
   },
   "file_extension": ".py",
   "mimetype": "text/x-python",
   "name": "python",
   "nbconvert_exporter": "python",
   "pygments_lexer": "ipython3",
   "version": "3.12.4"
  }
 },
 "nbformat": 4,
 "nbformat_minor": 5
}
